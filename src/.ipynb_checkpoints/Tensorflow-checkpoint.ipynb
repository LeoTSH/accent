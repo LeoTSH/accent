{
 "cells": [
  {
   "cell_type": "markdown",
   "metadata": {
    "colab_type": "text",
    "id": "L-4QJfKPmBeH",
    "toc": true
   },
   "source": [
    "<h1>Table of Contents<span class=\"tocSkip\"></span></h1>\n",
    "<div class=\"toc\"><ul class=\"toc-item\"><li><span><a href=\"#Import-packages\" data-toc-modified-id=\"Import-packages-1\"><span class=\"toc-item-num\">1&nbsp;&nbsp;</span>Import packages</a></span></li><li><span><a href=\"#Custom-functions\" data-toc-modified-id=\"Custom-functions-2\"><span class=\"toc-item-num\">2&nbsp;&nbsp;</span>Custom functions</a></span></li><li><span><a href=\"#Environment-variables\" data-toc-modified-id=\"Environment-variables-3\"><span class=\"toc-item-num\">3&nbsp;&nbsp;</span>Environment variables</a></span></li><li><span><a href=\"#Load-and-process-dataset\" data-toc-modified-id=\"Load-and-process-dataset-4\"><span class=\"toc-item-num\">4&nbsp;&nbsp;</span>Load and process dataset</a></span></li><li><span><a href=\"#Define-model-and-model-parameters\" data-toc-modified-id=\"Define-model-and-model-parameters-5\"><span class=\"toc-item-num\">5&nbsp;&nbsp;</span>Define model and model parameters</a></span></li><li><span><a href=\"#Define-loss-and-accuracy-metrics\" data-toc-modified-id=\"Define-loss-and-accuracy-metrics-6\"><span class=\"toc-item-num\">6&nbsp;&nbsp;</span>Define loss and accuracy metrics</a></span></li><li><span><a href=\"#Define-checkpoint-options\" data-toc-modified-id=\"Define-checkpoint-options-7\"><span class=\"toc-item-num\">7&nbsp;&nbsp;</span>Define checkpoint options</a></span></li><li><span><a href=\"#Training-function-and-loop\" data-toc-modified-id=\"Training-function-and-loop-8\"><span class=\"toc-item-num\">8&nbsp;&nbsp;</span>Training function and loop</a></span></li><li><span><a href=\"#Plot-loss-and-accuracy-graphs\" data-toc-modified-id=\"Plot-loss-and-accuracy-graphs-9\"><span class=\"toc-item-num\">9&nbsp;&nbsp;</span>Plot loss and accuracy graphs</a></span></li><li><span><a href=\"#Evaluate-model-and-test-prediction\" data-toc-modified-id=\"Evaluate-model-and-test-prediction-10\"><span class=\"toc-item-num\">10&nbsp;&nbsp;</span>Evaluate model and test prediction</a></span></li></ul></div>"
   ]
  },
  {
   "cell_type": "code",
   "execution_count": 1,
   "metadata": {
    "colab": {
     "base_uri": "https://localhost:8080/",
     "height": 122
    },
    "colab_type": "code",
    "executionInfo": {
     "elapsed": 21904,
     "status": "ok",
     "timestamp": 1568940417101,
     "user": {
      "displayName": "Leo Tay",
      "photoUrl": "",
      "userId": "17143338865945125396"
     },
     "user_tz": -480
    },
    "id": "n0skNmermLnH",
    "outputId": "4121485e-26a2-4855-f8c5-4049af014fc2"
   },
   "outputs": [],
   "source": [
    "# from google.colab import drive\n",
    "# drive.mount('/content/drive')"
   ]
  },
  {
   "cell_type": "code",
   "execution_count": 2,
   "metadata": {
    "colab": {
     "base_uri": "https://localhost:8080/",
     "height": 34
    },
    "colab_type": "code",
    "executionInfo": {
     "elapsed": 644,
     "status": "ok",
     "timestamp": 1568940420919,
     "user": {
      "displayName": "Leo Tay",
      "photoUrl": "",
      "userId": "17143338865945125396"
     },
     "user_tz": -480
    },
    "id": "VAK6-JRSmR9O",
    "outputId": "cc3479a7-e713-4309-de9a-6574050cd0c7"
   },
   "outputs": [],
   "source": [
    "# %cd /content/drive/My Drive/Colab Notebooks/accent/src"
   ]
  },
  {
   "cell_type": "markdown",
   "metadata": {
    "colab_type": "text",
    "id": "KMzR_jdNF33o"
   },
   "source": [
    "### Import packages"
   ]
  },
  {
   "cell_type": "code",
   "execution_count": 1,
   "metadata": {
    "ExecuteTime": {
     "end_time": "2019-10-06T15:20:33.048528Z",
     "start_time": "2019-10-06T15:20:31.258123Z"
    },
    "colab": {
     "base_uri": "https://localhost:8080/",
     "height": 34
    },
    "colab_type": "code",
    "executionInfo": {
     "elapsed": 7007,
     "status": "ok",
     "timestamp": 1568940428707,
     "user": {
      "displayName": "Leo Tay",
      "photoUrl": "",
      "userId": "17143338865945125396"
     },
     "user_tz": -480
    },
    "id": "IdpwZH_SmBeI",
    "outputId": "b25a4f8c-131d-4d98-ad71-8629d6b5d155"
   },
   "outputs": [],
   "source": [
    "import re, zipfile, os, io, time, string, numpy as np, matplotlib.ticker as ticker, \\\n",
    "            matplotlib.pyplot as plt\n",
    "\n",
    "try:\n",
    "  # %tensorflow_version only exists in Colab.\n",
    "  %tensorflow_version 2.x\n",
    "except Exception:\n",
    "  pass\n",
    "import tensorflow as tf\n",
    "\n",
    "# from utils import process_raw, generate_input, get_max_len, process_data, convert\n",
    "\n",
    "from token_list import strip_tokens\n",
    "from tensorflow.keras.preprocessing.text import Tokenizer\n",
    "from tensorflow.keras.preprocessing.sequence import pad_sequences"
   ]
  },
  {
   "cell_type": "code",
   "execution_count": 2,
   "metadata": {
    "ExecuteTime": {
     "end_time": "2019-10-06T15:20:33.051530Z",
     "start_time": "2019-10-06T15:20:33.049528Z"
    },
    "colab": {},
    "colab_type": "code",
    "id": "yrpwYNUCE1cW"
   },
   "outputs": [],
   "source": [
    "# x = ['Khoan no cua KH se den han vao 01/08/2019. So tien  2.999.898 VND, TK 12345678912. Thong tin chi tiet, lien he 1900636633. Cam on',\n",
    "# 'Khoan no cua KH se den han trong 2 ngay toi. So tien  2.999.898 VND, TK 12345678912. Bo qua neu da TT. Thong tin chi tiet, lien he 1900636633. Cam on',\n",
    "# 'Khoan no cua KH da qua han 1 ngay. TK 12345678912, so tien2.999.898 VND. Bo qua neu da TT. Thong tin chi tiet, lien he 18006288',\n",
    "# 'Khoan no cua KH da qua han 6 ngay va bi tinh phat 250,000. TK 12345678912, so tien 2.999.898VND. Vui long TT. Thong tin chi tiet, lien he 18006288',\n",
    "# 'KH da qua han 5 ky no. TK 12345678912, so tien 12.999.898VND. Vui long TT ngay lap tuc. Thong tin chi tiet, lien he 18006288',\n",
    "# 'Khoan no cua KH da bi tinh phat do lien tuc vi pham. TK12345678912, so tien 12.999.898VND. Vui long TT. Thong tin chi tiet, lien he 18006288',\n",
    "# 'Khoan no cua KH da qua han 91 ngay. Vui long TT toan bo29.999.898VND vao TK 12345678912 hom nay. Thong tin chi tiet, lien he 18006288',\n",
    "# 'Chung toi vua nhan thanh toan khoan vay cua KH tu TK12345678912. TUY NHIEN, KH van con thieu 29.999.898VND. Vui long TT toan ngay lap tuc. Cam on']"
   ]
  },
  {
   "cell_type": "markdown",
   "metadata": {
    "colab_type": "text",
    "id": "fweq4U5_G4Sb"
   },
   "source": [
    "### Custom functions"
   ]
  },
  {
   "cell_type": "code",
   "execution_count": 3,
   "metadata": {
    "ExecuteTime": {
     "end_time": "2019-10-06T15:20:33.057530Z",
     "start_time": "2019-10-06T15:20:33.052520Z"
    },
    "colab": {},
    "colab_type": "code",
    "id": "t3Yl7IcWmBeL"
   },
   "outputs": [],
   "source": [
    "def process_raw(raw_data):\n",
    "    raw_data = [seq.lower().strip() for seq in raw_data]\n",
    "\n",
    "    # Creating a space between a word and the punctuation following it\n",
    "    # Eg: \"he is a boy.\" => \"he is a boy .\"\n",
    "    raw_data = [re.sub(r\"([?.!,¿])\", r\" \\1 \", seq) for seq in raw_data]\n",
    "    raw_data = [re.sub(r'[\" \"]+', \" \", seq) for seq in raw_data]\n",
    "\n",
    "    # Replacing everything with space except (characters, \".\", \"?\", \"!\", \",\")\n",
    "    filtered_punctuations = string.punctuation\n",
    "    exclude = [',', '!', '.', '?']\n",
    "\n",
    "    for c in filtered_punctuations:\n",
    "        if c in exclude:\n",
    "            filtered_punctuations = filtered_punctuations.replace(c, '')\n",
    "\n",
    "    table = str.maketrans('', '', filtered_punctuations)\n",
    "    raw_data = [seq.translate(table) for seq in raw_data]\n",
    "    \n",
    "    # Append start and end tokens to sequences\n",
    "    processed_raw = []\n",
    "    for seq in raw_data:\n",
    "        words = seq.split()\n",
    "        words = [word.strip() for word in words]\n",
    "        processed_raw.append(' '.join(words))\n",
    "\n",
    "    # processed_raw = ['<s> ' + seq + ' <e>' for seq in processed_raw]\n",
    "    processed_raw = ['<s> ' + seq + ' <e>' for seq in processed_raw]\n",
    "\n",
    "    return processed_raw"
   ]
  },
  {
   "cell_type": "code",
   "execution_count": 4,
   "metadata": {
    "ExecuteTime": {
     "end_time": "2019-10-06T15:20:33.062523Z",
     "start_time": "2019-10-06T15:20:33.058531Z"
    },
    "colab": {},
    "colab_type": "code",
    "id": "tTLjwvPomBeN"
   },
   "outputs": [],
   "source": [
    "def generate_input(processed_raw):\n",
    "    output = ''\n",
    "    for char in processed_raw:\n",
    "        if char in strip_tokens:\n",
    "            output += strip_tokens[char]\n",
    "        else:\n",
    "            output += char          \n",
    "    return output"
   ]
  },
  {
   "cell_type": "code",
   "execution_count": 5,
   "metadata": {
    "ExecuteTime": {
     "end_time": "2019-10-06T15:20:33.068524Z",
     "start_time": "2019-10-06T15:20:33.063523Z"
    },
    "colab": {},
    "colab_type": "code",
    "id": "IJz8C1jjmBeP"
   },
   "outputs": [],
   "source": [
    "def get_max_len(input_data, get_index=False): \n",
    "    longest = [len(data.split()) for data in input_data]\n",
    "    if get_index:\n",
    "        print(longest.index(max(longest)))\n",
    "    return max(longest)"
   ]
  },
  {
   "cell_type": "code",
   "execution_count": 6,
   "metadata": {
    "ExecuteTime": {
     "end_time": "2019-10-06T15:20:33.073525Z",
     "start_time": "2019-10-06T15:20:33.069523Z"
    },
    "colab": {},
    "colab_type": "code",
    "id": "e9ar4oQxmBeQ"
   },
   "outputs": [],
   "source": [
    "def tokenize_pad_data(data, pad_len=None):\n",
    "    tk = Tokenizer(char_level=False, filters='')\n",
    "    tk.fit_on_texts(data)\n",
    "    data = tk.texts_to_sequences(data)\n",
    "    data = pad_sequences(data, padding='post', maxlen=pad_len)\n",
    "    return data, tk"
   ]
  },
  {
   "cell_type": "code",
   "execution_count": 7,
   "metadata": {
    "ExecuteTime": {
     "end_time": "2019-10-06T15:20:33.078526Z",
     "start_time": "2019-10-06T15:20:33.074525Z"
    },
    "colab": {},
    "colab_type": "code",
    "id": "SmsFiMrtmBeS"
   },
   "outputs": [],
   "source": [
    "def process_data(processed_input, processed_target, pad_len=None):    \n",
    "    tokenized_input, input_tokenizer = tokenize_pad_data(data=processed_input, pad_len=pad_len)\n",
    "    tokenized_target, target_tokenizer = tokenize_pad_data(data=processed_target, pad_len=pad_len)\n",
    "    return tokenized_input, input_tokenizer, tokenized_target, target_tokenizer"
   ]
  },
  {
   "cell_type": "code",
   "execution_count": 8,
   "metadata": {
    "ExecuteTime": {
     "end_time": "2019-10-06T15:20:33.083527Z",
     "start_time": "2019-10-06T15:20:33.079526Z"
    },
    "colab": {},
    "colab_type": "code",
    "id": "6Fw9xOpCmBeT"
   },
   "outputs": [],
   "source": [
    "def convert(tokenizer, tokenized_data, send_back=False):\n",
    "    original = []\n",
    "    \n",
    "    print('Tokenized Data: {}'.format(tokenized_data))\n",
    "    print('\\n')\n",
    "    \n",
    "    for token in tokenized_data:\n",
    "        if token != 0:\n",
    "            if token in tokenizer.index_word:\n",
    "                original.append(tokenizer.index_word[token])\n",
    "            else:\n",
    "                original.append('<unk>')\n",
    "                    \n",
    "    print('Original Data: {}'.format(original))\n",
    "    \n",
    "    if send_back:\n",
    "        return original"
   ]
  },
  {
   "cell_type": "code",
   "execution_count": 45,
   "metadata": {
    "ExecuteTime": {
     "end_time": "2019-10-06T23:21:10.032010Z",
     "start_time": "2019-10-06T23:21:10.026009Z"
    },
    "colab": {},
    "colab_type": "code",
    "id": "7E-v-DpnNzoU"
   },
   "outputs": [],
   "source": [
    "def evaluate(sentence):\n",
    "    attention_plot = np.zeros((max_process_seq, max_process_seq))\n",
    "\n",
    "#     sentence = preprocess_sentence(sentence)\n",
    "\n",
    "    inputs = [input_tokenizer.word_index[i] for i in sentence.split(' ')]\n",
    "    inputs = tf.keras.preprocessing.sequence.pad_sequences([inputs], maxlen=max_process_seq, padding='post')\n",
    "    inputs = tf.convert_to_tensor(inputs)\n",
    "\n",
    "    result = ''\n",
    "\n",
    "    hidden = tf.zeros((1, units))\n",
    "    cell = tf.zeros((1, units))\n",
    "    enc_out, enc_hidden = encoder(inputs, hidden, cell)\n",
    "\n",
    "    dec_hidden = enc_hidden\n",
    "    dec_input = tf.expand_dims([target_tokenizer.word_index['<s>']], 0)\n",
    "\n",
    "    for t in range(max_process_seq):\n",
    "        predictions, dec_hidden, attention_weights = decoder(dec_input, dec_hidden, enc_out)\n",
    "\n",
    "        # storing the attention weights to plot later on\n",
    "        attention_weights = tf.reshape(attention_weights, (-1, ))\n",
    "        attention_plot[t] = attention_weights.numpy()\n",
    "\n",
    "        predicted_id = tf.argmax(predictions[0]).numpy()\n",
    "\n",
    "        result += target_tokenizer.index_word[predicted_id] + ' '\n",
    "\n",
    "        if target_tokenizer.index_word[predicted_id] == '<e>':\n",
    "            return result, sentence, attention_plot\n",
    "\n",
    "        # the predicted ID is fed back into the model\n",
    "        dec_input = tf.expand_dims([predicted_id], 0)\n",
    "      \n",
    "    return result, sentence, attention_plot"
   ]
  },
  {
   "cell_type": "code",
   "execution_count": 10,
   "metadata": {
    "ExecuteTime": {
     "end_time": "2019-10-06T15:20:33.094530Z",
     "start_time": "2019-10-06T15:20:33.089528Z"
    },
    "colab": {},
    "colab_type": "code",
    "id": "gSd7jEtUNzvo"
   },
   "outputs": [],
   "source": [
    "# function for plotting the attention weights\n",
    "def plot_attention(attention, sentence, predicted_sentence):\n",
    "    fig = plt.figure(figsize=(10,10))\n",
    "    ax = fig.add_subplot(1, 1, 1)\n",
    "    ax.matshow(attention, cmap='viridis')\n",
    "\n",
    "    fontdict = {'fontsize': 14}\n",
    "\n",
    "    ax.set_xticklabels([''] + sentence, fontdict=fontdict, rotation=90)\n",
    "    ax.set_yticklabels([''] + predicted_sentence, fontdict=fontdict)\n",
    "\n",
    "    ax.xaxis.set_major_locator(ticker.MultipleLocator(1))\n",
    "    ax.yaxis.set_major_locator(ticker.MultipleLocator(1))\n",
    "\n",
    "    plt.show()"
   ]
  },
  {
   "cell_type": "code",
   "execution_count": 11,
   "metadata": {
    "ExecuteTime": {
     "end_time": "2019-10-06T15:20:33.099531Z",
     "start_time": "2019-10-06T15:20:33.095530Z"
    },
    "colab": {},
    "colab_type": "code",
    "id": "CnhFxU4ANzz_"
   },
   "outputs": [],
   "source": [
    "def restore(sentence):\n",
    "    result, sentence, attention_plot = evaluate(sentence)\n",
    "\n",
    "    print('Input: {}'.format(sentence))\n",
    "    print('Predicted translation: {}'.format(result))\n",
    "\n",
    "    attention_plot = attention_plot[:len(result.split(' ')), :len(sentence.split(' '))]\n",
    "    plot_attention(attention_plot, sentence.split(' '), result.split(' '))"
   ]
  },
  {
   "cell_type": "markdown",
   "metadata": {
    "colab_type": "text",
    "id": "iTO5vpqCHFow"
   },
   "source": [
    "### Environment variables"
   ]
  },
  {
   "cell_type": "code",
   "execution_count": 12,
   "metadata": {
    "ExecuteTime": {
     "end_time": "2019-10-06T15:20:33.486625Z",
     "start_time": "2019-10-06T15:20:33.481624Z"
    },
    "colab": {
     "base_uri": "https://localhost:8080/",
     "height": 34
    },
    "colab_type": "code",
    "executionInfo": {
     "elapsed": 5142,
     "status": "ok",
     "timestamp": 1568940428712,
     "user": {
      "displayName": "Leo Tay",
      "photoUrl": "",
      "userId": "17143338865945125396"
     },
     "user_tz": -480
    },
    "id": "5rzxmuS-mBeV",
    "outputId": "d6c9284d-aad6-4759-d8ca-a7c251c92351"
   },
   "outputs": [
    {
     "data": {
      "text/plain": [
       "'2.0.0'"
      ]
     },
     "execution_count": 12,
     "metadata": {},
     "output_type": "execute_result"
    }
   ],
   "source": [
    "# Define data arguements\n",
    "# Set random seed\n",
    "np.random.seed(50)\n",
    "data_file = '../data/raw/raw_train.txt'\n",
    "\n",
    "tf.__version__"
   ]
  },
  {
   "cell_type": "markdown",
   "metadata": {
    "colab_type": "text",
    "id": "ZeSFzXKgHKu0"
   },
   "source": [
    "### Load and process dataset"
   ]
  },
  {
   "cell_type": "code",
   "execution_count": 13,
   "metadata": {
    "ExecuteTime": {
     "end_time": "2019-10-06T15:20:52.035319Z",
     "start_time": "2019-10-06T15:20:51.626221Z"
    },
    "colab": {},
    "colab_type": "code",
    "id": "mpeUU7WdmBeX"
   },
   "outputs": [],
   "source": [
    "# Load dataset\n",
    "counter = 0\n",
    "max_seq_len = 40\n",
    "no_seq = 100000\n",
    "raw_data = []\n",
    "\n",
    "# Load raw data and read first 100000 sequences with 40 or less words\n",
    "with open(data_file, 'r', encoding='utf-8') as f:    \n",
    "    while counter != no_seq:\n",
    "        line = f.readline()\n",
    "        if len(line.split()) <= max_seq_len:\n",
    "            raw_data.append(line)\n",
    "            counter += 1\n",
    "        else:\n",
    "            continue"
   ]
  },
  {
   "cell_type": "code",
   "execution_count": 14,
   "metadata": {
    "ExecuteTime": {
     "end_time": "2019-10-06T15:21:09.354771Z",
     "start_time": "2019-10-06T15:21:08.586607Z"
    },
    "colab": {
     "base_uri": "https://localhost:8080/",
     "height": 51
    },
    "colab_type": "code",
    "executionInfo": {
     "elapsed": 7918,
     "status": "ok",
     "timestamp": 1568940432457,
     "user": {
      "displayName": "Leo Tay",
      "photoUrl": "",
      "userId": "17143338865945125396"
     },
     "user_tz": -480
    },
    "id": "8qXuFMzlmBeZ",
    "outputId": "35f9fb78-aa1a-427e-c7b3-d61a5368e77d"
   },
   "outputs": [
    {
     "name": "stdout",
     "output_type": "stream",
     "text": [
      "Max input sequence length: 52\n",
      "Max target sequence length: 52\n"
     ]
    }
   ],
   "source": [
    "# Process dataset\n",
    "# From the 1000000 sequences, randomly pick 20000\n",
    "random_pick = 20000\n",
    "random_idx = np.random.choice(no_seq, random_pick, replace=False)\n",
    "raw_data = [raw_data[i] for i in random_idx]\n",
    "\n",
    "# Shuffle raw data prior to processing\n",
    "np.random.shuffle(raw_data)\n",
    "\n",
    "# Process raw and input data\n",
    "filtered_raw = process_raw(raw_data)\n",
    "processed_inp = [generate_input(seq) for seq in filtered_raw]\n",
    "\n",
    "# Get max sequence length after processing\n",
    "max_process_seq = get_max_len(processed_inp, get_index=False)\n",
    "print('Max input sequence length: {}'.format(get_max_len(processed_inp)))\n",
    "print('Max target sequence length: {}'.format(get_max_len(filtered_raw)))"
   ]
  },
  {
   "cell_type": "code",
   "execution_count": 15,
   "metadata": {
    "ExecuteTime": {
     "end_time": "2019-10-06T15:21:09.359772Z",
     "start_time": "2019-10-06T15:21:09.355772Z"
    },
    "colab": {
     "base_uri": "https://localhost:8080/",
     "height": 119
    },
    "colab_type": "code",
    "executionInfo": {
     "elapsed": 7779,
     "status": "ok",
     "timestamp": 1568940432457,
     "user": {
      "displayName": "Leo Tay",
      "photoUrl": "",
      "userId": "17143338865945125396"
     },
     "user_tz": -480
    },
    "id": "o_H9BS41mBed",
    "outputId": "c6130fb6-bceb-41ca-90d6-cfdf2f5fe885"
   },
   "outputs": [
    {
     "name": "stdout",
     "output_type": "stream",
     "text": [
      "Input Sample:\n",
      "<s> tin hieu so la tin hieu da duoc lay mau va luong tu hoa . <e>\n",
      "\n",
      "\n",
      "Target Sample:\n",
      "<s> tín hiệu số là tín hiệu đã được lấy mẫu và lượng tử hóa . <e>\n"
     ]
    }
   ],
   "source": [
    "print('Input Sample:')\n",
    "print(processed_inp[-1])\n",
    "print('\\n')\n",
    "print('Target Sample:')\n",
    "print(filtered_raw[-1])"
   ]
  },
  {
   "cell_type": "code",
   "execution_count": 16,
   "metadata": {
    "ExecuteTime": {
     "end_time": "2019-10-06T15:21:11.088234Z",
     "start_time": "2019-10-06T15:21:09.708878Z"
    },
    "colab": {},
    "colab_type": "code",
    "id": "-N7GaOalmBee"
   },
   "outputs": [],
   "source": [
    "# Tokenize/pad input and target data, generates corresponding tokenizers\n",
    "tokenized_input, input_tokenizer, tokenized_target, target_tokenizer = process_data(processed_input=processed_inp, \n",
    "                                                            processed_target=filtered_raw, pad_len=max_process_seq)"
   ]
  },
  {
   "cell_type": "code",
   "execution_count": 17,
   "metadata": {
    "ExecuteTime": {
     "end_time": "2019-10-06T15:21:11.093236Z",
     "start_time": "2019-10-06T15:21:11.089235Z"
    },
    "colab": {
     "base_uri": "https://localhost:8080/",
     "height": 68
    },
    "colab_type": "code",
    "executionInfo": {
     "elapsed": 12163,
     "status": "ok",
     "timestamp": 1568940437206,
     "user": {
      "displayName": "Leo Tay",
      "photoUrl": "",
      "userId": "17143338865945125396"
     },
     "user_tz": -480
    },
    "id": "_xin5HNPmBer",
    "outputId": "1a4a8dba-37a5-477e-95f8-0ccdae72b6e5"
   },
   "outputs": [
    {
     "name": "stdout",
     "output_type": "stream",
     "text": [
      "Number of training sequences: 16000\n",
      "Number of val sequences: 2000\n",
      "Number of test sequences: 2000\n"
     ]
    }
   ],
   "source": [
    "train_data_len = round((.8 * random_pick))\n",
    "val_test_data_len = round((.1 * random_pick))\n",
    "\n",
    "train_inp_data, train_tar_data = tokenized_input[:train_data_len], tokenized_target[:train_data_len]\n",
    "val_inp_data, val_tar_data = tokenized_input[train_data_len:(train_data_len+val_test_data_len)], \\\n",
    "                                    tokenized_target[train_data_len:(train_data_len+val_test_data_len)]\n",
    "test_inp_data, test_tar_data = tokenized_input[-val_test_data_len:], tokenized_target[-val_test_data_len:]\n",
    "\n",
    "print('Number of training sequences: {}'.format(len(train_inp_data)))\n",
    "print('Number of val sequences: {}'.format(len(val_inp_data)))\n",
    "print('Number of test sequences: {}'.format(len(test_inp_data)))"
   ]
  },
  {
   "cell_type": "code",
   "execution_count": 18,
   "metadata": {
    "ExecuteTime": {
     "end_time": "2019-10-06T15:21:11.099237Z",
     "start_time": "2019-10-06T15:21:11.094236Z"
    },
    "colab": {
     "base_uri": "https://localhost:8080/",
     "height": 136
    },
    "colab_type": "code",
    "executionInfo": {
     "elapsed": 11978,
     "status": "ok",
     "timestamp": 1568940437207,
     "user": {
      "displayName": "Leo Tay",
      "photoUrl": "",
      "userId": "17143338865945125396"
     },
     "user_tz": -480
    },
    "id": "FhIKiOx5mBet",
    "outputId": "55872c36-6be7-4b45-f825-a41dfd352802"
   },
   "outputs": [
    {
     "name": "stdout",
     "output_type": "stream",
     "text": [
      "Tokenized Data: [   2   54  421   31   79  212  139   84   43  267   69  327   15    4\n",
      "   15  817  376  983  212   66   16 2053   24   67   54   20  192   68\n",
      "   44   27   87  120    4   53   82    1    1    1    3    0    0    0\n",
      "    0    0    0    0    0    0    0    0    0    0]\n",
      "\n",
      "\n",
      "Original Data: ['<s>', 'hoa', 'kieu', 'o', 'hai', 'ngoai', 'danh', 'dien', 've', 'ung', 'ho', 'quang', 'tu', ',', 'tu', 'hi', 'cang', 'ghet', 'ngoai', 'nhan', 'da', 'mom', 'cho', 'trung', 'hoa', 'nhung', 'y', 'tuong', 'phan', 'dong', 'hien', 'phap', ',', 'dan', 'chu', '.', '.', '.', '<e>']\n"
     ]
    }
   ],
   "source": [
    "convert(input_tokenizer, train_inp_data[0])"
   ]
  },
  {
   "cell_type": "code",
   "execution_count": 19,
   "metadata": {
    "ExecuteTime": {
     "end_time": "2019-10-06T15:21:12.785684Z",
     "start_time": "2019-10-06T15:21:12.232568Z"
    },
    "colab": {},
    "colab_type": "code",
    "id": "dquKNOnxmBez",
    "scrolled": true
   },
   "outputs": [],
   "source": [
    "train_buffer_sz = len(train_inp_data)\n",
    "val_buffer_sz = len(val_inp_data)\n",
    "test_buffer_sz = len(test_inp_data)\n",
    "batch_sz = 32\n",
    "\n",
    "train_dataset = tf.data.Dataset.from_tensor_slices((train_inp_data, train_tar_data)).shuffle(train_buffer_sz)\n",
    "train_dataset = train_dataset.batch(batch_sz, drop_remainder=True)\n",
    "\n",
    "val_dataset = tf.data.Dataset.from_tensor_slices((val_inp_data, val_tar_data)).shuffle(val_buffer_sz)\n",
    "val_dataset = val_dataset.batch(batch_sz, drop_remainder=True)\n",
    "\n",
    "test_dataset = tf.data.Dataset.from_tensor_slices((test_inp_data, test_tar_data)).shuffle(test_buffer_sz)\n",
    "test_dataset = test_dataset.batch(batch_sz, drop_remainder=True)"
   ]
  },
  {
   "cell_type": "code",
   "execution_count": 20,
   "metadata": {
    "ExecuteTime": {
     "end_time": "2019-10-06T15:21:15.024324Z",
     "start_time": "2019-10-06T15:21:14.991317Z"
    },
    "colab": {},
    "colab_type": "code",
    "id": "58s7L7KJSPPj"
   },
   "outputs": [],
   "source": [
    "example_input_batch, example_target_batch = next(iter(train_dataset))\n",
    "# example_input_batch.shape, example_target_batch.shape\n",
    "\n",
    "example_val_inp_batch, example_val_tar_batch = next(iter(val_dataset))\n",
    "# example_val_inp_batch.shape, example_val_tar_batch.shape\n",
    "\n",
    "example_test_inp_batch, example_test_tar_batch = next(iter(test_dataset))\n",
    "# example_test_inp_batch.shape, example_test_tar_batch.shape"
   ]
  },
  {
   "cell_type": "markdown",
   "metadata": {
    "colab_type": "text",
    "id": "uo6i8NHxHPMt"
   },
   "source": [
    "### Define model and model parameters"
   ]
  },
  {
   "cell_type": "code",
   "execution_count": 21,
   "metadata": {
    "ExecuteTime": {
     "end_time": "2019-10-06T15:21:21.876941Z",
     "start_time": "2019-10-06T15:21:21.872940Z"
    },
    "colab": {
     "base_uri": "https://localhost:8080/",
     "height": 51
    },
    "colab_type": "code",
    "executionInfo": {
     "elapsed": 7705,
     "status": "ok",
     "timestamp": 1568940437958,
     "user": {
      "displayName": "Leo Tay",
      "photoUrl": "",
      "userId": "17143338865945125396"
     },
     "user_tz": -480
    },
    "id": "JMqR7Y6umBe6",
    "outputId": "d0659823-7e69-4e12-a193-4df8cd43210f"
   },
   "outputs": [
    {
     "name": "stdout",
     "output_type": "stream",
     "text": [
      "Input vocabulary: 13334\n",
      "Target vocabulary: 16384\n"
     ]
    }
   ],
   "source": [
    "embedding_dim = 256\n",
    "units = 1024\n",
    "dropout = 0.2\n",
    "inp_vocab_sz = len(input_tokenizer.index_word)+1\n",
    "tar_vocab_sz = len(target_tokenizer.index_word)+1\n",
    "\n",
    "print('Input vocabulary: {}'.format(inp_vocab_sz))\n",
    "print('Target vocabulary: {}'.format(tar_vocab_sz))"
   ]
  },
  {
   "cell_type": "code",
   "execution_count": 22,
   "metadata": {
    "ExecuteTime": {
     "end_time": "2019-10-06T15:21:22.110990Z",
     "start_time": "2019-10-06T15:21:22.104988Z"
    },
    "colab": {},
    "colab_type": "code",
    "id": "cj-IlNQsmBe7"
   },
   "outputs": [],
   "source": [
    "class Encoder(tf.keras.Model):\n",
    "  def __init__(self, vocab_size, embedding_dim, enc_units, batch_sz):\n",
    "    super().__init__()\n",
    "    self.batch_sz = batch_sz\n",
    "    self.enc_units = enc_units\n",
    "    self.embedding = tf.keras.layers.Embedding(vocab_size, embedding_dim)\n",
    "#     self.gru = tf.keras.layers.GRU(self.enc_units, return_sequences=True, return_state=True, recurrent_initializer='glorot_uniform', dropout=dropout)\n",
    "    self.gru = tf.keras.layers.LSTM(self.enc_units, return_sequences=True, return_state=True, recurrent_initializer='glorot_uniform', dropout=dropout)\n",
    "\n",
    "            \n",
    "  def call(self, x, hidden, cell):\n",
    "    x = self.embedding(x)\n",
    "    output, state, cell = self.gru(x, initial_state = [hidden, cell])\n",
    "    return output, state\n",
    "\n",
    "  def initialize_hidden_state(self):\n",
    "    return tf.zeros((self.batch_sz, self.enc_units))\n",
    "\n",
    "  def initialize_cell_state(self):\n",
    "    return tf.zeros((self.batch_sz, self.enc_units))"
   ]
  },
  {
   "cell_type": "code",
   "execution_count": 23,
   "metadata": {
    "ExecuteTime": {
     "end_time": "2019-10-06T15:21:24.276187Z",
     "start_time": "2019-10-06T15:21:23.070915Z"
    },
    "colab": {
     "base_uri": "https://localhost:8080/",
     "height": 51
    },
    "colab_type": "code",
    "executionInfo": {
     "elapsed": 7650,
     "status": "ok",
     "timestamp": 1568940438725,
     "user": {
      "displayName": "Leo Tay",
      "photoUrl": "",
      "userId": "17143338865945125396"
     },
     "user_tz": -480
    },
    "id": "-cZZxz3WmBe9",
    "outputId": "4bb53bb7-812d-49f1-fc5f-5b007e00f197"
   },
   "outputs": [
    {
     "name": "stdout",
     "output_type": "stream",
     "text": [
      "Encoder output shape: (batch size, sequence length, units) (32, 52, 1024)\n",
      "Encoder Hidden state shape: (batch size, units) (1024,)\n"
     ]
    }
   ],
   "source": [
    "encoder = Encoder(inp_vocab_sz, embedding_dim, units, batch_sz)\n",
    "\n",
    "# sample input\n",
    "sample_hidden = encoder.initialize_hidden_state()\n",
    "sample_cell = encoder.initialize_cell_state()\n",
    "sample_output, sample_hidden = encoder(example_input_batch, sample_hidden, sample_cell)\n",
    "print ('Encoder output shape: (batch size, sequence length, units) {}'.format(sample_output.shape))\n",
    "print ('Encoder Hidden state shape: (batch size, units) {}'.format(sample_hidden[0].shape))"
   ]
  },
  {
   "cell_type": "code",
   "execution_count": 24,
   "metadata": {
    "ExecuteTime": {
     "end_time": "2019-10-06T15:21:27.441546Z",
     "start_time": "2019-10-06T15:21:27.437544Z"
    },
    "colab": {},
    "colab_type": "code",
    "id": "i2LssOB5rGBV"
   },
   "outputs": [],
   "source": [
    "class BahdanauAttention(tf.keras.Model):\n",
    "  def __init__(self, units):\n",
    "    super().__init__()\n",
    "    self.W1 = tf.keras.layers.Dense(units)\n",
    "    self.W2 = tf.keras.layers.Dense(units)\n",
    "    self.V = tf.keras.layers.Dense(1)\n",
    "\n",
    "  def call(self, query, values):\n",
    "    # hidden shape == (batch_size, hidden size)\n",
    "    # hidden_with_time_axis shape == (batch_size, 1, hidden size)\n",
    "    # we are doing this to perform addition to calculate the score\n",
    "    hidden_with_time_axis = tf.expand_dims(query, 1)\n",
    "\n",
    "    # score shape == (batch_size, max_length, 1)\n",
    "    # we get 1 at the last axis because we are applying score to self.V\n",
    "    # the shape of the tensor before applying self.V is (batch_size, max_length, units)\n",
    "    score = self.V(tf.nn.tanh(self.W1(values) + self.W2(hidden_with_time_axis)))\n",
    "\n",
    "    # attention_weights shape == (batch_size, max_length, 1)\n",
    "    attention_weights = tf.nn.softmax(score, axis=1)\n",
    "\n",
    "    # context_vector shape after sum == (batch_size, hidden_size)\n",
    "    context_vector = attention_weights * values\n",
    "    context_vector = tf.reduce_sum(context_vector, axis=1)\n",
    "\n",
    "    return context_vector, attention_weights"
   ]
  },
  {
   "cell_type": "code",
   "execution_count": 25,
   "metadata": {
    "ExecuteTime": {
     "end_time": "2019-10-06T15:21:28.538315Z",
     "start_time": "2019-10-06T15:21:28.327267Z"
    },
    "colab": {
     "base_uri": "https://localhost:8080/",
     "height": 51
    },
    "colab_type": "code",
    "executionInfo": {
     "elapsed": 5259,
     "status": "ok",
     "timestamp": 1568940438727,
     "user": {
      "displayName": "Leo Tay",
      "photoUrl": "",
      "userId": "17143338865945125396"
     },
     "user_tz": -480
    },
    "id": "iG--lBXPrsn7",
    "outputId": "154ac254-b702-42bd-f62a-81e992906521"
   },
   "outputs": [
    {
     "name": "stdout",
     "output_type": "stream",
     "text": [
      "Attention result shape: (batch size, units) (32, 1024)\n",
      "Attention weights shape: (batch_size, sequence_length, 1) (32, 52, 1)\n"
     ]
    }
   ],
   "source": [
    "attention_layer = BahdanauAttention(128)\n",
    "attention_result, attention_weights = attention_layer(sample_hidden, sample_output)\n",
    "\n",
    "print(\"Attention result shape: (batch size, units) {}\".format(attention_result.shape))\n",
    "print(\"Attention weights shape: (batch_size, sequence_length, 1) {}\".format(attention_weights.shape))"
   ]
  },
  {
   "cell_type": "code",
   "execution_count": 26,
   "metadata": {
    "ExecuteTime": {
     "end_time": "2019-10-06T15:21:29.184695Z",
     "start_time": "2019-10-06T15:21:29.178693Z"
    },
    "colab": {},
    "colab_type": "code",
    "id": "IWUJincXmBe-"
   },
   "outputs": [],
   "source": [
    "class Decoder(tf.keras.Model):\n",
    "  def __init__(self, vocab_size, embedding_dim, dec_units, batch_sz):\n",
    "    super().__init__()\n",
    "    self.batch_sz = batch_sz\n",
    "    self.dec_units = dec_units\n",
    "    self.embedding = tf.keras.layers.Embedding(vocab_size, embedding_dim)\n",
    "#     self.gru = tf.keras.layers.GRU(self.dec_units, return_sequences=True, return_state=True, recurrent_initializer='glorot_uniform', dropout=dropout)\n",
    "    self.gru = tf.keras.layers.LSTM(self.dec_units, return_sequences=True, return_state=True, recurrent_initializer='glorot_uniform', dropout=dropout)\n",
    "    self.fc = tf.keras.layers.Dense(vocab_size)\n",
    "\n",
    "    # used for attention\n",
    "    self.attention = BahdanauAttention(self.dec_units)\n",
    "\n",
    "  def call(self, x, hidden, enc_output):\n",
    "    # enc_output shape == (batch_size, max_length, hidden_size)\n",
    "    context_vector, attention_weights = self.attention(hidden, enc_output)\n",
    "\n",
    "    # x shape after passing through embedding == (batch_size, 1, embedding_dim)\n",
    "    x = self.embedding(x)\n",
    "\n",
    "    # x shape after concatenation == (batch_size, 1, embedding_dim + hidden_size)\n",
    "    x = tf.concat([tf.expand_dims(context_vector, 1), x], axis=-1)\n",
    "\n",
    "    # passing the concatenated vector to the GRU\n",
    "    output, state, cell = self.gru(x)\n",
    "\n",
    "    # output shape == (batch_size * 1, hidden_size)\n",
    "    output = tf.reshape(output, (-1, output.shape[2]))\n",
    "\n",
    "    # output shape == (batch_size, vocab)\n",
    "    x = self.fc(output)\n",
    "\n",
    "    return x, state, attention_weights"
   ]
  },
  {
   "cell_type": "code",
   "execution_count": 27,
   "metadata": {
    "ExecuteTime": {
     "end_time": "2019-10-06T15:21:34.439100Z",
     "start_time": "2019-10-06T15:21:34.394098Z"
    },
    "colab": {
     "base_uri": "https://localhost:8080/",
     "height": 34
    },
    "colab_type": "code",
    "executionInfo": {
     "elapsed": 4836,
     "status": "ok",
     "timestamp": 1568940439652,
     "user": {
      "displayName": "Leo Tay",
      "photoUrl": "",
      "userId": "17143338865945125396"
     },
     "user_tz": -480
    },
    "id": "QJFP7gbQmBfA",
    "outputId": "a19c9994-a5f6-4fa8-8b54-f8f3e39a9dec"
   },
   "outputs": [
    {
     "name": "stdout",
     "output_type": "stream",
     "text": [
      "Decoder output shape: (batch_size, vocab size) (32, 16384)\n"
     ]
    }
   ],
   "source": [
    "decoder = Decoder(tar_vocab_sz, embedding_dim, units, batch_sz)\n",
    "\n",
    "sample_decoder_output, _, _ = decoder(tf.random.uniform((batch_sz, 1)), sample_hidden, sample_output)\n",
    "\n",
    "print ('Decoder output shape: (batch_size, vocab size) {}'.format(sample_decoder_output.shape))"
   ]
  },
  {
   "cell_type": "markdown",
   "metadata": {
    "colab_type": "text",
    "id": "ZwSUyr7zHeNO"
   },
   "source": [
    "### Define loss and accuracy metrics"
   ]
  },
  {
   "cell_type": "code",
   "execution_count": 28,
   "metadata": {
    "ExecuteTime": {
     "end_time": "2019-10-06T15:21:35.641881Z",
     "start_time": "2019-10-06T15:21:35.633879Z"
    },
    "colab": {},
    "colab_type": "code",
    "id": "Xmjl4_cVmBfB"
   },
   "outputs": [],
   "source": [
    "optimizer = tf.keras.optimizers.Adam(lr=0.001)\n",
    "\n",
    "loss_object = tf.keras.losses.SparseCategoricalCrossentropy(from_logits=True, reduction='none')\n",
    "\n",
    "train_accuracy = tf.keras.metrics.SparseCategoricalAccuracy(name='train_accuracy')\n",
    "\n",
    "val_accuracy = tf.keras.metrics.SparseCategoricalAccuracy(name='val_accuracy')"
   ]
  },
  {
   "cell_type": "markdown",
   "metadata": {
    "colab_type": "text",
    "id": "BMLXtj5SHiFw"
   },
   "source": [
    "### Define checkpoint options"
   ]
  },
  {
   "cell_type": "code",
   "execution_count": 29,
   "metadata": {
    "ExecuteTime": {
     "end_time": "2019-10-06T15:21:36.659277Z",
     "start_time": "2019-10-06T15:21:36.655275Z"
    },
    "colab": {},
    "colab_type": "code",
    "id": "-E_bnkXQmBfD"
   },
   "outputs": [],
   "source": [
    "checkpoint_dir = './training_checkpoints'\n",
    "  \n",
    "checkpoint = tf.train.Checkpoint(optimizer=optimizer, encoder=encoder, decoder=decoder)\n",
    "manager = tf.train.CheckpointManager(checkpoint=checkpoint, directory=checkpoint_dir, max_to_keep=1)"
   ]
  },
  {
   "cell_type": "markdown",
   "metadata": {
    "colab_type": "text",
    "id": "M4j_vL7WIXNp"
   },
   "source": [
    "### Training function and loop"
   ]
  },
  {
   "cell_type": "code",
   "execution_count": 30,
   "metadata": {
    "ExecuteTime": {
     "end_time": "2019-10-06T15:21:37.945733Z",
     "start_time": "2019-10-06T15:21:37.939723Z"
    },
    "colab": {},
    "colab_type": "code",
    "id": "35xeW0fumBfF"
   },
   "outputs": [],
   "source": [
    "@tf.function\n",
    "def train_step(inp, targ, enc_hidden, enc_cell):\n",
    "    loss = 0.0\n",
    "    acc = 0.0\n",
    "    \n",
    "    with tf.GradientTape() as tape:\n",
    "        enc_output, enc_hidden = encoder(inp, enc_hidden, enc_cell)\n",
    "\n",
    "        dec_hidden = enc_hidden\n",
    "\n",
    "        dec_input = tf.expand_dims([target_tokenizer.word_index['<s>']] * batch_sz, 1)\n",
    "\n",
    "        # Teacher forcing - feeding the target as the next input\n",
    "        for t in range(1, targ.shape[1]):\n",
    "            # passing enc_output to the decoder\n",
    "            predictions, dec_hidden, _ = decoder(dec_input, dec_hidden, enc_output)\n",
    "            loss += loss_object(targ[:, t], predictions)           \n",
    "    \n",
    "            train_accuracy.update_state(targ[:, t], predictions)\n",
    "            acc += train_accuracy.result()\n",
    "            \n",
    "            # using teacher forcing\n",
    "            dec_input = tf.expand_dims(targ[:, t], 1)\n",
    "      \n",
    "    variables = encoder.trainable_variables + decoder.trainable_variables\n",
    "\n",
    "    gradients = tape.gradient(loss, variables)\n",
    "\n",
    "    optimizer.apply_gradients(zip(gradients, variables))\n",
    "    \n",
    "    batch_loss = loss / int(targ.shape[1])\n",
    "    batch_acc = acc / int (targ.shape[1])\n",
    "    \n",
    "    return batch_loss, batch_acc"
   ]
  },
  {
   "cell_type": "code",
   "execution_count": 31,
   "metadata": {
    "ExecuteTime": {
     "end_time": "2019-10-06T15:21:39.142064Z",
     "start_time": "2019-10-06T15:21:39.138061Z"
    },
    "colab": {},
    "colab_type": "code",
    "id": "yZYFzRhgmodv"
   },
   "outputs": [],
   "source": [
    "@tf.function\n",
    "def test_step(inp, targ, enc_hidden, enc_cell):\n",
    "  loss = 0.0\n",
    "  acc = 0.0\n",
    "  \n",
    "  enc_output, enc_hidden = encoder(inp, enc_hidden, enc_cell)\n",
    "\n",
    "  dec_hidden = enc_hidden\n",
    "\n",
    "  dec_input = tf.expand_dims([target_tokenizer.word_index['<s>']] * batch_sz, 1)\n",
    "\n",
    "  # Teacher forcing - feeding the target as the next input\n",
    "  for t in range(1, targ.shape[1]):\n",
    "    # passing enc_output to the decoder\n",
    "    predictions, dec_hidden, _ = decoder(dec_input, dec_hidden, enc_output)\n",
    "    loss += loss_object(targ[:, t], predictions)\n",
    "    \n",
    "    val_accuracy(targ[:, t], predictions)    \n",
    "    val_accuracy.update_state(targ[:, t], predictions)\n",
    "    acc += val_accuracy.result()\n",
    "            \n",
    "    # using teacher forcing\n",
    "    dec_input = tf.expand_dims(targ[:, t], 1)\n",
    "    \n",
    "  batch_loss = loss / int(targ.shape[1])\n",
    "  batch_acc = acc / int (targ.shape[1])\n",
    "    \n",
    "  return batch_loss, batch_acc"
   ]
  },
  {
   "cell_type": "code",
   "execution_count": 32,
   "metadata": {
    "ExecuteTime": {
     "end_time": "2019-10-06T17:08:35.594198Z",
     "start_time": "2019-10-06T15:21:39.809234Z"
    },
    "colab": {
     "base_uri": "https://localhost:8080/",
     "height": 1000
    },
    "colab_type": "code",
    "executionInfo": {
     "elapsed": 22192,
     "status": "error",
     "timestamp": 1568941434023,
     "user": {
      "displayName": "Leo Tay",
      "photoUrl": "",
      "userId": "17143338865945125396"
     },
     "user_tz": -480
    },
    "id": "qSCqgFtRmBfG",
    "outputId": "31ae9120-b8af-4044-96c3-2b80d834083e",
    "scrolled": true
   },
   "outputs": [
    {
     "name": "stdout",
     "output_type": "stream",
     "text": [
      "Epoch: 1, Batch: 0, Loss: 9.5172\n",
      "Epoch: 1, Batch: 100, Loss: 3.6027\n",
      "Epoch: 1, Batch: 200, Loss: 2.9302\n",
      "Epoch: 1, Batch: 300, Loss: 3.2190\n",
      "Epoch: 1, Batch: 400, Loss: 2.9977\n",
      "New best val loss: inf --> 3.0230\n",
      "New val loss: 3.0230\n",
      "Saving model\n",
      "Save completed\n",
      "Resetting Early Stop counter\n",
      "Epoch 1 Training Loss 3.3200, Training Acc: 0.5179, Val Loss: 3.0230, Val Acc: 0.5438\n",
      "Time taken for 1 epoch 276.9139 sec\n",
      "\n",
      "Epoch: 2, Batch: 0, Loss: 3.3168\n",
      "Epoch: 2, Batch: 100, Loss: 2.9554\n",
      "Epoch: 2, Batch: 200, Loss: 2.9585\n",
      "Epoch: 2, Batch: 300, Loss: 2.7751\n",
      "Epoch: 2, Batch: 400, Loss: 2.7915\n",
      "New best val loss: 3.0230 --> 2.9178\n",
      "New val loss: 2.9178\n",
      "Saving model\n",
      "Save completed\n",
      "Resetting Early Stop counter\n",
      "Epoch 2 Training Loss 2.9687, Training Acc: 0.5528, Val Loss: 2.9178, Val Acc: 0.5539\n",
      "Time taken for 1 epoch 212.1867 sec\n",
      "\n",
      "Epoch: 3, Batch: 0, Loss: 2.6715\n",
      "Epoch: 3, Batch: 100, Loss: 2.4975\n",
      "Epoch: 3, Batch: 200, Loss: 2.6057\n",
      "Epoch: 3, Batch: 300, Loss: 3.0928\n",
      "Epoch: 3, Batch: 400, Loss: 2.4727\n",
      "New best val loss: 2.9178 --> 2.8003\n",
      "New val loss: 2.8003\n",
      "Saving model\n",
      "Save completed\n",
      "Resetting Early Stop counter\n",
      "Epoch 3 Training Loss 2.8206, Training Acc: 0.5603, Val Loss: 2.8003, Val Acc: 0.5663\n",
      "Time taken for 1 epoch 213.3022 sec\n",
      "\n",
      "Epoch: 4, Batch: 0, Loss: 2.8018\n",
      "Epoch: 4, Batch: 100, Loss: 2.4243\n",
      "Epoch: 4, Batch: 200, Loss: 2.5525\n",
      "Epoch: 4, Batch: 300, Loss: 2.6449\n",
      "Epoch: 4, Batch: 400, Loss: 2.7008\n",
      "New best val loss: 2.8003 --> 2.6585\n",
      "New val loss: 2.6585\n",
      "Saving model\n",
      "Save completed\n",
      "Resetting Early Stop counter\n",
      "Epoch 4 Training Loss 2.6615, Training Acc: 0.5732, Val Loss: 2.6585, Val Acc: 0.5803\n",
      "Time taken for 1 epoch 213.5091 sec\n",
      "\n",
      "Epoch: 5, Batch: 0, Loss: 2.3463\n",
      "Epoch: 5, Batch: 100, Loss: 2.5643\n",
      "Epoch: 5, Batch: 200, Loss: 2.6230\n",
      "Epoch: 5, Batch: 300, Loss: 2.0699\n",
      "Epoch: 5, Batch: 400, Loss: 2.6579\n",
      "New best val loss: 2.6585 --> 2.2569\n",
      "New val loss: 2.2569\n",
      "Saving model\n",
      "Save completed\n",
      "Resetting Early Stop counter\n",
      "Epoch 5 Training Loss 2.4203, Training Acc: 0.5932, Val Loss: 2.2569, Val Acc: 0.6341\n",
      "Time taken for 1 epoch 212.8387 sec\n",
      "\n",
      "Epoch: 6, Batch: 0, Loss: 2.1133\n",
      "Epoch: 6, Batch: 100, Loss: 2.7368\n",
      "Epoch: 6, Batch: 200, Loss: 2.2124\n",
      "Epoch: 6, Batch: 300, Loss: 1.9830\n",
      "Epoch: 6, Batch: 400, Loss: 1.6668\n",
      "New best val loss: 2.2569 --> 1.7639\n",
      "New val loss: 1.7639\n",
      "Saving model\n",
      "Save completed\n",
      "Resetting Early Stop counter\n",
      "Epoch 6 Training Loss 2.0285, Training Acc: 0.6430, Val Loss: 1.7639, Val Acc: 0.7079\n",
      "Time taken for 1 epoch 212.5018 sec\n",
      "\n",
      "Epoch: 7, Batch: 0, Loss: 1.4774\n",
      "Epoch: 7, Batch: 100, Loss: 1.3731\n",
      "Epoch: 7, Batch: 200, Loss: 2.2491\n",
      "Epoch: 7, Batch: 300, Loss: 2.2785\n",
      "Epoch: 7, Batch: 400, Loss: 2.2507\n",
      "New best val loss: 1.7639 --> 1.6220\n",
      "New val loss: 1.6220\n",
      "Saving model\n",
      "Save completed\n",
      "Resetting Early Stop counter\n",
      "Epoch 7 Training Loss 1.9592, Training Acc: 0.6757, Val Loss: 1.6220, Val Acc: 0.7329\n",
      "Time taken for 1 epoch 212.7036 sec\n",
      "\n",
      "Epoch: 8, Batch: 0, Loss: 1.4981\n",
      "Epoch: 8, Batch: 100, Loss: 1.4872\n",
      "Epoch: 8, Batch: 200, Loss: 1.4422\n",
      "Epoch: 8, Batch: 300, Loss: 1.2664\n",
      "Epoch: 8, Batch: 400, Loss: 2.1432\n",
      "Increasing Early Stop count to: 1\n",
      "Epoch 8 Training Loss 1.4610, Training Acc: 0.7504, Val Loss: 2.8703, Val Acc: 0.5589\n",
      "Time taken for 1 epoch 209.6387 sec\n",
      "\n",
      "Epoch: 9, Batch: 0, Loss: 2.5223\n",
      "Epoch: 9, Batch: 100, Loss: 2.5031\n",
      "Epoch: 9, Batch: 200, Loss: 2.4150\n",
      "Epoch: 9, Batch: 300, Loss: 2.2330\n",
      "Epoch: 9, Batch: 400, Loss: 1.8480\n",
      "New best val loss: 1.6220 --> 1.4480\n",
      "New val loss: 1.4480\n",
      "Saving model\n",
      "Save completed\n",
      "Resetting Early Stop counter\n",
      "Epoch 9 Training Loss 2.0873, Training Acc: 0.6076, Val Loss: 1.4480, Val Acc: 0.7589\n",
      "Time taken for 1 epoch 212.9442 sec\n",
      "\n",
      "Epoch: 10, Batch: 0, Loss: 1.2060\n",
      "Epoch: 10, Batch: 100, Loss: 1.3042\n",
      "Epoch: 10, Batch: 200, Loss: 1.1318\n",
      "Epoch: 10, Batch: 300, Loss: 1.3707\n",
      "Epoch: 10, Batch: 400, Loss: 1.1791\n",
      "New best val loss: 1.4480 --> 1.2965\n",
      "New val loss: 1.2965\n",
      "Saving model\n",
      "Save completed\n",
      "Resetting Early Stop counter\n",
      "Epoch 10 Training Loss 1.2566, Training Acc: 0.7695, Val Loss: 1.2965, Val Acc: 0.7861\n",
      "Time taken for 1 epoch 212.6540 sec\n",
      "\n",
      "Epoch: 11, Batch: 0, Loss: 1.1995\n",
      "Epoch: 11, Batch: 100, Loss: 0.8606\n",
      "Epoch: 11, Batch: 200, Loss: 1.1714\n",
      "Epoch: 11, Batch: 300, Loss: 1.0095\n",
      "Epoch: 11, Batch: 400, Loss: 0.9966\n",
      "New best val loss: 1.2965 --> 1.2407\n",
      "New val loss: 1.2407\n",
      "Saving model\n",
      "Save completed\n",
      "Resetting Early Stop counter\n",
      "Epoch 11 Training Loss 1.0183, Training Acc: 0.8084, Val Loss: 1.2407, Val Acc: 0.7974\n",
      "Time taken for 1 epoch 212.2093 sec\n",
      "\n",
      "Epoch: 12, Batch: 0, Loss: 0.6399\n",
      "Epoch: 12, Batch: 100, Loss: 0.8255\n",
      "Epoch: 12, Batch: 200, Loss: 0.7368\n",
      "Epoch: 12, Batch: 300, Loss: 0.8873\n",
      "Epoch: 12, Batch: 400, Loss: 0.6095\n",
      "New best val loss: 1.2407 --> 1.0984\n",
      "New val loss: 1.0984\n",
      "Saving model\n",
      "Save completed\n",
      "Resetting Early Stop counter\n",
      "Epoch 12 Training Loss 0.8418, Training Acc: 0.8290, Val Loss: 1.0984, Val Acc: 0.8183\n",
      "Time taken for 1 epoch 212.8667 sec\n",
      "\n",
      "Epoch: 13, Batch: 0, Loss: 0.8281\n",
      "Epoch: 13, Batch: 100, Loss: 0.7858\n",
      "Epoch: 13, Batch: 200, Loss: 0.9099\n",
      "Epoch: 13, Batch: 300, Loss: 0.9641\n",
      "Epoch: 13, Batch: 400, Loss: 1.0105\n",
      "New best val loss: 1.0984 --> 0.9936\n",
      "New val loss: 0.9936\n",
      "Saving model\n",
      "Save completed\n",
      "Resetting Early Stop counter\n",
      "Epoch 13 Training Loss 0.9086, Training Acc: 0.8291, Val Loss: 0.9936, Val Acc: 0.8285\n",
      "Time taken for 1 epoch 212.6571 sec\n",
      "\n",
      "Epoch: 14, Batch: 0, Loss: 0.5455\n",
      "Epoch: 14, Batch: 100, Loss: 0.6095\n",
      "Epoch: 14, Batch: 200, Loss: 0.6205\n",
      "Epoch: 14, Batch: 300, Loss: 0.7825\n",
      "Epoch: 14, Batch: 400, Loss: 0.6228\n",
      "New best val loss: 0.9936 --> 0.9223\n",
      "New val loss: 0.9223\n",
      "Saving model\n",
      "Save completed\n",
      "Resetting Early Stop counter\n",
      "Epoch 14 Training Loss 0.6200, Training Acc: 0.8591, Val Loss: 0.9223, Val Acc: 0.8472\n",
      "Time taken for 1 epoch 213.2525 sec\n",
      "\n",
      "Epoch: 15, Batch: 0, Loss: 0.5924\n",
      "Epoch: 15, Batch: 100, Loss: 0.4424\n",
      "Epoch: 15, Batch: 200, Loss: 0.4520\n",
      "Epoch: 15, Batch: 300, Loss: 0.4253\n",
      "Epoch: 15, Batch: 400, Loss: 0.4878\n",
      "Increasing Early Stop count to: 1\n",
      "Epoch 15 Training Loss 0.5104, Training Acc: 0.8777, Val Loss: 1.0564, Val Acc: 0.8360\n",
      "Time taken for 1 epoch 209.8604 sec\n",
      "\n",
      "Epoch: 16, Batch: 0, Loss: 0.6064\n",
      "Epoch: 16, Batch: 100, Loss: 0.4526\n",
      "Epoch: 16, Batch: 200, Loss: 0.5674\n",
      "Epoch: 16, Batch: 300, Loss: 0.7964\n",
      "Epoch: 16, Batch: 400, Loss: 0.9087\n",
      "New best val loss: 0.9223 --> 0.9061\n",
      "New val loss: 0.9061\n",
      "Saving model\n",
      "Save completed\n",
      "Resetting Early Stop counter\n",
      "Epoch 16 Training Loss 0.7306, Training Acc: 0.8632, Val Loss: 0.9061, Val Acc: 0.8463\n",
      "Time taken for 1 epoch 213.0401 sec\n",
      "\n",
      "Epoch: 17, Batch: 0, Loss: 0.6254\n",
      "Epoch: 17, Batch: 100, Loss: 0.4273\n",
      "Epoch: 17, Batch: 200, Loss: 0.4773\n",
      "Epoch: 17, Batch: 300, Loss: 0.4898\n",
      "Epoch: 17, Batch: 400, Loss: 1.2825\n",
      "Increasing Early Stop count to: 1\n",
      "Epoch 17 Training Loss 0.7533, Training Acc: 0.8738, Val Loss: 1.0696, Val Acc: 0.8246\n",
      "Time taken for 1 epoch 209.8097 sec\n",
      "\n",
      "Epoch: 18, Batch: 0, Loss: 0.5755\n",
      "Epoch: 18, Batch: 100, Loss: 0.5063\n",
      "Epoch: 18, Batch: 200, Loss: 0.6197\n",
      "Epoch: 18, Batch: 300, Loss: 0.6199\n",
      "Epoch: 18, Batch: 400, Loss: 0.8721\n",
      "New best val loss: 0.9061 --> 0.9019\n",
      "New val loss: 0.9019\n",
      "Saving model\n",
      "Save completed\n",
      "Resetting Early Stop counter\n",
      "Epoch 18 Training Loss 0.6301, Training Acc: 0.8662, Val Loss: 0.9019, Val Acc: 0.8451\n",
      "Time taken for 1 epoch 213.0647 sec\n",
      "\n",
      "Epoch: 19, Batch: 0, Loss: 0.4758\n",
      "Epoch: 19, Batch: 100, Loss: 0.3913\n",
      "Epoch: 19, Batch: 200, Loss: 0.4695\n",
      "Epoch: 19, Batch: 300, Loss: 0.3414\n",
      "Epoch: 19, Batch: 400, Loss: 0.4428\n",
      "New best val loss: 0.9019 --> 0.8148\n",
      "New val loss: 0.8148\n",
      "Saving model\n",
      "Save completed\n",
      "Resetting Early Stop counter\n",
      "Epoch 19 Training Loss 0.4521, Training Acc: 0.8856, Val Loss: 0.8148, Val Acc: 0.8670\n",
      "Time taken for 1 epoch 213.3104 sec\n",
      "\n",
      "Epoch: 20, Batch: 0, Loss: 0.3127\n",
      "Epoch: 20, Batch: 100, Loss: 0.2952\n",
      "Epoch: 20, Batch: 200, Loss: 0.3092\n",
      "Epoch: 20, Batch: 300, Loss: 0.4143\n",
      "Epoch: 20, Batch: 400, Loss: 0.2831\n",
      "Increasing Early Stop count to: 1\n",
      "Epoch 20 Training Loss 0.6090, Training Acc: 0.8995, Val Loss: 1.6896, Val Acc: 0.7410\n",
      "Time taken for 1 epoch 209.9632 sec\n",
      "\n",
      "Epoch: 21, Batch: 0, Loss: 1.2095\n",
      "Epoch: 21, Batch: 100, Loss: 0.5103\n",
      "Epoch: 21, Batch: 200, Loss: 0.4858\n",
      "Epoch: 21, Batch: 300, Loss: 0.4426\n",
      "Epoch: 21, Batch: 400, Loss: 2.1355\n",
      "Increasing Early Stop count to: 2\n",
      "Epoch 21 Training Loss 0.6902, Training Acc: 0.8490, Val Loss: 0.9583, Val Acc: 0.8408\n",
      "Time taken for 1 epoch 209.6714 sec\n",
      "\n"
     ]
    },
    {
     "name": "stdout",
     "output_type": "stream",
     "text": [
      "Epoch: 22, Batch: 0, Loss: 0.5423\n",
      "Epoch: 22, Batch: 100, Loss: 0.3650\n",
      "Epoch: 22, Batch: 200, Loss: 0.3813\n",
      "Epoch: 22, Batch: 300, Loss: 0.2442\n",
      "Epoch: 22, Batch: 400, Loss: 0.3956\n",
      "New best val loss: 0.8148 --> 0.7615\n",
      "New val loss: 0.7615\n",
      "Saving model\n",
      "Save completed\n",
      "Resetting Early Stop counter\n",
      "Epoch 22 Training Loss 0.3515, Training Acc: 0.8967, Val Loss: 0.7615, Val Acc: 0.8723\n",
      "Time taken for 1 epoch 212.9854 sec\n",
      "\n",
      "Epoch: 23, Batch: 0, Loss: 0.2132\n",
      "Epoch: 23, Batch: 100, Loss: 0.3979\n",
      "Epoch: 23, Batch: 200, Loss: 0.4769\n",
      "Epoch: 23, Batch: 300, Loss: 0.2365\n",
      "Epoch: 23, Batch: 400, Loss: 0.4329\n",
      "Increasing Early Stop count to: 1\n",
      "Epoch 23 Training Loss 0.3359, Training Acc: 0.9077, Val Loss: 0.8332, Val Acc: 0.8663\n",
      "Time taken for 1 epoch 209.6857 sec\n",
      "\n",
      "Epoch: 24, Batch: 0, Loss: 0.3675\n",
      "Epoch: 24, Batch: 100, Loss: 0.2251\n",
      "Epoch: 24, Batch: 200, Loss: 0.4171\n",
      "Epoch: 24, Batch: 300, Loss: 0.5873\n",
      "Epoch: 24, Batch: 400, Loss: 0.3128\n",
      "Increasing Early Stop count to: 2\n",
      "Epoch 24 Training Loss 0.3258, Training Acc: 0.9108, Val Loss: 0.7738, Val Acc: 0.8698\n",
      "Time taken for 1 epoch 209.4987 sec\n",
      "\n",
      "Epoch: 25, Batch: 0, Loss: 0.2049\n",
      "Epoch: 25, Batch: 100, Loss: 0.2332\n",
      "Epoch: 25, Batch: 200, Loss: 0.2779\n",
      "Epoch: 25, Batch: 300, Loss: 0.2264\n",
      "Epoch: 25, Batch: 400, Loss: 0.2125\n",
      "New best val loss: 0.7615 --> 0.7084\n",
      "New val loss: 0.7084\n",
      "Saving model\n",
      "Save completed\n",
      "Resetting Early Stop counter\n",
      "Epoch 25 Training Loss 0.2253, Training Acc: 0.9228, Val Loss: 0.7084, Val Acc: 0.8795\n",
      "Time taken for 1 epoch 212.9712 sec\n",
      "\n",
      "Epoch: 26, Batch: 0, Loss: 0.1878\n",
      "Epoch: 26, Batch: 100, Loss: 0.1625\n",
      "Epoch: 26, Batch: 200, Loss: 0.1818\n",
      "Epoch: 26, Batch: 300, Loss: 0.2222\n",
      "Epoch: 26, Batch: 400, Loss: 0.1700\n",
      "Increasing Early Stop count to: 1\n",
      "Epoch 26 Training Loss 0.1885, Training Acc: 0.9317, Val Loss: 1.0334, Val Acc: 0.8517\n",
      "Time taken for 1 epoch 210.8286 sec\n",
      "\n",
      "Epoch: 27, Batch: 0, Loss: 0.3064\n",
      "Epoch: 27, Batch: 100, Loss: 0.6919\n",
      "Epoch: 27, Batch: 200, Loss: 0.5472\n",
      "Epoch: 27, Batch: 300, Loss: 0.2647\n",
      "Epoch: 27, Batch: 400, Loss: 0.3858\n",
      "Increasing Early Stop count to: 2\n",
      "Epoch 27 Training Loss 0.5870, Training Acc: 0.8386, Val Loss: 0.7879, Val Acc: 0.8704\n",
      "Time taken for 1 epoch 210.5240 sec\n",
      "\n",
      "Epoch: 28, Batch: 0, Loss: 0.2313\n",
      "Epoch: 28, Batch: 100, Loss: 0.2077\n",
      "Epoch: 28, Batch: 200, Loss: 0.2168\n",
      "Epoch: 28, Batch: 300, Loss: 0.1884\n",
      "Epoch: 28, Batch: 400, Loss: 0.3308\n",
      "Increasing Early Stop count to: 3\n",
      "Epoch 28 Training Loss 0.4761, Training Acc: 0.9213, Val Loss: 2.5757, Val Acc: 0.6219\n",
      "Time taken for 1 epoch 210.4948 sec\n",
      "\n",
      "Epoch: 29, Batch: 0, Loss: 1.8613\n",
      "Epoch: 29, Batch: 100, Loss: 0.4127\n",
      "Epoch: 29, Batch: 200, Loss: 2.3642\n",
      "Epoch: 29, Batch: 300, Loss: 2.6427\n",
      "Epoch: 29, Batch: 400, Loss: 2.0052\n",
      "Increasing Early Stop count to: 4\n",
      "Epoch 29 Training Loss 2.0966, Training Acc: 0.6799, Val Loss: 1.4750, Val Acc: 0.7644\n",
      "Time taken for 1 epoch 209.9970 sec\n",
      "\n",
      "Epoch: 30, Batch: 0, Loss: 0.9598\n",
      "Epoch: 30, Batch: 100, Loss: 0.6751\n",
      "Epoch: 30, Batch: 200, Loss: 0.6245\n",
      "Epoch: 30, Batch: 300, Loss: 0.4167\n",
      "Epoch: 30, Batch: 400, Loss: 0.5041\n",
      "Increasing Early Stop count to: 5\n",
      "Loss has not improved for 5 epochs, Early Stoppping\n"
     ]
    }
   ],
   "source": [
    "epochs = 50\n",
    "train_steps_per_epoch = len(train_inp_data)//batch_sz\n",
    "val_steps_per_epoch = len(val_inp_data)//batch_sz\n",
    "best_val_loss = np.inf\n",
    "# best_val_loss = 1.1072\n",
    "train_epoch_losses = []\n",
    "train_epoch_accs = []\n",
    "val_epoch_losses = []\n",
    "val_epoch_accs = []\n",
    "early_stop = 0\n",
    "\n",
    "for epoch in range(epochs):\n",
    "  start = time.time()\n",
    "\n",
    "  enc_hidden = encoder.initialize_hidden_state()\n",
    "  enc_cell = encoder.initialize_cell_state()\n",
    "  train_total_loss = 0.0\n",
    "  train_total_acc = 0.0\n",
    "  val_total_loss = 0.0\n",
    "  val_total_acc = 0.0\n",
    "    \n",
    "  # Training\n",
    "  for (batch, (inp, targ)) in enumerate(train_dataset.take(train_steps_per_epoch)):\n",
    "    train_batch_loss, train_batch_acc = train_step(inp, targ, enc_hidden, enc_cell)\n",
    "    train_total_loss += np.average(train_batch_loss)\n",
    "    train_total_acc += train_batch_acc\n",
    "        \n",
    "    if batch % 100 == 0:\n",
    "      print('Epoch: {}, Batch: {}, Loss: {:.4f}'.format(epoch+1, batch, np.average(train_batch_loss)))\n",
    "      \n",
    "  # Training\n",
    "  train_epoch_loss = train_total_loss/train_steps_per_epoch \n",
    "  train_epoch_losses.append(train_epoch_loss)\n",
    "  \n",
    "  train_epoch_acc = train_total_acc/train_steps_per_epoch\n",
    "  train_epoch_accs.append(train_epoch_acc)    \n",
    "      \n",
    "  # Validation\n",
    "  for (_, (inp, targ)) in enumerate(val_dataset.take(val_steps_per_epoch)):\n",
    "    val_batch_loss, val_batch_acc = test_step(inp, targ, enc_hidden, enc_cell)\n",
    "    val_total_loss += np.average(val_batch_loss)\n",
    "    val_total_acc += val_batch_acc\n",
    "  \n",
    "  # Validation\n",
    "  val_epoch_loss = val_total_loss/val_steps_per_epoch    \n",
    "  val_epoch_losses.append(val_epoch_loss)\n",
    "\n",
    "  val_epoch_acc = val_total_acc/val_steps_per_epoch\n",
    "  val_epoch_accs.append(val_epoch_acc)\n",
    "    \n",
    "  if val_epoch_loss <= best_val_loss:\n",
    "    print('New best val loss: {:.4f} --> {:.4f}'.format(best_val_loss, val_epoch_loss))\n",
    "    best_val_loss = val_epoch_loss\n",
    "    print('New val loss: {:.4f}'.format(best_val_loss))\n",
    "    print('Saving model')\n",
    "    manager.save()\n",
    "    print('Save completed')\n",
    "    print('Resetting Early Stop counter')\n",
    "    early_stop = 0\n",
    "  else:\n",
    "    early_stop += 1\n",
    "    print('Increasing Early Stop count to: {}'.format(early_stop))\n",
    "    if early_stop == 5:\n",
    "      print('Loss has not improved for {} epochs, Early Stoppping'.format(early_stop))\n",
    "      break\n",
    "      \n",
    "  train_template = 'Epoch {} Training Loss {:.4f}, Training Acc: {:.4f}, Val Loss: {:.4f}, Val Acc: {:.4f}'\n",
    "  print(train_template.format(epoch + 1, train_epoch_loss, train_epoch_acc, val_epoch_loss, val_epoch_acc))\n",
    "  print('Time taken for 1 epoch {:.4f} sec\\n'.format(time.time() - start))\n",
    "\n",
    "  train_accuracy.reset_states()\n",
    "  val_accuracy.reset_states()"
   ]
  },
  {
   "cell_type": "markdown",
   "metadata": {
    "colab_type": "text",
    "id": "UkTFC2tUIgXo"
   },
   "source": [
    "### Plot loss and accuracy graphs"
   ]
  },
  {
   "cell_type": "code",
   "execution_count": 37,
   "metadata": {
    "ExecuteTime": {
     "end_time": "2019-10-06T23:11:49.045734Z",
     "start_time": "2019-10-06T23:11:48.947711Z"
    },
    "colab": {},
    "colab_type": "code",
    "id": "9_AJjRbLE1dU"
   },
   "outputs": [
    {
     "data": {
      "image/png": "[encoded data removed]",
      "text/plain": [
       "<Figure size 432x288 with 1 Axes>"
      ]
     },
     "metadata": {
      "needs_background": "light"
     },
     "output_type": "display_data"
    }
   ],
   "source": [
    "# Plot training vs val loss\n",
    "epoch_range = [i for i in range(1, len(train_epoch_losses)+1)]\n",
    "plt.plot(epoch_range, train_epoch_losses, 'r--')\n",
    "plt.plot(epoch_range, val_epoch_losses, 'b--')\n",
    "plt.title('Trainin vs Val Loss')\n",
    "plt.legend(['Training Loss', 'Val Loss'])\n",
    "plt.xlabel('Epoch')\n",
    "plt.ylabel('Loss')\n",
    "plt.show()"
   ]
  },
  {
   "cell_type": "code",
   "execution_count": 38,
   "metadata": {
    "ExecuteTime": {
     "end_time": "2019-10-06T23:11:59.631703Z",
     "start_time": "2019-10-06T23:11:59.525679Z"
    },
    "colab": {},
    "colab_type": "code",
    "id": "UMJTUGA7E1dW"
   },
   "outputs": [
    {
     "data": {
      "image/png": "[encoded data removed]",
      "text/plain": [
       "<Figure size 432x288 with 1 Axes>"
      ]
     },
     "metadata": {
      "needs_background": "light"
     },
     "output_type": "display_data"
    }
   ],
   "source": [
    "# Plot training vs val accuracy\n",
    "epoch_range = [i for i in range(1, len(train_epoch_losses)+1)]\n",
    "plt.plot(epoch_range, train_epoch_accs, 'r--')\n",
    "plt.plot(epoch_range, val_epoch_accs, 'b--')\n",
    "plt.title('Trainin vs Val Accuracy')\n",
    "plt.legend(['Training Acc', 'Val Acc'])\n",
    "plt.xlabel('Epoch')\n",
    "plt.ylabel('Loss')\n",
    "plt.show()"
   ]
  },
  {
   "cell_type": "markdown",
   "metadata": {
    "colab_type": "text",
    "id": "ZtBM6T57IqxA"
   },
   "source": [
    "### Evaluate model and test prediction"
   ]
  },
  {
   "cell_type": "code",
   "execution_count": 39,
   "metadata": {
    "ExecuteTime": {
     "end_time": "2019-10-06T23:12:09.418760Z",
     "start_time": "2019-10-06T23:12:08.773615Z"
    },
    "colab": {
     "base_uri": "https://localhost:8080/",
     "height": 34
    },
    "colab_type": "code",
    "executionInfo": {
     "elapsed": 14445,
     "status": "ok",
     "timestamp": 1568940455868,
     "user": {
      "displayName": "Leo Tay",
      "photoUrl": "",
      "userId": "17143338865945125396"
     },
     "user_tz": -480
    },
    "id": "Grzkhh6lPUm1",
    "outputId": "cdcbadea-13a2-474f-dda8-e501b7d99337"
   },
   "outputs": [
    {
     "data": {
      "text/plain": [
       "<tensorflow.python.training.tracking.util.CheckpointLoadStatus at 0x1f27e057b70>"
      ]
     },
     "execution_count": 39,
     "metadata": {},
     "output_type": "execute_result"
    }
   ],
   "source": [
    "# restoring the latest checkpoint in checkpoint_dir\n",
    "checkpoint.restore(manager.latest_checkpoint)"
   ]
  },
  {
   "cell_type": "code",
   "execution_count": 40,
   "metadata": {
    "ExecuteTime": {
     "end_time": "2019-10-06T23:12:24.092077Z",
     "start_time": "2019-10-06T23:12:09.521783Z"
    },
    "colab": {},
    "colab_type": "code",
    "id": "211dBHSOPW4j"
   },
   "outputs": [
    {
     "name": "stdout",
     "output_type": "stream",
     "text": [
      "Testing Loss: 0.6748, Acc: 0.8708\n"
     ]
    }
   ],
   "source": [
    "# Testing\n",
    "test_steps_per_epoch = len(test_inp_data)//batch_sz\n",
    "test_total_loss = 0.0\n",
    "test_total_acc = 0.0\n",
    "test_loss = 0.0\n",
    "test_acc = 0.0\n",
    "enc_hidden = encoder.initialize_hidden_state()\n",
    "enc_cell = encoder.initialize_cell_state()\n",
    "\n",
    "for (_, (inp, targ)) in enumerate(test_dataset.take(test_steps_per_epoch)):\n",
    "  test_batch_loss, test_batch_acc = test_step(inp, targ, enc_hidden, enc_cell)\n",
    "  test_total_loss += np.average(test_batch_loss)\n",
    "  test_total_acc += test_batch_acc\n",
    "\n",
    "# Testing\n",
    "test_loss = test_total_loss/test_steps_per_epoch    \n",
    "# test_epoch_losses.append(test_epoch_loss)\n",
    "\n",
    "test_acc = test_total_acc/test_steps_per_epoch\n",
    "# test_epoch_accs.append(test_epoch_acc)\n",
    "\n",
    "print('Testing Loss: {:.4f}, Acc: {:.4f}'.format(test_loss, test_acc))\n",
    "val_accuracy.reset_states()"
   ]
  },
  {
   "cell_type": "code",
   "execution_count": 47,
   "metadata": {
    "ExecuteTime": {
     "end_time": "2019-10-06T23:21:31.159500Z",
     "start_time": "2019-10-06T23:21:31.155498Z"
    },
    "colab": {},
    "colab_type": "code",
    "id": "W3mPyZAJB4HM"
   },
   "outputs": [
    {
     "name": "stdout",
     "output_type": "stream",
     "text": [
      "Tokenized Data: [  2   9 148 249  21  29   6  57 107  72 390   4   8   9 169 207  44 267\n",
      "   6  18  10 162  18  26 182  45  32 138 148 249  61 109   1   3   0   0\n",
      "   0   0   0   0   0   0   0   0   0   0   0   0   0   0   0   0]\n",
      "\n",
      "\n",
      "Original Data: ['<s>', 'cac', 'san', 'pham', 'nay', 'cung', 'co', 'gia', 'tri', 'thuong', 'mai', ',', 'va', 'cac', 'dieu', 'kien', 'phan', 'ung', 'co', 'the', 'duoc', 'thay', 'the', 'de', 'tao', 'ra', 'so', 'luong', 'san', 'pham', 'nhieu', 'hon', '.', '<e>']\n",
      "Test Sequence: <s> cac san pham nay cung co gia tri thuong mai , va cac dieu kien phan ung co the duoc thay the de tao ra so luong san pham nhieu hon . <e>\n"
     ]
    }
   ],
   "source": [
    "rand = np.random.randint(0, len(test_inp_data)) # Change here\n",
    "test = test_inp_data[rand] # Change here\n",
    "test = convert(input_tokenizer, test, send_back=True)\n",
    "test = ' '.join(test)\n",
    "print('Test Sequence: {}'.format(test))"
   ]
  },
  {
   "cell_type": "code",
   "execution_count": 48,
   "metadata": {
    "ExecuteTime": {
     "end_time": "2019-10-06T23:21:32.069696Z",
     "start_time": "2019-10-06T23:21:31.563591Z"
    },
    "colab": {},
    "colab_type": "code",
    "id": "8w3OzKgvmBfL"
   },
   "outputs": [
    {
     "name": "stdout",
     "output_type": "stream",
     "text": [
      "Tokenized Data: [  2   8 193 292  17  43   9 295 146 360 802   4   7   8 141 555 422 317\n",
      "   9  26  10 280  51  38 143  27  37 124 193 292  41  83   1   3   0   0\n",
      "   0   0   0   0   0   0   0   0   0   0   0   0   0   0   0   0]\n",
      "\n",
      "\n",
      "Original Data: ['<s>', 'các', 'sản', 'phẩm', 'này', 'cũng', 'có', 'giá', 'trị', 'thương', 'mại', ',', 'và', 'các', 'điều', 'kiện', 'phản', 'ứng', 'có', 'thể', 'được', 'thay', 'thế', 'để', 'tạo', 'ra', 'số', 'lượng', 'sản', 'phẩm', 'nhiều', 'hơn', '.', '<e>']\n",
      "Original: <s> các sản phẩm này cũng có giá trị thương mại , và các điều kiện phản ứng có thể được thay thế để tạo ra số lượng sản phẩm nhiều hơn . <e>\n",
      "Input: <s> cac san pham nay cung co gia tri thuong mai , va cac dieu kien phan ung co the duoc thay the de tao ra so luong san pham nhieu hon . <e>\n",
      "Predicted translation: các sản phẩm này cũng có giá trị thường mãi , và các điều kiện phân ứng cổ thế được thay thế để tạo ra số lượng sản phẩm nhiều hơn . <e> \n"
     ]
    },
    {
     "data": {
      "image/png": "[encoded data removed]",
      "text/plain": [
       "<Figure size 720x720 with 1 Axes>"
      ]
     },
     "metadata": {
      "needs_background": "light"
     },
     "output_type": "display_data"
    }
   ],
   "source": [
    "test_tar = convert(target_tokenizer, test_tar_data[rand], send_back=True) # Change here\n",
    "test_tar = ' '.join(test_tar)\n",
    "print('Original: {}'.format(test_tar))\n",
    "restore(test)"
   ]
  },
  {
   "cell_type": "code",
   "execution_count": 44,
   "metadata": {},
   "outputs": [],
   "source": [
    "một số đèo qua núi cao cũng được đưa vào đường đua hầu như mỗi năm . <e>\n",
    "một số đẽo quả núi cao cũng được đưa vào đường đua hầu như mỗi năm . <e> "
   ]
  },
  {
   "cell_type": "code",
   "execution_count": null,
   "metadata": {},
   "outputs": [],
   "source": []
  }
 ],
 "metadata": {
  "accelerator": "GPU",
  "colab": {
   "collapsed_sections": [],
   "machine_shape": "hm",
   "name": "Tensorflow.ipynb",
   "provenance": [],
   "toc_visible": true
  },
  "kernelspec": {
   "display_name": "Python 3",
   "language": "python",
   "name": "python3"
  },
  "language_info": {
   "codemirror_mode": {
    "name": "ipython",
    "version": 3
   },
   "file_extension": ".py",
   "mimetype": "text/x-python",
   "name": "python",
   "nbconvert_exporter": "python",
   "pygments_lexer": "ipython3",
   "version": "3.7.3"
  },
  "toc": {
   "base_numbering": 1,
   "nav_menu": {},
   "number_sections": true,
   "sideBar": true,
   "skip_h1_title": false,
   "title_cell": "Table of Contents",
   "title_sidebar": "Contents",
   "toc_cell": true,
   "toc_position": {},
   "toc_section_display": true,
   "toc_window_display": false
  }
 },
 "nbformat": 4,
 "nbformat_minor": 1
}
