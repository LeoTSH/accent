{
 "cells": [
  {
   "cell_type": "markdown",
   "metadata": {
    "colab_type": "text",
    "id": "L-4QJfKPmBeH",
    "toc": true
   },
   "source": [
    "<h1>Table of Contents<span class=\"tocSkip\"></span></h1>\n",
    "<div class=\"toc\"><ul class=\"toc-item\"><li><span><a href=\"#Import-packages\" data-toc-modified-id=\"Import-packages-1\"><span class=\"toc-item-num\">1&nbsp;&nbsp;</span>Import packages</a></span></li><li><span><a href=\"#Custom-functions\" data-toc-modified-id=\"Custom-functions-2\"><span class=\"toc-item-num\">2&nbsp;&nbsp;</span>Custom functions</a></span></li><li><span><a href=\"#Environment-variables\" data-toc-modified-id=\"Environment-variables-3\"><span class=\"toc-item-num\">3&nbsp;&nbsp;</span>Environment variables</a></span></li><li><span><a href=\"#Load-and-process-dataset\" data-toc-modified-id=\"Load-and-process-dataset-4\"><span class=\"toc-item-num\">4&nbsp;&nbsp;</span>Load and process dataset</a></span></li><li><span><a href=\"#Define-model-and-model-parameters\" data-toc-modified-id=\"Define-model-and-model-parameters-5\"><span class=\"toc-item-num\">5&nbsp;&nbsp;</span>Define model and model parameters</a></span></li><li><span><a href=\"#Define-loss-and-accuracy-metrics\" data-toc-modified-id=\"Define-loss-and-accuracy-metrics-6\"><span class=\"toc-item-num\">6&nbsp;&nbsp;</span>Define loss and accuracy metrics</a></span></li><li><span><a href=\"#Define-checkpoint-options\" data-toc-modified-id=\"Define-checkpoint-options-7\"><span class=\"toc-item-num\">7&nbsp;&nbsp;</span>Define checkpoint options</a></span></li><li><span><a href=\"#Training-function-and-loop\" data-toc-modified-id=\"Training-function-and-loop-8\"><span class=\"toc-item-num\">8&nbsp;&nbsp;</span>Training function and loop</a></span></li><li><span><a href=\"#Plot-loss-and-accuracy-graphs\" data-toc-modified-id=\"Plot-loss-and-accuracy-graphs-9\"><span class=\"toc-item-num\">9&nbsp;&nbsp;</span>Plot loss and accuracy graphs</a></span></li><li><span><a href=\"#Evaluate-model-and-test-prediction\" data-toc-modified-id=\"Evaluate-model-and-test-prediction-10\"><span class=\"toc-item-num\">10&nbsp;&nbsp;</span>Evaluate model and test prediction</a></span></li></ul></div>"
   ]
  },
  {
   "cell_type": "code",
   "execution_count": 1,
   "metadata": {
    "ExecuteTime": {
     "end_time": "2019-10-11T01:40:33.757415Z",
     "start_time": "2019-10-11T01:40:33.755415Z"
    },
    "colab": {
     "base_uri": "https://localhost:8080/",
     "height": 122
    },
    "colab_type": "code",
    "executionInfo": {
     "elapsed": 21904,
     "status": "ok",
     "timestamp": 1568940417101,
     "user": {
      "displayName": "Leo Tay",
      "photoUrl": "",
      "userId": "17143338865945125396"
     },
     "user_tz": -480
    },
    "id": "n0skNmermLnH",
    "outputId": "4121485e-26a2-4855-f8c5-4049af014fc2"
   },
   "outputs": [],
   "source": [
    "# from google.colab import drive\n",
    "# drive.mount('/content/drive')"
   ]
  },
  {
   "cell_type": "code",
   "execution_count": 2,
   "metadata": {
    "ExecuteTime": {
     "end_time": "2019-10-11T01:40:33.761417Z",
     "start_time": "2019-10-11T01:40:33.758408Z"
    },
    "colab": {
     "base_uri": "https://localhost:8080/",
     "height": 34
    },
    "colab_type": "code",
    "executionInfo": {
     "elapsed": 644,
     "status": "ok",
     "timestamp": 1568940420919,
     "user": {
      "displayName": "Leo Tay",
      "photoUrl": "",
      "userId": "17143338865945125396"
     },
     "user_tz": -480
    },
    "id": "VAK6-JRSmR9O",
    "outputId": "cc3479a7-e713-4309-de9a-6574050cd0c7"
   },
   "outputs": [],
   "source": [
    "# %cd /content/drive/My Drive/Colab Notebooks/accent/src"
   ]
  },
  {
   "cell_type": "markdown",
   "metadata": {
    "colab_type": "text",
    "id": "KMzR_jdNF33o"
   },
   "source": [
    "### Import packages"
   ]
  },
  {
   "cell_type": "code",
   "execution_count": 3,
   "metadata": {
    "ExecuteTime": {
     "end_time": "2019-10-11T01:40:35.667955Z",
     "start_time": "2019-10-11T01:40:33.762408Z"
    },
    "colab": {
     "base_uri": "https://localhost:8080/",
     "height": 34
    },
    "colab_type": "code",
    "executionInfo": {
     "elapsed": 7007,
     "status": "ok",
     "timestamp": 1568940428707,
     "user": {
      "displayName": "Leo Tay",
      "photoUrl": "",
      "userId": "17143338865945125396"
     },
     "user_tz": -480
    },
    "id": "IdpwZH_SmBeI",
    "outputId": "b25a4f8c-131d-4d98-ad71-8629d6b5d155"
   },
   "outputs": [],
   "source": [
    "import re, zipfile, os, io, time, string, numpy as np, matplotlib.ticker as ticker, \\\n",
    "            matplotlib.pyplot as plt\n",
    "import tensorflow as tf\n",
    "from token_list import strip_tokens\n",
    "from tensorflow.keras.preprocessing.text import Tokenizer\n",
    "from tensorflow.keras.preprocessing.sequence import pad_sequences"
   ]
  },
  {
   "cell_type": "code",
   "execution_count": 4,
   "metadata": {
    "ExecuteTime": {
     "end_time": "2019-10-11T01:40:35.671956Z",
     "start_time": "2019-10-11T01:40:35.668955Z"
    },
    "colab": {},
    "colab_type": "code",
    "id": "yrpwYNUCE1cW"
   },
   "outputs": [],
   "source": [
    "# x = ['Khoan no cua KH se den han vao 01/08/2019. So tien  2.999.898 VND, TK 12345678912. Thong tin chi tiet, lien he 1900636633. Cam on',\n",
    "# 'Khoan no cua KH se den han trong 2 ngay toi. So tien  2.999.898 VND, TK 12345678912. Bo qua neu da TT. Thong tin chi tiet, lien he 1900636633. Cam on',\n",
    "# 'Khoan no cua KH da qua han 1 ngay. TK 12345678912, so tien2.999.898 VND. Bo qua neu da TT. Thong tin chi tiet, lien he 18006288',\n",
    "# 'Khoan no cua KH da qua han 6 ngay va bi tinh phat 250,000. TK 12345678912, so tien 2.999.898VND. Vui long TT. Thong tin chi tiet, lien he 18006288',\n",
    "# 'KH da qua han 5 ky no. TK 12345678912, so tien 12.999.898VND. Vui long TT ngay lap tuc. Thong tin chi tiet, lien he 18006288',\n",
    "# 'Khoan no cua KH da bi tinh phat do lien tuc vi pham. TK12345678912, so tien 12.999.898VND. Vui long TT. Thong tin chi tiet, lien he 18006288',\n",
    "# 'Khoan no cua KH da qua han 91 ngay. Vui long TT toan bo29.999.898VND vao TK 12345678912 hom nay. Thong tin chi tiet, lien he 18006288',\n",
    "# 'Chung toi vua nhan thanh toan khoan vay cua KH tu TK12345678912. TUY NHIEN, KH van con thieu 29.999.898VND. Vui long TT toan ngay lap tuc. Cam on']"
   ]
  },
  {
   "cell_type": "markdown",
   "metadata": {
    "colab_type": "text",
    "id": "fweq4U5_G4Sb"
   },
   "source": [
    "### Custom functions"
   ]
  },
  {
   "cell_type": "code",
   "execution_count": 5,
   "metadata": {
    "ExecuteTime": {
     "end_time": "2019-10-11T01:40:35.678290Z",
     "start_time": "2019-10-11T01:40:35.672948Z"
    },
    "colab": {},
    "colab_type": "code",
    "id": "t3Yl7IcWmBeL"
   },
   "outputs": [],
   "source": [
    "def process_raw(raw_data):\n",
    "    raw_data = [seq.lower().strip() for seq in raw_data]\n",
    "\n",
    "    # Creating a space between a word and the punctuation following it\n",
    "    # Eg: \"he is a boy.\" => \"he is a boy .\"\n",
    "    raw_data = [re.sub(r\"([?.!,¿])\", r\" \\1 \", seq) for seq in raw_data]\n",
    "    raw_data = [re.sub(r'[\" \"]+', \" \", seq) for seq in raw_data]\n",
    "\n",
    "    # Replacing everything with space except (characters, \".\", \"?\", \"!\", \",\")\n",
    "    filtered_punctuations = string.punctuation\n",
    "    exclude = [',', '!', '.', '?']\n",
    "\n",
    "    for c in filtered_punctuations:\n",
    "        if c in exclude:\n",
    "            filtered_punctuations = filtered_punctuations.replace(c, '')\n",
    "\n",
    "    table = str.maketrans('', '', filtered_punctuations)\n",
    "    raw_data = [seq.translate(table) for seq in raw_data]\n",
    "    \n",
    "    # Append start and end tokens to sequences\n",
    "    processed_raw = []\n",
    "    for seq in raw_data:\n",
    "        words = seq.split()\n",
    "        words = [word.strip() for word in words]\n",
    "        processed_raw.append(' '.join(words))\n",
    "\n",
    "    # processed_raw = ['<s> ' + seq + ' <e>' for seq in processed_raw]\n",
    "    processed_raw = ['<s> ' + seq + ' <e>' for seq in processed_raw]\n",
    "\n",
    "    return processed_raw"
   ]
  },
  {
   "cell_type": "code",
   "execution_count": 6,
   "metadata": {
    "ExecuteTime": {
     "end_time": "2019-10-11T01:40:35.682282Z",
     "start_time": "2019-10-11T01:40:35.679282Z"
    },
    "colab": {},
    "colab_type": "code",
    "id": "tTLjwvPomBeN"
   },
   "outputs": [],
   "source": [
    "def generate_input(processed_raw):\n",
    "    output = ''\n",
    "    for char in processed_raw:\n",
    "        if char in strip_tokens:\n",
    "            output += strip_tokens[char]\n",
    "        else:\n",
    "            output += char          \n",
    "    return output"
   ]
  },
  {
   "cell_type": "code",
   "execution_count": 7,
   "metadata": {
    "ExecuteTime": {
     "end_time": "2019-10-11T01:40:35.685283Z",
     "start_time": "2019-10-11T01:40:35.683283Z"
    },
    "colab": {},
    "colab_type": "code",
    "id": "IJz8C1jjmBeP"
   },
   "outputs": [],
   "source": [
    "def get_max_len(input_data, get_index=False): \n",
    "    longest = [len(data.split()) for data in input_data]\n",
    "    if get_index:\n",
    "        print(longest.index(max(longest)))\n",
    "    return max(longest)"
   ]
  },
  {
   "cell_type": "code",
   "execution_count": 8,
   "metadata": {
    "ExecuteTime": {
     "end_time": "2019-10-11T01:40:35.690283Z",
     "start_time": "2019-10-11T01:40:35.686283Z"
    },
    "colab": {},
    "colab_type": "code",
    "id": "e9ar4oQxmBeQ"
   },
   "outputs": [],
   "source": [
    "def tokenize_pad_data(data, pad_len=None):\n",
    "    tk = Tokenizer(char_level=False, filters='')\n",
    "    tk.fit_on_texts(data)\n",
    "    data = tk.texts_to_sequences(data)\n",
    "    data = pad_sequences(data, padding='post', maxlen=pad_len)\n",
    "    return data, tk"
   ]
  },
  {
   "cell_type": "code",
   "execution_count": 9,
   "metadata": {
    "ExecuteTime": {
     "end_time": "2019-10-11T01:40:35.694285Z",
     "start_time": "2019-10-11T01:40:35.691284Z"
    },
    "colab": {},
    "colab_type": "code",
    "id": "SmsFiMrtmBeS"
   },
   "outputs": [],
   "source": [
    "def process_data(processed_input, processed_target, pad_len=None):    \n",
    "    tokenized_input, input_tokenizer = tokenize_pad_data(data=processed_input, pad_len=pad_len)\n",
    "    tokenized_target, target_tokenizer = tokenize_pad_data(data=processed_target, pad_len=pad_len)\n",
    "    return tokenized_input, input_tokenizer, tokenized_target, target_tokenizer"
   ]
  },
  {
   "cell_type": "code",
   "execution_count": 10,
   "metadata": {
    "ExecuteTime": {
     "end_time": "2019-10-11T01:40:35.698287Z",
     "start_time": "2019-10-11T01:40:35.695285Z"
    },
    "colab": {},
    "colab_type": "code",
    "id": "6Fw9xOpCmBeT"
   },
   "outputs": [],
   "source": [
    "def convert(tokenizer, tokenized_data, send_back=False):\n",
    "    original = []\n",
    "    \n",
    "    print('Tokenized Data: {}'.format(tokenized_data))\n",
    "    print('\\n')\n",
    "    \n",
    "    for token in tokenized_data:\n",
    "        if token != 0:\n",
    "            if token in tokenizer.index_word:\n",
    "                original.append(tokenizer.index_word[token])\n",
    "            else:\n",
    "                original.append('<unk>')\n",
    "                    \n",
    "    print('Original Data: {}'.format(original))\n",
    "    \n",
    "    if send_back:\n",
    "        return original"
   ]
  },
  {
   "cell_type": "code",
   "execution_count": 11,
   "metadata": {
    "ExecuteTime": {
     "end_time": "2019-10-11T01:40:35.704287Z",
     "start_time": "2019-10-11T01:40:35.699286Z"
    },
    "colab": {},
    "colab_type": "code",
    "id": "7E-v-DpnNzoU"
   },
   "outputs": [],
   "source": [
    "def evaluate(sentence):\n",
    "    attention_plot = np.zeros((max_process_seq, max_process_seq))\n",
    "\n",
    "#     sentence = preprocess_sentence(sentence)\n",
    "\n",
    "    inputs = [input_tokenizer.word_index[i] for i in sentence.split(' ')]\n",
    "    inputs = tf.keras.preprocessing.sequence.pad_sequences([inputs], maxlen=max_process_seq, padding='post')\n",
    "    inputs = tf.convert_to_tensor(inputs)\n",
    "\n",
    "    result = ''\n",
    "\n",
    "    hidden = tf.zeros((1, units))\n",
    "    cell = tf.zeros((1, units))\n",
    "    enc_out, enc_hidden = encoder(inputs, hidden, cell)\n",
    "\n",
    "    dec_hidden = enc_hidden\n",
    "    dec_input = tf.expand_dims([target_tokenizer.word_index['<s>']], 0)\n",
    "\n",
    "    for t in range(max_process_seq):\n",
    "        predictions, dec_hidden, attention_weights = decoder(dec_input, dec_hidden, enc_out)\n",
    "\n",
    "        # storing the attention weights to plot later on\n",
    "        attention_weights = tf.reshape(attention_weights, (-1, ))\n",
    "        attention_plot[t] = attention_weights.numpy()\n",
    "\n",
    "        predicted_id = tf.argmax(predictions[0]).numpy()\n",
    "\n",
    "        result += target_tokenizer.index_word[predicted_id] + ' '\n",
    "\n",
    "        if target_tokenizer.index_word[predicted_id] == '<e>':\n",
    "            return result, sentence, attention_plot\n",
    "\n",
    "        # the predicted ID is fed back into the model\n",
    "        dec_input = tf.expand_dims([predicted_id], 0)\n",
    "      \n",
    "    return result, sentence, attention_plot"
   ]
  },
  {
   "cell_type": "code",
   "execution_count": 12,
   "metadata": {
    "ExecuteTime": {
     "end_time": "2019-10-11T01:40:35.710288Z",
     "start_time": "2019-10-11T01:40:35.705287Z"
    },
    "colab": {},
    "colab_type": "code",
    "id": "gSd7jEtUNzvo"
   },
   "outputs": [],
   "source": [
    "# function for plotting the attention weights\n",
    "def plot_attention(attention, sentence, predicted_sentence):\n",
    "    fig = plt.figure(figsize=(10,10))\n",
    "    ax = fig.add_subplot(1, 1, 1)\n",
    "    ax.matshow(attention, cmap='viridis')\n",
    "\n",
    "    fontdict = {'fontsize': 14}\n",
    "\n",
    "    ax.set_xticklabels([''] + sentence, fontdict=fontdict, rotation=90)\n",
    "    ax.set_yticklabels([''] + predicted_sentence, fontdict=fontdict)\n",
    "\n",
    "    ax.xaxis.set_major_locator(ticker.MultipleLocator(1))\n",
    "    ax.yaxis.set_major_locator(ticker.MultipleLocator(1))\n",
    "\n",
    "    plt.show()"
   ]
  },
  {
   "cell_type": "code",
   "execution_count": 13,
   "metadata": {
    "ExecuteTime": {
     "end_time": "2019-10-11T01:40:35.714289Z",
     "start_time": "2019-10-11T01:40:35.711289Z"
    },
    "colab": {},
    "colab_type": "code",
    "id": "CnhFxU4ANzz_"
   },
   "outputs": [],
   "source": [
    "def restore(sentence):\n",
    "    result, sentence, attention_plot = evaluate(sentence)\n",
    "\n",
    "    print('Input: {}'.format(sentence))\n",
    "    print('Predicted translation: {}'.format(result))\n",
    "\n",
    "    attention_plot = attention_plot[:len(result.split(' ')), :len(sentence.split(' '))]\n",
    "    plot_attention(attention_plot, sentence.split(' '), result.split(' '))"
   ]
  },
  {
   "cell_type": "markdown",
   "metadata": {
    "colab_type": "text",
    "id": "iTO5vpqCHFow"
   },
   "source": [
    "### Environment variables"
   ]
  },
  {
   "cell_type": "code",
   "execution_count": 14,
   "metadata": {
    "ExecuteTime": {
     "end_time": "2019-10-11T01:40:35.718291Z",
     "start_time": "2019-10-11T01:40:35.715290Z"
    },
    "colab": {
     "base_uri": "https://localhost:8080/",
     "height": 34
    },
    "colab_type": "code",
    "executionInfo": {
     "elapsed": 5142,
     "status": "ok",
     "timestamp": 1568940428712,
     "user": {
      "displayName": "Leo Tay",
      "photoUrl": "",
      "userId": "17143338865945125396"
     },
     "user_tz": -480
    },
    "id": "5rzxmuS-mBeV",
    "outputId": "d6c9284d-aad6-4759-d8ca-a7c251c92351"
   },
   "outputs": [
    {
     "data": {
      "text/plain": [
       "'2.0.0'"
      ]
     },
     "execution_count": 14,
     "metadata": {},
     "output_type": "execute_result"
    }
   ],
   "source": [
    "# Define data arguements\n",
    "# Set random seed\n",
    "np.random.seed(50)\n",
    "data_file = '../data/raw/raw_train.txt'\n",
    "\n",
    "tf.__version__"
   ]
  },
  {
   "cell_type": "markdown",
   "metadata": {
    "colab_type": "text",
    "id": "ZeSFzXKgHKu0"
   },
   "source": [
    "### Load and process dataset"
   ]
  },
  {
   "cell_type": "code",
   "execution_count": 15,
   "metadata": {
    "ExecuteTime": {
     "end_time": "2019-10-11T01:40:35.947351Z",
     "start_time": "2019-10-11T01:40:35.719290Z"
    },
    "colab": {},
    "colab_type": "code",
    "id": "mpeUU7WdmBeX"
   },
   "outputs": [],
   "source": [
    "# Load dataset\n",
    "counter = 0\n",
    "max_seq_len = 40\n",
    "no_seq = 50000\n",
    "raw_data = []\n",
    "\n",
    "# Load raw data and read first 100000 sequences with 40 or less words\n",
    "with open(data_file, 'r', encoding='utf-8') as f:    \n",
    "    while counter != no_seq:\n",
    "        line = f.readline()\n",
    "        if 10 <= len(line.split()) <= max_seq_len:\n",
    "            raw_data.append(line)\n",
    "            counter += 1\n",
    "        else:\n",
    "            continue"
   ]
  },
  {
   "cell_type": "code",
   "execution_count": 16,
   "metadata": {
    "ExecuteTime": {
     "end_time": "2019-10-11T01:40:37.871407Z",
     "start_time": "2019-10-11T01:40:35.948344Z"
    },
    "colab": {
     "base_uri": "https://localhost:8080/",
     "height": 51
    },
    "colab_type": "code",
    "executionInfo": {
     "elapsed": 7918,
     "status": "ok",
     "timestamp": 1568940432457,
     "user": {
      "displayName": "Leo Tay",
      "photoUrl": "",
      "userId": "17143338865945125396"
     },
     "user_tz": -480
    },
    "id": "8qXuFMzlmBeZ",
    "outputId": "35f9fb78-aa1a-427e-c7b3-d61a5368e77d"
   },
   "outputs": [
    {
     "name": "stdout",
     "output_type": "stream",
     "text": [
      "Max input sequence length: 52\n",
      "Max target sequence length: 52\n"
     ]
    }
   ],
   "source": [
    "# Process dataset\n",
    "# Shuffle raw data prior to processing\n",
    "np.random.shuffle(raw_data)\n",
    "\n",
    "# Process raw and input data\n",
    "filtered_raw = process_raw(raw_data)\n",
    "processed_inp = [generate_input(seq) for seq in filtered_raw]\n",
    "\n",
    "# Get max sequence length after processing\n",
    "max_process_seq = get_max_len(processed_inp, get_index=False)\n",
    "print('Max input sequence length: {}'.format(get_max_len(processed_inp)))\n",
    "print('Max target sequence length: {}'.format(get_max_len(filtered_raw)))"
   ]
  },
  {
   "cell_type": "code",
   "execution_count": 17,
   "metadata": {
    "ExecuteTime": {
     "end_time": "2019-10-11T01:40:37.875399Z",
     "start_time": "2019-10-11T01:40:37.872406Z"
    },
    "colab": {
     "base_uri": "https://localhost:8080/",
     "height": 119
    },
    "colab_type": "code",
    "executionInfo": {
     "elapsed": 7779,
     "status": "ok",
     "timestamp": 1568940432457,
     "user": {
      "displayName": "Leo Tay",
      "photoUrl": "",
      "userId": "17143338865945125396"
     },
     "user_tz": -480
    },
    "id": "o_H9BS41mBed",
    "outputId": "c6130fb6-bceb-41ca-90d6-cfdf2f5fe885"
   },
   "outputs": [
    {
     "name": "stdout",
     "output_type": "stream",
     "text": [
      "Input Sample:\n",
      "<s> chinh phu tay tang luu vong cho rang hang trieu nguoi trung hoa nhap cu vao vung tttt la de dong hoa nguoi tang thong qua van hoa va thong qua cac cuoc hon nhan di chung . <e>\n",
      "\n",
      "\n",
      "Target Sample:\n",
      "<s> chính phủ tây tạng lưu vong cho rằng hàng triệu người trung hoa nhập cư vào vùng tttt là để đồng hóa người tạng thông qua văn hóa và thông qua các cuộc hôn nhân dị chủng . <e>\n"
     ]
    }
   ],
   "source": [
    "print('Input Sample:')\n",
    "print(processed_inp[-1])\n",
    "print('\\n')\n",
    "print('Target Sample:')\n",
    "print(filtered_raw[-1])"
   ]
  },
  {
   "cell_type": "code",
   "execution_count": 18,
   "metadata": {
    "ExecuteTime": {
     "end_time": "2019-10-11T01:40:41.377314Z",
     "start_time": "2019-10-11T01:40:37.876401Z"
    },
    "colab": {},
    "colab_type": "code",
    "id": "-N7GaOalmBee"
   },
   "outputs": [],
   "source": [
    "# Tokenize/pad input and target data, generates corresponding tokenizers\n",
    "tokenized_input, input_tokenizer, tokenized_target, target_tokenizer = process_data(processed_input=processed_inp, \n",
    "                                                            processed_target=filtered_raw, pad_len=max_process_seq)"
   ]
  },
  {
   "cell_type": "code",
   "execution_count": 19,
   "metadata": {
    "ExecuteTime": {
     "end_time": "2019-10-11T01:40:41.382316Z",
     "start_time": "2019-10-11T01:40:41.378315Z"
    },
    "colab": {
     "base_uri": "https://localhost:8080/",
     "height": 68
    },
    "colab_type": "code",
    "executionInfo": {
     "elapsed": 12163,
     "status": "ok",
     "timestamp": 1568940437206,
     "user": {
      "displayName": "Leo Tay",
      "photoUrl": "",
      "userId": "17143338865945125396"
     },
     "user_tz": -480
    },
    "id": "_xin5HNPmBer",
    "outputId": "1a4a8dba-37a5-477e-95f8-0ccdae72b6e5"
   },
   "outputs": [
    {
     "name": "stdout",
     "output_type": "stream",
     "text": [
      "Number of training sequences: 40000\n",
      "Number of val sequences: 5000\n",
      "Number of test sequences: 5000\n"
     ]
    }
   ],
   "source": [
    "train_data_len = round((.8 * no_seq))\n",
    "val_test_data_len = round((.1 * no_seq))\n",
    "\n",
    "train_inp_data, train_tar_data = tokenized_input[:train_data_len], tokenized_target[:train_data_len]\n",
    "val_inp_data, val_tar_data = tokenized_input[train_data_len:(train_data_len+val_test_data_len)], \\\n",
    "                                    tokenized_target[train_data_len:(train_data_len+val_test_data_len)]\n",
    "test_inp_data, test_tar_data = tokenized_input[-val_test_data_len:], tokenized_target[-val_test_data_len:]\n",
    "\n",
    "print('Number of training sequences: {}'.format(len(train_inp_data)))\n",
    "print('Number of val sequences: {}'.format(len(val_inp_data)))\n",
    "print('Number of test sequences: {}'.format(len(test_inp_data)))"
   ]
  },
  {
   "cell_type": "code",
   "execution_count": 20,
   "metadata": {
    "ExecuteTime": {
     "end_time": "2019-10-11T01:40:41.387317Z",
     "start_time": "2019-10-11T01:40:41.383316Z"
    },
    "colab": {
     "base_uri": "https://localhost:8080/",
     "height": 136
    },
    "colab_type": "code",
    "executionInfo": {
     "elapsed": 11978,
     "status": "ok",
     "timestamp": 1568940437207,
     "user": {
      "displayName": "Leo Tay",
      "photoUrl": "",
      "userId": "17143338865945125396"
     },
     "user_tz": -480
    },
    "id": "FhIKiOx5mBet",
    "outputId": "55872c36-6be7-4b45-f825-a41dfd352802"
   },
   "outputs": [
    {
     "name": "stdout",
     "output_type": "stream",
     "text": [
      "Tokenized Data: [  2  73 115 764  15 119 359  23  71 115  70   6 811 550 255 225 677  23\n",
      " 913 131  94 905   1   3   0   0   0   0   0   0   0   0   0   0   0   0\n",
      "   0   0   0   0   0   0   0   0   0   0   0   0   0   0   0   0]\n",
      "\n",
      "\n",
      "Original Data: ['<s>', 'ho', 'an', 'com', 'do', 'cach', 'thuy', 'voi', 'thuc', 'an', 'thuong', 'co', 'rau', 'rung', 'thai', 'nho', 'nau', 'voi', 'oc', 'hay', 'ca', 'suoi', '.', '<e>']\n"
     ]
    }
   ],
   "source": [
    "convert(input_tokenizer, train_inp_data[0])"
   ]
  },
  {
   "cell_type": "code",
   "execution_count": 21,
   "metadata": {
    "ExecuteTime": {
     "end_time": "2019-10-11T01:40:41.951202Z",
     "start_time": "2019-10-11T01:40:41.388318Z"
    },
    "colab": {},
    "colab_type": "code",
    "id": "dquKNOnxmBez",
    "scrolled": true
   },
   "outputs": [],
   "source": [
    "train_buffer_sz = len(train_inp_data)\n",
    "val_buffer_sz = len(val_inp_data)\n",
    "test_buffer_sz = len(test_inp_data)\n",
    "batch_sz = 32\n",
    "\n",
    "train_dataset = tf.data.Dataset.from_tensor_slices((train_inp_data, train_tar_data)).shuffle(train_buffer_sz)\n",
    "train_dataset = train_dataset.batch(batch_sz, drop_remainder=True)\n",
    "\n",
    "val_dataset = tf.data.Dataset.from_tensor_slices((val_inp_data, val_tar_data)).shuffle(val_buffer_sz)\n",
    "val_dataset = val_dataset.batch(batch_sz, drop_remainder=True)\n",
    "\n",
    "test_dataset = tf.data.Dataset.from_tensor_slices((test_inp_data, test_tar_data)).shuffle(test_buffer_sz)\n",
    "test_dataset = test_dataset.batch(batch_sz, drop_remainder=True)"
   ]
  },
  {
   "cell_type": "code",
   "execution_count": 22,
   "metadata": {
    "ExecuteTime": {
     "end_time": "2019-10-11T01:40:42.019218Z",
     "start_time": "2019-10-11T01:40:41.952203Z"
    },
    "colab": {},
    "colab_type": "code",
    "id": "58s7L7KJSPPj"
   },
   "outputs": [],
   "source": [
    "example_input_batch, example_target_batch = next(iter(train_dataset))\n",
    "# example_input_batch.shape, example_target_batch.shape\n",
    "\n",
    "example_val_inp_batch, example_val_tar_batch = next(iter(val_dataset))\n",
    "# example_val_inp_batch.shape, example_val_tar_batch.shape\n",
    "\n",
    "example_test_inp_batch, example_test_tar_batch = next(iter(test_dataset))\n",
    "# example_test_inp_batch.shape, example_test_tar_batch.shape"
   ]
  },
  {
   "cell_type": "markdown",
   "metadata": {
    "colab_type": "text",
    "id": "uo6i8NHxHPMt"
   },
   "source": [
    "### Define model and model parameters"
   ]
  },
  {
   "cell_type": "code",
   "execution_count": 68,
   "metadata": {
    "ExecuteTime": {
     "end_time": "2019-10-11T09:53:01.917234Z",
     "start_time": "2019-10-11T09:53:01.913234Z"
    },
    "colab": {
     "base_uri": "https://localhost:8080/",
     "height": 51
    },
    "colab_type": "code",
    "executionInfo": {
     "elapsed": 7705,
     "status": "ok",
     "timestamp": 1568940437958,
     "user": {
      "displayName": "Leo Tay",
      "photoUrl": "",
      "userId": "17143338865945125396"
     },
     "user_tz": -480
    },
    "id": "JMqR7Y6umBe6",
    "outputId": "d0659823-7e69-4e12-a193-4df8cd43210f"
   },
   "outputs": [
    {
     "name": "stdout",
     "output_type": "stream",
     "text": [
      "Input vocabulary: 21926\n",
      "Target vocabulary: 25711\n"
     ]
    }
   ],
   "source": [
    "embedding_dim = 256\n",
    "units = 1024\n",
    "dropout = 0.25\n",
    "inp_vocab_sz = len(input_tokenizer.index_word)+1\n",
    "tar_vocab_sz = len(target_tokenizer.index_word)+1\n",
    "\n",
    "print('Input vocabulary: {}'.format(inp_vocab_sz))\n",
    "print('Target vocabulary: {}'.format(tar_vocab_sz))"
   ]
  },
  {
   "cell_type": "code",
   "execution_count": 24,
   "metadata": {
    "ExecuteTime": {
     "end_time": "2019-10-11T01:40:42.030220Z",
     "start_time": "2019-10-11T01:40:42.025219Z"
    },
    "colab": {},
    "colab_type": "code",
    "id": "cj-IlNQsmBe7"
   },
   "outputs": [],
   "source": [
    "class Encoder(tf.keras.Model):\n",
    "  def __init__(self, vocab_size, embedding_dim, enc_units, batch_sz):\n",
    "    super().__init__()\n",
    "    self.batch_sz = batch_sz\n",
    "    self.enc_units = enc_units\n",
    "    self.embedding = tf.keras.layers.Embedding(vocab_size, embedding_dim)\n",
    "#     self.gru = tf.keras.layers.GRU(self.enc_units, return_sequences=True, return_state=True, recurrent_initializer='glorot_uniform', dropout=dropout)\n",
    "    self.gru = tf.keras.layers.LSTM(self.enc_units, return_sequences=True, return_state=True, recurrent_initializer='glorot_uniform', dropout=dropout)\n",
    "\n",
    "            \n",
    "  def call(self, x, hidden, cell):\n",
    "    x = self.embedding(x)\n",
    "    output, state, cell = self.gru(x, initial_state = [hidden, cell])\n",
    "    return output, state\n",
    "\n",
    "  def initialize_hidden_state(self):\n",
    "    return tf.zeros((self.batch_sz, self.enc_units))\n",
    "\n",
    "  def initialize_cell_state(self):\n",
    "    return tf.zeros((self.batch_sz, self.enc_units))"
   ]
  },
  {
   "cell_type": "code",
   "execution_count": 25,
   "metadata": {
    "ExecuteTime": {
     "end_time": "2019-10-11T01:40:43.277498Z",
     "start_time": "2019-10-11T01:40:42.031220Z"
    },
    "colab": {
     "base_uri": "https://localhost:8080/",
     "height": 51
    },
    "colab_type": "code",
    "executionInfo": {
     "elapsed": 7650,
     "status": "ok",
     "timestamp": 1568940438725,
     "user": {
      "displayName": "Leo Tay",
      "photoUrl": "",
      "userId": "17143338865945125396"
     },
     "user_tz": -480
    },
    "id": "-cZZxz3WmBe9",
    "outputId": "4bb53bb7-812d-49f1-fc5f-5b007e00f197"
   },
   "outputs": [
    {
     "name": "stdout",
     "output_type": "stream",
     "text": [
      "Encoder output shape: (batch size, sequence length, units) (32, 52, 1024)\n",
      "Encoder Hidden state shape: (batch size, units) (1024,)\n"
     ]
    }
   ],
   "source": [
    "encoder = Encoder(inp_vocab_sz, embedding_dim, units, batch_sz)\n",
    "\n",
    "# sample input\n",
    "sample_hidden = encoder.initialize_hidden_state()\n",
    "sample_cell = encoder.initialize_cell_state()\n",
    "sample_output, sample_hidden = encoder(example_input_batch, sample_hidden, sample_cell)\n",
    "print ('Encoder output shape: (batch size, sequence length, units) {}'.format(sample_output.shape))\n",
    "print ('Encoder Hidden state shape: (batch size, units) {}'.format(sample_hidden[0].shape))"
   ]
  },
  {
   "cell_type": "code",
   "execution_count": 26,
   "metadata": {
    "ExecuteTime": {
     "end_time": "2019-10-11T01:40:43.282503Z",
     "start_time": "2019-10-11T01:40:43.278506Z"
    },
    "colab": {},
    "colab_type": "code",
    "id": "i2LssOB5rGBV"
   },
   "outputs": [],
   "source": [
    "class BahdanauAttention(tf.keras.Model):\n",
    "  def __init__(self, units):\n",
    "    super().__init__()\n",
    "    self.W1 = tf.keras.layers.Dense(units)\n",
    "    self.W2 = tf.keras.layers.Dense(units)\n",
    "    self.V = tf.keras.layers.Dense(1)\n",
    "\n",
    "  def call(self, query, values):\n",
    "    # hidden shape == (batch_size, hidden size)\n",
    "    # hidden_with_time_axis shape == (batch_size, 1, hidden size)\n",
    "    # we are doing this to perform addition to calculate the score\n",
    "    hidden_with_time_axis = tf.expand_dims(query, 1)\n",
    "\n",
    "    # score shape == (batch_size, max_length, 1)\n",
    "    # we get 1 at the last axis because we are applying score to self.V\n",
    "    # the shape of the tensor before applying self.V is (batch_size, max_length, units)\n",
    "    score = self.V(tf.nn.tanh(self.W1(values) + self.W2(hidden_with_time_axis)))\n",
    "\n",
    "    # attention_weights shape == (batch_size, max_length, 1)\n",
    "    attention_weights = tf.nn.softmax(score, axis=1)\n",
    "\n",
    "    # context_vector shape after sum == (batch_size, hidden_size)\n",
    "    context_vector = attention_weights * values\n",
    "    context_vector = tf.reduce_sum(context_vector, axis=1)\n",
    "\n",
    "    return context_vector, attention_weights"
   ]
  },
  {
   "cell_type": "code",
   "execution_count": 27,
   "metadata": {
    "ExecuteTime": {
     "end_time": "2019-10-11T01:40:43.492776Z",
     "start_time": "2019-10-11T01:40:43.283503Z"
    },
    "colab": {
     "base_uri": "https://localhost:8080/",
     "height": 51
    },
    "colab_type": "code",
    "executionInfo": {
     "elapsed": 5259,
     "status": "ok",
     "timestamp": 1568940438727,
     "user": {
      "displayName": "Leo Tay",
      "photoUrl": "",
      "userId": "17143338865945125396"
     },
     "user_tz": -480
    },
    "id": "iG--lBXPrsn7",
    "outputId": "154ac254-b702-42bd-f62a-81e992906521"
   },
   "outputs": [
    {
     "name": "stdout",
     "output_type": "stream",
     "text": [
      "Attention result shape: (batch size, units) (32, 1024)\n",
      "Attention weights shape: (batch_size, sequence_length, 1) (32, 52, 1)\n"
     ]
    }
   ],
   "source": [
    "attention_layer = BahdanauAttention(128)\n",
    "attention_result, attention_weights = attention_layer(sample_hidden, sample_output)\n",
    "\n",
    "print(\"Attention result shape: (batch size, units) {}\".format(attention_result.shape))\n",
    "print(\"Attention weights shape: (batch_size, sequence_length, 1) {}\".format(attention_weights.shape))"
   ]
  },
  {
   "cell_type": "code",
   "execution_count": 28,
   "metadata": {
    "ExecuteTime": {
     "end_time": "2019-10-11T01:40:43.498778Z",
     "start_time": "2019-10-11T01:40:43.493776Z"
    },
    "colab": {},
    "colab_type": "code",
    "id": "IWUJincXmBe-"
   },
   "outputs": [],
   "source": [
    "class Decoder(tf.keras.Model):\n",
    "  def __init__(self, vocab_size, embedding_dim, dec_units, batch_sz):\n",
    "    super().__init__()\n",
    "    self.batch_sz = batch_sz\n",
    "    self.dec_units = dec_units\n",
    "    self.embedding = tf.keras.layers.Embedding(vocab_size, embedding_dim)\n",
    "#     self.gru = tf.keras.layers.GRU(self.dec_units, return_sequences=True, return_state=True, recurrent_initializer='glorot_uniform', dropout=dropout)\n",
    "    self.gru = tf.keras.layers.LSTM(self.dec_units, return_sequences=True, return_state=True, recurrent_initializer='glorot_uniform', dropout=dropout)\n",
    "    self.fc = tf.keras.layers.Dense(vocab_size)\n",
    "\n",
    "    # used for attention\n",
    "    self.attention = BahdanauAttention(self.dec_units)\n",
    "\n",
    "  def call(self, x, hidden, enc_output):\n",
    "    # enc_output shape == (batch_size, max_length, hidden_size)\n",
    "    context_vector, attention_weights = self.attention(hidden, enc_output)\n",
    "\n",
    "    # x shape after passing through embedding == (batch_size, 1, embedding_dim)\n",
    "    x = self.embedding(x)\n",
    "\n",
    "    # x shape after concatenation == (batch_size, 1, embedding_dim + hidden_size)\n",
    "    x = tf.concat([tf.expand_dims(context_vector, 1), x], axis=-1)\n",
    "\n",
    "    # passing the concatenated vector to the GRU\n",
    "    output, state, cell = self.gru(x)\n",
    "\n",
    "    # output shape == (batch_size * 1, hidden_size)\n",
    "    output = tf.reshape(output, (-1, output.shape[2]))\n",
    "\n",
    "    # output shape == (batch_size, vocab)\n",
    "    x = self.fc(output)\n",
    "\n",
    "    return x, state, attention_weights"
   ]
  },
  {
   "cell_type": "code",
   "execution_count": 29,
   "metadata": {
    "ExecuteTime": {
     "end_time": "2019-10-11T01:40:43.552789Z",
     "start_time": "2019-10-11T01:40:43.499778Z"
    },
    "colab": {
     "base_uri": "https://localhost:8080/",
     "height": 34
    },
    "colab_type": "code",
    "executionInfo": {
     "elapsed": 4836,
     "status": "ok",
     "timestamp": 1568940439652,
     "user": {
      "displayName": "Leo Tay",
      "photoUrl": "",
      "userId": "17143338865945125396"
     },
     "user_tz": -480
    },
    "id": "QJFP7gbQmBfA",
    "outputId": "a19c9994-a5f6-4fa8-8b54-f8f3e39a9dec"
   },
   "outputs": [
    {
     "name": "stdout",
     "output_type": "stream",
     "text": [
      "Decoder output shape: (batch_size, vocab size) (32, 25711)\n"
     ]
    }
   ],
   "source": [
    "decoder = Decoder(tar_vocab_sz, embedding_dim, units, batch_sz)\n",
    "\n",
    "sample_decoder_output, _, _ = decoder(tf.random.uniform((batch_sz, 1)), sample_hidden, sample_output)\n",
    "\n",
    "print ('Decoder output shape: (batch_size, vocab size) {}'.format(sample_decoder_output.shape))"
   ]
  },
  {
   "cell_type": "markdown",
   "metadata": {
    "colab_type": "text",
    "id": "ZwSUyr7zHeNO"
   },
   "source": [
    "### Define loss and accuracy metrics"
   ]
  },
  {
   "cell_type": "code",
   "execution_count": 30,
   "metadata": {
    "ExecuteTime": {
     "end_time": "2019-10-11T01:40:43.608802Z",
     "start_time": "2019-10-11T01:40:43.553790Z"
    },
    "colab": {},
    "colab_type": "code",
    "id": "Xmjl4_cVmBfB"
   },
   "outputs": [],
   "source": [
    "optimizer = tf.keras.optimizers.Adam(lr=0.001)\n",
    "\n",
    "loss_object = tf.keras.losses.SparseCategoricalCrossentropy(from_logits=True, reduction='none')\n",
    "\n",
    "train_accuracy = tf.keras.metrics.SparseCategoricalAccuracy(name='train_accuracy')\n",
    "\n",
    "val_accuracy = tf.keras.metrics.SparseCategoricalAccuracy(name='val_accuracy')"
   ]
  },
  {
   "cell_type": "markdown",
   "metadata": {
    "colab_type": "text",
    "id": "BMLXtj5SHiFw"
   },
   "source": [
    "### Define checkpoint options"
   ]
  },
  {
   "cell_type": "code",
   "execution_count": 31,
   "metadata": {
    "ExecuteTime": {
     "end_time": "2019-10-11T01:40:43.612803Z",
     "start_time": "2019-10-11T01:40:43.609803Z"
    },
    "colab": {},
    "colab_type": "code",
    "id": "-E_bnkXQmBfD"
   },
   "outputs": [],
   "source": [
    "checkpoint_dir = './training_checkpoints'\n",
    "  \n",
    "checkpoint = tf.train.Checkpoint(optimizer=optimizer, encoder=encoder, decoder=decoder)\n",
    "manager = tf.train.CheckpointManager(checkpoint=checkpoint, directory=checkpoint_dir, max_to_keep=1)"
   ]
  },
  {
   "cell_type": "markdown",
   "metadata": {
    "colab_type": "text",
    "id": "M4j_vL7WIXNp"
   },
   "source": [
    "### Training function and loop"
   ]
  },
  {
   "cell_type": "code",
   "execution_count": 32,
   "metadata": {
    "ExecuteTime": {
     "end_time": "2019-10-11T01:40:43.619806Z",
     "start_time": "2019-10-11T01:40:43.613804Z"
    },
    "colab": {},
    "colab_type": "code",
    "id": "35xeW0fumBfF"
   },
   "outputs": [],
   "source": [
    "@tf.function\n",
    "def train_step(inp, targ, enc_hidden, enc_cell):\n",
    "    loss = 0.0\n",
    "    acc = 0.0\n",
    "    \n",
    "    with tf.GradientTape() as tape:\n",
    "        enc_output, enc_hidden = encoder(inp, enc_hidden, enc_cell)\n",
    "\n",
    "        dec_hidden = enc_hidden\n",
    "\n",
    "        dec_input = tf.expand_dims([target_tokenizer.word_index['<s>']] * batch_sz, 1)\n",
    "\n",
    "        # Teacher forcing - feeding the target as the next input\n",
    "        for t in range(1, targ.shape[1]):\n",
    "            # passing enc_output to the decoder\n",
    "            predictions, dec_hidden, _ = decoder(dec_input, dec_hidden, enc_output)\n",
    "            loss += loss_object(targ[:, t], predictions)           \n",
    "    \n",
    "            train_accuracy.update_state(targ[:, t], predictions)\n",
    "            acc += train_accuracy.result()\n",
    "            \n",
    "            # using teacher forcing\n",
    "            dec_input = tf.expand_dims(targ[:, t], 1)\n",
    "      \n",
    "    variables = encoder.trainable_variables + decoder.trainable_variables\n",
    "\n",
    "    gradients = tape.gradient(loss, variables)\n",
    "\n",
    "    optimizer.apply_gradients(zip(gradients, variables))\n",
    "    \n",
    "    batch_loss = loss / int(targ.shape[1])\n",
    "    batch_acc = acc / int (targ.shape[1])\n",
    "    \n",
    "    return batch_loss, batch_acc"
   ]
  },
  {
   "cell_type": "code",
   "execution_count": 33,
   "metadata": {
    "ExecuteTime": {
     "end_time": "2019-10-11T01:40:43.626806Z",
     "start_time": "2019-10-11T01:40:43.620805Z"
    },
    "colab": {},
    "colab_type": "code",
    "id": "yZYFzRhgmodv"
   },
   "outputs": [],
   "source": [
    "@tf.function\n",
    "def test_step(inp, targ, enc_hidden, enc_cell):\n",
    "  loss = 0.0\n",
    "  acc = 0.0\n",
    "  \n",
    "  enc_output, enc_hidden = encoder(inp, enc_hidden, enc_cell)\n",
    "\n",
    "  dec_hidden = enc_hidden\n",
    "\n",
    "  dec_input = tf.expand_dims([target_tokenizer.word_index['<s>']] * batch_sz, 1)\n",
    "\n",
    "  # Teacher forcing - feeding the target as the next input\n",
    "  for t in range(1, targ.shape[1]):\n",
    "    # passing enc_output to the decoder\n",
    "    predictions, dec_hidden, _ = decoder(dec_input, dec_hidden, enc_output)\n",
    "    loss += loss_object(targ[:, t], predictions)\n",
    "    \n",
    "    val_accuracy(targ[:, t], predictions)    \n",
    "    val_accuracy.update_state(targ[:, t], predictions)\n",
    "    acc += val_accuracy.result()\n",
    "            \n",
    "    # using teacher forcing\n",
    "    dec_input = tf.expand_dims(targ[:, t], 1)\n",
    "    \n",
    "  batch_loss = loss / int(targ.shape[1])\n",
    "  batch_acc = acc / int (targ.shape[1])\n",
    "    \n",
    "  return batch_loss, batch_acc"
   ]
  },
  {
   "cell_type": "code",
   "execution_count": 69,
   "metadata": {
    "ExecuteTime": {
     "end_time": "2019-10-11T13:47:53.613227Z",
     "start_time": "2019-10-11T09:53:28.159894Z"
    },
    "colab": {
     "base_uri": "https://localhost:8080/",
     "height": 1000
    },
    "colab_type": "code",
    "executionInfo": {
     "elapsed": 22192,
     "status": "error",
     "timestamp": 1568941434023,
     "user": {
      "displayName": "Leo Tay",
      "photoUrl": "",
      "userId": "17143338865945125396"
     },
     "user_tz": -480
    },
    "id": "qSCqgFtRmBfG",
    "outputId": "31ae9120-b8af-4044-96c3-2b80d834083e",
    "scrolled": true
   },
   "outputs": [
    {
     "name": "stdout",
     "output_type": "stream",
     "text": [
      "Epoch: 1, Batch: 0, Loss: 1.0267\n",
      "Epoch: 1, Batch: 100, Loss: 1.0518\n",
      "Epoch: 1, Batch: 200, Loss: 2.0088\n",
      "Epoch: 1, Batch: 300, Loss: 1.1275\n",
      "Epoch: 1, Batch: 400, Loss: 1.3208\n",
      "Epoch: 1, Batch: 500, Loss: 2.3576\n",
      "Epoch: 1, Batch: 600, Loss: 2.3840\n",
      "Epoch: 1, Batch: 700, Loss: 1.7409\n",
      "Epoch: 1, Batch: 800, Loss: 1.3154\n",
      "Epoch: 1, Batch: 900, Loss: 0.9696\n",
      "Epoch: 1, Batch: 1000, Loss: 1.0912\n",
      "Epoch: 1, Batch: 1100, Loss: 0.9911\n",
      "Epoch: 1, Batch: 1200, Loss: 2.8819\n",
      "Increasing Early Stop count to: 1\n",
      "Epoch 1 Training Loss 1.6278, Training Acc: 0.7320, Val Loss: 2.6076, Val Acc: 0.5930\n",
      "Time taken for 1 epoch 851.0876 sec\n",
      "\n",
      "Epoch: 2, Batch: 0, Loss: 2.2498\n",
      "Epoch: 2, Batch: 100, Loss: 1.0615\n",
      "Epoch: 2, Batch: 200, Loss: 0.9197\n",
      "Epoch: 2, Batch: 300, Loss: 0.7795\n",
      "Epoch: 2, Batch: 400, Loss: 1.0495\n",
      "Epoch: 2, Batch: 500, Loss: 0.7576\n",
      "Epoch: 2, Batch: 600, Loss: 1.2537\n",
      "Epoch: 2, Batch: 700, Loss: 1.4016\n",
      "Epoch: 2, Batch: 800, Loss: 0.8507\n",
      "Epoch: 2, Batch: 900, Loss: 0.8098\n",
      "Epoch: 2, Batch: 1000, Loss: 2.0983\n",
      "Epoch: 2, Batch: 1100, Loss: 0.9451\n",
      "Epoch: 2, Batch: 1200, Loss: 2.0776\n",
      "New best val loss: 1.2952 --> 1.1069\n",
      "New val loss: 1.1069\n",
      "Saving model\n",
      "Save completed\n",
      "Resetting Early Stop counter\n",
      "Epoch 2 Training Loss 1.1784, Training Acc: 0.7671, Val Loss: 1.1069, Val Acc: 0.8064\n",
      "Time taken for 1 epoch 861.3673 sec\n",
      "\n",
      "Epoch: 3, Batch: 0, Loss: 1.1008\n",
      "Epoch: 3, Batch: 100, Loss: 0.7100\n",
      "Epoch: 3, Batch: 200, Loss: 0.9736\n",
      "Epoch: 3, Batch: 300, Loss: 0.5923\n",
      "Epoch: 3, Batch: 400, Loss: 0.8586\n",
      "Epoch: 3, Batch: 500, Loss: 2.2705\n",
      "Epoch: 3, Batch: 600, Loss: 2.2296\n",
      "Epoch: 3, Batch: 700, Loss: 1.7954\n",
      "Epoch: 3, Batch: 800, Loss: 0.8683\n",
      "Epoch: 3, Batch: 900, Loss: 0.6163\n",
      "Epoch: 3, Batch: 1000, Loss: 0.6922\n",
      "Epoch: 3, Batch: 1100, Loss: 0.5948\n",
      "Epoch: 3, Batch: 1200, Loss: 1.3850\n",
      "New best val loss: 1.1069 --> 0.9255\n",
      "New val loss: 0.9255\n",
      "Saving model\n",
      "Save completed\n",
      "Resetting Early Stop counter\n",
      "Epoch 3 Training Loss 1.0968, Training Acc: 0.7954, Val Loss: 0.9255, Val Acc: 0.8360\n",
      "Time taken for 1 epoch 885.1642 sec\n",
      "\n",
      "Epoch: 4, Batch: 0, Loss: 0.6824\n",
      "Epoch: 4, Batch: 100, Loss: 1.2241\n",
      "Epoch: 4, Batch: 200, Loss: 3.2469\n",
      "Epoch: 4, Batch: 300, Loss: 2.6668\n",
      "Epoch: 4, Batch: 400, Loss: 2.5667\n",
      "Epoch: 4, Batch: 500, Loss: 2.5747\n",
      "Epoch: 4, Batch: 600, Loss: 2.6945\n",
      "Epoch: 4, Batch: 700, Loss: 2.4235\n",
      "Epoch: 4, Batch: 800, Loss: 2.1532\n",
      "Epoch: 4, Batch: 900, Loss: 2.4993\n",
      "Epoch: 4, Batch: 1000, Loss: 2.3747\n",
      "Epoch: 4, Batch: 1100, Loss: 2.3397\n",
      "Epoch: 4, Batch: 1200, Loss: 2.3014\n",
      "Increasing Early Stop count to: 1\n",
      "Epoch 4 Training Loss 2.3257, Training Acc: 0.6719, Val Loss: 2.5296, Val Acc: 0.6001\n",
      "Time taken for 1 epoch 876.5005 sec\n",
      "\n",
      "Epoch: 5, Batch: 0, Loss: 2.2749\n",
      "Epoch: 5, Batch: 100, Loss: 2.3459\n",
      "Epoch: 5, Batch: 200, Loss: 1.8889\n",
      "Epoch: 5, Batch: 300, Loss: 1.7114\n",
      "Epoch: 5, Batch: 400, Loss: 1.1950\n",
      "Epoch: 5, Batch: 500, Loss: 2.6593\n",
      "Epoch: 5, Batch: 600, Loss: 2.2091\n",
      "Epoch: 5, Batch: 700, Loss: 1.6581\n",
      "Epoch: 5, Batch: 800, Loss: 1.0397\n",
      "Epoch: 5, Batch: 900, Loss: 1.0349\n",
      "Epoch: 5, Batch: 1000, Loss: 1.2986\n",
      "Epoch: 5, Batch: 1100, Loss: 2.4119\n",
      "Epoch: 5, Batch: 1200, Loss: 2.6792\n",
      "Increasing Early Stop count to: 2\n",
      "Epoch 5 Training Loss 1.7359, Training Acc: 0.6675, Val Loss: 2.6188, Val Acc: 0.5871\n",
      "Time taken for 1 epoch 878.0076 sec\n",
      "\n",
      "Epoch: 6, Batch: 0, Loss: 2.3511\n",
      "Epoch: 6, Batch: 100, Loss: 2.0634\n",
      "Epoch: 6, Batch: 200, Loss: 1.3243\n",
      "Epoch: 6, Batch: 300, Loss: 1.1169\n",
      "Epoch: 6, Batch: 400, Loss: 2.7018\n",
      "Epoch: 6, Batch: 500, Loss: 2.1236\n",
      "Epoch: 6, Batch: 600, Loss: 2.0875\n",
      "Epoch: 6, Batch: 700, Loss: 1.4648\n",
      "Epoch: 6, Batch: 800, Loss: 1.2586\n",
      "Epoch: 6, Batch: 900, Loss: 0.9807\n",
      "Epoch: 6, Batch: 1000, Loss: 0.9800\n",
      "Epoch: 6, Batch: 1100, Loss: 0.8222\n",
      "Epoch: 6, Batch: 1200, Loss: 1.1421\n",
      "Increasing Early Stop count to: 3\n",
      "Epoch 6 Training Loss 1.5651, Training Acc: 0.6732, Val Loss: 1.5150, Val Acc: 0.7547\n",
      "Time taken for 1 epoch 890.8967 sec\n",
      "\n",
      "Epoch: 7, Batch: 0, Loss: 0.7970\n",
      "Epoch: 7, Batch: 100, Loss: 0.9493\n",
      "Epoch: 7, Batch: 200, Loss: 0.7197\n",
      "Epoch: 7, Batch: 300, Loss: 0.6947\n",
      "Epoch: 7, Batch: 400, Loss: 0.5910\n",
      "Epoch: 7, Batch: 500, Loss: 0.6439\n",
      "Epoch: 7, Batch: 600, Loss: 1.2811\n",
      "Epoch: 7, Batch: 700, Loss: 0.7670\n",
      "Epoch: 7, Batch: 800, Loss: 0.6704\n",
      "Epoch: 7, Batch: 900, Loss: 0.6763\n",
      "Epoch: 7, Batch: 1000, Loss: 0.4927\n",
      "Epoch: 7, Batch: 1100, Loss: 0.5229\n",
      "Epoch: 7, Batch: 1200, Loss: 0.7671\n",
      "New best val loss: 0.9255 --> 0.9223\n",
      "New val loss: 0.9223\n",
      "Saving model\n",
      "Save completed\n",
      "Resetting Early Stop counter\n",
      "Epoch 7 Training Loss 0.7833, Training Acc: 0.8238, Val Loss: 0.9223, Val Acc: 0.8430\n",
      "Time taken for 1 epoch 862.8631 sec\n",
      "\n",
      "Epoch: 8, Batch: 0, Loss: 0.6200\n",
      "Epoch: 8, Batch: 100, Loss: 0.4972\n",
      "Epoch: 8, Batch: 200, Loss: 0.6105\n",
      "Epoch: 8, Batch: 300, Loss: 0.5666\n",
      "Epoch: 8, Batch: 400, Loss: 0.6617\n",
      "Epoch: 8, Batch: 500, Loss: 0.6162\n",
      "Epoch: 8, Batch: 600, Loss: 0.7177\n",
      "Epoch: 8, Batch: 700, Loss: 0.5830\n",
      "Epoch: 8, Batch: 800, Loss: 0.7256\n",
      "Epoch: 8, Batch: 900, Loss: 0.4801\n",
      "Epoch: 8, Batch: 1000, Loss: 0.6905\n",
      "Epoch: 8, Batch: 1100, Loss: 0.5144\n",
      "Epoch: 8, Batch: 1200, Loss: 0.6371\n",
      "Increasing Early Stop count to: 1\n",
      "Epoch 8 Training Loss 0.7649, Training Acc: 0.8407, Val Loss: 1.4065, Val Acc: 0.7718\n",
      "Time taken for 1 epoch 888.9703 sec\n",
      "\n",
      "Epoch: 9, Batch: 0, Loss: 1.0383\n",
      "Epoch: 9, Batch: 100, Loss: 0.8243\n",
      "Epoch: 9, Batch: 200, Loss: 0.4627\n",
      "Epoch: 9, Batch: 300, Loss: 0.5684\n",
      "Epoch: 9, Batch: 400, Loss: 2.4198\n",
      "Epoch: 9, Batch: 500, Loss: 0.9709\n",
      "Epoch: 9, Batch: 600, Loss: 0.7107\n",
      "Epoch: 9, Batch: 700, Loss: 0.5229\n",
      "Epoch: 9, Batch: 800, Loss: 0.4613\n",
      "Epoch: 9, Batch: 900, Loss: 2.4763\n",
      "Epoch: 9, Batch: 1000, Loss: 1.7669\n",
      "Epoch: 9, Batch: 1100, Loss: 0.7521\n",
      "Epoch: 9, Batch: 1200, Loss: 0.5634\n",
      "New best val loss: 0.9223 --> 0.8551\n",
      "New val loss: 0.8551\n",
      "Saving model\n",
      "Save completed\n",
      "Resetting Early Stop counter\n",
      "Epoch 9 Training Loss 0.9640, Training Acc: 0.8288, Val Loss: 0.8551, Val Acc: 0.8526\n",
      "Time taken for 1 epoch 893.0034 sec\n",
      "\n",
      "Epoch: 10, Batch: 0, Loss: 0.5598\n",
      "Epoch: 10, Batch: 100, Loss: 0.5313\n",
      "Epoch: 10, Batch: 200, Loss: 0.6212\n",
      "Epoch: 10, Batch: 300, Loss: 0.5725\n",
      "Epoch: 10, Batch: 400, Loss: 0.4780\n",
      "Epoch: 10, Batch: 500, Loss: 2.0418\n",
      "Epoch: 10, Batch: 600, Loss: 0.7824\n",
      "Epoch: 10, Batch: 700, Loss: 0.7996\n",
      "Epoch: 10, Batch: 800, Loss: 0.7677\n",
      "Epoch: 10, Batch: 900, Loss: 2.4698\n",
      "Epoch: 10, Batch: 1000, Loss: 0.7806\n",
      "Epoch: 10, Batch: 1100, Loss: 1.0474\n",
      "Epoch: 10, Batch: 1200, Loss: 2.3475\n",
      "Increasing Early Stop count to: 1\n",
      "Epoch 10 Training Loss 1.0079, Training Acc: 0.8509, Val Loss: 2.4939, Val Acc: 0.6158\n",
      "Time taken for 1 epoch 899.3082 sec\n",
      "\n",
      "Epoch: 11, Batch: 0, Loss: 2.2206\n",
      "Epoch: 11, Batch: 100, Loss: 1.8060\n",
      "Epoch: 11, Batch: 200, Loss: 0.7663\n",
      "Epoch: 11, Batch: 300, Loss: 0.4613\n",
      "Epoch: 11, Batch: 400, Loss: 0.5311\n",
      "Epoch: 11, Batch: 500, Loss: 0.4707\n",
      "Epoch: 11, Batch: 600, Loss: 0.3487\n",
      "Epoch: 11, Batch: 700, Loss: 0.4461\n",
      "Epoch: 11, Batch: 800, Loss: 0.5016\n",
      "Epoch: 11, Batch: 900, Loss: 0.3542\n",
      "Epoch: 11, Batch: 1000, Loss: 0.3443\n",
      "Epoch: 11, Batch: 1100, Loss: 0.3423\n",
      "Epoch: 11, Batch: 1200, Loss: 0.3141\n",
      "New best val loss: 0.8551 --> 0.6993\n",
      "New val loss: 0.6993\n",
      "Saving model\n",
      "Save completed\n",
      "Resetting Early Stop counter\n",
      "Epoch 11 Training Loss 0.6410, Training Acc: 0.7878, Val Loss: 0.6993, Val Acc: 0.8791\n",
      "Time taken for 1 epoch 896.3446 sec\n",
      "\n",
      "Epoch: 12, Batch: 0, Loss: 0.2906\n",
      "Epoch: 12, Batch: 100, Loss: 0.3616\n",
      "Epoch: 12, Batch: 200, Loss: 1.5329\n",
      "Epoch: 12, Batch: 300, Loss: 2.3523\n",
      "Epoch: 12, Batch: 400, Loss: 1.0450\n",
      "Epoch: 12, Batch: 500, Loss: 0.5910\n",
      "Epoch: 12, Batch: 600, Loss: 0.6065\n",
      "Epoch: 12, Batch: 700, Loss: 0.3452\n",
      "Epoch: 12, Batch: 800, Loss: 1.7024\n",
      "Epoch: 12, Batch: 900, Loss: 1.0156\n",
      "Epoch: 12, Batch: 1000, Loss: 0.4938\n",
      "Epoch: 12, Batch: 1100, Loss: 0.6338\n",
      "Epoch: 12, Batch: 1200, Loss: 1.0472\n",
      "Increasing Early Stop count to: 1\n",
      "Epoch 12 Training Loss 0.8772, Training Acc: 0.8171, Val Loss: 0.7950, Val Acc: 0.8635\n",
      "Time taken for 1 epoch 896.3207 sec\n",
      "\n",
      "Epoch: 13, Batch: 0, Loss: 0.5427\n",
      "Epoch: 13, Batch: 100, Loss: 2.9492\n",
      "Epoch: 13, Batch: 200, Loss: 2.2821\n",
      "Epoch: 13, Batch: 300, Loss: 1.8899\n",
      "Epoch: 13, Batch: 400, Loss: 1.6863\n",
      "Epoch: 13, Batch: 500, Loss: 0.6781\n",
      "Epoch: 13, Batch: 600, Loss: 1.6063\n",
      "Epoch: 13, Batch: 700, Loss: 0.6009\n",
      "Epoch: 13, Batch: 800, Loss: 0.5754\n",
      "Epoch: 13, Batch: 900, Loss: 0.4698\n",
      "Epoch: 13, Batch: 1000, Loss: 0.7831\n"
     ]
    },
    {
     "name": "stdout",
     "output_type": "stream",
     "text": [
      "Epoch: 13, Batch: 1100, Loss: 0.3646\n",
      "Epoch: 13, Batch: 1200, Loss: 1.5753\n",
      "Increasing Early Stop count to: 2\n",
      "Epoch 13 Training Loss 1.1980, Training Acc: 0.7172, Val Loss: 1.1449, Val Acc: 0.8113\n",
      "Time taken for 1 epoch 896.7790 sec\n",
      "\n",
      "Epoch: 14, Batch: 0, Loss: 0.8736\n",
      "Epoch: 14, Batch: 100, Loss: 0.4183\n",
      "Epoch: 14, Batch: 200, Loss: 0.4330\n",
      "Epoch: 14, Batch: 300, Loss: 0.4813\n",
      "Epoch: 14, Batch: 400, Loss: 0.3760\n",
      "Epoch: 14, Batch: 500, Loss: 0.4912\n",
      "Epoch: 14, Batch: 600, Loss: 0.3317\n",
      "Epoch: 14, Batch: 700, Loss: 1.3911\n",
      "Epoch: 14, Batch: 800, Loss: 0.6016\n",
      "Epoch: 14, Batch: 900, Loss: 0.5850\n",
      "Epoch: 14, Batch: 1000, Loss: 0.5086\n",
      "Epoch: 14, Batch: 1100, Loss: 0.3956\n",
      "Epoch: 14, Batch: 1200, Loss: 0.4446\n",
      "Increasing Early Stop count to: 3\n",
      "Epoch 14 Training Loss 0.5082, Training Acc: 0.8728, Val Loss: 0.7378, Val Acc: 0.8743\n",
      "Time taken for 1 epoch 891.2369 sec\n",
      "\n",
      "Epoch: 15, Batch: 0, Loss: 0.4298\n",
      "Epoch: 15, Batch: 100, Loss: 0.3582\n",
      "Epoch: 15, Batch: 200, Loss: 0.6604\n",
      "Epoch: 15, Batch: 300, Loss: 0.4366\n",
      "Epoch: 15, Batch: 400, Loss: 3.8010\n",
      "Epoch: 15, Batch: 500, Loss: 2.7893\n",
      "Epoch: 15, Batch: 600, Loss: 2.5898\n",
      "Epoch: 15, Batch: 700, Loss: 2.1828\n",
      "Epoch: 15, Batch: 800, Loss: 2.0967\n",
      "Epoch: 15, Batch: 900, Loss: 2.1263\n",
      "Epoch: 15, Batch: 1000, Loss: 1.9385\n",
      "Epoch: 15, Batch: 1100, Loss: 1.4937\n",
      "Epoch: 15, Batch: 1200, Loss: 1.2559\n",
      "Increasing Early Stop count to: 4\n",
      "Epoch 15 Training Loss 1.6781, Training Acc: 0.7867, Val Loss: 1.5640, Val Acc: 0.7529\n",
      "Time taken for 1 epoch 858.7625 sec\n",
      "\n",
      "Epoch: 16, Batch: 0, Loss: 1.2672\n",
      "Epoch: 16, Batch: 100, Loss: 1.0059\n",
      "Epoch: 16, Batch: 200, Loss: 0.9736\n",
      "Epoch: 16, Batch: 300, Loss: 0.5859\n",
      "Epoch: 16, Batch: 400, Loss: 0.8499\n",
      "Epoch: 16, Batch: 500, Loss: 0.6856\n",
      "Epoch: 16, Batch: 600, Loss: 0.5302\n",
      "Epoch: 16, Batch: 700, Loss: 0.5211\n",
      "Epoch: 16, Batch: 800, Loss: 0.4078\n",
      "Epoch: 16, Batch: 900, Loss: 0.5125\n",
      "Epoch: 16, Batch: 1000, Loss: 0.5453\n",
      "Epoch: 16, Batch: 1100, Loss: 0.5746\n",
      "Epoch: 16, Batch: 1200, Loss: 0.4940\n",
      "Increasing Early Stop count to: 5\n",
      "Loss has not improved for 5 epochs, Early Stoppping\n"
     ]
    }
   ],
   "source": [
    "epochs = 50\n",
    "train_steps_per_epoch = len(train_inp_data)//batch_sz\n",
    "val_steps_per_epoch = len(val_inp_data)//batch_sz\n",
    "# best_val_loss = np.inf\n",
    "best_val_loss = 1.2952\n",
    "train_epoch_losses = []\n",
    "train_epoch_accs = []\n",
    "val_epoch_losses = []\n",
    "val_epoch_accs = []\n",
    "early_stop = 0\n",
    "\n",
    "for epoch in range(epochs):\n",
    "  start = time.time()\n",
    "\n",
    "  enc_hidden = encoder.initialize_hidden_state()\n",
    "  enc_cell = encoder.initialize_cell_state()\n",
    "  train_total_loss = 0.0\n",
    "  train_total_acc = 0.0\n",
    "  val_total_loss = 0.0\n",
    "  val_total_acc = 0.0\n",
    "    \n",
    "  # Training\n",
    "  for (batch, (inp, targ)) in enumerate(train_dataset.take(train_steps_per_epoch)):\n",
    "    train_batch_loss, train_batch_acc = train_step(inp, targ, enc_hidden, enc_cell)\n",
    "    train_total_loss += np.average(train_batch_loss)\n",
    "    train_total_acc += train_batch_acc\n",
    "        \n",
    "    if batch % 100 == 0:\n",
    "      print('Epoch: {}, Batch: {}, Loss: {:.4f}'.format(epoch+1, batch, np.average(train_batch_loss)))\n",
    "      \n",
    "  # Training\n",
    "  train_epoch_loss = train_total_loss/train_steps_per_epoch \n",
    "  train_epoch_losses.append(train_epoch_loss)\n",
    "  \n",
    "  train_epoch_acc = train_total_acc/train_steps_per_epoch\n",
    "  train_epoch_accs.append(train_epoch_acc)    \n",
    "      \n",
    "  # Validation\n",
    "  for (_, (inp, targ)) in enumerate(val_dataset.take(val_steps_per_epoch)):\n",
    "    val_batch_loss, val_batch_acc = test_step(inp, targ, enc_hidden, enc_cell)\n",
    "    val_total_loss += np.average(val_batch_loss)\n",
    "    val_total_acc += val_batch_acc\n",
    "  \n",
    "  # Validation\n",
    "  val_epoch_loss = val_total_loss/val_steps_per_epoch    \n",
    "  val_epoch_losses.append(val_epoch_loss)\n",
    "\n",
    "  val_epoch_acc = val_total_acc/val_steps_per_epoch\n",
    "  val_epoch_accs.append(val_epoch_acc)\n",
    "    \n",
    "  if val_epoch_loss <= best_val_loss:\n",
    "    print('New best val loss: {:.4f} --> {:.4f}'.format(best_val_loss, val_epoch_loss))\n",
    "    best_val_loss = val_epoch_loss\n",
    "    print('New val loss: {:.4f}'.format(best_val_loss))\n",
    "    print('Saving model')\n",
    "    manager.save()\n",
    "    print('Save completed')\n",
    "    print('Resetting Early Stop counter')\n",
    "    early_stop = 0\n",
    "  else:\n",
    "    early_stop += 1\n",
    "    print('Increasing Early Stop count to: {}'.format(early_stop))\n",
    "    if early_stop == 5:\n",
    "      print('Loss has not improved for {} epochs, Early Stoppping'.format(early_stop))\n",
    "      break\n",
    "      \n",
    "  train_template = 'Epoch {} Training Loss {:.4f}, Training Acc: {:.4f}, Val Loss: {:.4f}, Val Acc: {:.4f}'\n",
    "  print(train_template.format(epoch + 1, train_epoch_loss, train_epoch_acc, val_epoch_loss, val_epoch_acc))\n",
    "  print('Time taken for 1 epoch {:.4f} sec\\n'.format(time.time() - start))\n",
    "\n",
    "  train_accuracy.reset_states()\n",
    "  val_accuracy.reset_states()"
   ]
  },
  {
   "cell_type": "markdown",
   "metadata": {
    "colab_type": "text",
    "id": "UkTFC2tUIgXo"
   },
   "source": [
    "### Plot loss and accuracy graphs"
   ]
  },
  {
   "cell_type": "code",
   "execution_count": 35,
   "metadata": {
    "ExecuteTime": {
     "end_time": "2019-10-11T04:26:55.836538Z",
     "start_time": "2019-10-11T04:26:55.710674Z"
    },
    "colab": {},
    "colab_type": "code",
    "id": "9_AJjRbLE1dU"
   },
   "outputs": [
    {
     "data": {
      "image/png": "[encoded data removed]",
      "text/plain": [
       "<Figure size 432x288 with 1 Axes>"
      ]
     },
     "metadata": {
      "needs_background": "light"
     },
     "output_type": "display_data"
    }
   ],
   "source": [
    "# Plot training vs val loss\n",
    "epoch_range = [i for i in range(1, len(train_epoch_losses)+1)]\n",
    "plt.plot(epoch_range, train_epoch_losses, 'r--')\n",
    "plt.plot(epoch_range, val_epoch_losses, 'b--')\n",
    "plt.title('Training vs Val Loss')\n",
    "plt.legend(['Training Loss', 'Val Loss'])\n",
    "plt.xlabel('Epoch')\n",
    "plt.ylabel('Loss')\n",
    "plt.show()"
   ]
  },
  {
   "cell_type": "code",
   "execution_count": 36,
   "metadata": {
    "ExecuteTime": {
     "end_time": "2019-10-11T04:26:55.944563Z",
     "start_time": "2019-10-11T04:26:55.837538Z"
    },
    "colab": {},
    "colab_type": "code",
    "id": "UMJTUGA7E1dW"
   },
   "outputs": [
    {
     "data": {
      "image/png": "[encoded data removed]",
      "text/plain": [
       "<Figure size 432x288 with 1 Axes>"
      ]
     },
     "metadata": {
      "needs_background": "light"
     },
     "output_type": "display_data"
    }
   ],
   "source": [
    "# Plot training vs val accuracy\n",
    "epoch_range = [i for i in range(1, len(train_epoch_losses)+1)]\n",
    "plt.plot(epoch_range, train_epoch_accs, 'r--')\n",
    "plt.plot(epoch_range, val_epoch_accs, 'b--')\n",
    "plt.title('Training vs Val Accuracy')\n",
    "plt.legend(['Training Acc', 'Val Acc'])\n",
    "plt.xlabel('Epoch')\n",
    "plt.ylabel('Loss')\n",
    "plt.show()"
   ]
  },
  {
   "cell_type": "markdown",
   "metadata": {
    "colab_type": "text",
    "id": "ZtBM6T57IqxA"
   },
   "source": [
    "### Evaluate model and test prediction"
   ]
  },
  {
   "cell_type": "code",
   "execution_count": 70,
   "metadata": {
    "ExecuteTime": {
     "end_time": "2019-10-11T14:04:12.414745Z",
     "start_time": "2019-10-11T14:04:11.619564Z"
    },
    "colab": {
     "base_uri": "https://localhost:8080/",
     "height": 34
    },
    "colab_type": "code",
    "executionInfo": {
     "elapsed": 14445,
     "status": "ok",
     "timestamp": 1568940455868,
     "user": {
      "displayName": "Leo Tay",
      "photoUrl": "",
      "userId": "17143338865945125396"
     },
     "user_tz": -480
    },
    "id": "Grzkhh6lPUm1",
    "outputId": "cdcbadea-13a2-474f-dda8-e501b7d99337"
   },
   "outputs": [
    {
     "data": {
      "text/plain": [
       "<tensorflow.python.training.tracking.util.CheckpointLoadStatus at 0x2508aa39d68>"
      ]
     },
     "execution_count": 70,
     "metadata": {},
     "output_type": "execute_result"
    }
   ],
   "source": [
    "# restoring the latest checkpoint in checkpoint_dir\n",
    "checkpoint.restore(manager.latest_checkpoint)"
   ]
  },
  {
   "cell_type": "code",
   "execution_count": 71,
   "metadata": {
    "ExecuteTime": {
     "end_time": "2019-10-11T14:05:18.432565Z",
     "start_time": "2019-10-11T14:04:13.640037Z"
    },
    "colab": {},
    "colab_type": "code",
    "id": "211dBHSOPW4j"
   },
   "outputs": [
    {
     "name": "stdout",
     "output_type": "stream",
     "text": [
      "Testing Loss: 0.6707, Acc: 0.8348\n"
     ]
    }
   ],
   "source": [
    "# Testing\n",
    "test_steps_per_epoch = len(test_inp_data)//batch_sz\n",
    "test_total_loss = 0.0\n",
    "test_total_acc = 0.0\n",
    "test_loss = 0.0\n",
    "test_acc = 0.0\n",
    "enc_hidden = encoder.initialize_hidden_state()\n",
    "enc_cell = encoder.initialize_cell_state()\n",
    "\n",
    "for (_, (inp, targ)) in enumerate(test_dataset.take(test_steps_per_epoch)):\n",
    "  test_batch_loss, test_batch_acc = test_step(inp, targ, enc_hidden, enc_cell)\n",
    "  test_total_loss += np.average(test_batch_loss)\n",
    "  test_total_acc += test_batch_acc\n",
    "\n",
    "# Testing\n",
    "test_loss = test_total_loss/test_steps_per_epoch    \n",
    "# test_epoch_losses.append(test_epoch_loss)\n",
    "\n",
    "test_acc = test_total_acc/test_steps_per_epoch\n",
    "# test_epoch_accs.append(test_epoch_acc)\n",
    "\n",
    "print('Testing Loss: {:.4f}, Acc: {:.4f}'.format(test_loss, test_acc))\n",
    "val_accuracy.reset_states()"
   ]
  },
  {
   "cell_type": "code",
   "execution_count": 76,
   "metadata": {
    "ExecuteTime": {
     "end_time": "2019-10-11T14:05:55.173553Z",
     "start_time": "2019-10-11T14:05:55.169552Z"
    },
    "colab": {},
    "colab_type": "code",
    "id": "W3mPyZAJB4HM"
   },
   "outputs": [
    {
     "name": "stdout",
     "output_type": "stream",
     "text": [
      "Tokenized Data: [    2   239   143   529    38    58    83     6   111   749   172    89\n",
      "  1829   523   217   363   143     6   426    15 21651   146     4 21652\n",
      "    24     1     3     0     0     0     0     0     0     0     0     0\n",
      "     0     0     0     0     0     0     0     0     0     0     0     0\n",
      "     0     0     0     0]\n",
      "\n",
      "\n",
      "Original Data: ['<s>', 'phia', 'tay', 'giap', 'tinh', 'gia', 'lai', 'co', 'duong', 'ranh', 'gioi', 'chung', '130', 'km', 'diem', 'cuc', 'tay', 'co', 'toa', 'do', '14°27', 'bac', ',', '108°27', 'dong', '.', '<e>']\n",
      "Test Sequence: <s> phia tay giap tinh gia lai co duong ranh gioi chung 130 km diem cuc tay co toa do 14°27 bac , 108°27 dong . <e>\n"
     ]
    }
   ],
   "source": [
    "rand = np.random.randint(0, len(test_inp_data)) # Change here\n",
    "test = test_inp_data[rand] # Change here\n",
    "test = convert(input_tokenizer, test, send_back=True)\n",
    "test = ' '.join(test)\n",
    "print('Test Sequence: {}'.format(test))"
   ]
  },
  {
   "cell_type": "code",
   "execution_count": 77,
   "metadata": {
    "ExecuteTime": {
     "end_time": "2019-10-11T14:05:56.405147Z",
     "start_time": "2019-10-11T14:05:55.961055Z"
    },
    "colab": {},
    "colab_type": "code",
    "id": "8w3OzKgvmBfL"
   },
   "outputs": [
    {
     "name": "stdout",
     "output_type": "stream",
     "text": [
      "Tokenized Data: [    2   191   151   758   188    78   813     9   164  1651   133   452\n",
      "  3413   744   176   468   151     9  1435    76 25416   181     4 25417\n",
      "   182     1     3     0     0     0     0     0     0     0     0     0\n",
      "     0     0     0     0     0     0     0     0     0     0     0     0\n",
      "     0     0     0     0]\n",
      "\n",
      "\n",
      "Original Data: ['<s>', 'phía', 'tây', 'giáp', 'tỉnh', 'gia', 'lai', 'có', 'đường', 'ranh', 'giới', 'chung', '130', 'km', 'điểm', 'cực', 'tây', 'có', 'tọa', 'độ', '14°27', 'bắc', ',', '108°27', 'đông', '.', '<e>']\n",
      "Original: <s> phía tây giáp tỉnh gia lai có đường ranh giới chung 130 km điểm cực tây có tọa độ 14°27 bắc , 108°27 đông . <e>\n",
      "Input: <s> phia tay giap tinh gia lai co duong ranh gioi chung 130 km diem cuc tay co toa do 14°27 bac , 108°27 dong . <e>\n",
      "Predicted translation: phía tây giáp tỉnh bình lại có đường ranh giới chúng buộc chạy điểm cực tây có tọa độ sản bắc , mậtlặcnhậtba đóng . <e> \n"
     ]
    },
    {
     "data": {
      "image/png": "[encoded data removed]",
      "text/plain": [
       "<Figure size 720x720 with 1 Axes>"
      ]
     },
     "metadata": {
      "needs_background": "light"
     },
     "output_type": "display_data"
    }
   ],
   "source": [
    "test_tar = convert(target_tokenizer, test_tar_data[rand], send_back=True) # Change here\n",
    "test_tar = ' '.join(test_tar)\n",
    "print('Original: {}'.format(test_tar))\n",
    "restore(test)"
   ]
  },
  {
   "cell_type": "code",
   "execution_count": 78,
   "metadata": {
    "ExecuteTime": {
     "end_time": "2019-10-11T14:06:25.353242Z",
     "start_time": "2019-10-11T14:06:25.348240Z"
    }
   },
   "outputs": [
    {
     "name": "stdout",
     "output_type": "stream",
     "text": [
      "Tokenized Data: [    2    89   157    27     8   691   574    12   336  5111   348     1\n",
      " 20793     8    26   249    36    82    30   200    14   249    36     1\n",
      "     3     0     0     0     0     0     0     0     0     0     0     0\n",
      "     0     0     0     0     0     0     0     0     0     0     0     0\n",
      "     0     0     0     0]\n",
      "\n",
      "\n",
      "Original Data: ['<s>', 'chung', 'sinh', 'thanh', 'va', 'hoai', 'diet', 'trong', 'tung', 'satna', 'sa', '.', 'kṣāṇika', 'va', 'khong', 'ton', 'tai', 'theo', 'dung', 'nghia', 'tu', 'ton', 'tai', '.', '<e>']\n",
      "Test Sequence: <s> chung sinh thanh va hoai diet trong tung satna sa . kṣāṇika va khong ton tai theo dung nghia tu ton tai . <e>\n"
     ]
    }
   ],
   "source": [
    "rand = np.random.randint(0, len(test_inp_data)) # Change here\n",
    "test = test_inp_data[rand] # Change here\n",
    "test = convert(input_tokenizer, test, send_back=True)\n",
    "test = ' '.join(test)\n",
    "print('Test Sequence: {}'.format(test))"
   ]
  },
  {
   "cell_type": "code",
   "execution_count": 79,
   "metadata": {
    "ExecuteTime": {
     "end_time": "2019-10-11T14:06:31.996643Z",
     "start_time": "2019-10-11T14:06:31.624567Z"
    }
   },
   "outputs": [
    {
     "name": "stdout",
     "output_type": "stream",
     "text": [
      "Tokenized Data: [    2   116   106    23     7  1752   888    12   432  7604   355     1\n",
      " 24492     7    17   524    36    46   793   147    21   524    36     1\n",
      "     3     0     0     0     0     0     0     0     0     0     0     0\n",
      "     0     0     0     0     0     0     0     0     0     0     0     0\n",
      "     0     0     0     0]\n",
      "\n",
      "\n",
      "Original Data: ['<s>', 'chúng', 'sinh', 'thành', 'và', 'hoại', 'diệt', 'trong', 'từng', 'sátna', 'sa', '.', 'kṣāṇika', 'và', 'không', 'tồn', 'tại', 'theo', 'đúng', 'nghĩa', 'từ', 'tồn', 'tại', '.', '<e>']\n",
      "Original: <s> chúng sinh thành và hoại diệt trong từng sátna sa . kṣāṇika và không tồn tại theo đúng nghĩa từ tồn tại . <e>\n",
      "Input: <s> chung sinh thanh va hoai diet trong tung satna sa . kṣāṇika va khong ton tai theo dung nghia tu ton tai . <e>\n",
      "Predicted translation: chúng sinh thành và khiến họ trong từng nhập sa . lialh4 và không tồn tại theo đúng nghĩa từ tôn tại . <e> \n"
     ]
    },
    {
     "data": {
      "image/png": "[encoded data removed]",
      "text/plain": [
       "<Figure size 720x720 with 1 Axes>"
      ]
     },
     "metadata": {
      "needs_background": "light"
     },
     "output_type": "display_data"
    }
   ],
   "source": [
    "test_tar = convert(target_tokenizer, test_tar_data[rand], send_back=True) # Change here\n",
    "test_tar = ' '.join(test_tar)\n",
    "print('Original: {}'.format(test_tar))\n",
    "restore(test)"
   ]
  }
 ],
 "metadata": {
  "accelerator": "GPU",
  "colab": {
   "collapsed_sections": [],
   "machine_shape": "hm",
   "name": "Tensorflow.ipynb",
   "provenance": [],
   "toc_visible": true
  },
  "kernelspec": {
   "display_name": "Python 3",
   "language": "python",
   "name": "python3"
  },
  "language_info": {
   "codemirror_mode": {
    "name": "ipython",
    "version": 3
   },
   "file_extension": ".py",
   "mimetype": "text/x-python",
   "name": "python",
   "nbconvert_exporter": "python",
   "pygments_lexer": "ipython3",
   "version": "3.7.3"
  },
  "toc": {
   "base_numbering": 1,
   "nav_menu": {},
   "number_sections": true,
   "sideBar": true,
   "skip_h1_title": false,
   "title_cell": "Table of Contents",
   "title_sidebar": "Contents",
   "toc_cell": true,
   "toc_position": {},
   "toc_section_display": true,
   "toc_window_display": false
  }
 },
 "nbformat": 4,
 "nbformat_minor": 1
}
