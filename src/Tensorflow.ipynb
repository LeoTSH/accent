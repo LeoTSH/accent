{
 "cells": [
  {
   "cell_type": "markdown",
   "metadata": {
    "colab_type": "text",
    "id": "L-4QJfKPmBeH",
    "toc": true
   },
   "source": [
    "<h1>Table of Contents<span class=\"tocSkip\"></span></h1>\n",
    "<div class=\"toc\"><ul class=\"toc-item\"><li><span><a href=\"#Import-packages\" data-toc-modified-id=\"Import-packages-1\"><span class=\"toc-item-num\">1&nbsp;&nbsp;</span>Import packages</a></span></li><li><span><a href=\"#Custom-functions\" data-toc-modified-id=\"Custom-functions-2\"><span class=\"toc-item-num\">2&nbsp;&nbsp;</span>Custom functions</a></span></li><li><span><a href=\"#Environment-variables\" data-toc-modified-id=\"Environment-variables-3\"><span class=\"toc-item-num\">3&nbsp;&nbsp;</span>Environment variables</a></span></li><li><span><a href=\"#Load-and-process-dataset\" data-toc-modified-id=\"Load-and-process-dataset-4\"><span class=\"toc-item-num\">4&nbsp;&nbsp;</span>Load and process dataset</a></span></li><li><span><a href=\"#Define-model-and-model-parameters\" data-toc-modified-id=\"Define-model-and-model-parameters-5\"><span class=\"toc-item-num\">5&nbsp;&nbsp;</span>Define model and model parameters</a></span></li><li><span><a href=\"#Define-loss-and-accuracy-metrics\" data-toc-modified-id=\"Define-loss-and-accuracy-metrics-6\"><span class=\"toc-item-num\">6&nbsp;&nbsp;</span>Define loss and accuracy metrics</a></span></li><li><span><a href=\"#Define-checkpoint-options\" data-toc-modified-id=\"Define-checkpoint-options-7\"><span class=\"toc-item-num\">7&nbsp;&nbsp;</span>Define checkpoint options</a></span></li><li><span><a href=\"#Training-function-and-loop\" data-toc-modified-id=\"Training-function-and-loop-8\"><span class=\"toc-item-num\">8&nbsp;&nbsp;</span>Training function and loop</a></span></li><li><span><a href=\"#Plot-loss-and-accuracy-graphs\" data-toc-modified-id=\"Plot-loss-and-accuracy-graphs-9\"><span class=\"toc-item-num\">9&nbsp;&nbsp;</span>Plot loss and accuracy graphs</a></span></li><li><span><a href=\"#Evaluate-model-and-test-prediction\" data-toc-modified-id=\"Evaluate-model-and-test-prediction-10\"><span class=\"toc-item-num\">10&nbsp;&nbsp;</span>Evaluate model and test prediction</a></span></li></ul></div>"
   ]
  },
  {
   "cell_type": "code",
   "execution_count": 0,
   "metadata": {
    "colab": {
     "base_uri": "https://localhost:8080/",
     "height": 122
    },
    "colab_type": "code",
    "executionInfo": {
     "elapsed": 29697,
     "status": "ok",
     "timestamp": 1571465596427,
     "user": {
      "displayName": "Leo Tay",
      "photoUrl": "",
      "userId": "17143338865945125396"
     },
     "user_tz": -480
    },
    "id": "n0skNmermLnH",
    "outputId": "a2e4d7b7-2d48-42e8-c861-00362551dafc"
   },
   "outputs": [
    {
     "name": "stdout",
     "output_type": "stream",
     "text": [
      "Go to this URL in a browser: https://accounts.google.com/o/oauth2/auth?client_id=947318989803-6bn6qk8qdgf4n4g3pfee6491hc0brc4i.apps.googleusercontent.com&redirect_uri=urn%3Aietf%3Awg%3Aoauth%3A2.0%3Aoob&scope=email%20https%3A%2F%2Fwww.googleapis.com%2Fauth%2Fdocs.test%20https%3A%2F%2Fwww.googleapis.com%2Fauth%2Fdrive%20https%3A%2F%2Fwww.googleapis.com%2Fauth%2Fdrive.photos.readonly%20https%3A%2F%2Fwww.googleapis.com%2Fauth%2Fpeopleapi.readonly&response_type=code\n",
      "\n",
      "Enter your authorization code:\n",
      "··········\n",
      "Mounted at /content/drive\n"
     ]
    }
   ],
   "source": [
    "# from google.colab import drive\n",
    "# drive.mount('/content/drive')"
   ]
  },
  {
   "cell_type": "code",
   "execution_count": 0,
   "metadata": {
    "colab": {
     "base_uri": "https://localhost:8080/",
     "height": 34
    },
    "colab_type": "code",
    "executionInfo": {
     "elapsed": 1393,
     "status": "ok",
     "timestamp": 1571465601117,
     "user": {
      "displayName": "Leo Tay",
      "photoUrl": "",
      "userId": "17143338865945125396"
     },
     "user_tz": -480
    },
    "id": "VAK6-JRSmR9O",
    "outputId": "c5bdd888-6a4a-45c4-c136-7133dcce37b2"
   },
   "outputs": [
    {
     "name": "stdout",
     "output_type": "stream",
     "text": [
      "/content/drive/My Drive/Colab Notebooks/accent/src\n"
     ]
    }
   ],
   "source": [
    "# %cd /content/drive/My Drive/Colab Notebooks/accent/src"
   ]
  },
  {
   "cell_type": "markdown",
   "metadata": {
    "colab_type": "text",
    "id": "KMzR_jdNF33o"
   },
   "source": [
    "### Import packages"
   ]
  },
  {
   "cell_type": "code",
   "execution_count": 1,
   "metadata": {
    "ExecuteTime": {
     "end_time": "2019-10-20T15:00:01.025489Z",
     "start_time": "2019-10-20T14:59:59.095051Z"
    },
    "colab": {
     "base_uri": "https://localhost:8080/",
     "height": 51
    },
    "colab_type": "code",
    "executionInfo": {
     "elapsed": 5247,
     "status": "ok",
     "timestamp": 1571465605431,
     "user": {
      "displayName": "Leo Tay",
      "photoUrl": "",
      "userId": "17143338865945125396"
     },
     "user_tz": -480
    },
    "id": "IdpwZH_SmBeI",
    "outputId": "761c45bc-956e-4fb9-d7ba-54d79e80c2fd"
   },
   "outputs": [
    {
     "data": {
      "text/plain": [
       "'2.0.0'"
      ]
     },
     "execution_count": 1,
     "metadata": {},
     "output_type": "execute_result"
    }
   ],
   "source": [
    "import re, zipfile, os, io, time, string, numpy as np, matplotlib.ticker as ticker, \\\n",
    "            matplotlib.pyplot as plt\n",
    "from token_list import strip_tokens\n",
    "\n",
    "# try:\n",
    "#   # %tensorflow_version only exists in Colab.\n",
    "#   %tensorflow_version 2.x\n",
    "# except Exception:\n",
    "#   pass\n",
    "import tensorflow as tf\n",
    "from tensorflow.keras.preprocessing.text import Tokenizer\n",
    "from tensorflow.keras.preprocessing.sequence import pad_sequences\n",
    "tf.__version__"
   ]
  },
  {
   "cell_type": "code",
   "execution_count": 2,
   "metadata": {
    "ExecuteTime": {
     "end_time": "2019-10-20T15:00:01.028490Z",
     "start_time": "2019-10-20T15:00:01.026489Z"
    },
    "colab": {},
    "colab_type": "code",
    "id": "yrpwYNUCE1cW"
   },
   "outputs": [],
   "source": [
    "# x = ['Khoan no cua KH se den han vao 01/08/2019. So tien  2.999.898 VND, TK 12345678912. Thong tin chi tiet, lien he 1900636633. Cam on',\n",
    "# 'Khoan no cua KH se den han trong 2 ngay toi. So tien  2.999.898 VND, TK 12345678912. Bo qua neu da TT. Thong tin chi tiet, lien he 1900636633. Cam on',\n",
    "# 'Khoan no cua KH da qua han 1 ngay. TK 12345678912, so tien2.999.898 VND. Bo qua neu da TT. Thong tin chi tiet, lien he 18006288',\n",
    "# 'Khoan no cua KH da qua han 6 ngay va bi tinh phat 250,000. TK 12345678912, so tien 2.999.898VND. Vui long TT. Thong tin chi tiet, lien he 18006288',\n",
    "# 'KH da qua han 5 ky no. TK 12345678912, so tien 12.999.898VND. Vui long TT ngay lap tuc. Thong tin chi tiet, lien he 18006288',\n",
    "# 'Khoan no cua KH da bi tinh phat do lien tuc vi pham. TK12345678912, so tien 12.999.898VND. Vui long TT. Thong tin chi tiet, lien he 18006288',\n",
    "# 'Khoan no cua KH da qua han 91 ngay. Vui long TT toan bo29.999.898VND vao TK 12345678912 hom nay. Thong tin chi tiet, lien he 18006288',\n",
    "# 'Chung toi vua nhan thanh toan khoan vay cua KH tu TK12345678912. TUY NHIEN, KH van con thieu 29.999.898VND. Vui long TT toan ngay lap tuc. Cam on']\n",
    "\n",
    "# x = [seq.replace(',', ' ,') for seq in x]\n",
    "# x = [seq.replace('.', ' .') for seq in x]\n",
    "# g = [len(seq.split()) for seq in x]\n",
    "# g"
   ]
  },
  {
   "cell_type": "markdown",
   "metadata": {
    "colab_type": "text",
    "id": "fweq4U5_G4Sb"
   },
   "source": [
    "### Custom functions"
   ]
  },
  {
   "cell_type": "code",
   "execution_count": 3,
   "metadata": {
    "ExecuteTime": {
     "end_time": "2019-10-20T15:00:01.035491Z",
     "start_time": "2019-10-20T15:00:01.029490Z"
    },
    "colab": {},
    "colab_type": "code",
    "id": "t3Yl7IcWmBeL"
   },
   "outputs": [],
   "source": [
    "def process_raw(raw_data):\n",
    "    raw_data = [seq.lower().strip() for seq in raw_data]\n",
    "\n",
    "    # Creating a space between a word and the punctuation following it\n",
    "    raw_data = [re.sub(r\"([?.!,¿])\", r\" \\1 \", seq) for seq in raw_data]\n",
    "    raw_data = [re.sub(r'[\" \"]+', \" \", seq) for seq in raw_data]\n",
    "\n",
    "    # Replacing everything with space except (characters, \".\", \"?\", \"!\", \",\")\n",
    "    filtered_punctuations = string.punctuation\n",
    "    exclude = [',', '!', '.', '?']\n",
    "\n",
    "    for c in filtered_punctuations:\n",
    "        if c in exclude:\n",
    "            filtered_punctuations = filtered_punctuations.replace(c, '')\n",
    "\n",
    "    table = str.maketrans('', '', filtered_punctuations)\n",
    "    raw_data = [seq.translate(table) for seq in raw_data]\n",
    "    \n",
    "    # Append start and end tokens to sequences\n",
    "    processed_raw = []\n",
    "    for seq in raw_data:\n",
    "        words = seq.split()\n",
    "        words = [word.strip() for word in words]\n",
    "        processed_raw.append(' '.join(words))\n",
    "\n",
    "    processed_raw = ['<s> ' + seq + ' <e>' for seq in processed_raw]\n",
    "\n",
    "    return processed_raw"
   ]
  },
  {
   "cell_type": "code",
   "execution_count": 4,
   "metadata": {
    "ExecuteTime": {
     "end_time": "2019-10-20T15:00:01.038492Z",
     "start_time": "2019-10-20T15:00:01.036491Z"
    },
    "colab": {},
    "colab_type": "code",
    "id": "tTLjwvPomBeN"
   },
   "outputs": [],
   "source": [
    "def generate_input(processed_raw):\n",
    "    output = ''\n",
    "    for char in processed_raw:\n",
    "        if char in strip_tokens:\n",
    "            output += strip_tokens[char]\n",
    "        else:\n",
    "            output += char          \n",
    "    return output"
   ]
  },
  {
   "cell_type": "code",
   "execution_count": 5,
   "metadata": {
    "ExecuteTime": {
     "end_time": "2019-10-20T15:00:01.041493Z",
     "start_time": "2019-10-20T15:00:01.039492Z"
    },
    "colab": {},
    "colab_type": "code",
    "id": "IJz8C1jjmBeP"
   },
   "outputs": [],
   "source": [
    "def get_max_len(input_data, get_index=False): \n",
    "    longest = [len(data.split()) for data in input_data]\n",
    "    if get_index:\n",
    "        print(longest.index(max(longest)))\n",
    "    return max(longest)"
   ]
  },
  {
   "cell_type": "code",
   "execution_count": 6,
   "metadata": {
    "ExecuteTime": {
     "end_time": "2019-10-20T15:00:01.045494Z",
     "start_time": "2019-10-20T15:00:01.042493Z"
    },
    "colab": {},
    "colab_type": "code",
    "id": "e9ar4oQxmBeQ"
   },
   "outputs": [],
   "source": [
    "def tokenize_pad_data(data, pad_len=None):\n",
    "    tk = Tokenizer(char_level=False, filters='')\n",
    "    tk.fit_on_texts(data)\n",
    "    data = tk.texts_to_sequences(data)\n",
    "    data = pad_sequences(data, padding='post', maxlen=pad_len)\n",
    "    return data, tk"
   ]
  },
  {
   "cell_type": "code",
   "execution_count": 7,
   "metadata": {
    "ExecuteTime": {
     "end_time": "2019-10-20T15:00:01.048495Z",
     "start_time": "2019-10-20T15:00:01.046494Z"
    },
    "colab": {},
    "colab_type": "code",
    "id": "SmsFiMrtmBeS"
   },
   "outputs": [],
   "source": [
    "def process_data(processed_input, processed_target, pad_len=None):    \n",
    "    tokenized_input, input_tokenizer = tokenize_pad_data(data=processed_input, pad_len=pad_len)\n",
    "    tokenized_target, target_tokenizer = tokenize_pad_data(data=processed_target, pad_len=pad_len)\n",
    "    return tokenized_input, input_tokenizer, tokenized_target, target_tokenizer"
   ]
  },
  {
   "cell_type": "code",
   "execution_count": 8,
   "metadata": {
    "ExecuteTime": {
     "end_time": "2019-10-20T15:00:01.052496Z",
     "start_time": "2019-10-20T15:00:01.049495Z"
    },
    "colab": {},
    "colab_type": "code",
    "id": "6Fw9xOpCmBeT"
   },
   "outputs": [],
   "source": [
    "def convert(tokenizer, tokenized_data, send_back=False):\n",
    "    original = []\n",
    "    \n",
    "    for token in tokenized_data:\n",
    "        if token != 0:\n",
    "            if token in tokenizer.index_word:\n",
    "                original.append(tokenizer.index_word[token])\n",
    "            else:\n",
    "                original.append('<unk>')\n",
    "    \n",
    "    if send_back:\n",
    "        return original"
   ]
  },
  {
   "cell_type": "code",
   "execution_count": 9,
   "metadata": {
    "ExecuteTime": {
     "end_time": "2019-10-20T15:00:01.059497Z",
     "start_time": "2019-10-20T15:00:01.053495Z"
    },
    "colab": {},
    "colab_type": "code",
    "id": "7E-v-DpnNzoU"
   },
   "outputs": [],
   "source": [
    "def evaluate(sentence):\n",
    "    attention_plot = np.zeros((max_process_seq, max_process_seq))\n",
    "\n",
    "    inputs = [input_tokenizer.word_index[i] for i in sentence.split(' ')]\n",
    "    inputs = tf.keras.preprocessing.sequence.pad_sequences([inputs], maxlen=max_process_seq, padding='post')\n",
    "    inputs = tf.convert_to_tensor(inputs)\n",
    "\n",
    "    result = ''\n",
    "\n",
    "    hidden = tf.zeros((1, units))\n",
    "    cell = tf.zeros((1, units))\n",
    "    enc_out, enc_hidden = encoder(inputs, hidden, cell)\n",
    "\n",
    "    dec_hidden = enc_hidden\n",
    "    dec_input = tf.expand_dims([target_tokenizer.word_index['<s>']], 0)\n",
    "\n",
    "    for t in range(max_process_seq):\n",
    "        predictions, dec_hidden, attention_weights = decoder(dec_input, dec_hidden, enc_out)\n",
    "\n",
    "        attention_weights = tf.reshape(attention_weights, (-1, ))\n",
    "        attention_plot[t] = attention_weights.numpy()\n",
    "\n",
    "        predicted_id = tf.argmax(predictions[0]).numpy()\n",
    "\n",
    "        result += target_tokenizer.index_word[predicted_id] + ' '\n",
    "\n",
    "        if target_tokenizer.index_word[predicted_id] == '<e>':\n",
    "            return result, sentence, attention_plot\n",
    "\n",
    "        # the predicted ID is fed back into the model\n",
    "        dec_input = tf.expand_dims([predicted_id], 0)\n",
    "      \n",
    "    return result, sentence, attention_plot"
   ]
  },
  {
   "cell_type": "code",
   "execution_count": 10,
   "metadata": {
    "ExecuteTime": {
     "end_time": "2019-10-20T15:00:01.063497Z",
     "start_time": "2019-10-20T15:00:01.060497Z"
    },
    "colab": {},
    "colab_type": "code",
    "id": "gSd7jEtUNzvo"
   },
   "outputs": [],
   "source": [
    "# function for plotting the attention weights\n",
    "def plot_attention(attention, sentence, predicted_sentence):\n",
    "    fig = plt.figure(figsize=(10,10))\n",
    "    ax = fig.add_subplot(1, 1, 1)\n",
    "    ax.matshow(attention, cmap='viridis')\n",
    "\n",
    "    fontdict = {'fontsize': 14}\n",
    "\n",
    "    ax.set_xticklabels([''] + sentence, fontdict=fontdict, rotation=90)\n",
    "    ax.set_yticklabels([''] + predicted_sentence, fontdict=fontdict)\n",
    "\n",
    "    ax.xaxis.set_major_locator(ticker.MultipleLocator(1))\n",
    "    ax.yaxis.set_major_locator(ticker.MultipleLocator(1))\n",
    "\n",
    "    plt.show()"
   ]
  },
  {
   "cell_type": "code",
   "execution_count": 11,
   "metadata": {
    "ExecuteTime": {
     "end_time": "2019-10-20T15:00:01.067499Z",
     "start_time": "2019-10-20T15:00:01.064498Z"
    },
    "colab": {},
    "colab_type": "code",
    "id": "CnhFxU4ANzz_"
   },
   "outputs": [],
   "source": [
    "def restore(sentence, plot=False):\n",
    "    result, sentence, attention_plot = evaluate(sentence)\n",
    "    \n",
    "    if plot:\n",
    "      attention_plot = attention_plot[:len(result.split(' ')), :len(sentence.split(' '))]\n",
    "      plot_attention(attention_plot, sentence.split(' '), result.split(' '))\n",
    "    \n",
    "    return result"
   ]
  },
  {
   "cell_type": "markdown",
   "metadata": {
    "colab_type": "text",
    "id": "iTO5vpqCHFow"
   },
   "source": [
    "### Environment variables"
   ]
  },
  {
   "cell_type": "code",
   "execution_count": 12,
   "metadata": {
    "ExecuteTime": {
     "end_time": "2019-10-20T15:00:01.706598Z",
     "start_time": "2019-10-20T15:00:01.704599Z"
    },
    "colab": {
     "base_uri": "https://localhost:8080/",
     "height": 34
    },
    "colab_type": "code",
    "executionInfo": {
     "elapsed": 3288,
     "status": "ok",
     "timestamp": 1571465605435,
     "user": {
      "displayName": "Leo Tay",
      "photoUrl": "",
      "userId": "17143338865945125396"
     },
     "user_tz": -480
    },
    "id": "5rzxmuS-mBeV",
    "outputId": "1ed461c1-f0a6-4e17-d0cc-890b2a51eec8"
   },
   "outputs": [],
   "source": [
    "# Define data arguements\n",
    "# Set random seed\n",
    "np.random.seed(50)\n",
    "data_file = '../data/raw/raw_train.txt'"
   ]
  },
  {
   "cell_type": "markdown",
   "metadata": {
    "colab_type": "text",
    "id": "ZeSFzXKgHKu0"
   },
   "source": [
    "### Load and process dataset"
   ]
  },
  {
   "cell_type": "code",
   "execution_count": 13,
   "metadata": {
    "ExecuteTime": {
     "end_time": "2019-10-20T15:00:02.418887Z",
     "start_time": "2019-10-20T15:00:02.274855Z"
    },
    "colab": {},
    "colab_type": "code",
    "id": "mpeUU7WdmBeX"
   },
   "outputs": [],
   "source": [
    "# Load dataset\n",
    "counter = 0\n",
    "max_seq_len = 40\n",
    "no_seq = 30000\n",
    "raw_data = []\n",
    "\n",
    "# Load raw data and read first 100000 sequences with 40 or less words\n",
    "with open(data_file, 'r', encoding='utf-8') as f:    \n",
    "    while counter != no_seq:\n",
    "        line = f.readline()\n",
    "        if 10 <= len(line.split()) <= max_seq_len:\n",
    "            raw_data.append(line)\n",
    "            counter += 1\n",
    "        else:\n",
    "            continue"
   ]
  },
  {
   "cell_type": "code",
   "execution_count": 14,
   "metadata": {
    "ExecuteTime": {
     "end_time": "2019-10-20T15:00:03.699569Z",
     "start_time": "2019-10-20T15:00:02.546957Z"
    },
    "colab": {
     "base_uri": "https://localhost:8080/",
     "height": 51
    },
    "colab_type": "code",
    "executionInfo": {
     "elapsed": 5590,
     "status": "ok",
     "timestamp": 1571465617000,
     "user": {
      "displayName": "Leo Tay",
      "photoUrl": "",
      "userId": "17143338865945125396"
     },
     "user_tz": -480
    },
    "id": "8qXuFMzlmBeZ",
    "outputId": "cbac9953-fcb8-40b5-dd67-a8a1979f8e64"
   },
   "outputs": [
    {
     "name": "stdout",
     "output_type": "stream",
     "text": [
      "Max input sequence length: 49\n",
      "Max target sequence length: 49\n"
     ]
    }
   ],
   "source": [
    "# Process dataset\n",
    "# Process raw and input data\n",
    "filtered_raw = process_raw(raw_data)\n",
    "processed_inp = [generate_input(seq) for seq in filtered_raw]\n",
    "\n",
    "# Get max sequence length after processing\n",
    "max_process_seq = get_max_len(processed_inp, get_index=False)\n",
    "print('Max input sequence length: {}'.format(get_max_len(processed_inp)))\n",
    "print('Max target sequence length: {}'.format(get_max_len(filtered_raw)))"
   ]
  },
  {
   "cell_type": "code",
   "execution_count": 15,
   "metadata": {
    "ExecuteTime": {
     "end_time": "2019-10-20T15:00:03.702570Z",
     "start_time": "2019-10-20T15:00:03.700569Z"
    },
    "colab": {
     "base_uri": "https://localhost:8080/",
     "height": 119
    },
    "colab_type": "code",
    "executionInfo": {
     "elapsed": 5444,
     "status": "ok",
     "timestamp": 1571465617000,
     "user": {
      "displayName": "Leo Tay",
      "photoUrl": "",
      "userId": "17143338865945125396"
     },
     "user_tz": -480
    },
    "id": "o_H9BS41mBed",
    "outputId": "b715401b-76fd-498f-f424-622751a135a9"
   },
   "outputs": [
    {
     "name": "stdout",
     "output_type": "stream",
     "text": [
      "Input Sample:\n",
      "<s> ngan hang quoc gia dua ra mot lai suat nhat dinh khi dua tien cho cac ngan hang thuong mai , goi la lai suat co ban . <e>\n",
      "\n",
      "\n",
      "Target Sample:\n",
      "<s> ngân hàng quốc gia đưa ra một lãi suất nhất định khi đưa tiền cho các ngân hàng thương mại , gọi là lãi suất cơ bản . <e>\n"
     ]
    }
   ],
   "source": [
    "print('Input Sample:')\n",
    "print(processed_inp[-1])\n",
    "print('\\n')\n",
    "print('Target Sample:')\n",
    "print(filtered_raw[-1])"
   ]
  },
  {
   "cell_type": "code",
   "execution_count": 16,
   "metadata": {
    "ExecuteTime": {
     "end_time": "2019-10-20T15:00:05.768920Z",
     "start_time": "2019-10-20T15:00:03.703569Z"
    },
    "colab": {},
    "colab_type": "code",
    "id": "-N7GaOalmBee"
   },
   "outputs": [],
   "source": [
    "# Tokenize/pad input and target data, generates corresponding tokenizers\n",
    "tokenized_input, input_tokenizer, tokenized_target, target_tokenizer = process_data(processed_input=processed_inp, \n",
    "                                                            processed_target=filtered_raw, pad_len=max_process_seq)"
   ]
  },
  {
   "cell_type": "code",
   "execution_count": 17,
   "metadata": {
    "ExecuteTime": {
     "end_time": "2019-10-20T15:00:05.774921Z",
     "start_time": "2019-10-20T15:00:05.769921Z"
    },
    "colab": {
     "base_uri": "https://localhost:8080/",
     "height": 68
    },
    "colab_type": "code",
    "executionInfo": {
     "elapsed": 10588,
     "status": "ok",
     "timestamp": 1571465622448,
     "user": {
      "displayName": "Leo Tay",
      "photoUrl": "",
      "userId": "17143338865945125396"
     },
     "user_tz": -480
    },
    "id": "_xin5HNPmBer",
    "outputId": "c1d027b6-949f-4c10-cd29-b4d7e5c0405b"
   },
   "outputs": [
    {
     "name": "stdout",
     "output_type": "stream",
     "text": [
      "Number of training sequences: 24000\n",
      "Number of val sequences: 3000\n",
      "Number of test sequences: 3000\n"
     ]
    }
   ],
   "source": [
    "train_data_len = round((.8 * no_seq))\n",
    "val_test_data_len = round((.1 * no_seq))\n",
    "\n",
    "train_inp_data, train_tar_data = tokenized_input[:train_data_len], tokenized_target[:train_data_len]\n",
    "val_inp_data, val_tar_data = tokenized_input[train_data_len:(train_data_len+val_test_data_len)], \\\n",
    "                                    tokenized_target[train_data_len:(train_data_len+val_test_data_len)]\n",
    "test_inp_data, test_tar_data = tokenized_input[-val_test_data_len:], tokenized_target[-val_test_data_len:]\n",
    "\n",
    "print('Number of training sequences: {}'.format(len(train_inp_data)))\n",
    "print('Number of val sequences: {}'.format(len(val_inp_data)))\n",
    "print('Number of test sequences: {}'.format(len(test_inp_data)))"
   ]
  },
  {
   "cell_type": "code",
   "execution_count": 18,
   "metadata": {
    "ExecuteTime": {
     "end_time": "2019-10-20T15:00:05.777923Z",
     "start_time": "2019-10-20T15:00:05.775923Z"
    },
    "colab": {},
    "colab_type": "code",
    "id": "FhIKiOx5mBet"
   },
   "outputs": [],
   "source": [
    "convert(input_tokenizer, train_inp_data[0])"
   ]
  },
  {
   "cell_type": "code",
   "execution_count": 19,
   "metadata": {
    "ExecuteTime": {
     "end_time": "2019-10-20T15:00:06.327209Z",
     "start_time": "2019-10-20T15:00:05.778926Z"
    },
    "colab": {},
    "colab_type": "code",
    "id": "dquKNOnxmBez",
    "scrolled": true
   },
   "outputs": [],
   "source": [
    "train_buffer_sz = len(train_inp_data)\n",
    "val_buffer_sz = len(val_inp_data)\n",
    "test_buffer_sz = len(test_inp_data)\n",
    "batch_sz = 32\n",
    "\n",
    "train_dataset = tf.data.Dataset.from_tensor_slices((train_inp_data, train_tar_data)).shuffle(train_buffer_sz)\n",
    "train_dataset = train_dataset.batch(batch_sz, drop_remainder=True)\n",
    "\n",
    "val_dataset = tf.data.Dataset.from_tensor_slices((val_inp_data, val_tar_data)).shuffle(val_buffer_sz)\n",
    "val_dataset = val_dataset.batch(batch_sz, drop_remainder=True)\n",
    "\n",
    "test_dataset = tf.data.Dataset.from_tensor_slices((test_inp_data, test_tar_data)).shuffle(test_buffer_sz)\n",
    "test_dataset = test_dataset.batch(batch_sz, drop_remainder=True)"
   ]
  },
  {
   "cell_type": "code",
   "execution_count": 20,
   "metadata": {
    "ExecuteTime": {
     "end_time": "2019-10-20T15:00:06.371368Z",
     "start_time": "2019-10-20T15:00:06.328210Z"
    },
    "colab": {},
    "colab_type": "code",
    "id": "58s7L7KJSPPj"
   },
   "outputs": [],
   "source": [
    "example_input_batch, example_target_batch = next(iter(train_dataset))\n",
    "# example_input_batch.shape, example_target_batch.shape\n",
    "\n",
    "example_val_inp_batch, example_val_tar_batch = next(iter(val_dataset))\n",
    "# example_val_inp_batch.shape, example_val_tar_batch.shape\n",
    "\n",
    "example_test_inp_batch, example_test_tar_batch = next(iter(test_dataset))\n",
    "# example_test_inp_batch.shape, example_test_tar_batch.shape"
   ]
  },
  {
   "cell_type": "markdown",
   "metadata": {
    "colab_type": "text",
    "id": "uo6i8NHxHPMt"
   },
   "source": [
    "### Define model and model parameters"
   ]
  },
  {
   "cell_type": "code",
   "execution_count": 21,
   "metadata": {
    "ExecuteTime": {
     "end_time": "2019-10-20T15:00:07.490891Z",
     "start_time": "2019-10-20T15:00:07.487891Z"
    },
    "colab": {
     "base_uri": "https://localhost:8080/",
     "height": 51
    },
    "colab_type": "code",
    "executionInfo": {
     "elapsed": 11631,
     "status": "ok",
     "timestamp": 1571465624277,
     "user": {
      "displayName": "Leo Tay",
      "photoUrl": "",
      "userId": "17143338865945125396"
     },
     "user_tz": -480
    },
    "id": "JMqR7Y6umBe6",
    "outputId": "43efb1d5-163d-42e8-8830-ed2fd6372159"
   },
   "outputs": [
    {
     "name": "stdout",
     "output_type": "stream",
     "text": [
      "Input vocabulary: 14130\n",
      "Target vocabulary: 17408\n"
     ]
    }
   ],
   "source": [
    "embedding_dim = 256\n",
    "units = 512\n",
    "dropout = 0.3\n",
    "inp_vocab_sz = len(input_tokenizer.index_word)+1\n",
    "tar_vocab_sz = len(target_tokenizer.index_word)+1\n",
    "\n",
    "print('Input vocabulary: {}'.format(inp_vocab_sz))\n",
    "print('Target vocabulary: {}'.format(tar_vocab_sz))"
   ]
  },
  {
   "cell_type": "code",
   "execution_count": 22,
   "metadata": {
    "ExecuteTime": {
     "end_time": "2019-10-20T15:00:09.180503Z",
     "start_time": "2019-10-20T15:00:09.175502Z"
    },
    "colab": {},
    "colab_type": "code",
    "id": "cj-IlNQsmBe7"
   },
   "outputs": [],
   "source": [
    "class Encoder(tf.keras.Model):\n",
    "  def __init__(self, vocab_size, embedding_dim, enc_units, batch_sz):\n",
    "    super().__init__()\n",
    "    self.batch_sz = batch_sz\n",
    "    self.enc_units = enc_units\n",
    "    self.embedding = tf.keras.layers.Embedding(vocab_size, embedding_dim)\n",
    "    self.lstm = tf.keras.layers.LSTM(self.enc_units, return_sequences=True, return_state=True, recurrent_initializer='glorot_uniform', dropout=dropout)\n",
    "\n",
    "            \n",
    "  def call(self, x, hidden, cell):\n",
    "    x = self.embedding(x)\n",
    "    output, state, cell = self.lstm(x, initial_state = [hidden, cell])\n",
    "    return output, state\n",
    "\n",
    "  def initialize_hidden_state(self):\n",
    "    return tf.zeros((self.batch_sz, self.enc_units))\n",
    "\n",
    "  def initialize_cell_state(self):\n",
    "    return tf.zeros((self.batch_sz, self.enc_units))"
   ]
  },
  {
   "cell_type": "code",
   "execution_count": 23,
   "metadata": {
    "ExecuteTime": {
     "end_time": "2019-10-20T15:00:10.852898Z",
     "start_time": "2019-10-20T15:00:10.847897Z"
    },
    "colab": {
     "base_uri": "https://localhost:8080/",
     "height": 51
    },
    "colab_type": "code",
    "executionInfo": {
     "elapsed": 16334,
     "status": "ok",
     "timestamp": 1571465629326,
     "user": {
      "displayName": "Leo Tay",
      "photoUrl": "",
      "userId": "17143338865945125396"
     },
     "user_tz": -480
    },
    "id": "-cZZxz3WmBe9",
    "outputId": "a8c20b89-541b-4469-f4a6-463b431da994"
   },
   "outputs": [],
   "source": [
    "encoder = Encoder(inp_vocab_sz, embedding_dim, units, batch_sz)\n",
    "\n",
    "# sample input\n",
    "# sample_hidden = encoder.initialize_hidden_state()\n",
    "# sample_cell = encoder.initialize_cell_state()\n",
    "# sample_output, sample_hidden = encoder(example_input_batch, sample_hidden, sample_cell)\n",
    "# print ('Encoder output shape: (batch size, sequence length, units) {}'.format(sample_output.shape))\n",
    "# print ('Encoder Hidden state shape: (batch size, units) {}'.format(sample_hidden[0].shape))"
   ]
  },
  {
   "cell_type": "code",
   "execution_count": 24,
   "metadata": {
    "ExecuteTime": {
     "end_time": "2019-10-20T15:00:11.262035Z",
     "start_time": "2019-10-20T15:00:11.258034Z"
    },
    "colab": {},
    "colab_type": "code",
    "id": "i2LssOB5rGBV"
   },
   "outputs": [],
   "source": [
    "class BahdanauAttention(tf.keras.Model):\n",
    "  def __init__(self, units):\n",
    "    super().__init__()\n",
    "    self.W1 = tf.keras.layers.Dense(units)\n",
    "    self.W2 = tf.keras.layers.Dense(units)\n",
    "    self.V = tf.keras.layers.Dense(1)\n",
    "\n",
    "  def call(self, query, values):\n",
    "    hidden_with_time_axis = tf.expand_dims(query, 1)\n",
    "\n",
    "    score = self.V(tf.nn.tanh(self.W1(values) + self.W2(hidden_with_time_axis)))\n",
    "\n",
    "    attention_weights = tf.nn.softmax(score, axis=1)\n",
    "\n",
    "    context_vector = attention_weights * values\n",
    "    context_vector = tf.reduce_sum(context_vector, axis=1)\n",
    "\n",
    "    return context_vector, attention_weights"
   ]
  },
  {
   "cell_type": "code",
   "execution_count": 25,
   "metadata": {
    "ExecuteTime": {
     "end_time": "2019-10-20T15:00:12.181985Z",
     "start_time": "2019-10-20T15:00:12.179985Z"
    },
    "colab": {
     "base_uri": "https://localhost:8080/",
     "height": 51
    },
    "colab_type": "code",
    "executionInfo": {
     "elapsed": 16875,
     "status": "ok",
     "timestamp": 1571465630540,
     "user": {
      "displayName": "Leo Tay",
      "photoUrl": "",
      "userId": "17143338865945125396"
     },
     "user_tz": -480
    },
    "id": "iG--lBXPrsn7",
    "outputId": "50051d4e-d8ac-4f7c-d5e3-fcb9eb535585"
   },
   "outputs": [],
   "source": [
    "# attention_layer = BahdanauAttention(512)\n",
    "# attention_result, attention_weights = attention_layer(sample_hidden, sample_output)\n",
    "\n",
    "# print(\"Attention result shape: (batch size, units) {}\".format(attention_result.shape))\n",
    "# print(\"Attention weights shape: (batch_size, sequence_length, 1) {}\".format(attention_weights.shape))"
   ]
  },
  {
   "cell_type": "code",
   "execution_count": 26,
   "metadata": {
    "ExecuteTime": {
     "end_time": "2019-10-20T15:00:12.708967Z",
     "start_time": "2019-10-20T15:00:12.702966Z"
    },
    "colab": {},
    "colab_type": "code",
    "id": "IWUJincXmBe-"
   },
   "outputs": [],
   "source": [
    "class Decoder(tf.keras.Model):\n",
    "  def __init__(self, vocab_size, embedding_dim, dec_units, batch_sz):\n",
    "    super().__init__()\n",
    "    self.batch_sz = batch_sz\n",
    "    self.dec_units = dec_units\n",
    "    self.embedding = tf.keras.layers.Embedding(vocab_size, embedding_dim)\n",
    "    self.lstm = tf.keras.layers.LSTM(self.dec_units, return_sequences=True, return_state=True, recurrent_initializer='glorot_uniform', dropout=dropout)\n",
    "    self.fc = tf.keras.layers.Dense(vocab_size)\n",
    "\n",
    "    self.attention = BahdanauAttention(self.dec_units)\n",
    "\n",
    "  def call(self, x, hidden, enc_output):\n",
    "    context_vector, attention_weights = self.attention(hidden, enc_output)\n",
    "\n",
    "    x = self.embedding(x)\n",
    "\n",
    "    x = tf.concat([tf.expand_dims(context_vector, 1), x], axis=-1)\n",
    "\n",
    "    output, state, cell = self.lstm(x)\n",
    "\n",
    "    output = tf.reshape(output, (-1, output.shape[2]))\n",
    "\n",
    "    x = self.fc(output)\n",
    "\n",
    "    return x, state, attention_weights"
   ]
  },
  {
   "cell_type": "code",
   "execution_count": 27,
   "metadata": {
    "ExecuteTime": {
     "end_time": "2019-10-20T15:00:13.388227Z",
     "start_time": "2019-10-20T15:00:13.381226Z"
    },
    "colab": {
     "base_uri": "https://localhost:8080/",
     "height": 34
    },
    "colab_type": "code",
    "executionInfo": {
     "elapsed": 15340,
     "status": "ok",
     "timestamp": 1571465630541,
     "user": {
      "displayName": "Leo Tay",
      "photoUrl": "",
      "userId": "17143338865945125396"
     },
     "user_tz": -480
    },
    "id": "QJFP7gbQmBfA",
    "outputId": "4fd26017-3029-419a-d51c-1cb83d6bfbb8"
   },
   "outputs": [],
   "source": [
    "decoder = Decoder(tar_vocab_sz, embedding_dim, units, batch_sz)\n",
    "\n",
    "# sample_decoder_output, _, _ = decoder(tf.random.uniform((batch_sz, 1)), sample_hidden, sample_output)\n",
    "\n",
    "# print ('Decoder output shape: (batch_size, vocab size) {}'.format(sample_decoder_output.shape))"
   ]
  },
  {
   "cell_type": "markdown",
   "metadata": {
    "colab_type": "text",
    "id": "ZwSUyr7zHeNO"
   },
   "source": [
    "### Define loss and accuracy metrics"
   ]
  },
  {
   "cell_type": "code",
   "execution_count": 28,
   "metadata": {
    "ExecuteTime": {
     "end_time": "2019-10-20T15:00:15.620003Z",
     "start_time": "2019-10-20T15:00:15.275734Z"
    },
    "colab": {},
    "colab_type": "code",
    "id": "Xmjl4_cVmBfB"
   },
   "outputs": [],
   "source": [
    "optimizer = tf.keras.optimizers.Adam(lr=0.001)\n",
    "\n",
    "loss_object = tf.keras.losses.SparseCategoricalCrossentropy(from_logits=True, reduction='none')\n",
    "\n",
    "def loss_function(real, pred):\n",
    "  mask = tf.math.logical_not(tf.math.equal(real, 0))\n",
    "  loss_ = loss_object(real, pred)\n",
    "\n",
    "  mask = tf.cast(mask, dtype=loss_.dtype)\n",
    "  loss_ *= mask\n",
    "\n",
    "  return tf.reduce_mean(loss_)\n",
    "\n",
    "train_accuracy = tf.keras.metrics.SparseCategoricalAccuracy(name='train_accuracy')\n",
    "\n",
    "val_accuracy = tf.keras.metrics.SparseCategoricalAccuracy(name='val_accuracy')"
   ]
  },
  {
   "cell_type": "markdown",
   "metadata": {
    "colab_type": "text",
    "id": "BMLXtj5SHiFw"
   },
   "source": [
    "### Define checkpoint options"
   ]
  },
  {
   "cell_type": "code",
   "execution_count": 29,
   "metadata": {
    "ExecuteTime": {
     "end_time": "2019-10-20T15:00:16.372109Z",
     "start_time": "2019-10-20T15:00:16.368108Z"
    },
    "colab": {},
    "colab_type": "code",
    "id": "-E_bnkXQmBfD"
   },
   "outputs": [],
   "source": [
    "checkpoint_dir = './training_checkpoints'\n",
    "  \n",
    "checkpoint = tf.train.Checkpoint(optimizer=optimizer, encoder=encoder, decoder=decoder)\n",
    "manager = tf.train.CheckpointManager(checkpoint=checkpoint, directory=checkpoint_dir, max_to_keep=1)"
   ]
  },
  {
   "cell_type": "markdown",
   "metadata": {
    "colab_type": "text",
    "id": "M4j_vL7WIXNp"
   },
   "source": [
    "### Training function and loop"
   ]
  },
  {
   "cell_type": "code",
   "execution_count": 30,
   "metadata": {
    "ExecuteTime": {
     "end_time": "2019-10-20T15:00:18.298986Z",
     "start_time": "2019-10-20T15:00:18.293986Z"
    },
    "colab": {},
    "colab_type": "code",
    "id": "35xeW0fumBfF"
   },
   "outputs": [],
   "source": [
    "@tf.function\n",
    "def train_step(inp, targ, enc_hidden, enc_cell):\n",
    "    loss = 0.0\n",
    "\n",
    "    with tf.GradientTape() as tape:\n",
    "        enc_output, enc_hidden = encoder(inp, enc_hidden, enc_cell)\n",
    "\n",
    "        dec_hidden = enc_hidden\n",
    "\n",
    "        dec_input = tf.expand_dims([target_tokenizer.word_index['<s>']] * batch_sz, 1)\n",
    "\n",
    "        # Teacher forcing, feeding the target as the next input\n",
    "        for t in range(1, targ.shape[1]):\n",
    "            # Passing the Encoder output to the Decoder\n",
    "            predictions, dec_hidden, _ = decoder(dec_input, dec_hidden, enc_output)      \n",
    "            loss += loss_function(targ[:, t], predictions)\n",
    "                   \n",
    "            # Teacher forcing\n",
    "            dec_input = tf.expand_dims(targ[:, t], 1)\n",
    "      \n",
    "    variables = encoder.trainable_variables + decoder.trainable_variables\n",
    "    gradients = tape.gradient(loss, variables)\n",
    "    optimizer.apply_gradients(zip(gradients, variables))    \n",
    "    batch_loss = loss / int(targ.shape[1])\n",
    "\n",
    "    return batch_loss"
   ]
  },
  {
   "cell_type": "code",
   "execution_count": 31,
   "metadata": {
    "ExecuteTime": {
     "end_time": "2019-10-20T15:00:18.610076Z",
     "start_time": "2019-10-20T15:00:18.606076Z"
    },
    "colab": {},
    "colab_type": "code",
    "id": "yZYFzRhgmodv"
   },
   "outputs": [],
   "source": [
    "@tf.function\n",
    "def test_step(inp, targ, enc_hidden, enc_cell):\n",
    "  loss = 0.0\n",
    "  \n",
    "  enc_output, enc_hidden = encoder(inp, enc_hidden, enc_cell)\n",
    "  dec_hidden = enc_hidden\n",
    "  \n",
    "  # Initialize Decoder input with start token\n",
    "  dec_input = tf.expand_dims([target_tokenizer.word_index['<s>']] * batch_sz, 1)\n",
    "\n",
    "  for t in range(1, targ.shape[1]):\n",
    "    predictions, dec_hidden, _ = decoder(dec_input, dec_hidden, enc_output)\n",
    "    loss += loss_function(targ[:, t], predictions)\n",
    "    dec_input = tf.expand_dims(targ[:, t], 1)\n",
    "    \n",
    "  batch_loss = loss / int(targ.shape[1])\n",
    "\n",
    "  return batch_loss"
   ]
  },
  {
   "cell_type": "code",
   "execution_count": 34,
   "metadata": {
    "ExecuteTime": {
     "end_time": "2019-10-20T16:26:42.486694Z",
     "start_time": "2019-10-20T15:01:10.550504Z"
    },
    "colab": {
     "base_uri": "https://localhost:8080/",
     "height": 1000
    },
    "colab_type": "code",
    "executionInfo": {
     "elapsed": 10394383,
     "status": "ok",
     "timestamp": 1571478943513,
     "user": {
      "displayName": "Leo Tay",
      "photoUrl": "",
      "userId": "17143338865945125396"
     },
     "user_tz": -480
    },
    "id": "qSCqgFtRmBfG",
    "outputId": "64670c44-7ae2-4376-aae9-3a4b453c8a0c",
    "scrolled": true
   },
   "outputs": [
    {
     "name": "stdout",
     "output_type": "stream",
     "text": [
      "Epoch: 1, Batch: 0, Loss: 0.1853\n",
      "Epoch: 1, Batch: 100, Loss: 0.2372\n",
      "Epoch: 1, Batch: 200, Loss: 0.8236\n",
      "Epoch: 1, Batch: 300, Loss: 0.3252\n",
      "Epoch: 1, Batch: 400, Loss: 0.5181\n",
      "Epoch: 1, Batch: 500, Loss: 2.4501\n",
      "Epoch: 1, Batch: 600, Loss: 2.2706\n",
      "Epoch: 1, Batch: 700, Loss: 1.4137\n",
      "Epoch 1 Training Loss 1.1585, Val Loss: 1.5396\n",
      "Time taken for 1 epoch 149.9308 sec\n",
      "\n",
      "Epoch: 2, Batch: 0, Loss: 0.9388\n",
      "Epoch: 2, Batch: 100, Loss: 0.5224\n",
      "Epoch: 2, Batch: 200, Loss: 0.8041\n",
      "Epoch: 2, Batch: 300, Loss: 0.3160\n",
      "Epoch: 2, Batch: 400, Loss: 0.4206\n",
      "Epoch: 2, Batch: 500, Loss: 0.3067\n",
      "Epoch: 2, Batch: 600, Loss: 0.4778\n",
      "Epoch: 2, Batch: 700, Loss: 0.4413\n",
      "Epoch 2 Training Loss 0.5214, Val Loss: 0.9687\n",
      "Time taken for 1 epoch 100.3991 sec\n",
      "\n",
      "Epoch: 3, Batch: 0, Loss: 0.5037\n",
      "Epoch: 3, Batch: 100, Loss: 1.1822\n",
      "Epoch: 3, Batch: 200, Loss: 0.4075\n",
      "Epoch: 3, Batch: 300, Loss: 0.6198\n",
      "Epoch: 3, Batch: 400, Loss: 0.3490\n",
      "Epoch: 3, Batch: 500, Loss: 0.2990\n",
      "Epoch: 3, Batch: 600, Loss: 0.4896\n",
      "Epoch: 3, Batch: 700, Loss: 0.3497\n",
      "Epoch 3 Training Loss 0.4833, Val Loss: 1.0482\n",
      "Time taken for 1 epoch 99.1686 sec\n",
      "\n",
      "Epoch: 4, Batch: 0, Loss: 0.3907\n",
      "Epoch: 4, Batch: 100, Loss: 2.1218\n",
      "Epoch: 4, Batch: 200, Loss: 1.7383\n",
      "Epoch: 4, Batch: 300, Loss: 0.8759\n",
      "Epoch: 4, Batch: 400, Loss: 2.1777\n",
      "Epoch: 4, Batch: 500, Loss: 0.6025\n",
      "Epoch: 4, Batch: 600, Loss: 1.6137\n",
      "Epoch: 4, Batch: 700, Loss: 0.6302\n",
      "Epoch 4 Training Loss 1.3724, Val Loss: 1.1165\n",
      "Time taken for 1 epoch 100.6538 sec\n",
      "\n",
      "Epoch: 5, Batch: 0, Loss: 0.4408\n",
      "Epoch: 5, Batch: 100, Loss: 0.3258\n",
      "Epoch: 5, Batch: 200, Loss: 0.6105\n",
      "Epoch: 5, Batch: 300, Loss: 0.5187\n",
      "Epoch: 5, Batch: 400, Loss: 0.3536\n",
      "Epoch: 5, Batch: 500, Loss: 0.4195\n",
      "Epoch: 5, Batch: 600, Loss: 0.3863\n",
      "Epoch: 5, Batch: 700, Loss: 0.3285\n",
      "Epoch 5 Training Loss 0.4752, Val Loss: 1.1384\n",
      "Time taken for 1 epoch 99.9548 sec\n",
      "\n",
      "Epoch: 6, Batch: 0, Loss: 0.6443\n",
      "Epoch: 6, Batch: 100, Loss: 0.2481\n",
      "Epoch: 6, Batch: 200, Loss: 0.2683\n",
      "Epoch: 6, Batch: 300, Loss: 0.2922\n",
      "Epoch: 6, Batch: 400, Loss: 0.5978\n",
      "Epoch: 6, Batch: 500, Loss: 0.2476\n",
      "Epoch: 6, Batch: 600, Loss: 0.3345\n",
      "Epoch: 6, Batch: 700, Loss: 0.1882\n",
      "New best val loss: 0.7768 --> 0.7705\n",
      "Saving model\n",
      "Save completed\n",
      "Resetting Early Stop counter\n",
      "Epoch 6 Training Loss 0.3023, Val Loss: 0.7705\n",
      "Time taken for 1 epoch 102.2201 sec\n",
      "\n",
      "Epoch: 7, Batch: 0, Loss: 0.2469\n",
      "Epoch: 7, Batch: 100, Loss: 0.4331\n",
      "Epoch: 7, Batch: 200, Loss: 2.7465\n",
      "Epoch: 7, Batch: 300, Loss: 0.8572\n",
      "Epoch: 7, Batch: 400, Loss: 0.3661\n",
      "Epoch: 7, Batch: 500, Loss: 0.2992\n",
      "Epoch: 7, Batch: 600, Loss: 1.2431\n",
      "Epoch: 7, Batch: 700, Loss: 2.0594\n",
      "Epoch 7 Training Loss 0.9188, Val Loss: 2.3469\n",
      "Time taken for 1 epoch 99.8334 sec\n",
      "\n",
      "Epoch: 8, Batch: 0, Loss: 1.6853\n",
      "Epoch: 8, Batch: 100, Loss: 0.8980\n",
      "Epoch: 8, Batch: 200, Loss: 0.5943\n",
      "Epoch: 8, Batch: 300, Loss: 0.9229\n",
      "Epoch: 8, Batch: 400, Loss: 0.4539\n",
      "Epoch: 8, Batch: 500, Loss: 0.3832\n",
      "Epoch: 8, Batch: 600, Loss: 0.2796\n",
      "Epoch: 8, Batch: 700, Loss: 0.2928\n",
      "Epoch 8 Training Loss 0.6796, Val Loss: 0.8529\n",
      "Time taken for 1 epoch 100.0932 sec\n",
      "\n",
      "Epoch: 9, Batch: 0, Loss: 0.2973\n",
      "Epoch: 9, Batch: 100, Loss: 1.4483\n",
      "Epoch: 9, Batch: 200, Loss: 0.9636\n",
      "Epoch: 9, Batch: 300, Loss: 0.3256\n",
      "Epoch: 9, Batch: 400, Loss: 0.4711\n",
      "Epoch: 9, Batch: 500, Loss: 0.3481\n",
      "Epoch: 9, Batch: 600, Loss: 0.3213\n",
      "Epoch: 9, Batch: 700, Loss: 0.2243\n",
      "Epoch 9 Training Loss 0.5002, Val Loss: 0.8088\n",
      "Time taken for 1 epoch 99.6637 sec\n",
      "\n",
      "Epoch: 10, Batch: 0, Loss: 0.2256\n",
      "Epoch: 10, Batch: 100, Loss: 0.2833\n",
      "Epoch: 10, Batch: 200, Loss: 0.5168\n",
      "Epoch: 10, Batch: 300, Loss: 0.2851\n",
      "Epoch: 10, Batch: 400, Loss: 0.2736\n",
      "Epoch: 10, Batch: 500, Loss: 0.3618\n",
      "Epoch: 10, Batch: 600, Loss: 0.2325\n",
      "Epoch: 10, Batch: 700, Loss: 0.2204\n",
      "New best val loss: 0.7705 --> 0.7621\n",
      "Saving model\n",
      "Save completed\n",
      "Resetting Early Stop counter\n",
      "Epoch 10 Training Loss 0.2880, Val Loss: 0.7621\n",
      "Time taken for 1 epoch 101.6468 sec\n",
      "\n",
      "Epoch: 11, Batch: 0, Loss: 0.1763\n",
      "Epoch: 11, Batch: 100, Loss: 0.1866\n",
      "Epoch: 11, Batch: 200, Loss: 0.1905\n",
      "Epoch: 11, Batch: 300, Loss: 0.2240\n",
      "Epoch: 11, Batch: 400, Loss: 0.2293\n",
      "Epoch: 11, Batch: 500, Loss: 0.7031\n",
      "Epoch: 11, Batch: 600, Loss: 0.2290\n",
      "Epoch: 11, Batch: 700, Loss: 3.4412\n",
      "Epoch 11 Training Loss 0.7329, Val Loss: 3.4369\n",
      "Time taken for 1 epoch 102.1305 sec\n",
      "\n",
      "Epoch: 12, Batch: 0, Loss: 2.7707\n",
      "Epoch: 12, Batch: 100, Loss: 2.6403\n",
      "Epoch: 12, Batch: 200, Loss: 2.4277\n",
      "Epoch: 12, Batch: 300, Loss: 2.6828\n",
      "Epoch: 12, Batch: 400, Loss: 2.6500\n",
      "Epoch: 12, Batch: 500, Loss: 2.7320\n",
      "Epoch: 12, Batch: 600, Loss: 2.5548\n",
      "Epoch: 12, Batch: 700, Loss: 2.4111\n",
      "Epoch 12 Training Loss 2.5639, Val Loss: 2.9881\n",
      "Time taken for 1 epoch 101.5203 sec\n",
      "\n",
      "Epoch: 13, Batch: 0, Loss: 2.1376\n",
      "Epoch: 13, Batch: 100, Loss: 2.4304\n",
      "Epoch: 13, Batch: 200, Loss: 2.3731\n",
      "Epoch: 13, Batch: 300, Loss: 2.2269\n",
      "Epoch: 13, Batch: 400, Loss: 2.2389\n",
      "Epoch: 13, Batch: 500, Loss: 2.2685\n",
      "Epoch: 13, Batch: 600, Loss: 2.1749\n",
      "Epoch: 13, Batch: 700, Loss: 2.1448\n",
      "Epoch 13 Training Loss 2.2832, Val Loss: 2.9013\n",
      "Time taken for 1 epoch 101.6486 sec\n",
      "\n",
      "Epoch: 14, Batch: 0, Loss: 1.9303\n",
      "Epoch: 14, Batch: 100, Loss: 2.0412\n",
      "Epoch: 14, Batch: 200, Loss: 1.9887\n",
      "Epoch: 14, Batch: 300, Loss: 2.0250\n",
      "Epoch: 14, Batch: 400, Loss: 2.0154\n",
      "Epoch: 14, Batch: 500, Loss: 1.8107\n",
      "Epoch: 14, Batch: 600, Loss: 1.8454\n",
      "Epoch: 14, Batch: 700, Loss: 1.7709\n",
      "Epoch 14 Training Loss 2.0638, Val Loss: 2.4658\n",
      "Time taken for 1 epoch 101.6040 sec\n",
      "\n",
      "Epoch: 15, Batch: 0, Loss: 1.6489\n",
      "Epoch: 15, Batch: 100, Loss: 1.6784\n",
      "Epoch: 15, Batch: 200, Loss: 1.2815\n",
      "Epoch: 15, Batch: 300, Loss: 1.0554\n",
      "Epoch: 15, Batch: 400, Loss: 0.8921\n",
      "Epoch: 15, Batch: 500, Loss: 0.5828\n",
      "Epoch: 15, Batch: 600, Loss: 0.5493\n",
      "Epoch: 15, Batch: 700, Loss: 0.6430\n",
      "Epoch 15 Training Loss 0.9605, Val Loss: 1.2178\n",
      "Time taken for 1 epoch 101.5269 sec\n",
      "\n",
      "Epoch: 16, Batch: 0, Loss: 0.5796\n",
      "Epoch: 16, Batch: 100, Loss: 0.4868\n",
      "Epoch: 16, Batch: 200, Loss: 0.5971\n",
      "Epoch: 16, Batch: 300, Loss: 2.1696\n",
      "Epoch: 16, Batch: 400, Loss: 1.1158\n",
      "Epoch: 16, Batch: 500, Loss: 0.6289\n",
      "Epoch: 16, Batch: 600, Loss: 0.9099\n",
      "Epoch: 16, Batch: 700, Loss: 0.6569\n",
      "Epoch 16 Training Loss 0.7900, Val Loss: 1.2237\n",
      "Time taken for 1 epoch 101.7041 sec\n",
      "\n",
      "Epoch: 17, Batch: 0, Loss: 0.4858\n",
      "Epoch: 17, Batch: 100, Loss: 0.4690\n",
      "Epoch: 17, Batch: 200, Loss: 0.4070\n",
      "Epoch: 17, Batch: 300, Loss: 0.4963\n",
      "Epoch: 17, Batch: 400, Loss: 0.3793\n",
      "Epoch: 17, Batch: 500, Loss: 0.3507\n",
      "Epoch: 17, Batch: 600, Loss: 0.3777\n",
      "Epoch: 17, Batch: 700, Loss: 0.3268\n",
      "Epoch 17 Training Loss 0.4258, Val Loss: 0.9520\n",
      "Time taken for 1 epoch 101.7005 sec\n",
      "\n",
      "Epoch: 18, Batch: 0, Loss: 0.2768\n",
      "Epoch: 18, Batch: 100, Loss: 0.7038\n",
      "Epoch: 18, Batch: 200, Loss: 0.3693\n",
      "Epoch: 18, Batch: 300, Loss: 0.3353\n",
      "Epoch: 18, Batch: 400, Loss: 0.9028\n",
      "Epoch: 18, Batch: 500, Loss: 2.2561\n",
      "Epoch: 18, Batch: 600, Loss: 1.5059\n",
      "Epoch: 18, Batch: 700, Loss: 0.9297\n",
      "Epoch 18 Training Loss 1.0213, Val Loss: 1.3454\n",
      "Time taken for 1 epoch 101.7581 sec\n",
      "\n",
      "Epoch: 19, Batch: 0, Loss: 0.5545\n",
      "Epoch: 19, Batch: 100, Loss: 0.5115\n",
      "Epoch: 19, Batch: 200, Loss: 0.6175\n",
      "Epoch: 19, Batch: 300, Loss: 0.7802\n",
      "Epoch: 19, Batch: 400, Loss: 0.7813\n",
      "Epoch: 19, Batch: 500, Loss: 0.9488\n",
      "Epoch: 19, Batch: 600, Loss: 0.4436\n",
      "Epoch: 19, Batch: 700, Loss: 0.5336\n",
      "Epoch 19 Training Loss 0.6443, Val Loss: 1.0182\n",
      "Time taken for 1 epoch 101.7590 sec\n",
      "\n",
      "Epoch: 20, Batch: 0, Loss: 0.4125\n",
      "Epoch: 20, Batch: 100, Loss: 0.3061\n",
      "Epoch: 20, Batch: 200, Loss: 2.5002\n",
      "Epoch: 20, Batch: 300, Loss: 1.2546\n",
      "Epoch: 20, Batch: 400, Loss: 0.9802\n",
      "Epoch: 20, Batch: 500, Loss: 0.8044\n",
      "Epoch: 20, Batch: 600, Loss: 0.5522\n",
      "Epoch: 20, Batch: 700, Loss: 0.4129\n",
      "Epoch 20 Training Loss 0.8556, Val Loss: 1.0374\n",
      "Time taken for 1 epoch 101.8373 sec\n",
      "\n",
      "Epoch: 21, Batch: 0, Loss: 0.3405\n",
      "Epoch: 21, Batch: 100, Loss: 0.7808\n",
      "Epoch: 21, Batch: 200, Loss: 0.3714\n",
      "Epoch: 21, Batch: 300, Loss: 0.3314\n",
      "Epoch: 21, Batch: 400, Loss: 0.3394\n",
      "Epoch: 21, Batch: 500, Loss: 0.3649\n",
      "Epoch: 21, Batch: 600, Loss: 0.2539\n",
      "Epoch: 21, Batch: 700, Loss: 0.2433\n",
      "Epoch 21 Training Loss 0.3545, Val Loss: 1.1320\n",
      "Time taken for 1 epoch 101.8808 sec\n",
      "\n",
      "Epoch: 22, Batch: 0, Loss: 0.3566\n",
      "Epoch: 22, Batch: 100, Loss: 0.2963\n",
      "Epoch: 22, Batch: 200, Loss: 0.2334\n",
      "Epoch: 22, Batch: 300, Loss: 2.9317\n",
      "Epoch: 22, Batch: 400, Loss: 2.7413\n",
      "Epoch: 22, Batch: 500, Loss: 2.3674\n",
      "Epoch: 22, Batch: 600, Loss: 2.4298\n",
      "Epoch: 22, Batch: 700, Loss: 2.0972\n",
      "Epoch 22 Training Loss 1.8467, Val Loss: 2.9555\n",
      "Time taken for 1 epoch 101.7674 sec\n",
      "\n",
      "Epoch: 23, Batch: 0, Loss: 2.1202\n"
     ]
    },
    {
     "name": "stdout",
     "output_type": "stream",
     "text": [
      "Epoch: 23, Batch: 100, Loss: 2.2761\n",
      "Epoch: 23, Batch: 200, Loss: 2.3591\n",
      "Epoch: 23, Batch: 300, Loss: 1.9582\n",
      "Epoch: 23, Batch: 400, Loss: 2.0747\n",
      "Epoch: 23, Batch: 500, Loss: 1.4137\n",
      "Epoch: 23, Batch: 600, Loss: 0.7204\n",
      "Epoch: 23, Batch: 700, Loss: 0.4855\n",
      "Epoch 23 Training Loss 1.6279, Val Loss: 1.1245\n",
      "Time taken for 1 epoch 101.9177 sec\n",
      "\n",
      "Epoch: 24, Batch: 0, Loss: 0.4163\n",
      "Epoch: 24, Batch: 100, Loss: 0.3511\n",
      "Epoch: 24, Batch: 200, Loss: 0.4085\n",
      "Epoch: 24, Batch: 300, Loss: 0.3337\n",
      "Epoch: 24, Batch: 400, Loss: 0.3972\n",
      "Epoch: 24, Batch: 500, Loss: 0.2901\n",
      "Epoch: 24, Batch: 600, Loss: 0.3341\n",
      "Epoch: 24, Batch: 700, Loss: 0.3115\n",
      "Epoch 24 Training Loss 0.3487, Val Loss: 0.8584\n",
      "Time taken for 1 epoch 101.9045 sec\n",
      "\n",
      "Epoch: 25, Batch: 0, Loss: 0.2428\n",
      "Epoch: 25, Batch: 100, Loss: 0.2383\n",
      "Epoch: 25, Batch: 200, Loss: 0.1768\n",
      "Epoch: 25, Batch: 300, Loss: 0.1939\n",
      "Epoch: 25, Batch: 400, Loss: 0.1580\n",
      "Epoch: 25, Batch: 500, Loss: 0.2189\n",
      "Epoch: 25, Batch: 600, Loss: 0.3041\n",
      "Epoch: 25, Batch: 700, Loss: 0.2907\n",
      "Epoch 25 Training Loss 0.2246, Val Loss: 0.8109\n",
      "Time taken for 1 epoch 101.8900 sec\n",
      "\n",
      "Epoch: 26, Batch: 0, Loss: 0.1617\n",
      "Epoch: 26, Batch: 100, Loss: 0.1619\n",
      "Epoch: 26, Batch: 200, Loss: 0.1508\n",
      "Epoch: 26, Batch: 300, Loss: 0.1941\n",
      "Epoch: 26, Batch: 400, Loss: 0.1868\n",
      "Epoch: 26, Batch: 500, Loss: 0.2443\n",
      "Epoch: 26, Batch: 600, Loss: 0.1923\n",
      "Epoch: 26, Batch: 700, Loss: 0.1884\n",
      "Epoch 26 Training Loss 0.1918, Val Loss: 0.8058\n",
      "Time taken for 1 epoch 101.9146 sec\n",
      "\n",
      "Epoch: 27, Batch: 0, Loss: 0.1452\n",
      "Epoch: 27, Batch: 100, Loss: 0.1635\n",
      "Epoch: 27, Batch: 200, Loss: 0.1974\n",
      "Epoch: 27, Batch: 300, Loss: 0.1895\n",
      "Epoch: 27, Batch: 400, Loss: 0.6711\n",
      "Epoch: 27, Batch: 500, Loss: 0.2879\n",
      "Epoch: 27, Batch: 600, Loss: 0.2438\n",
      "Epoch: 27, Batch: 700, Loss: 0.2507\n",
      "Epoch 27 Training Loss 0.2864, Val Loss: 0.8439\n",
      "Time taken for 1 epoch 101.8695 sec\n",
      "\n",
      "Epoch: 28, Batch: 0, Loss: 0.1979\n",
      "Epoch: 28, Batch: 100, Loss: 0.1896\n",
      "Epoch: 28, Batch: 200, Loss: 0.1712\n",
      "Epoch: 28, Batch: 300, Loss: 1.0870\n",
      "Epoch: 28, Batch: 400, Loss: 1.7933\n",
      "Epoch: 28, Batch: 500, Loss: 0.8483\n",
      "Epoch: 28, Batch: 600, Loss: 0.3685\n",
      "Epoch: 28, Batch: 700, Loss: 0.2732\n",
      "Epoch 28 Training Loss 0.6578, Val Loss: 0.9606\n",
      "Time taken for 1 epoch 101.8705 sec\n",
      "\n",
      "Epoch: 29, Batch: 0, Loss: 0.2506\n",
      "Epoch: 29, Batch: 100, Loss: 0.6087\n",
      "Epoch: 29, Batch: 200, Loss: 2.5736\n",
      "Epoch: 29, Batch: 300, Loss: 2.5511\n",
      "Epoch: 29, Batch: 400, Loss: 1.8827\n",
      "Epoch: 29, Batch: 500, Loss: 2.2343\n",
      "Epoch: 29, Batch: 600, Loss: 1.7476\n",
      "Epoch: 29, Batch: 700, Loss: 1.5538\n",
      "Epoch 29 Training Loss 1.8873, Val Loss: 2.1113\n",
      "Time taken for 1 epoch 101.9472 sec\n",
      "\n",
      "Epoch: 30, Batch: 0, Loss: 1.3831\n",
      "Epoch: 30, Batch: 100, Loss: 1.3197\n",
      "Epoch: 30, Batch: 200, Loss: 1.0211\n",
      "Epoch: 30, Batch: 300, Loss: 1.6765\n",
      "Epoch: 30, Batch: 400, Loss: 1.2611\n",
      "Epoch: 30, Batch: 500, Loss: 1.1142\n",
      "Epoch: 30, Batch: 600, Loss: 1.3555\n",
      "Epoch: 30, Batch: 700, Loss: 1.1868\n",
      "Epoch 30 Training Loss 1.1903, Val Loss: 1.5580\n",
      "Time taken for 1 epoch 101.9012 sec\n",
      "\n",
      "Epoch: 31, Batch: 0, Loss: 0.7744\n",
      "Epoch: 31, Batch: 100, Loss: 0.6950\n",
      "Epoch: 31, Batch: 200, Loss: 0.8785\n",
      "Epoch: 31, Batch: 300, Loss: 0.7914\n",
      "Epoch: 31, Batch: 400, Loss: 0.6478\n",
      "Epoch: 31, Batch: 500, Loss: 0.5723\n",
      "Epoch: 31, Batch: 600, Loss: 2.0198\n",
      "Epoch: 31, Batch: 700, Loss: 1.0092\n",
      "Epoch 31 Training Loss 0.9522, Val Loss: 1.3381\n",
      "Time taken for 1 epoch 101.9032 sec\n",
      "\n",
      "Epoch: 32, Batch: 0, Loss: 0.6751\n",
      "Epoch: 32, Batch: 100, Loss: 0.4926\n",
      "Epoch: 32, Batch: 200, Loss: 0.4933\n",
      "Epoch: 32, Batch: 300, Loss: 0.4931\n",
      "Epoch: 32, Batch: 400, Loss: 0.3437\n",
      "Epoch: 32, Batch: 500, Loss: 0.2624\n",
      "Epoch: 32, Batch: 600, Loss: 0.3382\n",
      "Epoch: 32, Batch: 700, Loss: 0.3241\n",
      "Epoch 32 Training Loss 0.3939, Val Loss: 0.9041\n",
      "Time taken for 1 epoch 101.8881 sec\n",
      "\n",
      "Epoch: 33, Batch: 0, Loss: 0.2582\n",
      "Epoch: 33, Batch: 100, Loss: 0.2643\n",
      "Epoch: 33, Batch: 200, Loss: 0.2416\n",
      "Epoch: 33, Batch: 300, Loss: 0.2500\n",
      "Epoch: 33, Batch: 400, Loss: 0.2818\n",
      "Epoch: 33, Batch: 500, Loss: 0.2121\n",
      "Epoch: 33, Batch: 600, Loss: 0.1461\n",
      "Epoch: 33, Batch: 700, Loss: 2.6356\n",
      "Epoch 33 Training Loss 0.5165, Val Loss: 2.5203\n",
      "Time taken for 1 epoch 101.8626 sec\n",
      "\n",
      "Epoch: 34, Batch: 0, Loss: 1.8947\n",
      "Epoch: 34, Batch: 100, Loss: 1.0608\n",
      "Epoch: 34, Batch: 200, Loss: 0.5063\n",
      "Epoch: 34, Batch: 300, Loss: 0.3492\n",
      "Epoch: 34, Batch: 400, Loss: 0.2718\n",
      "Epoch: 34, Batch: 500, Loss: 0.2620\n",
      "Epoch: 34, Batch: 600, Loss: 0.2467\n",
      "Epoch: 34, Batch: 700, Loss: 0.3045\n",
      "Epoch 34 Training Loss 0.5260, Val Loss: 0.9046\n",
      "Time taken for 1 epoch 101.8619 sec\n",
      "\n",
      "Epoch: 35, Batch: 0, Loss: 0.3010\n",
      "Epoch: 35, Batch: 100, Loss: 0.2035\n",
      "Epoch: 35, Batch: 200, Loss: 0.4844\n",
      "Epoch: 35, Batch: 300, Loss: 0.3011\n",
      "Epoch: 35, Batch: 400, Loss: 0.2123\n",
      "Epoch: 35, Batch: 500, Loss: 0.2125\n",
      "Epoch: 35, Batch: 600, Loss: 0.2267\n",
      "Epoch: 35, Batch: 700, Loss: 0.2021\n",
      "Epoch 35 Training Loss 0.2406, Val Loss: 0.8370\n",
      "Time taken for 1 epoch 101.9140 sec\n",
      "\n",
      "Epoch: 36, Batch: 0, Loss: 0.2427\n",
      "Epoch: 36, Batch: 100, Loss: 0.1694\n",
      "Epoch: 36, Batch: 200, Loss: 0.2232\n",
      "Epoch: 36, Batch: 300, Loss: 0.1634\n",
      "Epoch: 36, Batch: 400, Loss: 0.1624\n",
      "Epoch: 36, Batch: 500, Loss: 0.1927\n",
      "Epoch: 36, Batch: 600, Loss: 0.2340\n",
      "Epoch: 36, Batch: 700, Loss: 0.1612\n",
      "Epoch 36 Training Loss 0.2155, Val Loss: 2.5612\n",
      "Time taken for 1 epoch 101.9725 sec\n",
      "\n",
      "Epoch: 37, Batch: 0, Loss: 1.7999\n",
      "Epoch: 37, Batch: 100, Loss: 1.1275\n",
      "Epoch: 37, Batch: 200, Loss: 0.3936\n",
      "Epoch: 37, Batch: 300, Loss: 3.5927\n",
      "Epoch: 37, Batch: 400, Loss: 2.8776\n",
      "Epoch: 37, Batch: 500, Loss: 2.7135\n",
      "Epoch: 37, Batch: 600, Loss: 2.6467\n",
      "Epoch: 37, Batch: 700, Loss: 2.6994\n",
      "Epoch 37 Training Loss 2.1335, Val Loss: 3.1631\n",
      "Time taken for 1 epoch 101.9775 sec\n",
      "\n",
      "Epoch: 38, Batch: 0, Loss: 2.2427\n",
      "Epoch: 38, Batch: 100, Loss: 2.1746\n",
      "Epoch: 38, Batch: 200, Loss: 2.4747\n",
      "Epoch: 38, Batch: 300, Loss: 2.4332\n",
      "Epoch: 38, Batch: 400, Loss: 2.4520\n",
      "Epoch: 38, Batch: 500, Loss: 2.1143\n",
      "Epoch: 38, Batch: 600, Loss: 2.3955\n",
      "Epoch: 38, Batch: 700, Loss: 2.3437\n",
      "Epoch 38 Training Loss 2.4348, Val Loss: 3.1213\n",
      "Time taken for 1 epoch 101.9669 sec\n",
      "\n",
      "Epoch: 39, Batch: 0, Loss: 2.5730\n",
      "Epoch: 39, Batch: 100, Loss: 2.3499\n",
      "Epoch: 39, Batch: 200, Loss: 2.2835\n",
      "Epoch: 39, Batch: 300, Loss: 2.3942\n",
      "Epoch: 39, Batch: 400, Loss: 2.4744\n",
      "Epoch: 39, Batch: 500, Loss: 2.4060\n",
      "Epoch: 39, Batch: 600, Loss: 2.4770\n",
      "Epoch: 39, Batch: 700, Loss: 2.7318\n",
      "Epoch 39 Training Loss 2.3654, Val Loss: 3.1098\n",
      "Time taken for 1 epoch 101.9690 sec\n",
      "\n",
      "Epoch: 40, Batch: 0, Loss: 2.4539\n",
      "Epoch: 40, Batch: 100, Loss: 2.2584\n",
      "Epoch: 40, Batch: 200, Loss: 2.1434\n",
      "Epoch: 40, Batch: 300, Loss: 2.3052\n",
      "Epoch: 40, Batch: 400, Loss: 2.4796\n",
      "Epoch: 40, Batch: 500, Loss: 2.2173\n",
      "Epoch: 40, Batch: 600, Loss: 2.4043\n",
      "Epoch: 40, Batch: 700, Loss: 2.5630\n",
      "Epoch 40 Training Loss 2.3345, Val Loss: 3.1060\n",
      "Time taken for 1 epoch 101.9147 sec\n",
      "\n",
      "Epoch: 41, Batch: 0, Loss: 2.2696\n",
      "Epoch: 41, Batch: 100, Loss: 2.1969\n",
      "Epoch: 41, Batch: 200, Loss: 2.2375\n",
      "Epoch: 41, Batch: 300, Loss: 2.1834\n",
      "Epoch: 41, Batch: 400, Loss: 2.3947\n",
      "Epoch: 41, Batch: 500, Loss: 2.1869\n",
      "Epoch: 41, Batch: 600, Loss: 2.1297\n",
      "Epoch: 41, Batch: 700, Loss: 2.2413\n",
      "Epoch 41 Training Loss 2.3143, Val Loss: 3.1021\n",
      "Time taken for 1 epoch 101.8346 sec\n",
      "\n",
      "Epoch: 42, Batch: 0, Loss: 2.1982\n",
      "Epoch: 42, Batch: 100, Loss: 2.2012\n",
      "Epoch: 42, Batch: 200, Loss: 2.1351\n",
      "Epoch: 42, Batch: 300, Loss: 2.3050\n",
      "Epoch: 42, Batch: 400, Loss: 2.1572\n",
      "Epoch: 42, Batch: 500, Loss: 2.4154\n",
      "Epoch: 42, Batch: 600, Loss: 2.1568\n",
      "Epoch: 42, Batch: 700, Loss: 2.3655\n",
      "Epoch 42 Training Loss 2.2988, Val Loss: 3.0918\n",
      "Time taken for 1 epoch 101.8261 sec\n",
      "\n",
      "Epoch: 43, Batch: 0, Loss: 2.0083\n",
      "Epoch: 43, Batch: 100, Loss: 2.1218\n",
      "Epoch: 43, Batch: 200, Loss: 2.0653\n",
      "Epoch: 43, Batch: 300, Loss: 2.2226\n",
      "Epoch: 43, Batch: 400, Loss: 2.3384\n",
      "Epoch: 43, Batch: 500, Loss: 2.4277\n",
      "Epoch: 43, Batch: 600, Loss: 2.5213\n",
      "Epoch: 43, Batch: 700, Loss: 2.2882\n",
      "Epoch 43 Training Loss 2.2856, Val Loss: 3.1025\n",
      "Time taken for 1 epoch 101.8572 sec\n",
      "\n",
      "Epoch: 44, Batch: 0, Loss: 2.1482\n",
      "Epoch: 44, Batch: 100, Loss: 2.2812\n",
      "Epoch: 44, Batch: 200, Loss: 2.2401\n",
      "Epoch: 44, Batch: 300, Loss: 2.3261\n",
      "Epoch: 44, Batch: 400, Loss: 2.1004\n",
      "Epoch: 44, Batch: 500, Loss: 2.2714\n",
      "Epoch: 44, Batch: 600, Loss: 2.4395\n",
      "Epoch: 44, Batch: 700, Loss: 1.8813\n",
      "Epoch 44 Training Loss 2.2732, Val Loss: 3.1077\n",
      "Time taken for 1 epoch 101.8296 sec\n",
      "\n",
      "Epoch: 45, Batch: 0, Loss: 2.2135\n",
      "Epoch: 45, Batch: 100, Loss: 2.3684\n"
     ]
    },
    {
     "name": "stdout",
     "output_type": "stream",
     "text": [
      "Epoch: 45, Batch: 200, Loss: 2.3852\n",
      "Epoch: 45, Batch: 300, Loss: 2.2183\n",
      "Epoch: 45, Batch: 400, Loss: 2.2063\n",
      "Epoch: 45, Batch: 500, Loss: 2.1384\n",
      "Epoch: 45, Batch: 600, Loss: 2.2695\n",
      "Epoch: 45, Batch: 700, Loss: 2.3511\n",
      "Epoch 45 Training Loss 2.2605, Val Loss: 3.1038\n",
      "Time taken for 1 epoch 101.8772 sec\n",
      "\n",
      "Epoch: 46, Batch: 0, Loss: 2.1519\n",
      "Epoch: 46, Batch: 100, Loss: 2.5255\n",
      "Epoch: 46, Batch: 200, Loss: 2.2085\n",
      "Epoch: 46, Batch: 300, Loss: 1.9858\n",
      "Epoch: 46, Batch: 400, Loss: 2.0277\n",
      "Epoch: 46, Batch: 500, Loss: 2.1288\n",
      "Epoch: 46, Batch: 600, Loss: 2.2184\n",
      "Epoch: 46, Batch: 700, Loss: 2.2746\n",
      "Epoch 46 Training Loss 2.2469, Val Loss: 3.1024\n",
      "Time taken for 1 epoch 101.9069 sec\n",
      "\n",
      "Epoch: 47, Batch: 0, Loss: 2.1176\n",
      "Epoch: 47, Batch: 100, Loss: 2.1452\n",
      "Epoch: 47, Batch: 200, Loss: 2.4066\n",
      "Epoch: 47, Batch: 300, Loss: 2.4462\n",
      "Epoch: 47, Batch: 400, Loss: 2.4323\n",
      "Epoch: 47, Batch: 500, Loss: 2.2484\n",
      "Epoch: 47, Batch: 600, Loss: 2.2499\n",
      "Epoch: 47, Batch: 700, Loss: 2.1577\n",
      "Epoch 47 Training Loss 2.1864, Val Loss: 3.0056\n",
      "Time taken for 1 epoch 105.5203 sec\n",
      "\n",
      "Epoch: 48, Batch: 0, Loss: 2.0912\n",
      "Epoch: 48, Batch: 100, Loss: 2.2513\n",
      "Epoch: 48, Batch: 200, Loss: 2.4159\n",
      "Epoch: 48, Batch: 300, Loss: 1.9785\n",
      "Epoch: 48, Batch: 400, Loss: 2.1400\n",
      "Epoch: 48, Batch: 500, Loss: 1.9058\n",
      "Epoch: 48, Batch: 600, Loss: 2.4430\n",
      "Epoch: 48, Batch: 700, Loss: 2.1936\n",
      "Epoch 48 Training Loss 2.1165, Val Loss: 3.0000\n",
      "Time taken for 1 epoch 102.0475 sec\n",
      "\n",
      "Epoch: 49, Batch: 0, Loss: 2.1851\n",
      "Epoch: 49, Batch: 100, Loss: 2.2081\n",
      "Epoch: 49, Batch: 200, Loss: 2.2553\n",
      "Epoch: 49, Batch: 300, Loss: 2.0789\n",
      "Epoch: 49, Batch: 400, Loss: 2.2629\n",
      "Epoch: 49, Batch: 500, Loss: 2.1822\n",
      "Epoch: 49, Batch: 600, Loss: 1.9851\n",
      "Epoch: 49, Batch: 700, Loss: 2.1101\n",
      "Epoch 49 Training Loss 2.0982, Val Loss: 2.9988\n",
      "Time taken for 1 epoch 101.7791 sec\n",
      "\n",
      "Epoch: 50, Batch: 0, Loss: 2.0522\n",
      "Epoch: 50, Batch: 100, Loss: 2.1385\n",
      "Epoch: 50, Batch: 200, Loss: 2.0087\n",
      "Epoch: 50, Batch: 300, Loss: 2.1478\n",
      "Epoch: 50, Batch: 400, Loss: 2.1101\n",
      "Epoch: 50, Batch: 500, Loss: 2.0742\n",
      "Epoch: 50, Batch: 600, Loss: 2.1302\n",
      "Epoch: 50, Batch: 700, Loss: 2.2589\n",
      "Epoch 50 Training Loss 2.0841, Val Loss: 2.9958\n",
      "Time taken for 1 epoch 102.5973 sec\n",
      "\n"
     ]
    }
   ],
   "source": [
    "epochs = 50\n",
    "train_steps_per_epoch = len(train_inp_data)//batch_sz\n",
    "val_steps_per_epoch = len(val_inp_data)//batch_sz\n",
    "# best_val_loss = np.inf\n",
    "best_val_loss = 0.7621\n",
    "train_epoch_losses = []\n",
    "val_epoch_losses = []\n",
    "early_stop = 0\n",
    "\n",
    "for epoch in range(epochs):\n",
    "  start = time.time()\n",
    "\n",
    "  enc_hidden = encoder.initialize_hidden_state()\n",
    "  enc_cell = encoder.initialize_cell_state()\n",
    "  train_total_loss = 0.0\n",
    "  val_total_loss = 0.0\n",
    "    \n",
    "  # Training\n",
    "  for (batch, (inp, targ)) in enumerate(train_dataset.take(train_steps_per_epoch)):\n",
    "    train_batch_loss = train_step(inp, targ, enc_hidden, enc_cell)\n",
    "    train_total_loss += train_batch_loss\n",
    "            \n",
    "    if batch % 100 == 0:\n",
    "      print('Epoch: {}, Batch: {}, Loss: {:.4f}'.format(epoch+1, batch, train_batch_loss.numpy()))\n",
    "      \n",
    "  # Training\n",
    "  train_epoch_loss = train_total_loss/train_steps_per_epoch \n",
    "  train_epoch_losses.append(train_epoch_loss)\n",
    "\n",
    "  # Validation\n",
    "  for (_, (inp, targ)) in enumerate(val_dataset.take(val_steps_per_epoch)):\n",
    "    val_batch_loss = test_step(inp, targ, enc_hidden, enc_cell)\n",
    "    val_total_loss += val_batch_loss\n",
    "\n",
    "  # Validation\n",
    "  val_epoch_loss = val_total_loss/val_steps_per_epoch    \n",
    "  val_epoch_losses.append(val_epoch_loss)\n",
    "    \n",
    "  if val_epoch_loss <= best_val_loss:\n",
    "    print('New best val loss: {:.4f} --> {:.4f}'.format(best_val_loss, val_epoch_loss))\n",
    "    best_val_loss = val_epoch_loss\n",
    "    print('Saving model')\n",
    "    manager.save()\n",
    "    print('Save completed')\n",
    "    print('Resetting Early Stop counter')\n",
    "    early_stop = 0\n",
    "#   else:\n",
    "#     early_stop += 1\n",
    "#     print('Increasing Early Stop count to: {}'.format(early_stop))\n",
    "#     if early_stop == 5:\n",
    "#       print('Loss has not improved for {} epochs, Early Stoppping'.format(early_stop))\n",
    "#       break\n",
    "      \n",
    "  train_template = 'Epoch {} Training Loss {:.4f}, Val Loss: {:.4f}'\n",
    "  print(train_template.format(epoch + 1, train_epoch_loss, val_epoch_loss))\n",
    "  print('Time taken for 1 epoch {:.4f} sec\\n'.format(time.time() - start))"
   ]
  },
  {
   "cell_type": "markdown",
   "metadata": {
    "colab_type": "text",
    "id": "UkTFC2tUIgXo"
   },
   "source": [
    "### Plot loss and accuracy graphs"
   ]
  },
  {
   "cell_type": "code",
   "execution_count": 38,
   "metadata": {
    "ExecuteTime": {
     "end_time": "2019-10-20T16:31:47.362562Z",
     "start_time": "2019-10-20T16:31:47.245535Z"
    },
    "colab": {
     "base_uri": "https://localhost:8080/",
     "height": 295
    },
    "colab_type": "code",
    "executionInfo": {
     "elapsed": 671,
     "status": "ok",
     "timestamp": 1571443247341,
     "user": {
      "displayName": "Leo Tay",
      "photoUrl": "",
      "userId": "17143338865945125396"
     },
     "user_tz": -480
    },
    "id": "9_AJjRbLE1dU",
    "outputId": "287c50c8-5770-4bf2-883e-ee5129a5ea15"
   },
   "outputs": [
    {
     "data": {
      "image/png": "[encoded data removed]",
      "text/plain": [
       "<Figure size 432x288 with 1 Axes>"
      ]
     },
     "metadata": {
      "needs_background": "light"
     },
     "output_type": "display_data"
    }
   ],
   "source": [
    "# Plot training vs val loss\n",
    "epoch_range = [i for i in range(1, len(train_epoch_losses)+1)]\n",
    "plt.plot(epoch_range, train_epoch_losses, 'r--')\n",
    "plt.plot(epoch_range, val_epoch_losses, 'b--')\n",
    "plt.title('Training vs Val Loss')\n",
    "plt.legend(['Training Loss', 'Val Loss'])\n",
    "plt.xlabel('Epoch')\n",
    "plt.ylabel('Loss')\n",
    "plt.show()"
   ]
  },
  {
   "cell_type": "code",
   "execution_count": 0,
   "metadata": {
    "ExecuteTime": {
     "end_time": "2019-10-06T23:11:59.631703Z",
     "start_time": "2019-10-06T23:11:59.525679Z"
    },
    "colab": {},
    "colab_type": "code",
    "id": "UMJTUGA7E1dW"
   },
   "outputs": [],
   "source": [
    "# # Plot training vs val accuracy\n",
    "# epoch_range = [i for i in range(1, len(train_epoch_losses)+1)]\n",
    "# plt.plot(epoch_range, train_epoch_accs, 'r--')\n",
    "# plt.plot(epoch_range, val_epoch_accs, 'b--')\n",
    "# plt.title('Training vs Val Accuracy')\n",
    "# plt.legend(['Training Acc', 'Val Acc'])\n",
    "# plt.xlabel('Epoch')\n",
    "# plt.ylabel('Loss')\n",
    "# plt.show()"
   ]
  },
  {
   "cell_type": "markdown",
   "metadata": {
    "colab_type": "text",
    "id": "ZtBM6T57IqxA"
   },
   "source": [
    "### Evaluate model and test prediction"
   ]
  },
  {
   "cell_type": "code",
   "execution_count": 39,
   "metadata": {
    "ExecuteTime": {
     "end_time": "2019-10-20T16:32:01.224325Z",
     "start_time": "2019-10-20T16:32:00.843238Z"
    },
    "colab": {
     "base_uri": "https://localhost:8080/",
     "height": 34
    },
    "colab_type": "code",
    "executionInfo": {
     "elapsed": 25968,
     "status": "ok",
     "timestamp": 1571465653670,
     "user": {
      "displayName": "Leo Tay",
      "photoUrl": "",
      "userId": "17143338865945125396"
     },
     "user_tz": -480
    },
    "id": "Grzkhh6lPUm1",
    "outputId": "eebd6a25-af8b-48c4-d7d6-8838a0d473f9"
   },
   "outputs": [
    {
     "data": {
      "text/plain": [
       "<tensorflow.python.training.tracking.util.CheckpointLoadStatus at 0x253be04d7b8>"
      ]
     },
     "execution_count": 39,
     "metadata": {},
     "output_type": "execute_result"
    }
   ],
   "source": [
    "# restoring the latest checkpoint in checkpoint_dir\n",
    "checkpoint.restore(manager.latest_checkpoint)"
   ]
  },
  {
   "cell_type": "code",
   "execution_count": 40,
   "metadata": {
    "ExecuteTime": {
     "end_time": "2019-10-20T16:32:07.676589Z",
     "start_time": "2019-10-20T16:32:03.538610Z"
    },
    "colab": {},
    "colab_type": "code",
    "id": "211dBHSOPW4j"
   },
   "outputs": [
    {
     "name": "stdout",
     "output_type": "stream",
     "text": [
      "Testing Loss: 0.7964\n"
     ]
    }
   ],
   "source": [
    "# Testing\n",
    "test_steps_per_epoch = len(test_inp_data)//batch_sz\n",
    "test_total_loss = 0.0\n",
    "test_loss = 0.0\n",
    "enc_hidden = encoder.initialize_hidden_state()\n",
    "enc_cell = encoder.initialize_cell_state()\n",
    "\n",
    "for (_, (inp, targ)) in enumerate(test_dataset.take(test_steps_per_epoch)):\n",
    "  test_batch_loss = test_step(inp, targ, enc_hidden, enc_cell)\n",
    "  test_total_loss += test_batch_loss\n",
    "  \n",
    "# Testing\n",
    "test_loss = test_total_loss/test_steps_per_epoch   \n",
    "\n",
    "print('Testing Loss: {:.4f}'.format(test_loss))"
   ]
  },
  {
   "cell_type": "code",
   "execution_count": 0,
   "metadata": {
    "ExecuteTime": {
     "end_time": "2019-10-06T23:21:31.159500Z",
     "start_time": "2019-10-06T23:21:31.155498Z"
    },
    "colab": {
     "base_uri": "https://localhost:8080/",
     "height": 51
    },
    "colab_type": "code",
    "executionInfo": {
     "elapsed": 536,
     "status": "ok",
     "timestamp": 1571403162960,
     "user": {
      "displayName": "Leo Tay",
      "photoUrl": "",
      "userId": "17143338865945125396"
     },
     "user_tz": -480
    },
    "id": "W3mPyZAJB4HM",
    "outputId": "e6fd0bbe-6d74-47ca-bd03-3dacf1397669"
   },
   "outputs": [
    {
     "name": "stdout",
     "output_type": "stream",
     "text": [
      "5872\n",
      "Test Sequence: <s> viec tao ra cac ban in nay goi la che ban . <e>\n"
     ]
    }
   ],
   "source": [
    "rand = np.random.randint(0, len(test_inp_data)) # Change here\n",
    "print(rand)\n",
    "test = test_inp_data[rand] # Change here\n",
    "test = convert(input_tokenizer, test, send_back=True)\n",
    "test = ' '.join(test)\n",
    "print('Test Sequence: {}'.format(test))"
   ]
  },
  {
   "cell_type": "code",
   "execution_count": 0,
   "metadata": {
    "ExecuteTime": {
     "end_time": "2019-10-06T23:21:32.069696Z",
     "start_time": "2019-10-06T23:21:31.563591Z"
    },
    "colab": {
     "base_uri": "https://localhost:8080/",
     "height": 51
    },
    "colab_type": "code",
    "executionInfo": {
     "elapsed": 516,
     "status": "ok",
     "timestamp": 1571403189427,
     "user": {
      "displayName": "Leo Tay",
      "photoUrl": "",
      "userId": "17143338865945125396"
     },
     "user_tz": -480
    },
    "id": "8w3OzKgvmBfL",
    "outputId": "815fe159-453d-4436-81dd-16a9fd03de15"
   },
   "outputs": [
    {
     "name": "stdout",
     "output_type": "stream",
     "text": [
      "Original: <s> việc tạo ra các bản in này gọi là chế bản . <e>\n",
      "Predicted: <s> việc tạo ra các bản in này gọi là chế bản . <e> \n"
     ]
    }
   ],
   "source": [
    "test_tar = convert(target_tokenizer, test_tar_data[rand], send_back=True) # Change here\n",
    "test_tar = ' '.join(test_tar)\n",
    "print('Original: {}'.format(test_tar))\n",
    "print('Predicted: {}'.format('<s> ' + restore(test)))"
   ]
  },
  {
   "cell_type": "code",
   "execution_count": 41,
   "metadata": {
    "ExecuteTime": {
     "end_time": "2019-10-20T16:40:40.125016Z",
     "start_time": "2019-10-20T16:32:26.005041Z"
    },
    "colab": {},
    "colab_type": "code",
    "id": "Cyh2pzBLqboL"
   },
   "outputs": [],
   "source": [
    "prediction = []\n",
    "target = []\n",
    "\n",
    "for i in range(len(test_inp_data)):\n",
    "  input = ' '.join(convert(input_tokenizer, test_inp_data[i], send_back=True))\n",
    "  prediction.append(('<s> ' + restore(input)).strip())"
   ]
  },
  {
   "cell_type": "code",
   "execution_count": 42,
   "metadata": {
    "ExecuteTime": {
     "end_time": "2019-10-20T16:40:40.211035Z",
     "start_time": "2019-10-20T16:40:40.126016Z"
    },
    "colab": {},
    "colab_type": "code",
    "id": "74RGIiSW5uf9"
   },
   "outputs": [],
   "source": [
    "for i in range(len(test_tar_data)):\n",
    "  tar = convert(target_tokenizer, test_tar_data[i], send_back=True)\n",
    "  target.append(' '.join(tar))"
   ]
  },
  {
   "cell_type": "code",
   "execution_count": 43,
   "metadata": {
    "ExecuteTime": {
     "end_time": "2019-10-20T16:40:40.216036Z",
     "start_time": "2019-10-20T16:40:40.212027Z"
    },
    "colab": {
     "base_uri": "https://localhost:8080/",
     "height": 51
    },
    "colab_type": "code",
    "executionInfo": {
     "elapsed": 2433529,
     "status": "ok",
     "timestamp": 1571468099588,
     "user": {
      "displayName": "Leo Tay",
      "photoUrl": "",
      "userId": "17143338865945125396"
     },
     "user_tz": -480
    },
    "id": "kGwdxFxE5vU0",
    "outputId": "96789a8f-3677-4d17-c094-7fe1174e60a3"
   },
   "outputs": [
    {
     "name": "stdout",
     "output_type": "stream",
     "text": [
      "54\n",
      "Accuracy: 1.8000%\n"
     ]
    }
   ],
   "source": [
    "correct = 0\n",
    "indicies = []\n",
    "\n",
    "for i in range(len(test_inp_data)):\n",
    "  if prediction[i] == target[i]:\n",
    "    indicies.append(i)\n",
    "    correct += 1\n",
    "\n",
    "print(correct)    \n",
    "print('Accuracy: {:.4f}%'.format(correct/len(test_inp_data)*100))"
   ]
  },
  {
   "cell_type": "code",
   "execution_count": 48,
   "metadata": {
    "ExecuteTime": {
     "end_time": "2019-10-20T16:41:52.389219Z",
     "start_time": "2019-10-20T16:41:52.385218Z"
    },
    "scrolled": true
   },
   "outputs": [
    {
     "name": "stdout",
     "output_type": "stream",
     "text": [
      "Idx: 11, Length: 23\n",
      "Idx: 50, Length: 11\n",
      "Idx: 57, Length: 14\n",
      "Idx: 72, Length: 16\n",
      "Idx: 100, Length: 33\n",
      "Idx: 124, Length: 15\n",
      "Idx: 176, Length: 16\n",
      "Idx: 314, Length: 15\n",
      "Idx: 323, Length: 19\n",
      "Idx: 332, Length: 20\n",
      "Idx: 354, Length: 16\n",
      "Idx: 430, Length: 12\n",
      "Idx: 499, Length: 25\n",
      "Idx: 521, Length: 12\n",
      "Idx: 630, Length: 14\n",
      "Idx: 699, Length: 17\n",
      "Idx: 744, Length: 22\n",
      "Idx: 756, Length: 22\n",
      "Idx: 850, Length: 14\n",
      "Idx: 898, Length: 18\n",
      "Idx: 901, Length: 30\n",
      "Idx: 919, Length: 20\n",
      "Idx: 1004, Length: 15\n",
      "Idx: 1009, Length: 12\n",
      "Idx: 1225, Length: 10\n",
      "Idx: 1255, Length: 18\n",
      "Idx: 1308, Length: 19\n",
      "Idx: 1315, Length: 21\n",
      "Idx: 1354, Length: 17\n",
      "Idx: 1356, Length: 17\n",
      "Idx: 1378, Length: 23\n",
      "Idx: 1389, Length: 20\n",
      "Idx: 1433, Length: 17\n",
      "Idx: 1495, Length: 24\n",
      "Idx: 1517, Length: 14\n",
      "Idx: 1541, Length: 16\n",
      "Idx: 1639, Length: 19\n",
      "Idx: 1661, Length: 14\n",
      "Idx: 1711, Length: 22\n",
      "Idx: 1739, Length: 16\n",
      "Idx: 1777, Length: 21\n",
      "Idx: 1927, Length: 25\n",
      "Idx: 1991, Length: 36\n",
      "Idx: 2002, Length: 27\n",
      "Idx: 2010, Length: 32\n",
      "Idx: 2016, Length: 13\n",
      "Idx: 2088, Length: 23\n",
      "Idx: 2105, Length: 14\n",
      "Idx: 2274, Length: 40\n",
      "Idx: 2433, Length: 26\n",
      "Idx: 2477, Length: 17\n",
      "Idx: 2497, Length: 12\n",
      "Idx: 2876, Length: 20\n",
      "Idx: 2969, Length: 18\n"
     ]
    }
   ],
   "source": [
    "for idx in indicies:\n",
    "    print('Idx: {}, Length: {}'.format(idx, len(prediction[idx].split())))"
   ]
  },
  {
   "cell_type": "code",
   "execution_count": 49,
   "metadata": {
    "ExecuteTime": {
     "end_time": "2019-10-20T16:42:02.217626Z",
     "start_time": "2019-10-20T16:42:02.214633Z"
    }
   },
   "outputs": [
    {
     "name": "stdout",
     "output_type": "stream",
     "text": [
      "<s> có lẽ nó có xuất xứ từ các đại biểu của thuyết nhất thiết hữu bộ , nhưng nó lại được sử dụng thường xuyên trong văn học đại thừa . <e>\n",
      "<s> có lẽ nó có xuất xứ từ các đại biểu của thuyết nhất thiết hữu bộ , nhưng nó lại được sử dụng thường xuyên trong văn học đại thừa . <e>\n"
     ]
    }
   ],
   "source": [
    "print(prediction[100])\n",
    "print(target[100])"
   ]
  },
  {
   "cell_type": "code",
   "execution_count": 53,
   "metadata": {
    "ExecuteTime": {
     "end_time": "2019-10-20T16:43:47.221359Z",
     "start_time": "2019-10-20T16:43:46.691724Z"
    },
    "colab": {
     "base_uri": "https://localhost:8080/",
     "height": 360
    },
    "colab_type": "code",
    "executionInfo": {
     "elapsed": 1486,
     "status": "ok",
     "timestamp": 1571286386248,
     "user": {
      "displayName": "Leo Tay",
      "photoUrl": "",
      "userId": "17143338865945125396"
     },
     "user_tz": -480
    },
    "id": "WKYNSOsg8_3E",
    "outputId": "a9cc1d36-a752-4312-8861-62fcc38598fe"
   },
   "outputs": [
    {
     "data": {
      "image/png": "[encoded data removed]",
      "text/plain": [
       "<Figure size 720x720 with 1 Axes>"
      ]
     },
     "metadata": {
      "needs_background": "light"
     },
     "output_type": "display_data"
    },
    {
     "data": {
      "text/plain": [
       "'có lẽ nó có xuất xứ từ các đại biểu của thuyết nhất thiết hữu bộ , nhưng nó lại được sử dụng thường xuyên trong văn học đại thừa . <e> '"
      ]
     },
     "execution_count": 53,
     "metadata": {},
     "output_type": "execute_result"
    }
   ],
   "source": [
    "restore(' '.join(convert(input_tokenizer, test_inp_data[100], True)), plot=True)"
   ]
  },
  {
   "cell_type": "code",
   "execution_count": 0,
   "metadata": {
    "colab": {},
    "colab_type": "code",
    "id": "Pn1bZ1GP9MgL"
   },
   "outputs": [],
   "source": []
  }
 ],
 "metadata": {
  "accelerator": "GPU",
  "colab": {
   "collapsed_sections": [],
   "machine_shape": "hm",
   "name": "Tensorflow.ipynb",
   "provenance": [],
   "toc_visible": true
  },
  "kernelspec": {
   "display_name": "Python 3",
   "language": "python",
   "name": "python3"
  },
  "language_info": {
   "codemirror_mode": {
    "name": "ipython",
    "version": 3
   },
   "file_extension": ".py",
   "mimetype": "text/x-python",
   "name": "python",
   "nbconvert_exporter": "python",
   "pygments_lexer": "ipython3",
   "version": "3.7.3"
  },
  "toc": {
   "base_numbering": 1,
   "nav_menu": {},
   "number_sections": true,
   "sideBar": true,
   "skip_h1_title": false,
   "title_cell": "Table of Contents",
   "title_sidebar": "Contents",
   "toc_cell": true,
   "toc_position": {
    "height": "calc(100% - 180px)",
    "left": "10px",
    "top": "150px",
    "width": "384px"
   },
   "toc_section_display": true,
   "toc_window_display": true
  }
 },
 "nbformat": 4,
 "nbformat_minor": 1
}
