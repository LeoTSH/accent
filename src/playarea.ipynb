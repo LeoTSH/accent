{
 "cells": [
  {
   "cell_type": "markdown",
   "metadata": {
    "colab_type": "text",
    "id": "YWE1MCiZAIU0",
    "toc": true
   },
   "source": [
    "<h1>Table of Contents<span class=\"tocSkip\"></span></h1>\n",
    "<div class=\"toc\"><ul class=\"toc-item\"><li><span><a href=\"#Import-modules\" data-toc-modified-id=\"Import-modules-1\"><span class=\"toc-item-num\">1&nbsp;&nbsp;</span>Import modules</a></span></li><li><span><a href=\"#Load-and-tokenize-data\" data-toc-modified-id=\"Load-and-tokenize-data-2\"><span class=\"toc-item-num\">2&nbsp;&nbsp;</span>Load and tokenize data</a></span></li><li><span><a href=\"#Verify-tokenization/padding\" data-toc-modified-id=\"Verify-tokenization/padding-3\"><span class=\"toc-item-num\">3&nbsp;&nbsp;</span>Verify tokenization/padding</a></span></li><li><span><a href=\"#Split-data-into-train-and-validation-sets\" data-toc-modified-id=\"Split-data-into-train-and-validation-sets-4\"><span class=\"toc-item-num\">4&nbsp;&nbsp;</span>Split data into train and validation sets</a></span></li><li><span><a href=\"#Verify-split\" data-toc-modified-id=\"Verify-split-5\"><span class=\"toc-item-num\">5&nbsp;&nbsp;</span>Verify split</a></span></li><li><span><a href=\"#Define-shared-model-parameters\" data-toc-modified-id=\"Define-shared-model-parameters-6\"><span class=\"toc-item-num\">6&nbsp;&nbsp;</span>Define shared model parameters</a></span></li><li><span><a href=\"#Baseline-LSTM-model\" data-toc-modified-id=\"Baseline-LSTM-model-7\"><span class=\"toc-item-num\">7&nbsp;&nbsp;</span>Baseline LSTM model</a></span></li><li><span><a href=\"#Test-baseline-LSTM-model\" data-toc-modified-id=\"Test-baseline-LSTM-model-8\"><span class=\"toc-item-num\">8&nbsp;&nbsp;</span>Test baseline LSTM model</a></span></li><li><span><a href=\"#BiLSTM-model\" data-toc-modified-id=\"BiLSTM-model-9\"><span class=\"toc-item-num\">9&nbsp;&nbsp;</span>BiLSTM model</a></span></li><li><span><a href=\"#Test-BiLSTM-model\" data-toc-modified-id=\"Test-BiLSTM-model-10\"><span class=\"toc-item-num\">10&nbsp;&nbsp;</span>Test BiLSTM model</a></span></li><li><span><a href=\"#Pytorch-Implementation\" data-toc-modified-id=\"Pytorch-Implementation-11\"><span class=\"toc-item-num\">11&nbsp;&nbsp;</span>Pytorch Implementation</a></span></li><li><span><a href=\"#Test-Area\" data-toc-modified-id=\"Test-Area-12\"><span class=\"toc-item-num\">12&nbsp;&nbsp;</span>Test Area</a></span></li></ul></div>"
   ]
  },
  {
   "cell_type": "code",
   "execution_count": 1,
   "metadata": {
    "colab": {
     "base_uri": "https://localhost:8080/",
     "height": 34
    },
    "colab_type": "code",
    "executionInfo": {
     "elapsed": 3910,
     "status": "ok",
     "timestamp": 1567663698503,
     "user": {
      "displayName": "Leo Tay",
      "photoUrl": "",
      "userId": "17143338865945125396"
     },
     "user_tz": -480
    },
    "id": "7dFOwN98AZL3",
    "outputId": "cb367147-ddb6-4824-c818-4e0059a1a59e"
   },
   "outputs": [],
   "source": [
    "# from google.colab import drive\n",
    "# drive.mount('/content/drive', force_remount=True)"
   ]
  },
  {
   "cell_type": "code",
   "execution_count": 2,
   "metadata": {
    "colab": {
     "base_uri": "https://localhost:8080/",
     "height": 34
    },
    "colab_type": "code",
    "executionInfo": {
     "elapsed": 728,
     "status": "ok",
     "timestamp": 1567664721639,
     "user": {
      "displayName": "Leo Tay",
      "photoUrl": "",
      "userId": "17143338865945125396"
     },
     "user_tz": -480
    },
    "id": "IByX-O5CAb2p",
    "outputId": "017dba43-d68d-4047-81ac-4587ee4accc6"
   },
   "outputs": [],
   "source": [
    "# %cd /content/drive/My Drive/Colab Notebooks/accent/src"
   ]
  },
  {
   "cell_type": "markdown",
   "metadata": {
    "colab_type": "text",
    "heading_collapsed": true,
    "id": "cAdVcWADAIU1"
   },
   "source": [
    "### Import modules"
   ]
  },
  {
   "cell_type": "code",
   "execution_count": 1,
   "metadata": {
    "ExecuteTime": {
     "end_time": "2019-09-03T08:22:24.722064Z",
     "start_time": "2019-09-03T08:22:21.846025Z"
    },
    "colab": {
     "base_uri": "https://localhost:8080/",
     "height": 34
    },
    "colab_type": "code",
    "executionInfo": {
     "elapsed": 3068,
     "status": "ok",
     "timestamp": 1567664724981,
     "user": {
      "displayName": "Leo Tay",
      "photoUrl": "",
      "userId": "17143338865945125396"
     },
     "user_tz": -480
    },
    "hidden": true,
    "id": "UmwBvXyXAIU2",
    "outputId": "f42b7ff9-e82b-4420-c679-3912adb6f3c0"
   },
   "outputs": [
    {
     "name": "stderr",
     "output_type": "stream",
     "text": [
      "Using TensorFlow backend.\n"
     ]
    }
   ],
   "source": [
    "import numpy as np, matplotlib.pyplot as plt, matplotlib.ticker as ticker, random\n",
    "from utils import process_raw, generate_input, get_max_len, process_data, convert\n",
    "from sklearn.model_selection import train_test_split\n",
    "\n",
    "from tensorflow.keras.layers import LSTM, TimeDistributed, RepeatVector, Dense, Embedding, Bidirectional\n",
    "from tensorflow.keras.models import Sequential, load_model\n",
    "from tensorflow.keras.callbacks import ModelCheckpoint, EarlyStopping\n",
    "from tensorflow.keras.optimizers import Adam\n",
    "from tensorflow.keras.utils import plot_model\n",
    "from tensorflow.keras.losses import sparse_categorical_crossentropy\n",
    "from tensorflow.keras.preprocessing.sequence import pad_sequences"
   ]
  },
  {
   "cell_type": "markdown",
   "metadata": {
    "colab_type": "text",
    "heading_collapsed": true,
    "id": "hhpMFIzCAIU5"
   },
   "source": [
    "### Load and tokenize data"
   ]
  },
  {
   "cell_type": "code",
   "execution_count": 2,
   "metadata": {
    "ExecuteTime": {
     "end_time": "2019-09-03T08:22:26.818044Z",
     "start_time": "2019-09-03T08:22:24.723783Z"
    },
    "colab": {},
    "colab_type": "code",
    "hidden": true,
    "id": "qjT-UsaYAIU5"
   },
   "outputs": [],
   "source": [
    "# Load raw data and read first 100000 lines with 25 or less words\n",
    "data = '../data/raw/raw_train.txt'\n",
    "counter = 0\n",
    "max_seq_len = 25 # To change to 35 in future iterations\n",
    "no_seq = 100000\n",
    "raw_data = []\n",
    "\n",
    "with open(data, 'r', encoding='utf-8') as f:    \n",
    "    while counter != no_seq:\n",
    "        line = f.readline()\n",
    "        if len(line.split()) <= max_seq_len:\n",
    "            raw_data.append(line)\n",
    "            counter += 1\n",
    "        else:\n",
    "            pass"
   ]
  },
  {
   "cell_type": "code",
   "execution_count": 3,
   "metadata": {
    "colab": {
     "base_uri": "https://localhost:8080/",
     "height": 34
    },
    "colab_type": "code",
    "executionInfo": {
     "elapsed": 2242,
     "status": "ok",
     "timestamp": 1567664725570,
     "user": {
      "displayName": "Leo Tay",
      "photoUrl": "",
      "userId": "17143338865945125396"
     },
     "user_tz": -480
    },
    "hidden": true,
    "id": "nANelBbafMDl",
    "outputId": "3a5c9f79-b30a-4715-c3ee-99b1dc5be8d4"
   },
   "outputs": [
    {
     "data": {
      "text/plain": [
       "\"tên lãnh thổ này được đặt theo sông yukon , yukon có nghĩa `` sông vĩ đại '' trong tiếng gwich ’ in .\\n\""
      ]
     },
     "execution_count": 3,
     "metadata": {},
     "output_type": "execute_result"
    }
   ],
   "source": [
    "raw_data[10]"
   ]
  },
  {
   "cell_type": "code",
   "execution_count": 4,
   "metadata": {
    "colab": {},
    "colab_type": "code",
    "hidden": true,
    "id": "ZXfi_FQdINzw"
   },
   "outputs": [],
   "source": [
    "# Shuffle raw data prior to processing\n",
    "np.random.shuffle(raw_data)\n",
    "\n",
    "# Process raw and input data\n",
    "processed_raw = process_raw(raw_data)\n",
    "processed_inp = [generate_input(seq) for seq in processed_raw]"
   ]
  },
  {
   "cell_type": "code",
   "execution_count": 5,
   "metadata": {
    "colab": {},
    "colab_type": "code",
    "hidden": true,
    "id": "QrQIkSbFI_pB"
   },
   "outputs": [
    {
     "ename": "KeyboardInterrupt",
     "evalue": "",
     "output_type": "error",
     "traceback": [
      "\u001b[1;31m---------------------------------------------------------------------------\u001b[0m",
      "\u001b[1;31mKeyboardInterrupt\u001b[0m                         Traceback (most recent call last)",
      "\u001b[1;32m<ipython-input-5-2da0a7f00394>\u001b[0m in \u001b[0;36m<module>\u001b[1;34m\u001b[0m\n\u001b[0;32m      1\u001b[0m \u001b[1;31m# Tokenize/pad input and target data, generates corresponding tokenizers\u001b[0m\u001b[1;33m\u001b[0m\u001b[1;33m\u001b[0m\u001b[1;33m\u001b[0m\u001b[0m\n\u001b[1;32m----> 2\u001b[1;33m \u001b[0mtokenized_input\u001b[0m\u001b[1;33m,\u001b[0m \u001b[0minput_tokenizer\u001b[0m\u001b[1;33m,\u001b[0m \u001b[0mtokenized_target\u001b[0m\u001b[1;33m,\u001b[0m \u001b[0mtarget_tokenizer\u001b[0m \u001b[1;33m=\u001b[0m \u001b[0mprocess_data\u001b[0m\u001b[1;33m(\u001b[0m\u001b[0mprocessed_input\u001b[0m\u001b[1;33m=\u001b[0m\u001b[0mprocessed_inp\u001b[0m\u001b[1;33m,\u001b[0m \u001b[0mprocessed_target\u001b[0m\u001b[1;33m=\u001b[0m\u001b[0mprocessed_raw\u001b[0m\u001b[1;33m,\u001b[0m \u001b[0mpad_len\u001b[0m\u001b[1;33m=\u001b[0m\u001b[0mmax_seq_len\u001b[0m\u001b[1;33m)\u001b[0m\u001b[1;33m\u001b[0m\u001b[1;33m\u001b[0m\u001b[0m\n\u001b[0m",
      "\u001b[1;32md:\\PlayGround\\accent\\src\\utils.py\u001b[0m in \u001b[0;36mprocess_data\u001b[1;34m(processed_input, processed_target, pad_len)\u001b[0m\n\u001b[0;32m     61\u001b[0m \u001b[1;32mdef\u001b[0m \u001b[0mprocess_data\u001b[0m\u001b[1;33m(\u001b[0m\u001b[0mprocessed_input\u001b[0m\u001b[1;33m,\u001b[0m \u001b[0mprocessed_target\u001b[0m\u001b[1;33m,\u001b[0m \u001b[0mpad_len\u001b[0m\u001b[1;33m=\u001b[0m\u001b[1;32mNone\u001b[0m\u001b[1;33m)\u001b[0m\u001b[1;33m:\u001b[0m\u001b[1;33m\u001b[0m\u001b[1;33m\u001b[0m\u001b[0m\n\u001b[0;32m     62\u001b[0m     \u001b[0mtokenized_input\u001b[0m\u001b[1;33m,\u001b[0m \u001b[0minput_tokenizer\u001b[0m \u001b[1;33m=\u001b[0m \u001b[0mtokenize_pad_data\u001b[0m\u001b[1;33m(\u001b[0m\u001b[0mdata\u001b[0m\u001b[1;33m=\u001b[0m\u001b[0mprocessed_input\u001b[0m\u001b[1;33m,\u001b[0m \u001b[0mpad_len\u001b[0m\u001b[1;33m=\u001b[0m\u001b[0mpad_len\u001b[0m\u001b[1;33m)\u001b[0m\u001b[1;33m\u001b[0m\u001b[1;33m\u001b[0m\u001b[0m\n\u001b[1;32m---> 63\u001b[1;33m     \u001b[0mtokenized_target\u001b[0m\u001b[1;33m,\u001b[0m \u001b[0mtarget_tokenizer\u001b[0m \u001b[1;33m=\u001b[0m \u001b[0mtokenize_pad_data\u001b[0m\u001b[1;33m(\u001b[0m\u001b[0mdata\u001b[0m\u001b[1;33m=\u001b[0m\u001b[0mprocessed_target\u001b[0m\u001b[1;33m,\u001b[0m \u001b[0mpad_len\u001b[0m\u001b[1;33m=\u001b[0m\u001b[0mpad_len\u001b[0m\u001b[1;33m)\u001b[0m\u001b[1;33m\u001b[0m\u001b[1;33m\u001b[0m\u001b[0m\n\u001b[0m\u001b[0;32m     64\u001b[0m     \u001b[1;32mreturn\u001b[0m \u001b[0mtokenized_input\u001b[0m\u001b[1;33m,\u001b[0m \u001b[0minput_tokenizer\u001b[0m\u001b[1;33m,\u001b[0m \u001b[0mtokenized_target\u001b[0m\u001b[1;33m,\u001b[0m \u001b[0mtarget_tokenizer\u001b[0m\u001b[1;33m\u001b[0m\u001b[1;33m\u001b[0m\u001b[0m\n\u001b[0;32m     65\u001b[0m \u001b[1;33m\u001b[0m\u001b[0m\n",
      "\u001b[1;32md:\\PlayGround\\accent\\src\\utils.py\u001b[0m in \u001b[0;36mtokenize_pad_data\u001b[1;34m(data, pad_len)\u001b[0m\n\u001b[0;32m     54\u001b[0m \u001b[1;32mdef\u001b[0m \u001b[0mtokenize_pad_data\u001b[0m\u001b[1;33m(\u001b[0m\u001b[0mdata\u001b[0m\u001b[1;33m,\u001b[0m \u001b[0mpad_len\u001b[0m\u001b[1;33m=\u001b[0m\u001b[1;32mNone\u001b[0m\u001b[1;33m)\u001b[0m\u001b[1;33m:\u001b[0m\u001b[1;33m\u001b[0m\u001b[1;33m\u001b[0m\u001b[0m\n\u001b[0;32m     55\u001b[0m     \u001b[0mtk\u001b[0m \u001b[1;33m=\u001b[0m \u001b[0mTokenizer\u001b[0m\u001b[1;33m(\u001b[0m\u001b[0mchar_level\u001b[0m\u001b[1;33m=\u001b[0m\u001b[1;32mFalse\u001b[0m\u001b[1;33m,\u001b[0m \u001b[0mfilters\u001b[0m\u001b[1;33m=\u001b[0m\u001b[1;34m''\u001b[0m\u001b[1;33m)\u001b[0m\u001b[1;33m\u001b[0m\u001b[1;33m\u001b[0m\u001b[0m\n\u001b[1;32m---> 56\u001b[1;33m     \u001b[0mtk\u001b[0m\u001b[1;33m.\u001b[0m\u001b[0mfit_on_texts\u001b[0m\u001b[1;33m(\u001b[0m\u001b[0mdata\u001b[0m\u001b[1;33m)\u001b[0m\u001b[1;33m\u001b[0m\u001b[1;33m\u001b[0m\u001b[0m\n\u001b[0m\u001b[0;32m     57\u001b[0m     \u001b[0mdata\u001b[0m \u001b[1;33m=\u001b[0m \u001b[0mtk\u001b[0m\u001b[1;33m.\u001b[0m\u001b[0mtexts_to_sequences\u001b[0m\u001b[1;33m(\u001b[0m\u001b[0mdata\u001b[0m\u001b[1;33m)\u001b[0m\u001b[1;33m\u001b[0m\u001b[1;33m\u001b[0m\u001b[0m\n\u001b[0;32m     58\u001b[0m     \u001b[0mdata\u001b[0m \u001b[1;33m=\u001b[0m \u001b[0mpad_sequences\u001b[0m\u001b[1;33m(\u001b[0m\u001b[0mdata\u001b[0m\u001b[1;33m,\u001b[0m \u001b[0mpadding\u001b[0m\u001b[1;33m=\u001b[0m\u001b[1;34m'post'\u001b[0m\u001b[1;33m,\u001b[0m \u001b[0mmaxlen\u001b[0m\u001b[1;33m=\u001b[0m\u001b[0mpad_len\u001b[0m\u001b[1;33m)\u001b[0m\u001b[1;33m\u001b[0m\u001b[1;33m\u001b[0m\u001b[0m\n",
      "\u001b[1;32mC:\\Anaconda3\\lib\\site-packages\\keras_preprocessing\\text.py\u001b[0m in \u001b[0;36mfit_on_texts\u001b[1;34m(self, texts)\u001b[0m\n\u001b[0;32m    221\u001b[0m                                             \u001b[0mself\u001b[0m\u001b[1;33m.\u001b[0m\u001b[0mfilters\u001b[0m\u001b[1;33m,\u001b[0m\u001b[1;33m\u001b[0m\u001b[1;33m\u001b[0m\u001b[0m\n\u001b[0;32m    222\u001b[0m                                             \u001b[0mself\u001b[0m\u001b[1;33m.\u001b[0m\u001b[0mlower\u001b[0m\u001b[1;33m,\u001b[0m\u001b[1;33m\u001b[0m\u001b[1;33m\u001b[0m\u001b[0m\n\u001b[1;32m--> 223\u001b[1;33m                                             self.split)\n\u001b[0m\u001b[0;32m    224\u001b[0m             \u001b[1;32mfor\u001b[0m \u001b[0mw\u001b[0m \u001b[1;32min\u001b[0m \u001b[0mseq\u001b[0m\u001b[1;33m:\u001b[0m\u001b[1;33m\u001b[0m\u001b[1;33m\u001b[0m\u001b[0m\n\u001b[0;32m    225\u001b[0m                 \u001b[1;32mif\u001b[0m \u001b[0mw\u001b[0m \u001b[1;32min\u001b[0m \u001b[0mself\u001b[0m\u001b[1;33m.\u001b[0m\u001b[0mword_counts\u001b[0m\u001b[1;33m:\u001b[0m\u001b[1;33m\u001b[0m\u001b[1;33m\u001b[0m\u001b[0m\n",
      "\u001b[1;32mC:\\Anaconda3\\lib\\site-packages\\keras_preprocessing\\text.py\u001b[0m in \u001b[0;36mtext_to_word_sequence\u001b[1;34m(text, filters, lower, split)\u001b[0m\n\u001b[0;32m     58\u001b[0m         \u001b[0mtext\u001b[0m \u001b[1;33m=\u001b[0m \u001b[0mtext\u001b[0m\u001b[1;33m.\u001b[0m\u001b[0mtranslate\u001b[0m\u001b[1;33m(\u001b[0m\u001b[0mtranslate_map\u001b[0m\u001b[1;33m)\u001b[0m\u001b[1;33m\u001b[0m\u001b[1;33m\u001b[0m\u001b[0m\n\u001b[0;32m     59\u001b[0m \u001b[1;33m\u001b[0m\u001b[0m\n\u001b[1;32m---> 60\u001b[1;33m     \u001b[0mseq\u001b[0m \u001b[1;33m=\u001b[0m \u001b[0mtext\u001b[0m\u001b[1;33m.\u001b[0m\u001b[0msplit\u001b[0m\u001b[1;33m(\u001b[0m\u001b[0msplit\u001b[0m\u001b[1;33m)\u001b[0m\u001b[1;33m\u001b[0m\u001b[1;33m\u001b[0m\u001b[0m\n\u001b[0m\u001b[0;32m     61\u001b[0m     \u001b[1;32mreturn\u001b[0m \u001b[1;33m[\u001b[0m\u001b[0mi\u001b[0m \u001b[1;32mfor\u001b[0m \u001b[0mi\u001b[0m \u001b[1;32min\u001b[0m \u001b[0mseq\u001b[0m \u001b[1;32mif\u001b[0m \u001b[0mi\u001b[0m\u001b[1;33m]\u001b[0m\u001b[1;33m\u001b[0m\u001b[1;33m\u001b[0m\u001b[0m\n\u001b[0;32m     62\u001b[0m \u001b[1;33m\u001b[0m\u001b[0m\n",
      "\u001b[1;31mKeyboardInterrupt\u001b[0m: "
     ]
    }
   ],
   "source": [
    "# Tokenize/pad input and target data, generates corresponding tokenizers\n",
    "tokenized_input, input_tokenizer, tokenized_target, target_tokenizer = process_data(processed_input=processed_inp, processed_target=processed_raw, pad_len=max_seq_len)"
   ]
  },
  {
   "cell_type": "code",
   "execution_count": null,
   "metadata": {
    "colab": {},
    "colab_type": "code",
    "hidden": true,
    "id": "K3UdG8I4_PMy"
   },
   "outputs": [],
   "source": [
    "# Keras's sparse_categorical_crossentropy function requires the labels to be in 3 dimensions\n",
    "tokenized_target = tokenized_target.reshape(*tokenized_target.shape, 1)"
   ]
  },
  {
   "cell_type": "markdown",
   "metadata": {
    "colab_type": "text",
    "heading_collapsed": true,
    "id": "IZ2D-22qAIVF"
   },
   "source": [
    "### Verify tokenization/padding"
   ]
  },
  {
   "cell_type": "code",
   "execution_count": null,
   "metadata": {
    "ExecuteTime": {
     "end_time": "2019-09-03T06:50:27.912646Z",
     "start_time": "2019-09-03T06:50:27.908317Z"
    },
    "colab": {
     "base_uri": "https://localhost:8080/",
     "height": 102
    },
    "colab_type": "code",
    "executionInfo": {
     "elapsed": 6939,
     "status": "ok",
     "timestamp": 1567655401439,
     "user": {
      "displayName": "Leo Tay",
      "photoUrl": "",
      "userId": "17143338865945125396"
     },
     "user_tz": -480
    },
    "hidden": true,
    "id": "L9vfGwL8AIVG",
    "outputId": "f029e5f4-039a-4e03-8791-e6378f881616"
   },
   "outputs": [],
   "source": [
    "convert(input_tokenizer, tokenized_input[10])"
   ]
  },
  {
   "cell_type": "code",
   "execution_count": null,
   "metadata": {
    "ExecuteTime": {
     "end_time": "2019-09-03T06:50:28.814909Z",
     "start_time": "2019-09-03T06:50:28.810396Z"
    },
    "colab": {
     "base_uri": "https://localhost:8080/",
     "height": 102
    },
    "colab_type": "code",
    "executionInfo": {
     "elapsed": 6398,
     "status": "ok",
     "timestamp": 1567655401440,
     "user": {
      "displayName": "Leo Tay",
      "photoUrl": "",
      "userId": "17143338865945125396"
     },
     "user_tz": -480
    },
    "hidden": true,
    "id": "o-V8wtSXAIVH",
    "outputId": "ab1b4821-0fe5-4b2d-ebe6-962834507044"
   },
   "outputs": [],
   "source": [
    "convert(target_tokenizer, tokenized_target[10].reshape(1, tokenized_target[10].shape[0])[0])"
   ]
  },
  {
   "cell_type": "markdown",
   "metadata": {
    "colab_type": "text",
    "heading_collapsed": true,
    "id": "-AmI5jhVjV6z"
   },
   "source": [
    "### Split data into train and validation sets"
   ]
  },
  {
   "cell_type": "code",
   "execution_count": null,
   "metadata": {
    "ExecuteTime": {
     "end_time": "2019-09-03T08:22:26.834863Z",
     "start_time": "2019-09-03T08:22:26.819630Z"
    },
    "colab": {},
    "colab_type": "code",
    "hidden": true,
    "id": "85i4m88XAIU7"
   },
   "outputs": [],
   "source": [
    "train_data_len = round((.8 * no_seq))\n",
    "val_test_data_len = round((.1 * no_seq))"
   ]
  },
  {
   "cell_type": "code",
   "execution_count": null,
   "metadata": {
    "colab": {},
    "colab_type": "code",
    "hidden": true,
    "id": "HXOxOPOnblZO"
   },
   "outputs": [],
   "source": [
    "train_x, train_y = tokenized_input[:train_data_len], tokenized_target[:train_data_len]\n",
    "val_x, val_y = tokenized_input[train_data_len:(train_data_len+val_test_data_len)], tokenized_target[train_data_len:(train_data_len+val_test_data_len)]\n",
    "test_x, test_y = tokenized_input[-val_test_data_len:], tokenized_target[-val_test_data_len:]"
   ]
  },
  {
   "cell_type": "markdown",
   "metadata": {
    "colab_type": "text",
    "id": "UhbtYx0TjfeY"
   },
   "source": [
    "### Verify split"
   ]
  },
  {
   "cell_type": "code",
   "execution_count": null,
   "metadata": {
    "colab": {
     "base_uri": "https://localhost:8080/",
     "height": 34
    },
    "colab_type": "code",
    "executionInfo": {
     "elapsed": 1663,
     "status": "ok",
     "timestamp": 1567655411824,
     "user": {
      "displayName": "Leo Tay",
      "photoUrl": "",
      "userId": "17143338865945125396"
     },
     "user_tz": -480
    },
    "id": "szIdZRKzblbn",
    "outputId": "9fda637d-ec1e-4f6a-99a5-b23ffae6e1bd"
   },
   "outputs": [],
   "source": [
    "print('Train X: {} sequences, Train Y: {} sequences'.format(len(train_x), len(train_y)))"
   ]
  },
  {
   "cell_type": "code",
   "execution_count": null,
   "metadata": {
    "colab": {
     "base_uri": "https://localhost:8080/",
     "height": 34
    },
    "colab_type": "code",
    "executionInfo": {
     "elapsed": 1411,
     "status": "ok",
     "timestamp": 1567655411824,
     "user": {
      "displayName": "Leo Tay",
      "photoUrl": "",
      "userId": "17143338865945125396"
     },
     "user_tz": -480
    },
    "id": "9Qv6jAsEh9LI",
    "outputId": "b6d9655b-04fa-4ee7-d6c4-cbb296184b91"
   },
   "outputs": [],
   "source": [
    "print('Val X: {} sequences, Val Y: {} sequences'.format(len(val_x), len(val_y)))"
   ]
  },
  {
   "cell_type": "code",
   "execution_count": null,
   "metadata": {
    "colab": {
     "base_uri": "https://localhost:8080/",
     "height": 34
    },
    "colab_type": "code",
    "executionInfo": {
     "elapsed": 1221,
     "status": "ok",
     "timestamp": 1567655411825,
     "user": {
      "displayName": "Leo Tay",
      "photoUrl": "",
      "userId": "17143338865945125396"
     },
     "user_tz": -480
    },
    "id": "lAF8IhOsh9Zm",
    "outputId": "17e73115-3be9-400b-c65e-12773981e9c2"
   },
   "outputs": [],
   "source": [
    "print('Test X: {} sequences, Test Y: {} sequences'.format(len(test_x), len(test_y)))"
   ]
  },
  {
   "cell_type": "code",
   "execution_count": null,
   "metadata": {
    "colab": {
     "base_uri": "https://localhost:8080/",
     "height": 102
    },
    "colab_type": "code",
    "executionInfo": {
     "elapsed": 1758,
     "status": "ok",
     "timestamp": 1567655419218,
     "user": {
      "displayName": "Leo Tay",
      "photoUrl": "",
      "userId": "17143338865945125396"
     },
     "user_tz": -480
    },
    "id": "BZKeRSK7h983",
    "outputId": "f3c2fe53-9c68-4fb4-a33e-cf1e737c4716"
   },
   "outputs": [],
   "source": [
    "convert(input_tokenizer, train_x[-1])"
   ]
  },
  {
   "cell_type": "code",
   "execution_count": null,
   "metadata": {
    "colab": {
     "base_uri": "https://localhost:8080/",
     "height": 102
    },
    "colab_type": "code",
    "executionInfo": {
     "elapsed": 1265,
     "status": "ok",
     "timestamp": 1567655419219,
     "user": {
      "displayName": "Leo Tay",
      "photoUrl": "",
      "userId": "17143338865945125396"
     },
     "user_tz": -480
    },
    "id": "RF9wOOwpbleN",
    "outputId": "3f81f927-4787-4a6f-cb62-4c4e6ca0b9b9"
   },
   "outputs": [],
   "source": [
    "convert(target_tokenizer, train_y[-1].reshape(1, train_y[-1].shape[0])[0])"
   ]
  },
  {
   "cell_type": "code",
   "execution_count": null,
   "metadata": {
    "colab": {
     "base_uri": "https://localhost:8080/",
     "height": 102
    },
    "colab_type": "code",
    "executionInfo": {
     "elapsed": 1189,
     "status": "ok",
     "timestamp": 1567655432231,
     "user": {
      "displayName": "Leo Tay",
      "photoUrl": "",
      "userId": "17143338865945125396"
     },
     "user_tz": -480
    },
    "id": "KZj-FmTqblgK",
    "outputId": "1d5a0c95-d708-498f-dc57-f310174ea220"
   },
   "outputs": [],
   "source": [
    "convert(input_tokenizer, val_x[0])"
   ]
  },
  {
   "cell_type": "code",
   "execution_count": null,
   "metadata": {
    "colab": {
     "base_uri": "https://localhost:8080/",
     "height": 102
    },
    "colab_type": "code",
    "executionInfo": {
     "elapsed": 1184,
     "status": "ok",
     "timestamp": 1567655435307,
     "user": {
      "displayName": "Leo Tay",
      "photoUrl": "",
      "userId": "17143338865945125396"
     },
     "user_tz": -480
    },
    "id": "7av7mz51ibCc",
    "outputId": "7fef03eb-4885-41bd-df36-31c4e4b97c63"
   },
   "outputs": [],
   "source": [
    "convert(target_tokenizer, val_y[0].reshape(1, val_y[0].shape[0])[0])"
   ]
  },
  {
   "cell_type": "code",
   "execution_count": null,
   "metadata": {
    "colab": {
     "base_uri": "https://localhost:8080/",
     "height": 102
    },
    "colab_type": "code",
    "executionInfo": {
     "elapsed": 1719,
     "status": "ok",
     "timestamp": 1567655459731,
     "user": {
      "displayName": "Leo Tay",
      "photoUrl": "",
      "userId": "17143338865945125396"
     },
     "user_tz": -480
    },
    "id": "yFYBRtPpibFR",
    "outputId": "c11a169e-a534-4695-c93f-24fc887375b1"
   },
   "outputs": [],
   "source": [
    "convert(input_tokenizer, val_x[-1])"
   ]
  },
  {
   "cell_type": "code",
   "execution_count": null,
   "metadata": {
    "colab": {
     "base_uri": "https://localhost:8080/",
     "height": 102
    },
    "colab_type": "code",
    "executionInfo": {
     "elapsed": 1490,
     "status": "ok",
     "timestamp": 1567655459732,
     "user": {
      "displayName": "Leo Tay",
      "photoUrl": "",
      "userId": "17143338865945125396"
     },
     "user_tz": -480
    },
    "id": "CXE82R9Lib8U",
    "outputId": "a48e44d1-c592-4988-eeff-52aacf491665"
   },
   "outputs": [],
   "source": [
    "convert(target_tokenizer, val_y[-1].reshape(1, val_y[-1].shape[0])[0])"
   ]
  },
  {
   "cell_type": "code",
   "execution_count": null,
   "metadata": {
    "colab": {
     "base_uri": "https://localhost:8080/",
     "height": 122
    },
    "colab_type": "code",
    "executionInfo": {
     "elapsed": 1192,
     "status": "ok",
     "timestamp": 1567655525941,
     "user": {
      "displayName": "Leo Tay",
      "photoUrl": "",
      "userId": "17143338865945125396"
     },
     "user_tz": -480
    },
    "id": "y8pytVFRicCR",
    "outputId": "62430402-6584-4c78-e4de-98381d89c446"
   },
   "outputs": [],
   "source": [
    "convert(input_tokenizer, test_x[0])"
   ]
  },
  {
   "cell_type": "code",
   "execution_count": null,
   "metadata": {
    "colab": {
     "base_uri": "https://localhost:8080/",
     "height": 122
    },
    "colab_type": "code",
    "executionInfo": {
     "elapsed": 1200,
     "status": "ok",
     "timestamp": 1567655527869,
     "user": {
      "displayName": "Leo Tay",
      "photoUrl": "",
      "userId": "17143338865945125396"
     },
     "user_tz": -480
    },
    "id": "EM98RjO8jAqK",
    "outputId": "187eb8fd-0e82-4545-d058-748a77872b78"
   },
   "outputs": [],
   "source": [
    "convert(target_tokenizer, test_y[0].reshape(1, test_y[0].shape[0])[0])"
   ]
  },
  {
   "cell_type": "markdown",
   "metadata": {
    "colab_type": "text",
    "heading_collapsed": true,
    "id": "E-lVfFkOAIVJ"
   },
   "source": [
    "### Define shared model parameters"
   ]
  },
  {
   "cell_type": "code",
   "execution_count": null,
   "metadata": {
    "ExecuteTime": {
     "end_time": "2019-09-03T08:22:26.934600Z",
     "start_time": "2019-09-03T08:22:26.838692Z"
    },
    "colab": {},
    "colab_type": "code",
    "hidden": true,
    "id": "Pbaed0GQAIVJ"
   },
   "outputs": [],
   "source": [
    "batch_size = 64\n",
    "embedding_dim = 256\n",
    "units = 512\n",
    "input_vocab_size = len(input_tokenizer.word_index)+1\n",
    "target_vocab_size = len(target_tokenizer.word_index)+1"
   ]
  },
  {
   "cell_type": "code",
   "execution_count": null,
   "metadata": {
    "colab": {
     "base_uri": "https://localhost:8080/",
     "height": 34
    },
    "colab_type": "code",
    "executionInfo": {
     "elapsed": 4057,
     "status": "ok",
     "timestamp": 1567664735784,
     "user": {
      "displayName": "Leo Tay",
      "photoUrl": "",
      "userId": "17143338865945125396"
     },
     "user_tz": -480
    },
    "hidden": true,
    "id": "mj9NJeqyJ9-K",
    "outputId": "494b95af-8cfe-438d-97ab-3a09c8ce0ea2"
   },
   "outputs": [],
   "source": [
    "input_vocab_size"
   ]
  },
  {
   "cell_type": "code",
   "execution_count": null,
   "metadata": {
    "colab": {
     "base_uri": "https://localhost:8080/",
     "height": 34
    },
    "colab_type": "code",
    "executionInfo": {
     "elapsed": 3800,
     "status": "ok",
     "timestamp": 1567664735784,
     "user": {
      "displayName": "Leo Tay",
      "photoUrl": "",
      "userId": "17143338865945125396"
     },
     "user_tz": -480
    },
    "hidden": true,
    "id": "yR2AGGG4J_ip",
    "outputId": "7f8dc0aa-7702-49e4-bcd4-768a03a0467f"
   },
   "outputs": [],
   "source": [
    "target_vocab_size"
   ]
  },
  {
   "cell_type": "markdown",
   "metadata": {
    "colab_type": "text",
    "id": "tuF1WJSFjxqD"
   },
   "source": [
    "### Baseline LSTM model"
   ]
  },
  {
   "cell_type": "code",
   "execution_count": 27,
   "metadata": {
    "colab": {
     "base_uri": "https://localhost:8080/",
     "height": 513
    },
    "colab_type": "code",
    "executionInfo": {
     "elapsed": 1720,
     "status": "ok",
     "timestamp": 1567655915464,
     "user": {
      "displayName": "Leo Tay",
      "photoUrl": "",
      "userId": "17143338865945125396"
     },
     "user_tz": -480
    },
    "id": "89xplE5fAIVR",
    "outputId": "f4f0ae55-f19c-4d86-9de7-cf42e1f0c3ba"
   },
   "outputs": [
    {
     "name": "stderr",
     "output_type": "stream",
     "text": [
      "WARNING: Logging before flag parsing goes to stderr.\n",
      "W0905 23:42:48.025320  2412 deprecation.py:506] From C:\\Anaconda3\\lib\\site-packages\\tensorflow\\python\\keras\\initializers.py:119: calling RandomUniform.__init__ (from tensorflow.python.ops.init_ops) with dtype is deprecated and will be removed in a future version.\n",
      "Instructions for updating:\n",
      "Call initializer instance with the dtype argument instead of passing it to the constructor\n",
      "W0905 23:42:48.048259  2412 deprecation.py:506] From C:\\Anaconda3\\lib\\site-packages\\tensorflow\\python\\ops\\init_ops.py:1251: calling VarianceScaling.__init__ (from tensorflow.python.ops.init_ops) with dtype is deprecated and will be removed in a future version.\n",
      "Instructions for updating:\n",
      "Call initializer instance with the dtype argument instead of passing it to the constructor\n",
      "W0905 23:42:48.242758  2412 deprecation.py:323] From C:\\Anaconda3\\lib\\site-packages\\tensorflow\\python\\keras\\backend.py:3794: add_dispatch_support.<locals>.wrapper (from tensorflow.python.ops.array_ops) is deprecated and will be removed in a future version.\n",
      "Instructions for updating:\n",
      "Use tf.where in 2.0, which has the same broadcast rule as np.where\n"
     ]
    },
    {
     "name": "stdout",
     "output_type": "stream",
     "text": [
      "Model: \"sequential\"\n",
      "_________________________________________________________________\n",
      "Layer (type)                 Output Shape              Param #   \n",
      "=================================================================\n",
      "embedding (Embedding)        (None, 25, 512)           16635904  \n",
      "_________________________________________________________________\n",
      "lstm (LSTM)                  (None, 512)               2099200   \n",
      "_________________________________________________________________\n",
      "repeat_vector (RepeatVector) (None, 25, 512)           0         \n",
      "_________________________________________________________________\n",
      "lstm_1 (LSTM)                (None, 25, 512)           2099200   \n",
      "_________________________________________________________________\n",
      "time_distributed (TimeDistri (None, 25, 36789)         18872757  \n",
      "=================================================================\n",
      "Total params: 39,707,061\n",
      "Trainable params: 39,707,061\n",
      "Non-trainable params: 0\n",
      "_________________________________________________________________\n"
     ]
    }
   ],
   "source": [
    "model = Sequential()\n",
    "model.add(Embedding(input_vocab_size, units, input_length=max_seq_len, mask_zero=True))\n",
    "model.add(LSTM(units))\n",
    "model.add(RepeatVector(max_seq_len))\n",
    "model.add(LSTM(units, return_sequences=True))\n",
    "model.add(TimeDistributed(Dense(target_vocab_size, activation='softmax')))\n",
    "model.compile(loss=sparse_categorical_crossentropy, optimizer=Adam(0.001), metrics=['accuracy'])\n",
    "model.summary()"
   ]
  },
  {
   "cell_type": "code",
   "execution_count": 28,
   "metadata": {
    "colab": {
     "base_uri": "https://localhost:8080/",
     "height": 323
    },
    "colab_type": "code",
    "executionInfo": {
     "elapsed": 1574,
     "status": "ok",
     "timestamp": 1567655917393,
     "user": {
      "displayName": "Leo Tay",
      "photoUrl": "",
      "userId": "17143338865945125396"
     },
     "user_tz": -480
    },
    "id": "QWiv7TT0-F6A",
    "outputId": "bb8a407a-0c43-4826-c4b1-d3628aed8943"
   },
   "outputs": [
    {
     "name": "stdout",
     "output_type": "stream",
     "text": [
      "Model: \"sequential\"\n",
      "_________________________________________________________________\n",
      "Layer (type)                 Output Shape              Param #   \n",
      "=================================================================\n",
      "embedding (Embedding)        (None, 25, 512)           16635904  \n",
      "_________________________________________________________________\n",
      "lstm (LSTM)                  (None, 512)               2099200   \n",
      "_________________________________________________________________\n",
      "repeat_vector (RepeatVector) (None, 25, 512)           0         \n",
      "_________________________________________________________________\n",
      "lstm_1 (LSTM)                (None, 25, 512)           2099200   \n",
      "_________________________________________________________________\n",
      "time_distributed (TimeDistri (None, 25, 36789)         18872757  \n",
      "=================================================================\n",
      "Total params: 39,707,061\n",
      "Trainable params: 39,707,061\n",
      "Non-trainable params: 0\n",
      "_________________________________________________________________\n"
     ]
    }
   ],
   "source": [
    "model.compile(loss=sparse_categorical_crossentropy, optimizer=Adam(0.001), metrics=['accuracy'])\n",
    "model.summary()"
   ]
  },
  {
   "cell_type": "code",
   "execution_count": 29,
   "metadata": {
    "colab": {
     "base_uri": "https://localhost:8080/",
     "height": 1000
    },
    "colab_type": "code",
    "executionInfo": {
     "elapsed": 688919,
     "status": "ok",
     "timestamp": 1567663509627,
     "user": {
      "displayName": "Leo Tay",
      "photoUrl": "",
      "userId": "17143338865945125396"
     },
     "user_tz": -480
    },
    "id": "RPm2-r_pAIVT",
    "outputId": "15be2712-d678-4bcf-aa09-faff1237724e",
    "scrolled": true
   },
   "outputs": [
    {
     "name": "stdout",
     "output_type": "stream",
     "text": [
      "Train on 80000 samples, validate on 10000 samples\n",
      "Epoch 1/1000\n",
      "79936/80000 [============================>.] - ETA: 0s - loss: 5.4733 - acc: 0.3859\n",
      "Epoch 00001: val_loss improved from inf to 4.53369, saving model to ../models/baseline_best.h5\n",
      "80000/80000 [==============================] - 288s 4ms/sample - loss: 5.4730 - acc: 0.3859 - val_loss: 4.5337 - val_acc: 0.4045\n",
      "Epoch 2/1000\n",
      "79936/80000 [============================>.] - ETA: 0s - loss: 4.4207 - acc: 0.4066\n",
      "Epoch 00002: val_loss improved from 4.53369 to 4.20829, saving model to ../models/baseline_best.h5\n",
      "80000/80000 [==============================] - 276s 3ms/sample - loss: 4.4206 - acc: 0.4066 - val_loss: 4.2083 - val_acc: 0.4172\n",
      "Epoch 3/1000\n",
      "79936/80000 [============================>.] - ETA: 0s - loss: 3.9799 - acc: 0.4306\n",
      "Epoch 00003: val_loss improved from 4.20829 to 3.71876, saving model to ../models/baseline_best.h5\n",
      "80000/80000 [==============================] - 277s 3ms/sample - loss: 3.9798 - acc: 0.4306 - val_loss: 3.7188 - val_acc: 0.4557\n",
      "Epoch 4/1000\n",
      "79936/80000 [============================>.] - ETA: 0s - loss: 3.3417 - acc: 0.4821\n",
      "Epoch 00004: val_loss improved from 3.71876 to 3.05825, saving model to ../models/baseline_best.h5\n",
      "80000/80000 [==============================] - 278s 3ms/sample - loss: 3.3415 - acc: 0.4822 - val_loss: 3.0583 - val_acc: 0.5152\n",
      "Epoch 5/1000\n",
      "79936/80000 [============================>.] - ETA: 0s - loss: 2.6805 - acc: 0.5473\n",
      "Epoch 00005: val_loss improved from 3.05825 to 2.50525, saving model to ../models/baseline_best.h5\n",
      "80000/80000 [==============================] - 279s 3ms/sample - loss: 2.6803 - acc: 0.5473 - val_loss: 2.5052 - val_acc: 0.5814\n",
      "Epoch 6/1000\n",
      "79936/80000 [============================>.] - ETA: 0s - loss: 2.1190 - acc: 0.6139\n",
      "Epoch 00006: val_loss improved from 2.50525 to 2.06918, saving model to ../models/baseline_best.h5\n",
      "80000/80000 [==============================] - 279s 3ms/sample - loss: 2.1190 - acc: 0.6139 - val_loss: 2.0692 - val_acc: 0.6388\n",
      "Epoch 7/1000\n",
      "79936/80000 [============================>.] - ETA: 0s - loss: 1.6869 - acc: 0.6717\n",
      "Epoch 00007: val_loss improved from 2.06918 to 1.77915, saving model to ../models/baseline_best.h5\n",
      "80000/80000 [==============================] - 278s 3ms/sample - loss: 1.6868 - acc: 0.6717 - val_loss: 1.7791 - val_acc: 0.6802\n",
      "Epoch 8/1000\n",
      "79936/80000 [============================>.] - ETA: 0s - loss: 1.3661 - acc: 0.7192\n",
      "Epoch 00008: val_loss improved from 1.77915 to 1.58573, saving model to ../models/baseline_best.h5\n",
      "80000/80000 [==============================] - 278s 3ms/sample - loss: 1.3660 - acc: 0.7192 - val_loss: 1.5857 - val_acc: 0.7088\n",
      "Epoch 9/1000\n",
      "79936/80000 [============================>.] - ETA: 0s - loss: 1.1188 - acc: 0.7617\n",
      "Epoch 00009: val_loss improved from 1.58573 to 1.41130, saving model to ../models/baseline_best.h5\n",
      "80000/80000 [==============================] - 278s 3ms/sample - loss: 1.1188 - acc: 0.7617 - val_loss: 1.4113 - val_acc: 0.7368\n",
      "Epoch 10/1000\n",
      "79936/80000 [============================>.] - ETA: 0s - loss: 0.9375 - acc: 0.7941\n",
      "Epoch 00010: val_loss improved from 1.41130 to 1.28578, saving model to ../models/baseline_best.h5\n",
      "80000/80000 [==============================] - 278s 3ms/sample - loss: 0.9376 - acc: 0.7941 - val_loss: 1.2858 - val_acc: 0.7577\n",
      "Epoch 11/1000\n",
      "79936/80000 [============================>.] - ETA: 0s - loss: 0.7981 - acc: 0.8204\n",
      "Epoch 00011: val_loss improved from 1.28578 to 1.21093, saving model to ../models/baseline_best.h5\n",
      "80000/80000 [==============================] - 278s 3ms/sample - loss: 0.7982 - acc: 0.8204 - val_loss: 1.2109 - val_acc: 0.7702\n",
      "Epoch 12/1000\n",
      "79936/80000 [============================>.] - ETA: 0s - loss: 0.6996 - acc: 0.8399\n",
      "Epoch 00012: val_loss improved from 1.21093 to 1.15013, saving model to ../models/baseline_best.h5\n",
      "80000/80000 [==============================] - 278s 3ms/sample - loss: 0.6995 - acc: 0.8399 - val_loss: 1.1501 - val_acc: 0.7805\n",
      "Epoch 13/1000\n",
      "79936/80000 [============================>.] - ETA: 0s - loss: 0.6194 - acc: 0.8566\n",
      "Epoch 00013: val_loss improved from 1.15013 to 1.10745, saving model to ../models/baseline_best.h5\n",
      "80000/80000 [==============================] - 278s 3ms/sample - loss: 0.6195 - acc: 0.8566 - val_loss: 1.1075 - val_acc: 0.7887\n",
      "Epoch 14/1000\n",
      "79936/80000 [============================>.] - ETA: 0s - loss: 0.5511 - acc: 0.8710\n",
      "Epoch 00014: val_loss improved from 1.10745 to 1.06889, saving model to ../models/baseline_best.h5\n",
      "80000/80000 [==============================] - 278s 3ms/sample - loss: 0.5511 - acc: 0.8710 - val_loss: 1.0689 - val_acc: 0.7956\n",
      "Epoch 15/1000\n",
      "79936/80000 [============================>.] - ETA: 0s - loss: 0.5012 - acc: 0.8816\n",
      "Epoch 00015: val_loss improved from 1.06889 to 1.04833, saving model to ../models/baseline_best.h5\n",
      "80000/80000 [==============================] - 278s 3ms/sample - loss: 0.5011 - acc: 0.8816 - val_loss: 1.0483 - val_acc: 0.7987\n",
      "Epoch 16/1000\n",
      "79936/80000 [============================>.] - ETA: 0s - loss: 0.4568 - acc: 0.8916\n",
      "Epoch 00016: val_loss improved from 1.04833 to 1.03316, saving model to ../models/baseline_best.h5\n",
      "80000/80000 [==============================] - 278s 3ms/sample - loss: 0.4567 - acc: 0.8916 - val_loss: 1.0332 - val_acc: 0.8036\n",
      "Epoch 17/1000\n",
      "79936/80000 [============================>.] - ETA: 0s - loss: 0.4239 - acc: 0.8992\n",
      "Epoch 00017: val_loss improved from 1.03316 to 1.00853, saving model to ../models/baseline_best.h5\n",
      "80000/80000 [==============================] - 278s 3ms/sample - loss: 0.4240 - acc: 0.8992 - val_loss: 1.0085 - val_acc: 0.8077\n",
      "Epoch 18/1000\n",
      "79936/80000 [============================>.] - ETA: 0s - loss: 0.3872 - acc: 0.9077\n",
      "Epoch 00018: val_loss improved from 1.00853 to 1.00256, saving model to ../models/baseline_best.h5\n",
      "80000/80000 [==============================] - 278s 3ms/sample - loss: 0.3872 - acc: 0.9077 - val_loss: 1.0026 - val_acc: 0.8094\n",
      "Epoch 19/1000\n",
      "79936/80000 [============================>.] - ETA: 0s - loss: 0.3667 - acc: 0.9128\n",
      "Epoch 00019: val_loss improved from 1.00256 to 0.99363, saving model to ../models/baseline_best.h5\n",
      "80000/80000 [==============================] - 278s 3ms/sample - loss: 0.3667 - acc: 0.9128 - val_loss: 0.9936 - val_acc: 0.8121\n",
      "Epoch 20/1000\n",
      "79936/80000 [============================>.] - ETA: 0s - loss: 0.3334 - acc: 0.9207\n",
      "Epoch 00020: val_loss did not improve from 0.99363\n",
      "80000/80000 [==============================] - 276s 3ms/sample - loss: 0.3334 - acc: 0.9207 - val_loss: 1.0001 - val_acc: 0.8114\n",
      "Epoch 21/1000\n",
      "79936/80000 [============================>.] - ETA: 0s - loss: 0.3193 - acc: 0.9242\n",
      "Epoch 00021: val_loss improved from 0.99363 to 0.98189, saving model to ../models/baseline_best.h5\n",
      "80000/80000 [==============================] - 278s 3ms/sample - loss: 0.3193 - acc: 0.9242 - val_loss: 0.9819 - val_acc: 0.8164\n",
      "Epoch 22/1000\n",
      "79936/80000 [============================>.] - ETA: 0s - loss: 0.2992 - acc: 0.9291\n",
      "Epoch 00022: val_loss improved from 0.98189 to 0.98175, saving model to ../models/baseline_best.h5\n",
      "80000/80000 [==============================] - 278s 3ms/sample - loss: 0.2992 - acc: 0.9291 - val_loss: 0.9817 - val_acc: 0.8170\n",
      "Epoch 23/1000\n",
      "79936/80000 [============================>.] - ETA: 0s - loss: 0.2811 - acc: 0.9336\n",
      "Epoch 00023: val_loss improved from 0.98175 to 0.98118, saving model to ../models/baseline_best.h5\n",
      "80000/80000 [==============================] - 278s 3ms/sample - loss: 0.2811 - acc: 0.9336 - val_loss: 0.9812 - val_acc: 0.8169\n",
      "Epoch 24/1000\n",
      "79936/80000 [============================>.] - ETA: 0s - loss: 0.2721 - acc: 0.9361\n",
      "Epoch 00024: val_loss did not improve from 0.98118\n",
      "80000/80000 [==============================] - 276s 3ms/sample - loss: 0.2720 - acc: 0.9361 - val_loss: 0.9875 - val_acc: 0.8171\n",
      "Epoch 25/1000\n",
      "79936/80000 [============================>.] - ETA: 0s - loss: 0.2466 - acc: 0.9425\n",
      "Epoch 00025: val_loss did not improve from 0.98118\n",
      "80000/80000 [==============================] - 276s 3ms/sample - loss: 0.2466 - acc: 0.9425 - val_loss: 1.0105 - val_acc: 0.8145\n",
      "Epoch 00025: early stopping\n"
     ]
    }
   ],
   "source": [
    "chkpt = ModelCheckpoint(filepath='../models/baseline_best.h5', monitor='val_loss', verbose=1, \n",
    "                        save_best_only=True, mode='min')\n",
    "earlys = EarlyStopping(monitor='val_loss', patience=2, verbose=1)\n",
    "\n",
    "history = model.fit(x=train_x, y=train_y, \n",
    "                    batch_size=batch_size, epochs=1000, verbose=1, \n",
    "                    shuffle=True, validation_data=(val_x, val_y), callbacks=[chkpt, earlys])"
   ]
  },
  {
   "cell_type": "markdown",
   "metadata": {
    "colab_type": "text",
    "id": "75nNwjzlHeFE"
   },
   "source": [
    "### Test baseline LSTM model"
   ]
  },
  {
   "cell_type": "code",
   "execution_count": 30,
   "metadata": {
    "colab": {
     "base_uri": "https://localhost:8080/",
     "height": 987
    },
    "colab_type": "code",
    "executionInfo": {
     "elapsed": 8780,
     "status": "ok",
     "timestamp": 1567663751789,
     "user": {
      "displayName": "Leo Tay",
      "photoUrl": "",
      "userId": "17143338865945125396"
     },
     "user_tz": -480
    },
    "id": "Q-WlSj1LAIVU",
    "outputId": "c7f6c084-a21b-42df-f8eb-22a7486b045e"
   },
   "outputs": [
    {
     "name": "stderr",
     "output_type": "stream",
     "text": [
      "W0906 01:38:49.714977  2412 deprecation.py:506] From C:\\Anaconda3\\lib\\site-packages\\tensorflow\\python\\ops\\init_ops.py:97: calling GlorotUniform.__init__ (from tensorflow.python.ops.init_ops) with dtype is deprecated and will be removed in a future version.\n",
      "Instructions for updating:\n",
      "Call initializer instance with the dtype argument instead of passing it to the constructor\n",
      "W0906 01:38:49.715975  2412 deprecation.py:506] From C:\\Anaconda3\\lib\\site-packages\\tensorflow\\python\\ops\\init_ops.py:97: calling Orthogonal.__init__ (from tensorflow.python.ops.init_ops) with dtype is deprecated and will be removed in a future version.\n",
      "Instructions for updating:\n",
      "Call initializer instance with the dtype argument instead of passing it to the constructor\n",
      "W0906 01:38:49.716972  2412 deprecation.py:506] From C:\\Anaconda3\\lib\\site-packages\\tensorflow\\python\\ops\\init_ops.py:97: calling Zeros.__init__ (from tensorflow.python.ops.init_ops) with dtype is deprecated and will be removed in a future version.\n",
      "Instructions for updating:\n",
      "Call initializer instance with the dtype argument instead of passing it to the constructor\n"
     ]
    },
    {
     "data": {
      "image/png": "[encoded data removed]",
      "text/plain": [
       "<IPython.core.display.Image object>"
      ]
     },
     "execution_count": 30,
     "metadata": {},
     "output_type": "execute_result"
    }
   ],
   "source": [
    "model = load_model('../models/baseline_best.h5')\n",
    "plot_model(model=model, to_file='../models/baseline_best.png', show_shapes=True)"
   ]
  },
  {
   "cell_type": "code",
   "execution_count": 31,
   "metadata": {
    "colab": {},
    "colab_type": "code",
    "id": "GD-N07x2AIVk"
   },
   "outputs": [],
   "source": [
    "testing = test_x[:3000]"
   ]
  },
  {
   "cell_type": "code",
   "execution_count": 32,
   "metadata": {
    "colab": {},
    "colab_type": "code",
    "id": "AO91Ne4Wh1ZS"
   },
   "outputs": [],
   "source": [
    "output_pred = model.predict_classes(testing)"
   ]
  },
  {
   "cell_type": "code",
   "execution_count": 33,
   "metadata": {
    "colab": {
     "base_uri": "https://localhost:8080/",
     "height": 272
    },
    "colab_type": "code",
    "executionInfo": {
     "elapsed": 1134,
     "status": "ok",
     "timestamp": 1567664525389,
     "user": {
      "displayName": "Leo Tay",
      "photoUrl": "",
      "userId": "17143338865945125396"
     },
     "user_tz": -480
    },
    "id": "qy3072Nirm0J",
    "outputId": "898fc228-108b-4c6f-8dee-e80b6c57671b"
   },
   "outputs": [
    {
     "data": {
      "text/plain": [
       "array([[   20,   819,   262,    11,     5,   412,  1217,  1040,   203,\n",
       "          298,    24,     6,     9, 10373,   192,   135,   135,   240,\n",
       "          240,   348,   347,     0,     0,     0,     0],\n",
       "       [   28,     1,     7,   351,   110,   437,   969,    48,    28,\n",
       "           22,     8,     7,   204,   143,     6,   467,   148,     0,\n",
       "            0,     0,     0,     0,     0,     0,     0],\n",
       "       [    8,    23,    11,    60,     4,    54,   669,  1524,  1524,\n",
       "         1286,     3,     3,     3,     1,     1,   296,   107,     8,\n",
       "            6,   113,   107,   229,     0,     0,     0],\n",
       "       [   79,   462,  2190,     5,   318,   226,   101,  1501,    79,\n",
       "           85,  3248,  1069,   677,     2,   116,     0,     0,     0,\n",
       "            0,     0,     0,     0,     0,     0,     0],\n",
       "       [   52,     1,    15,   956,   176,   404,   320,    43,   508,\n",
       "            0,     0,     0,     0,     0,     0,     0,     0,     0,\n",
       "            0,     0,     0,     0,     0,     0,     0]], dtype=int64)"
      ]
     },
     "execution_count": 33,
     "metadata": {},
     "output_type": "execute_result"
    }
   ],
   "source": [
    "output_pred[:5]"
   ]
  },
  {
   "cell_type": "code",
   "execution_count": 34,
   "metadata": {
    "colab": {
     "base_uri": "https://localhost:8080/",
     "height": 119
    },
    "colab_type": "code",
    "executionInfo": {
     "elapsed": 1268,
     "status": "ok",
     "timestamp": 1567664600688,
     "user": {
      "displayName": "Leo Tay",
      "photoUrl": "",
      "userId": "17143338865945125396"
     },
     "user_tz": -480
    },
    "id": "lQQ3nWYVFrPW",
    "outputId": "db66c367-3c09-4a51-e525-517753886af6"
   },
   "outputs": [
    {
     "name": "stdout",
     "output_type": "stream",
     "text": [
      "Input text:\n",
      "Tokenized Data: [ 25 505   6  55 156  63   4   2  81 165 151 418  21  17 116  18  83  79\n",
      " 203  59   3  98  53   0   0]\n",
      "\n",
      "\n",
      "Original Data: ['ong', 'gianh', 'duoc', 'nhieu', 'giai', 'thuong', 'va', 'co', 'moi', 'lien', 'he', 'tot', 'voi', 'nhung', 'phap', 'su', 'dang', 'chu', 'y', 'nhat', 'cua', 'thoi', 'dai']\n"
     ]
    }
   ],
   "source": [
    "print('Input text:')\n",
    "convert(input_tokenizer, testing[10])"
   ]
  },
  {
   "cell_type": "code",
   "execution_count": 35,
   "metadata": {
    "colab": {
     "base_uri": "https://localhost:8080/",
     "height": 119
    },
    "colab_type": "code",
    "executionInfo": {
     "elapsed": 1226,
     "status": "ok",
     "timestamp": 1567663820537,
     "user": {
      "displayName": "Leo Tay",
      "photoUrl": "",
      "userId": "17143338865945125396"
     },
     "user_tz": -480
    },
    "id": "FYOZyT1R9XVx",
    "outputId": "e187556a-081a-4f27-8330-fd597e6ccb95"
   },
   "outputs": [
    {
     "name": "stdout",
     "output_type": "stream",
     "text": [
      "Model prediction:\n",
      "Tokenized Data: [ 15 701   5  30 148 867   3   4 927 133 102 499  13 459 927 318 318 318\n",
      " 211  46  62  62  57   0   0]\n",
      "\n",
      "\n",
      "Original Data: ['ông', 'giành', 'được', 'nhiều', 'giải', 'thưởng', 'và', 'có', 'mối', 'liên', 'hành', 'tốt', 'với', 'mọi', 'mối', 'biểu', 'biểu', 'biểu', 'ý', 'nhất', 'thời', 'thời', 'đại']\n"
     ]
    }
   ],
   "source": [
    "print('Model prediction:')\n",
    "convert(target_tokenizer, output_pred[10])"
   ]
  },
  {
   "cell_type": "code",
   "execution_count": 36,
   "metadata": {
    "colab": {
     "base_uri": "https://localhost:8080/",
     "height": 119
    },
    "colab_type": "code",
    "executionInfo": {
     "elapsed": 1204,
     "status": "ok",
     "timestamp": 1567663841697,
     "user": {
      "displayName": "Leo Tay",
      "photoUrl": "",
      "userId": "17143338865945125396"
     },
     "user_tz": -480
    },
    "id": "DSLKMKtzHeFO",
    "outputId": "f7fed3de-b5a7-4d7f-90b0-a62a989b3484",
    "scrolled": true
   },
   "outputs": [
    {
     "name": "stdout",
     "output_type": "stream",
     "text": [
      "Ground truth target:\n",
      "Tokenized Data: [ 15 701   5  30 148 867   3   4 927 133 118 499  13  20  67 134 696 621\n",
      " 211  46   2  62  57   0   0]\n",
      "\n",
      "\n",
      "Original Data: ['ông', 'giành', 'được', 'nhiều', 'giải', 'thưởng', 'và', 'có', 'mối', 'liên', 'hệ', 'tốt', 'với', 'những', 'pháp', 'sư', 'đáng', 'chú', 'ý', 'nhất', 'của', 'thời', 'đại']\n"
     ]
    }
   ],
   "source": [
    "print('Ground truth target:')\n",
    "convert(target_tokenizer, test_y[10].reshape(1, test_y[10].shape[0])[0])"
   ]
  },
  {
   "cell_type": "code",
   "execution_count": 37,
   "metadata": {},
   "outputs": [
    {
     "name": "stdout",
     "output_type": "stream",
     "text": [
      "3000/3000 [==============================] - 5s 2ms/sample - loss: 8.9858 - acc: 0.3972\n"
     ]
    },
    {
     "data": {
      "text/plain": [
       "[8.98583053334554, 0.39717335]"
      ]
     },
     "execution_count": 37,
     "metadata": {},
     "output_type": "execute_result"
    }
   ],
   "source": [
    "model.evaluate(x=output_pred, y=test_y[:3000], batch_size=batch_size)"
   ]
  },
  {
   "cell_type": "code",
   "execution_count": 38,
   "metadata": {},
   "outputs": [
    {
     "data": {
      "text/plain": [
       "['loss', 'acc']"
      ]
     },
     "execution_count": 38,
     "metadata": {},
     "output_type": "execute_result"
    }
   ],
   "source": [
    "model.metrics_names"
   ]
  },
  {
   "cell_type": "code",
   "execution_count": 39,
   "metadata": {
    "colab": {},
    "colab_type": "code",
    "id": "pteSh1p8DKBG"
   },
   "outputs": [],
   "source": [
    "# Test with random text\n",
    "msg = ['Khoan no cua KH se den han vao 01/08/2019. So tien  2.999.898 VND, TK 12345678912. Thong tin chi tiet, lien he 1900636633. Cam on']\n",
    "msg = process_raw(msg)\n",
    "msg_tked = input_tokenizer.texts_to_sequences(msg)\n",
    "msg_tked = pad_sequences(msg_tked, padding='post', maxlen=max_seq_len)"
   ]
  },
  {
   "cell_type": "code",
   "execution_count": 40,
   "metadata": {
    "colab": {
     "base_uri": "https://localhost:8080/",
     "height": 119
    },
    "colab_type": "code",
    "executionInfo": {
     "elapsed": 1231,
     "status": "ok",
     "timestamp": 1567664637142,
     "user": {
      "displayName": "Leo Tay",
      "photoUrl": "",
      "userId": "17143338865945125396"
     },
     "user_tz": -480
    },
    "id": "ICHy47EpFAl-",
    "outputId": "ecf07b29-a479-4811-a65f-13e1788c007c"
   },
   "outputs": [
    {
     "name": "stdout",
     "output_type": "stream",
     "text": [
      "Tokenized Data: [  656   106     3  2062   240    36   239    38    28    77   196  6096\n",
      " 16962  3824    67   242    54   484   165   151   294   504     0     0\n",
      "     0]\n",
      "\n",
      "\n",
      "Original Data: ['khoan', 'no', 'cua', 'kh', 'se', 'den', 'han', 'vao', 'so', 'tien', '2', '999', '898', 'tk', 'thong', 'tin', 'chi', 'tiet', 'lien', 'he', 'cam', 'on']\n"
     ]
    }
   ],
   "source": [
    "convert(input_tokenizer, msg_tked[0])"
   ]
  },
  {
   "cell_type": "code",
   "execution_count": 41,
   "metadata": {
    "colab": {},
    "colab_type": "code",
    "id": "ZI2mcEZIDnEK"
   },
   "outputs": [],
   "source": [
    "msg_pred = model.predict_classes(msg_tked)"
   ]
  },
  {
   "cell_type": "code",
   "execution_count": 42,
   "metadata": {
    "colab": {
     "base_uri": "https://localhost:8080/",
     "height": 122
    },
    "colab_type": "code",
    "executionInfo": {
     "elapsed": 1197,
     "status": "ok",
     "timestamp": 1567664659160,
     "user": {
      "displayName": "Leo Tay",
      "photoUrl": "",
      "userId": "17143338865945125396"
     },
     "user_tz": -480
    },
    "id": "fhLH2i3TDnGl",
    "outputId": "8ad15ddd-0968-4fb7-c5f0-21bd5f733443"
   },
   "outputs": [
    {
     "name": "stdout",
     "output_type": "stream",
     "text": [
      "Tokenized Data: [1040  884  267 1326  195   24  577   21   23    9    9 3811 9927  739\n",
      "  647  270   60   60    8  118  659  772    0    0    0]\n",
      "\n",
      "\n",
      "Original Data: ['nhằm', 'nổ', 'bởi', 'g', 'sẽ', 'đến', 'hạn', 'vào', 'số', 'năm', 'năm', 'international', 'kbits', 'the', 'tín', 'tin', 'chỉ', 'chỉ', 'trong', 'hệ', 'cảm', 'cầm']\n"
     ]
    }
   ],
   "source": [
    "convert(target_tokenizer, msg_pred[0])"
   ]
  },
  {
   "cell_type": "markdown",
   "metadata": {
    "colab_type": "text",
    "heading_collapsed": true,
    "id": "nO7JMKLQHeFP"
   },
   "source": [
    "### BiLSTM model"
   ]
  },
  {
   "cell_type": "code",
   "execution_count": 43,
   "metadata": {
    "colab": {
     "base_uri": "https://localhost:8080/",
     "height": 666
    },
    "colab_type": "code",
    "executionInfo": {
     "elapsed": 1756,
     "status": "ok",
     "timestamp": 1567664744562,
     "user": {
      "displayName": "Leo Tay",
      "photoUrl": "",
      "userId": "17143338865945125396"
     },
     "user_tz": -480
    },
    "hidden": true,
    "id": "2pnssv9CHeFQ",
    "outputId": "19293200-6c70-4234-f39d-41170a9f6acb"
   },
   "outputs": [
    {
     "name": "stdout",
     "output_type": "stream",
     "text": [
      "Model: \"sequential_1\"\n",
      "_________________________________________________________________\n",
      "Layer (type)                 Output Shape              Param #   \n",
      "=================================================================\n",
      "embedding_1 (Embedding)      (None, 25, 512)           16635904  \n",
      "_________________________________________________________________\n",
      "bidirectional (Bidirectional (None, 1024)              4198400   \n",
      "_________________________________________________________________\n",
      "repeat_vector_1 (RepeatVecto (None, 25, 1024)          0         \n",
      "_________________________________________________________________\n",
      "bidirectional_1 (Bidirection (None, 25, 1024)          6295552   \n",
      "_________________________________________________________________\n",
      "time_distributed_1 (TimeDist (None, 25, 36789)         37708725  \n",
      "=================================================================\n",
      "Total params: 64,838,581\n",
      "Trainable params: 64,838,581\n",
      "Non-trainable params: 0\n",
      "_________________________________________________________________\n"
     ]
    }
   ],
   "source": [
    "model = Sequential()\n",
    "model.add(Embedding(input_vocab_size, units, input_length=max_seq_len, mask_zero=True))\n",
    "model.add(Bidirectional(LSTM(units)))\n",
    "model.add(RepeatVector(max_seq_len))\n",
    "model.add(Bidirectional(LSTM(units, return_sequences=True)))\n",
    "model.add(TimeDistributed(Dense(target_vocab_size, activation='softmax')))\n",
    "model.compile(loss=sparse_categorical_crossentropy, optimizer=Adam(0.001), metrics=['accuracy'])\n",
    "model.summary()"
   ]
  },
  {
   "cell_type": "code",
   "execution_count": 44,
   "metadata": {
    "colab": {
     "base_uri": "https://localhost:8080/",
     "height": 1000
    },
    "colab_type": "code",
    "executionInfo": {
     "elapsed": 13176521,
     "status": "error",
     "timestamp": 1567677925915,
     "user": {
      "displayName": "Leo Tay",
      "photoUrl": "",
      "userId": "17143338865945125396"
     },
     "user_tz": -480
    },
    "hidden": true,
    "id": "uilBiGHUAIWM",
    "outputId": "81a74d7b-ed32-4a27-baf6-cf7ec5af8012",
    "scrolled": true
   },
   "outputs": [
    {
     "name": "stdout",
     "output_type": "stream",
     "text": [
      "Train on 80000 samples, validate on 10000 samples\n",
      "Epoch 1/1000\n",
      "79936/80000 [============================>.] - ETA: 0s - loss: 4.5937 - acc: 0.3983\n",
      "Epoch 00001: val_loss improved from inf to 4.39468, saving model to ../models/blstm_best.h5\n",
      "80000/80000 [==============================] - 427s 5ms/sample - loss: 4.5935 - acc: 0.3983 - val_loss: 4.3947 - val_acc: 0.4061\n",
      "Epoch 2/1000\n",
      "79936/80000 [============================>.] - ETA: 0s - loss: 4.3811 - acc: 0.4031\n",
      "Epoch 00002: val_loss improved from 4.39468 to 4.26277, saving model to ../models/blstm_best.h5\n",
      "80000/80000 [==============================] - 425s 5ms/sample - loss: 4.3812 - acc: 0.4031 - val_loss: 4.2628 - val_acc: 0.4121\n",
      "Epoch 3/1000\n",
      "79936/80000 [============================>.] - ETA: 0s - loss: 4.1230 - acc: 0.4157\n",
      "Epoch 00003: val_loss improved from 4.26277 to 3.97620, saving model to ../models/blstm_best.h5\n",
      "80000/80000 [==============================] - 425s 5ms/sample - loss: 4.1231 - acc: 0.4157 - val_loss: 3.9762 - val_acc: 0.4299\n",
      "Epoch 4/1000\n",
      "79936/80000 [============================>.] - ETA: 0s - loss: 3.7426 - acc: 0.4438\n",
      "Epoch 00004: val_loss improved from 3.97620 to 3.56582, saving model to ../models/blstm_best.h5\n",
      "80000/80000 [==============================] - 425s 5ms/sample - loss: 3.7423 - acc: 0.4438 - val_loss: 3.5658 - val_acc: 0.4655\n",
      "Epoch 5/1000\n",
      "79936/80000 [============================>.] - ETA: 0s - loss: 3.2875 - acc: 0.4802\n",
      "Epoch 00005: val_loss improved from 3.56582 to 3.15173, saving model to ../models/blstm_best.h5\n",
      "80000/80000 [==============================] - 424s 5ms/sample - loss: 3.2874 - acc: 0.4802 - val_loss: 3.1517 - val_acc: 0.5003\n",
      "Epoch 6/1000\n",
      "79936/80000 [============================>.] - ETA: 0s - loss: 2.8496 - acc: 0.5188\n",
      "Epoch 00006: val_loss improved from 3.15173 to 2.77218, saving model to ../models/blstm_best.h5\n",
      "80000/80000 [==============================] - 424s 5ms/sample - loss: 2.8495 - acc: 0.5188 - val_loss: 2.7722 - val_acc: 0.5413\n",
      "Epoch 7/1000\n",
      "79936/80000 [============================>.] - ETA: 0s - loss: 2.4573 - acc: 0.5585\n",
      "Epoch 00007: val_loss improved from 2.77218 to 2.48560, saving model to ../models/blstm_best.h5\n",
      "80000/80000 [==============================] - 424s 5ms/sample - loss: 2.4574 - acc: 0.5584 - val_loss: 2.4856 - val_acc: 0.5682\n",
      "Epoch 8/1000\n",
      "79936/80000 [============================>.] - ETA: 0s - loss: 2.1262 - acc: 0.5956\n",
      "Epoch 00008: val_loss improved from 2.48560 to 2.20403, saving model to ../models/blstm_best.h5\n",
      "80000/80000 [==============================] - 425s 5ms/sample - loss: 2.1262 - acc: 0.5956 - val_loss: 2.2040 - val_acc: 0.6061\n",
      "Epoch 9/1000\n",
      "79936/80000 [============================>.] - ETA: 0s - loss: 1.8519 - acc: 0.6306\n",
      "Epoch 00009: val_loss improved from 2.20403 to 2.02731, saving model to ../models/blstm_best.h5\n",
      "80000/80000 [==============================] - 424s 5ms/sample - loss: 1.8518 - acc: 0.6307 - val_loss: 2.0273 - val_acc: 0.6286\n",
      "Epoch 10/1000\n",
      "79936/80000 [============================>.] - ETA: 0s - loss: 1.6229 - acc: 0.6640\n",
      "Epoch 00010: val_loss improved from 2.02731 to 1.87435, saving model to ../models/blstm_best.h5\n",
      "80000/80000 [==============================] - 425s 5ms/sample - loss: 1.6229 - acc: 0.6640 - val_loss: 1.8743 - val_acc: 0.6514\n",
      "Epoch 11/1000\n",
      "79936/80000 [============================>.] - ETA: 0s - loss: 1.4225 - acc: 0.6965\n",
      "Epoch 00011: val_loss improved from 1.87435 to 1.77880, saving model to ../models/blstm_best.h5\n",
      "80000/80000 [==============================] - 424s 5ms/sample - loss: 1.4224 - acc: 0.6965 - val_loss: 1.7788 - val_acc: 0.6624\n",
      "Epoch 12/1000\n",
      "79936/80000 [============================>.] - ETA: 0s - loss: 1.2692 - acc: 0.7229\n",
      "Epoch 00012: val_loss improved from 1.77880 to 1.62339, saving model to ../models/blstm_best.h5\n",
      "80000/80000 [==============================] - 424s 5ms/sample - loss: 1.2692 - acc: 0.7229 - val_loss: 1.6234 - val_acc: 0.6914\n",
      "Epoch 13/1000\n",
      "79936/80000 [============================>.] - ETA: 0s - loss: 1.1321 - acc: 0.7487\n",
      "Epoch 00013: val_loss improved from 1.62339 to 1.54241, saving model to ../models/blstm_best.h5\n",
      "80000/80000 [==============================] - 424s 5ms/sample - loss: 1.1320 - acc: 0.7487 - val_loss: 1.5424 - val_acc: 0.7044\n",
      "Epoch 14/1000\n",
      "79936/80000 [============================>.] - ETA: 0s - loss: 1.0262 - acc: 0.7691\n",
      "Epoch 00014: val_loss improved from 1.54241 to 1.45344, saving model to ../models/blstm_best.h5\n",
      "80000/80000 [==============================] - 424s 5ms/sample - loss: 1.0263 - acc: 0.7691 - val_loss: 1.4534 - val_acc: 0.7202\n",
      "Epoch 15/1000\n",
      "79936/80000 [============================>.] - ETA: 0s - loss: 0.9234 - acc: 0.7906\n",
      "Epoch 00015: val_loss improved from 1.45344 to 1.39233, saving model to ../models/blstm_best.h5\n",
      "80000/80000 [==============================] - 424s 5ms/sample - loss: 0.9234 - acc: 0.7906 - val_loss: 1.3923 - val_acc: 0.7306\n",
      "Epoch 16/1000\n",
      "79936/80000 [============================>.] - ETA: 0s - loss: 0.8437 - acc: 0.8070\n",
      "Epoch 00016: val_loss improved from 1.39233 to 1.37428, saving model to ../models/blstm_best.h5\n",
      "80000/80000 [==============================] - 424s 5ms/sample - loss: 0.8437 - acc: 0.8071 - val_loss: 1.3743 - val_acc: 0.7333\n",
      "Epoch 17/1000\n",
      "79936/80000 [============================>.] - ETA: 0s - loss: 0.7707 - acc: 0.8233\n",
      "Epoch 00017: val_loss improved from 1.37428 to 1.30931, saving model to ../models/blstm_best.h5\n",
      "80000/80000 [==============================] - 424s 5ms/sample - loss: 0.7706 - acc: 0.8233 - val_loss: 1.3093 - val_acc: 0.7459\n",
      "Epoch 18/1000\n",
      "79936/80000 [============================>.] - ETA: 0s - loss: 0.6940 - acc: 0.8410\n",
      "Epoch 00018: val_loss improved from 1.30931 to 1.26290, saving model to ../models/blstm_best.h5\n",
      "80000/80000 [==============================] - 424s 5ms/sample - loss: 0.6941 - acc: 0.8410 - val_loss: 1.2629 - val_acc: 0.7560\n",
      "Epoch 19/1000\n",
      "79936/80000 [============================>.] - ETA: 0s - loss: 0.6555 - acc: 0.8492\n",
      "Epoch 00019: val_loss improved from 1.26290 to 1.25476, saving model to ../models/blstm_best.h5\n",
      "80000/80000 [==============================] - 424s 5ms/sample - loss: 0.6555 - acc: 0.8492 - val_loss: 1.2548 - val_acc: 0.7570\n",
      "Epoch 20/1000\n",
      "79936/80000 [============================>.] - ETA: 0s - loss: 0.5833 - acc: 0.8668\n",
      "Epoch 00020: val_loss improved from 1.25476 to 1.21525, saving model to ../models/blstm_best.h5\n",
      "80000/80000 [==============================] - 424s 5ms/sample - loss: 0.5834 - acc: 0.8668 - val_loss: 1.2152 - val_acc: 0.7641\n",
      "Epoch 21/1000\n",
      "79936/80000 [============================>.] - ETA: 0s - loss: 0.5663 - acc: 0.8703\n",
      "Epoch 00021: val_loss improved from 1.21525 to 1.19262, saving model to ../models/blstm_best.h5\n",
      "80000/80000 [==============================] - 424s 5ms/sample - loss: 0.5663 - acc: 0.8703 - val_loss: 1.1926 - val_acc: 0.7699\n",
      "Epoch 22/1000\n",
      "79936/80000 [============================>.] - ETA: 0s - loss: 0.5325 - acc: 0.8784\n",
      "Epoch 00022: val_loss improved from 1.19262 to 1.18296, saving model to ../models/blstm_best.h5\n",
      "80000/80000 [==============================] - 424s 5ms/sample - loss: 0.5325 - acc: 0.8784 - val_loss: 1.1830 - val_acc: 0.7727\n",
      "Epoch 23/1000\n",
      "79936/80000 [============================>.] - ETA: 0s - loss: 0.4709 - acc: 0.8940\n",
      "Epoch 00023: val_loss improved from 1.18296 to 1.16814, saving model to ../models/blstm_best.h5\n",
      "80000/80000 [==============================] - 424s 5ms/sample - loss: 0.4710 - acc: 0.8940 - val_loss: 1.1681 - val_acc: 0.7763\n",
      "Epoch 24/1000\n",
      "79936/80000 [============================>.] - ETA: 0s - loss: 0.4819 - acc: 0.8900\n",
      "Epoch 00024: val_loss improved from 1.16814 to 1.14855, saving model to ../models/blstm_best.h5\n",
      "80000/80000 [==============================] - 424s 5ms/sample - loss: 0.4818 - acc: 0.8901 - val_loss: 1.1485 - val_acc: 0.7810\n",
      "Epoch 25/1000\n",
      "79936/80000 [============================>.] - ETA: 0s - loss: 0.4781 - acc: 0.8915\n",
      "Epoch 00025: val_loss did not improve from 1.14855\n",
      "80000/80000 [==============================] - 419s 5ms/sample - loss: 0.4780 - acc: 0.8915 - val_loss: 1.1678 - val_acc: 0.7770\n",
      "Epoch 26/1000\n",
      "79936/80000 [============================>.] - ETA: 0s - loss: 0.4019 - acc: 0.9110\n",
      "Epoch 00026: val_loss improved from 1.14855 to 1.13936, saving model to ../models/blstm_best.h5\n"
     ]
    },
    {
     "name": "stdout",
     "output_type": "stream",
     "text": [
      "80000/80000 [==============================] - 424s 5ms/sample - loss: 0.4020 - acc: 0.9110 - val_loss: 1.1394 - val_acc: 0.7829\n",
      "Epoch 27/1000\n",
      "79936/80000 [============================>.] - ETA: 0s - loss: 0.3658 - acc: 0.9208\n",
      "Epoch 00027: val_loss improved from 1.13936 to 1.13920, saving model to ../models/blstm_best.h5\n",
      "80000/80000 [==============================] - 424s 5ms/sample - loss: 0.3657 - acc: 0.9208 - val_loss: 1.1392 - val_acc: 0.7844\n",
      "Epoch 28/1000\n",
      "79936/80000 [============================>.] - ETA: 0s - loss: 0.4630 - acc: 0.8961\n",
      "Epoch 00028: val_loss did not improve from 1.13920\n",
      "80000/80000 [==============================] - 419s 5ms/sample - loss: 0.4630 - acc: 0.8961 - val_loss: 1.2689 - val_acc: 0.7604\n",
      "Epoch 29/1000\n",
      "79936/80000 [============================>.] - ETA: 0s - loss: 0.5255 - acc: 0.8765\n",
      "Epoch 00029: val_loss did not improve from 1.13920\n",
      "80000/80000 [==============================] - 419s 5ms/sample - loss: 0.5256 - acc: 0.8765 - val_loss: 1.3409 - val_acc: 0.7507\n",
      "Epoch 00029: early stopping\n"
     ]
    }
   ],
   "source": [
    "chkpt = ModelCheckpoint(filepath='../models/blstm_best.h5', monitor='val_loss', verbose=1, \n",
    "                        save_best_only=True, mode='min')\n",
    "earlys = EarlyStopping(monitor='val_loss', patience=2, verbose=1)\n",
    "\n",
    "history = model.fit(x=train_x, y=train_y, \n",
    "                    batch_size=batch_size, epochs=1000, verbose=1, \n",
    "                    shuffle=True, validation_data=(val_x, val_y), callbacks=[chkpt, earlys])"
   ]
  },
  {
   "cell_type": "markdown",
   "metadata": {
    "colab_type": "text",
    "heading_collapsed": true,
    "id": "GoH0OQPkHeFU"
   },
   "source": [
    "### Test BiLSTM model"
   ]
  },
  {
   "cell_type": "code",
   "execution_count": 45,
   "metadata": {
    "colab": {},
    "colab_type": "code",
    "hidden": true,
    "id": "jkhONksqHeFT",
    "outputId": "f1d8e95d-b314-4959-dd8a-06f69fdd894e"
   },
   "outputs": [
    {
     "data": {
      "image/png": "[encoded data removed]",
      "text/plain": [
       "<IPython.core.display.Image object>"
      ]
     },
     "execution_count": 45,
     "metadata": {},
     "output_type": "execute_result"
    }
   ],
   "source": [
    "model = load_model('../models/blstm_best.h5')\n",
    "plot_model(model=model, to_file='../models/blstm_best.png', show_shapes=True)"
   ]
  },
  {
   "cell_type": "code",
   "execution_count": 46,
   "metadata": {
    "colab": {},
    "colab_type": "code",
    "hidden": true,
    "id": "jCP97MStHeFU"
   },
   "outputs": [],
   "source": [
    "testing = test_x[:3000]"
   ]
  },
  {
   "cell_type": "code",
   "execution_count": 47,
   "metadata": {
    "colab": {},
    "colab_type": "code",
    "hidden": true,
    "id": "loU3syx9HeFW"
   },
   "outputs": [],
   "source": [
    "predict = model.predict_classes(testing)"
   ]
  },
  {
   "cell_type": "code",
   "execution_count": 48,
   "metadata": {
    "colab": {
     "base_uri": "https://localhost:8080/",
     "height": 1000
    },
    "colab_type": "code",
    "executionInfo": {
     "elapsed": 1173,
     "status": "ok",
     "timestamp": 1567590692991,
     "user": {
      "displayName": "Leo Tay",
      "photoUrl": "",
      "userId": "17143338865945125396"
     },
     "user_tz": -480
    },
    "hidden": true,
    "id": "Ag9_19TPHeFY",
    "outputId": "a882c6f4-5ea8-4344-94f0-1b9f8205be3c"
   },
   "outputs": [
    {
     "data": {
      "text/plain": [
       "array([[   20,   819,   262,    11,     5,   412,  1217,  1040,   203,\n",
       "          298,    24,     6,     9, 10373,   192,   135,   135,   240,\n",
       "          240,   348,   347,     0,     0,     0,     0],\n",
       "       [   28,     1,     7,   351,   110,   437,   969,    48,    28,\n",
       "           22,     8,     7,   204,   143,     6,   467,   148,     0,\n",
       "            0,     0,     0,     0,     0,     0,     0],\n",
       "       [    8,    23,    11,    60,     4,    54,   669,  1524,  1524,\n",
       "         1286,     3,     3,     3,     1,     1,   296,   107,     8,\n",
       "            6,   113,   107,   229,     0,     0,     0],\n",
       "       [   79,   462,  2190,     5,   318,   226,   101,  1501,    79,\n",
       "           85,  3248,  1069,   677,     2,   116,     0,     0,     0,\n",
       "            0,     0,     0,     0,     0,     0,     0],\n",
       "       [   52,     1,    15,   956,   176,   404,   320,    43,   508,\n",
       "            0,     0,     0,     0,     0,     0,     0,     0,     0,\n",
       "            0,     0,     0,     0,     0,     0,     0]], dtype=int64)"
      ]
     },
     "execution_count": 48,
     "metadata": {},
     "output_type": "execute_result"
    }
   ],
   "source": [
    "output_pred[:5]"
   ]
  },
  {
   "cell_type": "code",
   "execution_count": 49,
   "metadata": {
    "colab": {
     "base_uri": "https://localhost:8080/",
     "height": 255
    },
    "colab_type": "code",
    "executionInfo": {
     "elapsed": 1182,
     "status": "ok",
     "timestamp": 1567590705615,
     "user": {
      "displayName": "Leo Tay",
      "photoUrl": "",
      "userId": "17143338865945125396"
     },
     "user_tz": -480
    },
    "hidden": true,
    "id": "f5Ahw2D9HeFb",
    "outputId": "c3804301-9267-40a0-e84b-8caaa803296a"
   },
   "outputs": [
    {
     "name": "stdout",
     "output_type": "stream",
     "text": [
      "Input text:\n",
      "Tokenized Data: [ 25 505   6  55 156  63   4   2  81 165 151 418  21  17 116  18  83  79\n",
      " 203  59   3  98  53   0   0]\n",
      "\n",
      "\n",
      "Original Data: ['ong', 'gianh', 'duoc', 'nhieu', 'giai', 'thuong', 'va', 'co', 'moi', 'lien', 'he', 'tot', 'voi', 'nhung', 'phap', 'su', 'dang', 'chu', 'y', 'nhat', 'cua', 'thoi', 'dai']\n"
     ]
    }
   ],
   "source": [
    "print('Input text:')\n",
    "convert(input_tokenizer, testing[10])"
   ]
  },
  {
   "cell_type": "code",
   "execution_count": 50,
   "metadata": {
    "colab": {},
    "colab_type": "code",
    "hidden": true,
    "id": "IvOFLFjTHeFd",
    "outputId": "0d82db57-8bef-4e39-843f-cc307740e5d8",
    "scrolled": true
   },
   "outputs": [
    {
     "name": "stdout",
     "output_type": "stream",
     "text": [
      "Model prediction:\n",
      "Tokenized Data: [ 15 701   5  30 148 867   3   4 927 133 102 499  13 459 927 318 318 318\n",
      " 211  46  62  62  57   0   0]\n",
      "\n",
      "\n",
      "Original Data: ['ông', 'giành', 'được', 'nhiều', 'giải', 'thưởng', 'và', 'có', 'mối', 'liên', 'hành', 'tốt', 'với', 'mọi', 'mối', 'biểu', 'biểu', 'biểu', 'ý', 'nhất', 'thời', 'thời', 'đại']\n"
     ]
    }
   ],
   "source": [
    "print('Model prediction:')\n",
    "convert(target_tokenizer, output_pred[10])"
   ]
  },
  {
   "cell_type": "code",
   "execution_count": 51,
   "metadata": {
    "colab": {},
    "colab_type": "code",
    "hidden": true,
    "id": "J6YyPz9WHeFe"
   },
   "outputs": [
    {
     "name": "stdout",
     "output_type": "stream",
     "text": [
      "Ground truth target:\n",
      "Tokenized Data: [ 15 701   5  30 148 867   3   4 927 133 118 499  13  20  67 134 696 621\n",
      " 211  46   2  62  57   0   0]\n",
      "\n",
      "\n",
      "Original Data: ['ông', 'giành', 'được', 'nhiều', 'giải', 'thưởng', 'và', 'có', 'mối', 'liên', 'hệ', 'tốt', 'với', 'những', 'pháp', 'sư', 'đáng', 'chú', 'ý', 'nhất', 'của', 'thời', 'đại']\n"
     ]
    }
   ],
   "source": [
    "print('Ground truth target:')\n",
    "convert(target_tokenizer, test_y[10].reshape(1, test_y[10].shape[0])[0])"
   ]
  },
  {
   "cell_type": "code",
   "execution_count": 52,
   "metadata": {
    "hidden": true
   },
   "outputs": [
    {
     "name": "stdout",
     "output_type": "stream",
     "text": [
      "3000/3000 [==============================] - 6s 2ms/sample - loss: 1.1497 - acc: 0.7793\n"
     ]
    },
    {
     "data": {
      "text/plain": [
       "[1.149676704088847, 0.7792533]"
      ]
     },
     "execution_count": 52,
     "metadata": {},
     "output_type": "execute_result"
    }
   ],
   "source": [
    "model.evaluate(x=testing, y=test_y[:3000], batch_size=batch_size)"
   ]
  },
  {
   "cell_type": "code",
   "execution_count": 53,
   "metadata": {
    "hidden": true
   },
   "outputs": [
    {
     "data": {
      "text/plain": [
       "['loss', 'acc']"
      ]
     },
     "execution_count": 53,
     "metadata": {},
     "output_type": "execute_result"
    }
   ],
   "source": [
    "model.metrics_names"
   ]
  },
  {
   "cell_type": "code",
   "execution_count": 54,
   "metadata": {
    "colab": {},
    "colab_type": "code",
    "hidden": true,
    "id": "-Z5JSyanHeFg",
    "outputId": "3a93f961-ed1b-4d12-ccbc-15c647323d7a"
   },
   "outputs": [],
   "source": [
    "# Test with random text\n",
    "msg = ['Khoan no cua KH se den han vao 01/08/2019. So tien  2.999.898 VND, TK 12345678912. Thong tin chi tiet, lien he 1900636633. Cam on']\n",
    "msg = process_raw(msg)\n",
    "msg_tked = input_tokenizer.texts_to_sequences(msg)\n",
    "msg_tked = pad_sequences(msg_tked, padding='post', maxlen=max_seq_len)"
   ]
  },
  {
   "cell_type": "code",
   "execution_count": 55,
   "metadata": {
    "colab": {},
    "colab_type": "code",
    "hidden": true,
    "id": "_M1AupJLHeFi"
   },
   "outputs": [],
   "source": [
    "msg_pred = model.predict_classes(msg_tked)"
   ]
  },
  {
   "cell_type": "code",
   "execution_count": 56,
   "metadata": {
    "colab": {},
    "colab_type": "code",
    "hidden": true,
    "id": "4SI9RfR8HeFk",
    "outputId": "c801c5dd-917e-4406-f82d-9f132096fd29"
   },
   "outputs": [
    {
     "name": "stdout",
     "output_type": "stream",
     "text": [
      "Tokenized Data: [1394  918    2 4843 4843  808   19  918   35   35  139  196  593  149\n",
      "  149   60  323  635  133  118  131 1429    0    0    0]\n",
      "\n",
      "\n",
      "Original Data: ['khoản', 'đo', 'của', 'wb', 'wb', 'đổ', 'từ', 'đo', 'khi', 'khi', '2', 'hàng', 'phiên', 'thông', 'thông', 'chỉ', 'chi', 'tiết', 'liên', 'hệ', 'điều', 'ôn']\n"
     ]
    }
   ],
   "source": [
    "convert(target_tokenizer, msg_pred[0])"
   ]
  },
  {
   "cell_type": "markdown",
   "metadata": {},
   "source": [
    "### Pytorch Implementation"
   ]
  },
  {
   "cell_type": "code",
   "execution_count": 1,
   "metadata": {
    "ExecuteTime": {
     "end_time": "2019-09-11T09:55:13.460499Z",
     "start_time": "2019-09-11T09:55:11.296264Z"
    }
   },
   "outputs": [
    {
     "name": "stderr",
     "output_type": "stream",
     "text": [
      "Using TensorFlow backend.\n"
     ]
    }
   ],
   "source": [
    "# Import modules \n",
    "import torch, torch.nn as nn, torch.nn.functional as F, numpy as np, \\\n",
    "        matplotlib.pyplot as plt, matplotlib.ticker as ticker, pandas as pd, random\n",
    "from torch.utils.data import DataLoader, Dataset\n",
    "from torch import optim\n",
    "from utils import process_raw, generate_input, get_max_len, process_data, convert\n",
    "np.random.seed(50)"
   ]
  },
  {
   "cell_type": "code",
   "execution_count": 2,
   "metadata": {
    "ExecuteTime": {
     "end_time": "2019-09-11T09:55:13.466795Z",
     "start_time": "2019-09-11T09:55:13.462338Z"
    }
   },
   "outputs": [],
   "source": [
    "class test_dataset(Dataset):\n",
    "    def __init__(self, dataframe):\n",
    "        self.data = dataframe\n",
    "\n",
    "    def __len__(self):\n",
    "        return len(self.data)\n",
    "\n",
    "    def __getitem__(self, idx):\n",
    "        row = self.data.iloc[idx]\n",
    "        inp = row.tk_input\n",
    "        tar = row.tk_target\n",
    "        return {'input':inp, 'target':tar}"
   ]
  },
  {
   "cell_type": "code",
   "execution_count": 3,
   "metadata": {
    "ExecuteTime": {
     "end_time": "2019-09-11T09:55:13.474850Z",
     "start_time": "2019-09-11T09:55:13.468714Z"
    }
   },
   "outputs": [],
   "source": [
    "class EncoderRNN(nn.Module):\n",
    "    def __init__(self, input_size, hidden_size):\n",
    "        super(EncoderRNN, self).__init__()\n",
    "        self.hidden_size = hidden_size\n",
    "\n",
    "        self.embedding = nn.Embedding(input_size, hidden_size)\n",
    "        self.gru = nn.GRU(hidden_size, hidden_size)\n",
    "\n",
    "    def forward(self, input, hidden):\n",
    "        embedded = self.embedding(input).view(1, 1, -1)\n",
    "        output = embedded\n",
    "        output, hidden = self.gru(output, hidden)\n",
    "        return output, hidden\n",
    "\n",
    "    def initHidden(self):\n",
    "        return torch.zeros(1, 1, self.hidden_size, device=device)\n",
    "    \n",
    "class DecoderRNN(nn.Module):\n",
    "    def __init__(self, hidden_size, output_size):\n",
    "        super(DecoderRNN, self).__init__()\n",
    "        self.hidden_size = hidden_size\n",
    "\n",
    "        self.embedding = nn.Embedding(output_size, hidden_size)\n",
    "        self.gru = nn.GRU(hidden_size, hidden_size)\n",
    "        self.out = nn.Linear(hidden_size, output_size)\n",
    "        self.softmax = nn.LogSoftmax(dim=1)\n",
    "\n",
    "    def forward(self, input, hidden):\n",
    "        output = self.embedding(input).view(1, 1, -1)\n",
    "        output = F.relu(output)\n",
    "        output, hidden = self.gru(output, hidden)\n",
    "        output = self.softmax(self.out(output[0]))\n",
    "        return output, hidden\n",
    "\n",
    "    def initHidden(self):\n",
    "        return torch.zeros(1, 1, self.hidden_size, device=device)"
   ]
  },
  {
   "cell_type": "code",
   "execution_count": 4,
   "metadata": {
    "ExecuteTime": {
     "end_time": "2019-09-11T09:55:13.479511Z",
     "start_time": "2019-09-11T09:55:13.476807Z"
    }
   },
   "outputs": [],
   "source": [
    "# Define data/model paths\n",
    "data_file = '../data/raw/raw_train.txt'\n",
    "counter = 0\n",
    "max_seq_len = 40\n",
    "no_seq = 1000\n",
    "raw_data = []"
   ]
  },
  {
   "cell_type": "code",
   "execution_count": 5,
   "metadata": {
    "ExecuteTime": {
     "end_time": "2019-09-11T09:55:13.492694Z",
     "start_time": "2019-09-11T09:55:13.481436Z"
    }
   },
   "outputs": [],
   "source": [
    "# Load dataset\n",
    "# Load raw data and read first 100000 lines with 40 or less words\n",
    "with open(data_file, 'r', encoding='utf-8') as f:    \n",
    "    while counter != no_seq:\n",
    "        line = f.readline()\n",
    "        if len(line.split()) <= max_seq_len:\n",
    "            raw_data.append(line)\n",
    "            counter += 1\n",
    "        else:\n",
    "            pass"
   ]
  },
  {
   "cell_type": "code",
   "execution_count": 6,
   "metadata": {
    "ExecuteTime": {
     "end_time": "2019-09-11T09:55:13.544587Z",
     "start_time": "2019-09-11T09:55:13.494250Z"
    }
   },
   "outputs": [],
   "source": [
    "# Process dataset\n",
    "# Shuffle raw data prior to processing\n",
    "np.random.shuffle(raw_data)\n",
    "\n",
    "# Process raw and input data\n",
    "filtered_raw = process_raw(raw_data)\n",
    "processed_inp = [generate_input(seq) for seq in filtered_raw]\n",
    "\n",
    "data = pd.DataFrame({'input': processed_inp, 'target': filtered_raw})"
   ]
  },
  {
   "cell_type": "code",
   "execution_count": 7,
   "metadata": {
    "ExecuteTime": {
     "end_time": "2019-09-11T09:55:13.644866Z",
     "start_time": "2019-09-11T09:55:13.546235Z"
    }
   },
   "outputs": [],
   "source": [
    "# Tokenize/pad input and target data, generates corresponding tokenizers\n",
    "tokenized_input, input_tokenizer, tokenized_target, target_tokenizer = process_data(processed_input=data.input, \n",
    "                                                            processed_target=data.target, pad_len=max_seq_len)"
   ]
  },
  {
   "cell_type": "code",
   "execution_count": 8,
   "metadata": {
    "ExecuteTime": {
     "end_time": "2019-09-11T09:55:13.649070Z",
     "start_time": "2019-09-11T09:55:13.646687Z"
    }
   },
   "outputs": [
    {
     "name": "stdout",
     "output_type": "stream",
     "text": [
      "1700\n",
      "2515\n"
     ]
    }
   ],
   "source": [
    "inp_vocab_sz = len(input_tokenizer.index_word)\n",
    "tar_vocab_sz = len(target_tokenizer.index_word)\n",
    "\n",
    "print(inp_vocab_sz)\n",
    "print(tar_vocab_sz)"
   ]
  },
  {
   "cell_type": "code",
   "execution_count": 9,
   "metadata": {
    "ExecuteTime": {
     "end_time": "2019-09-11T09:55:13.688480Z",
     "start_time": "2019-09-11T09:55:13.684476Z"
    }
   },
   "outputs": [],
   "source": [
    "tokenized_input = [seq for seq in tokenized_input]\n",
    "tokenized_target = [seq for seq in tokenized_target]"
   ]
  },
  {
   "cell_type": "code",
   "execution_count": 10,
   "metadata": {
    "ExecuteTime": {
     "end_time": "2019-09-11T09:55:13.969119Z",
     "start_time": "2019-09-11T09:55:13.962505Z"
    }
   },
   "outputs": [],
   "source": [
    "data['tk_input'] = tokenized_input\n",
    "data['tk_target'] = tokenized_target\n",
    "data = data[['input', 'tk_input', 'target', 'tk_target']]"
   ]
  },
  {
   "cell_type": "code",
   "execution_count": 11,
   "metadata": {
    "ExecuteTime": {
     "end_time": "2019-09-11T09:55:14.790595Z",
     "start_time": "2019-09-11T09:55:14.428684Z"
    }
   },
   "outputs": [],
   "source": [
    "data.to_excel('./processed_data.xlsx', index=False)"
   ]
  },
  {
   "cell_type": "code",
   "execution_count": 12,
   "metadata": {
    "ExecuteTime": {
     "end_time": "2019-09-11T09:55:14.794709Z",
     "start_time": "2019-09-11T09:55:14.791892Z"
    }
   },
   "outputs": [],
   "source": [
    "final_data = data.filter(items=['tk_input', 'tk_target'])"
   ]
  },
  {
   "cell_type": "code",
   "execution_count": 13,
   "metadata": {
    "ExecuteTime": {
     "end_time": "2019-09-11T09:55:15.172457Z",
     "start_time": "2019-09-11T09:55:15.158182Z"
    }
   },
   "outputs": [
    {
     "data": {
      "text/html": [
       "<div>\n",
       "<style scoped>\n",
       "    .dataframe tbody tr th:only-of-type {\n",
       "        vertical-align: middle;\n",
       "    }\n",
       "\n",
       "    .dataframe tbody tr th {\n",
       "        vertical-align: top;\n",
       "    }\n",
       "\n",
       "    .dataframe thead th {\n",
       "        text-align: right;\n",
       "    }\n",
       "</style>\n",
       "<table border=\"1\" class=\"dataframe\">\n",
       "  <thead>\n",
       "    <tr style=\"text-align: right;\">\n",
       "      <th></th>\n",
       "      <th>tk_input</th>\n",
       "      <th>tk_target</th>\n",
       "    </tr>\n",
       "  </thead>\n",
       "  <tbody>\n",
       "    <tr>\n",
       "      <td>0</td>\n",
       "      <td>[525, 526, 1, 903, 1, 485, 24, 56, 154, 11, 40...</td>\n",
       "      <td>[736, 737, 1, 1395, 1, 658, 24, 45, 136, 9, 50...</td>\n",
       "    </tr>\n",
       "    <tr>\n",
       "      <td>1</td>\n",
       "      <td>[4, 64, 157, 187, 271, 6, 23, 30, 98, 328, 3, ...</td>\n",
       "      <td>[4, 203, 147, 159, 257, 7, 49, 17, 103, 347, 3...</td>\n",
       "    </tr>\n",
       "    <tr>\n",
       "      <td>2</td>\n",
       "      <td>[32, 157, 38, 57, 62, 25, 46, 5, 15, 188, 279,...</td>\n",
       "      <td>[41, 147, 31, 274, 53, 18, 423, 8, 14, 168, 46...</td>\n",
       "    </tr>\n",
       "    <tr>\n",
       "      <td>3</td>\n",
       "      <td>[10, 143, 206, 430, 22, 118, 3, 16, 32, 98, 83...</td>\n",
       "      <td>[10, 122, 291, 543, 58, 93, 3, 25, 41, 103, 18...</td>\n",
       "    </tr>\n",
       "    <tr>\n",
       "      <td>4</td>\n",
       "      <td>[35, 138, 373, 6, 20, 431, 211, 247, 24, 33, 5...</td>\n",
       "      <td>[22, 141, 424, 7, 26, 544, 864, 739, 24, 176, ...</td>\n",
       "    </tr>\n",
       "  </tbody>\n",
       "</table>\n",
       "</div>"
      ],
      "text/plain": [
       "                                            tk_input  \\\n",
       "0  [525, 526, 1, 903, 1, 485, 24, 56, 154, 11, 40...   \n",
       "1  [4, 64, 157, 187, 271, 6, 23, 30, 98, 328, 3, ...   \n",
       "2  [32, 157, 38, 57, 62, 25, 46, 5, 15, 188, 279,...   \n",
       "3  [10, 143, 206, 430, 22, 118, 3, 16, 32, 98, 83...   \n",
       "4  [35, 138, 373, 6, 20, 431, 211, 247, 24, 33, 5...   \n",
       "\n",
       "                                           tk_target  \n",
       "0  [736, 737, 1, 1395, 1, 658, 24, 45, 136, 9, 50...  \n",
       "1  [4, 203, 147, 159, 257, 7, 49, 17, 103, 347, 3...  \n",
       "2  [41, 147, 31, 274, 53, 18, 423, 8, 14, 168, 46...  \n",
       "3  [10, 122, 291, 543, 58, 93, 3, 25, 41, 103, 18...  \n",
       "4  [22, 141, 424, 7, 26, 544, 864, 739, 24, 176, ...  "
      ]
     },
     "execution_count": 13,
     "metadata": {},
     "output_type": "execute_result"
    }
   ],
   "source": [
    "final_data.head(5)"
   ]
  },
  {
   "cell_type": "code",
   "execution_count": 14,
   "metadata": {
    "ExecuteTime": {
     "end_time": "2019-09-03T08:22:26.834863Z",
     "start_time": "2019-09-03T08:22:26.819630Z"
    },
    "colab": {},
    "colab_type": "code",
    "hidden": true,
    "id": "85i4m88XAIU7"
   },
   "outputs": [],
   "source": [
    "train_data_len = round((.8 * no_seq))\n",
    "val_test_data_len = round((.1 * no_seq))"
   ]
  },
  {
   "cell_type": "code",
   "execution_count": 15,
   "metadata": {
    "colab": {},
    "colab_type": "code",
    "hidden": true,
    "id": "HXOxOPOnblZO"
   },
   "outputs": [],
   "source": [
    "train_data = final_data[:train_data_len]\n",
    "val_data = final_data[train_data_len:(train_data_len+val_test_data_len)]\n",
    "test_data = final_data[-val_test_data_len:]"
   ]
  },
  {
   "cell_type": "code",
   "execution_count": 16,
   "metadata": {
    "ExecuteTime": {
     "end_time": "2019-09-11T09:55:15.835486Z",
     "start_time": "2019-09-11T09:55:15.832823Z"
    }
   },
   "outputs": [],
   "source": [
    "# train_dataset = test_dataset(train_data)\n",
    "# train_dataloader = DataLoader(dataset=train_dataset, batch_size=64, shuffle=True, drop_last=True)\n",
    "# val_dataset = test_dataset(val_data)\n",
    "# val_dataloader = DataLoader(dataset=val_dataset, batch_size=64, shuffle=True, drop_last=True)"
   ]
  },
  {
   "cell_type": "code",
   "execution_count": 17,
   "metadata": {},
   "outputs": [],
   "source": [
    "# def get_data(dataloader):\n",
    "#     train_dict = {}\n",
    "#     for x in dataloader:\n",
    "#         for y,z in x.items():\n",
    "#             train_dict[y] = x[y]\n",
    "#         yield train_dict"
   ]
  },
  {
   "cell_type": "code",
   "execution_count": 18,
   "metadata": {},
   "outputs": [],
   "source": [
    "# for x,y in enumerate(h):\n",
    "#     print(x)\n",
    "#     print(y)\n",
    "#     break"
   ]
  },
  {
   "cell_type": "code",
   "execution_count": 19,
   "metadata": {},
   "outputs": [],
   "source": [
    "# breaks = [data for _, data in enumerate(dataloader)]"
   ]
  },
  {
   "cell_type": "code",
   "execution_count": 27,
   "metadata": {},
   "outputs": [
    {
     "name": "stdout",
     "output_type": "stream",
     "text": [
      "Using device: cpu\n"
     ]
    }
   ],
   "source": [
    "# Set training to GPU if available\n",
    "device = torch.device(\"cpu\")\n",
    "print('Using device: {}'.format(device))\n",
    "\n",
    "# Initialize encoder and decoder\n",
    "hidden_sz = 256\n",
    "encoder = EncoderRNN(inp_vocab_sz, hidden_sz)\n",
    "decoder = DecoderRNN(hidden_sz, tar_vocab_sz)"
   ]
  },
  {
   "cell_type": "code",
   "execution_count": 21,
   "metadata": {},
   "outputs": [
    {
     "data": {
      "text/plain": [
       "EncoderRNN(\n",
       "  (embedding): Embedding(1700, 256)\n",
       "  (gru): GRU(256, 256)\n",
       ")"
      ]
     },
     "execution_count": 21,
     "metadata": {},
     "output_type": "execute_result"
    }
   ],
   "source": [
    "encoder.to(device)"
   ]
  },
  {
   "cell_type": "code",
   "execution_count": 22,
   "metadata": {},
   "outputs": [
    {
     "data": {
      "text/plain": [
       "DecoderRNN(\n",
       "  (embedding): Embedding(2515, 256)\n",
       "  (gru): GRU(256, 256)\n",
       "  (out): Linear(in_features=256, out_features=2515, bias=True)\n",
       "  (softmax): LogSoftmax()\n",
       ")"
      ]
     },
     "execution_count": 22,
     "metadata": {},
     "output_type": "execute_result"
    }
   ],
   "source": [
    "decoder.to(device)"
   ]
  },
  {
   "cell_type": "code",
   "execution_count": 36,
   "metadata": {},
   "outputs": [],
   "source": [
    "# Add end of sentence token to target tokenizer\n",
    "target_tokenizer.index_word[2514] = '<s>'\n",
    "eos = 2514"
   ]
  },
  {
   "cell_type": "code",
   "execution_count": 37,
   "metadata": {
    "ExecuteTime": {
     "end_time": "2019-09-11T09:56:13.053333Z",
     "start_time": "2019-09-11T09:56:13.041193Z"
    }
   },
   "outputs": [],
   "source": [
    "# Define loss function\n",
    "criterion = nn.NLLLoss()\n",
    "\n",
    "# Define optimizer\n",
    "encoder_opti = optim.Adam(encoder.parameters(), lr=0.001)\n",
    "decoder_opti = optim.Adam(decoder.parameters(), lr=0.001)"
   ]
  },
  {
   "cell_type": "code",
   "execution_count": 40,
   "metadata": {},
   "outputs": [],
   "source": [
    "teacher_forcing_ratio = 0.5\n",
    "\n",
    "def train(inputs, target, encoder, decoder, encoder_opti, decoder_opti, criterion, max_seq_len):\n",
    "    encoder_hidden = encoder.initHidden()\n",
    "    encoder_outputs = torch.zeros(max_seq_len, encoder.hidden_size, device=device)\n",
    "    \n",
    "    # setup: batch generator, set loss and acc to 0, set train mode on\n",
    "    running_loss = 0.0\n",
    "    running_acc = 0.0\n",
    "    \n",
    "    # Set encoder and decoder to training mode\n",
    "    encoder.train()\n",
    "    decoder.train()\n",
    "    \n",
    "    # Zero gradients\n",
    "    encoder_opti.zero_grad()\n",
    "    decoder_opti.zero_grad()\n",
    "    \n",
    "    for i in range(inputs.shape[0]):\n",
    "        encoder_output, encoder_hidden = encoder(inputs[i], encoder_hidden)\n",
    "        encoder_outputs[i] = encoder_output[0, 0]\n",
    "    \n",
    "    decoder_input = torch.tensor([[eos]], device=device)\n",
    "    decoder_hidden = encoder_hidden\n",
    "    \n",
    "    use_teacher_forcing = True if random.random() < teacher_forcing_ratio else False\n",
    "\n",
    "    if use_teacher_forcing:\n",
    "        # Teacher forcing: Feed the target as the next input\n",
    "        for i in range(target.shape[0]):\n",
    "#             decoder_output, decoder_hidden, decoder_attention = decoder(decoder_input, decoder_hidden, encoder_outputs)\n",
    "            decoder_output, decoder_hidden = decoder(decoder_input, decoder_hidden)\n",
    "            running_loss += criterion(decoder_output, target[i])\n",
    "            decoder_input = target_tensor[i]  # Teacher forcing\n",
    "\n",
    "    else:\n",
    "        # Without teacher forcing: use its own predictions as the next input\n",
    "        for i in range(target.shape[0]):\n",
    "#             decoder_output, decoder_hidden, decoder_attention = decoder(decoder_input, decoder_hidden, encoder_outputs)\n",
    "            decoder_output, decoder_hidden = decoder(decoder_input, decoder_hidden)\n",
    "            topv, topi = decoder_output.topk(1)\n",
    "            decoder_input = topi.squeeze().detach()  # detach from history as input\n",
    "\n",
    "            running_loss += criterion(decoder_output, target[i])\n",
    "            if decoder_input.item() == eos:\n",
    "                break\n",
    "    \n",
    "    running_loss.backward()\n",
    "\n",
    "    encoder_optimizer.step()\n",
    "    decoder_optimizer.step()\n",
    "\n",
    "    return running_loss.item() / len(target.shape[0])"
   ]
  },
  {
   "cell_type": "code",
   "execution_count": 42,
   "metadata": {},
   "outputs": [
    {
     "name": "stdout",
     "output_type": "stream",
     "text": [
      "tensor([525, 526,   1, 903,   1, 485,  24,  56, 154,  11, 409,   3,  10,  12,\n",
      "          4,  37,   5,  15, 278,  97,  54,  16,  40, 108,   4, 527,  12, 454,\n",
      "         45,  46,   1,   2,   0,   0,   0,   0,   0,   0,   0,   0])\n",
      "tensor(525)\n"
     ]
    },
    {
     "ename": "IndexError",
     "evalue": "dimension specified as 0 but tensor has no dimensions",
     "output_type": "error",
     "traceback": [
      "\u001b[1;31m---------------------------------------------------------------------------\u001b[0m",
      "\u001b[1;31mIndexError\u001b[0m                                Traceback (most recent call last)",
      "\u001b[1;32m<ipython-input-42-ff3c1531ffc4>\u001b[0m in \u001b[0;36m<module>\u001b[1;34m\u001b[0m\n\u001b[0;32m      9\u001b[0m         \u001b[0mtar\u001b[0m \u001b[1;33m=\u001b[0m \u001b[0mtorch\u001b[0m\u001b[1;33m.\u001b[0m\u001b[0mtensor\u001b[0m\u001b[1;33m(\u001b[0m\u001b[0mtrain_data\u001b[0m\u001b[1;33m.\u001b[0m\u001b[0miloc\u001b[0m\u001b[1;33m[\u001b[0m\u001b[0midx\u001b[0m\u001b[1;33m]\u001b[0m\u001b[1;33m[\u001b[0m\u001b[1;34m'tk_target'\u001b[0m\u001b[1;33m]\u001b[0m\u001b[1;33m,\u001b[0m \u001b[0mdtype\u001b[0m\u001b[1;33m=\u001b[0m\u001b[0mtorch\u001b[0m\u001b[1;33m.\u001b[0m\u001b[0mlong\u001b[0m\u001b[1;33m)\u001b[0m\u001b[1;33m.\u001b[0m\u001b[0mto\u001b[0m\u001b[1;33m(\u001b[0m\u001b[0mdevice\u001b[0m\u001b[1;33m)\u001b[0m\u001b[1;33m\u001b[0m\u001b[1;33m\u001b[0m\u001b[0m\n\u001b[0;32m     10\u001b[0m         model_loss = train(inputs=inp, target=tar, encoder=encoder, decoder=decoder, encoder_opti=encoder_opti, \\\n\u001b[1;32m---> 11\u001b[1;33m                            decoder_opti=decoder_opti, criterion=criterion, max_seq_len=max_seq_len)\n\u001b[0m\u001b[0;32m     12\u001b[0m         \u001b[0mprint\u001b[0m\u001b[1;33m(\u001b[0m\u001b[1;34m'Loss: {}'\u001b[0m\u001b[1;33m.\u001b[0m\u001b[0mformat\u001b[0m\u001b[1;33m(\u001b[0m\u001b[0mmodel_loss\u001b[0m\u001b[1;33m)\u001b[0m\u001b[1;33m)\u001b[0m\u001b[1;33m\u001b[0m\u001b[1;33m\u001b[0m\u001b[0m\n",
      "\u001b[1;32m<ipython-input-40-08b049ad646a>\u001b[0m in \u001b[0;36mtrain\u001b[1;34m(inputs, target, encoder, decoder, encoder_opti, decoder_opti, criterion, max_seq_len)\u001b[0m\n\u001b[0;32m     31\u001b[0m \u001b[1;31m#             decoder_output, decoder_hidden, decoder_attention = decoder(decoder_input, decoder_hidden, encoder_outputs)\u001b[0m\u001b[1;33m\u001b[0m\u001b[1;33m\u001b[0m\u001b[1;33m\u001b[0m\u001b[0m\n\u001b[0;32m     32\u001b[0m             \u001b[0mdecoder_output\u001b[0m\u001b[1;33m,\u001b[0m \u001b[0mdecoder_hidden\u001b[0m \u001b[1;33m=\u001b[0m \u001b[0mdecoder\u001b[0m\u001b[1;33m(\u001b[0m\u001b[0mdecoder_input\u001b[0m\u001b[1;33m,\u001b[0m \u001b[0mdecoder_hidden\u001b[0m\u001b[1;33m)\u001b[0m\u001b[1;33m\u001b[0m\u001b[1;33m\u001b[0m\u001b[0m\n\u001b[1;32m---> 33\u001b[1;33m             \u001b[0mrunning_loss\u001b[0m \u001b[1;33m+=\u001b[0m \u001b[0mcriterion\u001b[0m\u001b[1;33m(\u001b[0m\u001b[0mdecoder_output\u001b[0m\u001b[1;33m,\u001b[0m \u001b[0mtarget\u001b[0m\u001b[1;33m[\u001b[0m\u001b[0mi\u001b[0m\u001b[1;33m]\u001b[0m\u001b[1;33m)\u001b[0m\u001b[1;33m\u001b[0m\u001b[1;33m\u001b[0m\u001b[0m\n\u001b[0m\u001b[0;32m     34\u001b[0m             \u001b[0mdecoder_input\u001b[0m \u001b[1;33m=\u001b[0m \u001b[0mtarget_tensor\u001b[0m\u001b[1;33m[\u001b[0m\u001b[0mi\u001b[0m\u001b[1;33m]\u001b[0m  \u001b[1;31m# Teacher forcing\u001b[0m\u001b[1;33m\u001b[0m\u001b[1;33m\u001b[0m\u001b[0m\n\u001b[0;32m     35\u001b[0m \u001b[1;33m\u001b[0m\u001b[0m\n",
      "\u001b[1;32mC:\\Anaconda3\\lib\\site-packages\\torch\\nn\\modules\\module.py\u001b[0m in \u001b[0;36m__call__\u001b[1;34m(self, *input, **kwargs)\u001b[0m\n\u001b[0;32m    545\u001b[0m             \u001b[0mresult\u001b[0m \u001b[1;33m=\u001b[0m \u001b[0mself\u001b[0m\u001b[1;33m.\u001b[0m\u001b[0m_slow_forward\u001b[0m\u001b[1;33m(\u001b[0m\u001b[1;33m*\u001b[0m\u001b[0minput\u001b[0m\u001b[1;33m,\u001b[0m \u001b[1;33m**\u001b[0m\u001b[0mkwargs\u001b[0m\u001b[1;33m)\u001b[0m\u001b[1;33m\u001b[0m\u001b[1;33m\u001b[0m\u001b[0m\n\u001b[0;32m    546\u001b[0m         \u001b[1;32melse\u001b[0m\u001b[1;33m:\u001b[0m\u001b[1;33m\u001b[0m\u001b[1;33m\u001b[0m\u001b[0m\n\u001b[1;32m--> 547\u001b[1;33m             \u001b[0mresult\u001b[0m \u001b[1;33m=\u001b[0m \u001b[0mself\u001b[0m\u001b[1;33m.\u001b[0m\u001b[0mforward\u001b[0m\u001b[1;33m(\u001b[0m\u001b[1;33m*\u001b[0m\u001b[0minput\u001b[0m\u001b[1;33m,\u001b[0m \u001b[1;33m**\u001b[0m\u001b[0mkwargs\u001b[0m\u001b[1;33m)\u001b[0m\u001b[1;33m\u001b[0m\u001b[1;33m\u001b[0m\u001b[0m\n\u001b[0m\u001b[0;32m    548\u001b[0m         \u001b[1;32mfor\u001b[0m \u001b[0mhook\u001b[0m \u001b[1;32min\u001b[0m \u001b[0mself\u001b[0m\u001b[1;33m.\u001b[0m\u001b[0m_forward_hooks\u001b[0m\u001b[1;33m.\u001b[0m\u001b[0mvalues\u001b[0m\u001b[1;33m(\u001b[0m\u001b[1;33m)\u001b[0m\u001b[1;33m:\u001b[0m\u001b[1;33m\u001b[0m\u001b[1;33m\u001b[0m\u001b[0m\n\u001b[0;32m    549\u001b[0m             \u001b[0mhook_result\u001b[0m \u001b[1;33m=\u001b[0m \u001b[0mhook\u001b[0m\u001b[1;33m(\u001b[0m\u001b[0mself\u001b[0m\u001b[1;33m,\u001b[0m \u001b[0minput\u001b[0m\u001b[1;33m,\u001b[0m \u001b[0mresult\u001b[0m\u001b[1;33m)\u001b[0m\u001b[1;33m\u001b[0m\u001b[1;33m\u001b[0m\u001b[0m\n",
      "\u001b[1;32mC:\\Anaconda3\\lib\\site-packages\\torch\\nn\\modules\\loss.py\u001b[0m in \u001b[0;36mforward\u001b[1;34m(self, input, target)\u001b[0m\n\u001b[0;32m    202\u001b[0m \u001b[1;33m\u001b[0m\u001b[0m\n\u001b[0;32m    203\u001b[0m     \u001b[1;32mdef\u001b[0m \u001b[0mforward\u001b[0m\u001b[1;33m(\u001b[0m\u001b[0mself\u001b[0m\u001b[1;33m,\u001b[0m \u001b[0minput\u001b[0m\u001b[1;33m,\u001b[0m \u001b[0mtarget\u001b[0m\u001b[1;33m)\u001b[0m\u001b[1;33m:\u001b[0m\u001b[1;33m\u001b[0m\u001b[1;33m\u001b[0m\u001b[0m\n\u001b[1;32m--> 204\u001b[1;33m         \u001b[1;32mreturn\u001b[0m \u001b[0mF\u001b[0m\u001b[1;33m.\u001b[0m\u001b[0mnll_loss\u001b[0m\u001b[1;33m(\u001b[0m\u001b[0minput\u001b[0m\u001b[1;33m,\u001b[0m \u001b[0mtarget\u001b[0m\u001b[1;33m,\u001b[0m \u001b[0mweight\u001b[0m\u001b[1;33m=\u001b[0m\u001b[0mself\u001b[0m\u001b[1;33m.\u001b[0m\u001b[0mweight\u001b[0m\u001b[1;33m,\u001b[0m \u001b[0mignore_index\u001b[0m\u001b[1;33m=\u001b[0m\u001b[0mself\u001b[0m\u001b[1;33m.\u001b[0m\u001b[0mignore_index\u001b[0m\u001b[1;33m,\u001b[0m \u001b[0mreduction\u001b[0m\u001b[1;33m=\u001b[0m\u001b[0mself\u001b[0m\u001b[1;33m.\u001b[0m\u001b[0mreduction\u001b[0m\u001b[1;33m)\u001b[0m\u001b[1;33m\u001b[0m\u001b[1;33m\u001b[0m\u001b[0m\n\u001b[0m\u001b[0;32m    205\u001b[0m \u001b[1;33m\u001b[0m\u001b[0m\n\u001b[0;32m    206\u001b[0m \u001b[1;33m\u001b[0m\u001b[0m\n",
      "\u001b[1;32mC:\\Anaconda3\\lib\\site-packages\\torch\\nn\\functional.py\u001b[0m in \u001b[0;36mnll_loss\u001b[1;34m(input, target, weight, size_average, ignore_index, reduce, reduction)\u001b[0m\n\u001b[0;32m   1818\u001b[0m         \u001b[1;32mraise\u001b[0m \u001b[0mValueError\u001b[0m\u001b[1;33m(\u001b[0m\u001b[1;34m'Expected 2 or more dimensions (got {})'\u001b[0m\u001b[1;33m.\u001b[0m\u001b[0mformat\u001b[0m\u001b[1;33m(\u001b[0m\u001b[0mdim\u001b[0m\u001b[1;33m)\u001b[0m\u001b[1;33m)\u001b[0m\u001b[1;33m\u001b[0m\u001b[1;33m\u001b[0m\u001b[0m\n\u001b[0;32m   1819\u001b[0m \u001b[1;33m\u001b[0m\u001b[0m\n\u001b[1;32m-> 1820\u001b[1;33m     \u001b[1;32mif\u001b[0m \u001b[0minput\u001b[0m\u001b[1;33m.\u001b[0m\u001b[0msize\u001b[0m\u001b[1;33m(\u001b[0m\u001b[1;36m0\u001b[0m\u001b[1;33m)\u001b[0m \u001b[1;33m!=\u001b[0m \u001b[0mtarget\u001b[0m\u001b[1;33m.\u001b[0m\u001b[0msize\u001b[0m\u001b[1;33m(\u001b[0m\u001b[1;36m0\u001b[0m\u001b[1;33m)\u001b[0m\u001b[1;33m:\u001b[0m\u001b[1;33m\u001b[0m\u001b[1;33m\u001b[0m\u001b[0m\n\u001b[0m\u001b[0;32m   1821\u001b[0m         raise ValueError('Expected input batch_size ({}) to match target batch_size ({}).'\n\u001b[0;32m   1822\u001b[0m                          .format(input.size(0), target.size(0)))\n",
      "\u001b[1;31mIndexError\u001b[0m: dimension specified as 0 but tensor has no dimensions"
     ]
    }
   ],
   "source": [
    "# Training loop\n",
    "epochs = 2\n",
    "\n",
    "for epoch in range(epochs):\n",
    "    for idx in range(len(train_data)):\n",
    "        inp = torch.tensor(train_data.iloc[idx]['tk_input'], dtype=torch.long).to(device)\n",
    "        print(inp)\n",
    "        print(inp[0])\n",
    "        tar = torch.tensor(train_data.iloc[idx]['tk_target'], dtype=torch.long).to(device)\n",
    "        model_loss = train(inputs=inp, target=tar, encoder=encoder, decoder=decoder, encoder_opti=encoder_opti, \\\n",
    "                           decoder_opti=decoder_opti, criterion=criterion, max_seq_len=max_seq_len)\n",
    "        print('Loss: {}'.format(model_loss))"
   ]
  },
  {
   "cell_type": "code",
   "execution_count": 24,
   "metadata": {
    "ExecuteTime": {
     "end_time": "2019-09-11T10:09:09.169772Z",
     "start_time": "2019-09-11T10:09:09.126975Z"
    }
   },
   "outputs": [
    {
     "name": "stdout",
     "output_type": "stream",
     "text": [
      "Input Shape: torch.Size([64, 40])\n",
      "Sample Input: tensor([  2,  81,  25,  64, 175,   5,  73, 208,   8, 221, 282,  46,  72, 281,\n",
      "          5,  86,  10, 471,  10,   9,  27, 226,  34, 214, 125,  52, 215,  13,\n",
      "          9,  10,  63, 210,   8,  64,  71,  10,   1,   3,   0,   0])\n",
      "Target Shape: torch.Size([64, 40])\n",
      "Sample Target: tensor([  2,  69,  25,  70, 454,   5, 108, 381,   6, 203, 280,  86,  58, 294,\n",
      "          5,  62,  29, 809,  13,   7,  20, 192,  48, 353, 173,  39, 183,  67,\n",
      "          7,  13,  54, 215,   6,  70,  57,  13,   1,   3,   0,   0])\n",
      "Prediction Shape: torch.Size([64, 1701])\n",
      "Sample Prediction: tensor([-29.5504, -15.8248, -29.2208,  ..., -17.8738, -23.5583, -22.8240],\n",
      "       grad_fn=<SelectBackward>)\n"
     ]
    },
    {
     "ename": "RuntimeError",
     "evalue": "multi-target not supported at /Users/distiller/project/conda/conda-bld/pytorch_1565272526878/work/aten/src/THNN/generic/ClassNLLCriterion.c:22",
     "output_type": "error",
     "traceback": [
      "\u001b[0;31m---------------------------------------------------------------------------\u001b[0m",
      "\u001b[0;31mRuntimeError\u001b[0m                              Traceback (most recent call last)",
      "\u001b[0;32m<ipython-input-24-5c8d74a01d9e>\u001b[0m in \u001b[0;36m<module>\u001b[0;34m\u001b[0m\n\u001b[1;32m     31\u001b[0m \u001b[0;34m\u001b[0m\u001b[0m\n\u001b[1;32m     32\u001b[0m         \u001b[0;31m# step 3. compute the loss\u001b[0m\u001b[0;34m\u001b[0m\u001b[0;34m\u001b[0m\u001b[0;34m\u001b[0m\u001b[0m\n\u001b[0;32m---> 33\u001b[0;31m         \u001b[0mloss\u001b[0m \u001b[0;34m=\u001b[0m \u001b[0mcriterion\u001b[0m\u001b[0;34m(\u001b[0m\u001b[0my_pred\u001b[0m\u001b[0;34m,\u001b[0m \u001b[0mtar\u001b[0m\u001b[0;34m)\u001b[0m\u001b[0;34m\u001b[0m\u001b[0;34m\u001b[0m\u001b[0m\n\u001b[0m\u001b[1;32m     34\u001b[0m         \u001b[0mloss_t\u001b[0m \u001b[0;34m=\u001b[0m \u001b[0mloss\u001b[0m\u001b[0;34m.\u001b[0m\u001b[0mitem\u001b[0m\u001b[0;34m(\u001b[0m\u001b[0;34m)\u001b[0m\u001b[0;34m\u001b[0m\u001b[0;34m\u001b[0m\u001b[0m\n\u001b[1;32m     35\u001b[0m         \u001b[0mrunning_loss\u001b[0m \u001b[0;34m+=\u001b[0m \u001b[0;34m(\u001b[0m\u001b[0mloss_t\u001b[0m \u001b[0;34m-\u001b[0m \u001b[0mrunning_loss\u001b[0m\u001b[0;34m)\u001b[0m \u001b[0;34m/\u001b[0m \u001b[0;34m(\u001b[0m\u001b[0mbatch_index\u001b[0m \u001b[0;34m+\u001b[0m \u001b[0;36m1\u001b[0m\u001b[0;34m)\u001b[0m\u001b[0;34m\u001b[0m\u001b[0;34m\u001b[0m\u001b[0m\n",
      "\u001b[0;32m~/Applications/anaconda3/lib/python3.7/site-packages/torch/nn/modules/module.py\u001b[0m in \u001b[0;36m__call__\u001b[0;34m(self, *input, **kwargs)\u001b[0m\n\u001b[1;32m    545\u001b[0m             \u001b[0mresult\u001b[0m \u001b[0;34m=\u001b[0m \u001b[0mself\u001b[0m\u001b[0;34m.\u001b[0m\u001b[0m_slow_forward\u001b[0m\u001b[0;34m(\u001b[0m\u001b[0;34m*\u001b[0m\u001b[0minput\u001b[0m\u001b[0;34m,\u001b[0m \u001b[0;34m**\u001b[0m\u001b[0mkwargs\u001b[0m\u001b[0;34m)\u001b[0m\u001b[0;34m\u001b[0m\u001b[0;34m\u001b[0m\u001b[0m\n\u001b[1;32m    546\u001b[0m         \u001b[0;32melse\u001b[0m\u001b[0;34m:\u001b[0m\u001b[0;34m\u001b[0m\u001b[0;34m\u001b[0m\u001b[0m\n\u001b[0;32m--> 547\u001b[0;31m             \u001b[0mresult\u001b[0m \u001b[0;34m=\u001b[0m \u001b[0mself\u001b[0m\u001b[0;34m.\u001b[0m\u001b[0mforward\u001b[0m\u001b[0;34m(\u001b[0m\u001b[0;34m*\u001b[0m\u001b[0minput\u001b[0m\u001b[0;34m,\u001b[0m \u001b[0;34m**\u001b[0m\u001b[0mkwargs\u001b[0m\u001b[0;34m)\u001b[0m\u001b[0;34m\u001b[0m\u001b[0;34m\u001b[0m\u001b[0m\n\u001b[0m\u001b[1;32m    548\u001b[0m         \u001b[0;32mfor\u001b[0m \u001b[0mhook\u001b[0m \u001b[0;32min\u001b[0m \u001b[0mself\u001b[0m\u001b[0;34m.\u001b[0m\u001b[0m_forward_hooks\u001b[0m\u001b[0;34m.\u001b[0m\u001b[0mvalues\u001b[0m\u001b[0;34m(\u001b[0m\u001b[0;34m)\u001b[0m\u001b[0;34m:\u001b[0m\u001b[0;34m\u001b[0m\u001b[0;34m\u001b[0m\u001b[0m\n\u001b[1;32m    549\u001b[0m             \u001b[0mhook_result\u001b[0m \u001b[0;34m=\u001b[0m \u001b[0mhook\u001b[0m\u001b[0;34m(\u001b[0m\u001b[0mself\u001b[0m\u001b[0;34m,\u001b[0m \u001b[0minput\u001b[0m\u001b[0;34m,\u001b[0m \u001b[0mresult\u001b[0m\u001b[0;34m)\u001b[0m\u001b[0;34m\u001b[0m\u001b[0;34m\u001b[0m\u001b[0m\n",
      "\u001b[0;32m~/Applications/anaconda3/lib/python3.7/site-packages/torch/nn/modules/loss.py\u001b[0m in \u001b[0;36mforward\u001b[0;34m(self, input, target)\u001b[0m\n\u001b[1;32m    202\u001b[0m \u001b[0;34m\u001b[0m\u001b[0m\n\u001b[1;32m    203\u001b[0m     \u001b[0;32mdef\u001b[0m \u001b[0mforward\u001b[0m\u001b[0;34m(\u001b[0m\u001b[0mself\u001b[0m\u001b[0;34m,\u001b[0m \u001b[0minput\u001b[0m\u001b[0;34m,\u001b[0m \u001b[0mtarget\u001b[0m\u001b[0;34m)\u001b[0m\u001b[0;34m:\u001b[0m\u001b[0;34m\u001b[0m\u001b[0;34m\u001b[0m\u001b[0m\n\u001b[0;32m--> 204\u001b[0;31m         \u001b[0;32mreturn\u001b[0m \u001b[0mF\u001b[0m\u001b[0;34m.\u001b[0m\u001b[0mnll_loss\u001b[0m\u001b[0;34m(\u001b[0m\u001b[0minput\u001b[0m\u001b[0;34m,\u001b[0m \u001b[0mtarget\u001b[0m\u001b[0;34m,\u001b[0m \u001b[0mweight\u001b[0m\u001b[0;34m=\u001b[0m\u001b[0mself\u001b[0m\u001b[0;34m.\u001b[0m\u001b[0mweight\u001b[0m\u001b[0;34m,\u001b[0m \u001b[0mignore_index\u001b[0m\u001b[0;34m=\u001b[0m\u001b[0mself\u001b[0m\u001b[0;34m.\u001b[0m\u001b[0mignore_index\u001b[0m\u001b[0;34m,\u001b[0m \u001b[0mreduction\u001b[0m\u001b[0;34m=\u001b[0m\u001b[0mself\u001b[0m\u001b[0;34m.\u001b[0m\u001b[0mreduction\u001b[0m\u001b[0;34m)\u001b[0m\u001b[0;34m\u001b[0m\u001b[0;34m\u001b[0m\u001b[0m\n\u001b[0m\u001b[1;32m    205\u001b[0m \u001b[0;34m\u001b[0m\u001b[0m\n\u001b[1;32m    206\u001b[0m \u001b[0;34m\u001b[0m\u001b[0m\n",
      "\u001b[0;32m~/Applications/anaconda3/lib/python3.7/site-packages/torch/nn/functional.py\u001b[0m in \u001b[0;36mnll_loss\u001b[0;34m(input, target, weight, size_average, ignore_index, reduce, reduction)\u001b[0m\n\u001b[1;32m   1822\u001b[0m                          .format(input.size(0), target.size(0)))\n\u001b[1;32m   1823\u001b[0m     \u001b[0;32mif\u001b[0m \u001b[0mdim\u001b[0m \u001b[0;34m==\u001b[0m \u001b[0;36m2\u001b[0m\u001b[0;34m:\u001b[0m\u001b[0;34m\u001b[0m\u001b[0;34m\u001b[0m\u001b[0m\n\u001b[0;32m-> 1824\u001b[0;31m         \u001b[0mret\u001b[0m \u001b[0;34m=\u001b[0m \u001b[0mtorch\u001b[0m\u001b[0;34m.\u001b[0m\u001b[0m_C\u001b[0m\u001b[0;34m.\u001b[0m\u001b[0m_nn\u001b[0m\u001b[0;34m.\u001b[0m\u001b[0mnll_loss\u001b[0m\u001b[0;34m(\u001b[0m\u001b[0minput\u001b[0m\u001b[0;34m,\u001b[0m \u001b[0mtarget\u001b[0m\u001b[0;34m,\u001b[0m \u001b[0mweight\u001b[0m\u001b[0;34m,\u001b[0m \u001b[0m_Reduction\u001b[0m\u001b[0;34m.\u001b[0m\u001b[0mget_enum\u001b[0m\u001b[0;34m(\u001b[0m\u001b[0mreduction\u001b[0m\u001b[0;34m)\u001b[0m\u001b[0;34m,\u001b[0m \u001b[0mignore_index\u001b[0m\u001b[0;34m)\u001b[0m\u001b[0;34m\u001b[0m\u001b[0;34m\u001b[0m\u001b[0m\n\u001b[0m\u001b[1;32m   1825\u001b[0m     \u001b[0;32melif\u001b[0m \u001b[0mdim\u001b[0m \u001b[0;34m==\u001b[0m \u001b[0;36m4\u001b[0m\u001b[0;34m:\u001b[0m\u001b[0;34m\u001b[0m\u001b[0;34m\u001b[0m\u001b[0m\n\u001b[1;32m   1826\u001b[0m         \u001b[0mret\u001b[0m \u001b[0;34m=\u001b[0m \u001b[0mtorch\u001b[0m\u001b[0;34m.\u001b[0m\u001b[0m_C\u001b[0m\u001b[0;34m.\u001b[0m\u001b[0m_nn\u001b[0m\u001b[0;34m.\u001b[0m\u001b[0mnll_loss2d\u001b[0m\u001b[0;34m(\u001b[0m\u001b[0minput\u001b[0m\u001b[0;34m,\u001b[0m \u001b[0mtarget\u001b[0m\u001b[0;34m,\u001b[0m \u001b[0mweight\u001b[0m\u001b[0;34m,\u001b[0m \u001b[0m_Reduction\u001b[0m\u001b[0;34m.\u001b[0m\u001b[0mget_enum\u001b[0m\u001b[0;34m(\u001b[0m\u001b[0mreduction\u001b[0m\u001b[0;34m)\u001b[0m\u001b[0;34m,\u001b[0m \u001b[0mignore_index\u001b[0m\u001b[0;34m)\u001b[0m\u001b[0;34m\u001b[0m\u001b[0;34m\u001b[0m\u001b[0m\n",
      "\u001b[0;31mRuntimeError\u001b[0m: multi-target not supported at /Users/distiller/project/conda/conda-bld/pytorch_1565272526878/work/aten/src/THNN/generic/ClassNLLCriterion.c:22"
     ]
    }
   ],
   "source": [
    "avg_loss = []\n",
    "avg_acc = []\n",
    "\n",
    "for epoch_index in range(2):\n",
    "    # Iterate over training dataset\n",
    "    encoder_hidden = encoder.initHidden()\n",
    "    encoder_outputs = torch.zeros(max_seq_len, encoder.hidden_size, device=device)\n",
    "    \n",
    "    # setup: batch generator, set loss and acc to 0, set train mode on\n",
    "    running_loss = 0.0\n",
    "    running_acc = 0.0\n",
    "    \n",
    "    # Set encoder and decoder to training mode\n",
    "    encoder.train()\n",
    "    decoder.train()\n",
    "    \n",
    "    for batch_index, batch_dict in enumerate(dataloader):\n",
    "        # the training routine is these 5 steps:\n",
    "\n",
    "        # --------------------------------------\n",
    "        # step 1. zero the gradients\n",
    "        encoder_opti.zero_grad()\n",
    "        decoder_opti.zero_grad()\n",
    "\n",
    "        # step 2. compute the output\n",
    "        inp = batch_dict['input'].long().to(device)\n",
    "        for i in range(inp):\n",
    "            encoder_output, encoder_hidden = encoder(inp[i][i])\n",
    "        \n",
    "        tar = batch_dict['target'].long().to(device)\n",
    "        print('Target Shape: {}'.format(tar.shape))\n",
    "        print('Sample Target: {}'.format(tar[0]))\n",
    "        \n",
    "        y_pred = clf(x_in=inp)\n",
    "        print('Prediction Shape: {}'.format(y_pred.shape))\n",
    "        print('Sample Prediction: {}'.format(y_pred[0]))\n",
    "        \n",
    "        # step 3. compute the loss\n",
    "        loss = criterion(y_pred, tar)\n",
    "        loss_t = loss.item()\n",
    "        running_loss += (loss_t - running_loss) / (batch_index + 1)\n",
    "\n",
    "        # step 4. use loss to produce gradients\n",
    "        loss.backward()\n",
    "\n",
    "        # step 5. use optimizer to take gradient step\n",
    "        optimizer.step()\n",
    "        # -----------------------------------------\n",
    "        # compute the accuracy\n",
    "        acc_t = compute_accuracy(y_pred, tar)\n",
    "        running_acc += (acc_t - running_acc) / (batch_index + 1)\n",
    "    \n",
    "    avg_loss.append(running_loss)\n",
    "    avg_acc.append(running_acc)\n",
    "\n",
    "print('Average loss: {}'.format(np.mean(avg_loss)))\n",
    "print('Average accuracy: {}'.format(np.mean(avg_loss)))"
   ]
  },
  {
   "cell_type": "code",
   "execution_count": null,
   "metadata": {},
   "outputs": [],
   "source": []
  },
  {
   "cell_type": "code",
   "execution_count": 5,
   "metadata": {
    "ExecuteTime": {
     "end_time": "2019-09-10T01:32:38.176286Z",
     "start_time": "2019-09-10T01:32:38.172549Z"
    }
   },
   "outputs": [],
   "source": [
    "# Split dataset into train, val, test\n",
    "train_data_len = int((.8 * no_seq))\n",
    "val_test_data_len = int((.1 * no_seq))\n",
    "\n",
    "train_x, train_y = tokenized_input[:train_data_len], tokenized_target[:train_data_len]\n",
    "val_x, val_y = tokenized_input[train_data_len:(train_data_len+val_test_data_len)], \\\n",
    "                tokenized_target[train_data_len:(train_data_len+val_test_data_len)]\n",
    "test_x, test_y = tokenized_input[-val_test_data_len:], tokenized_target[-val_test_data_len:]"
   ]
  },
  {
   "cell_type": "code",
   "execution_count": 6,
   "metadata": {
    "ExecuteTime": {
     "end_time": "2019-09-10T01:32:38.182002Z",
     "start_time": "2019-09-10T01:32:38.178219Z"
    }
   },
   "outputs": [],
   "source": [
    "# Define model parameters\n",
    "batch_size = 64\n",
    "shuffle_data = True\n",
    "drop_last = True\n",
    "no_of_batches = int(train_data_len / batch_size)\n",
    "\n",
    "# Embedding layer output dimension\n",
    "embedding_dim = 256\n",
    "\n",
    "# Number of units for LSTM layers\n",
    "units = 512\n",
    "\n",
    "input_vocab_size = len(input_tokenizer.word_index)+1\n",
    "target_vocab_size = len(target_tokenizer.word_index)+1\n",
    "\n",
    "# Set training to GPU if available\n",
    "device = torch.device(\"cuda\" if torch.cuda.is_available() else \"cpu\")"
   ]
  }
 ],
 "metadata": {
  "accelerator": "GPU",
  "colab": {
   "collapsed_sections": [
    "IZ2D-22qAIVF",
    "UhbtYx0TjfeY",
    "75nNwjzlHeFE",
    "GoH0OQPkHeFU"
   ],
   "machine_shape": "hm",
   "name": "playarea.ipynb",
   "provenance": [],
   "toc_visible": true,
   "version": "0.3.2"
  },
  "kernelspec": {
   "display_name": "Python 3",
   "language": "python",
   "name": "python3"
  },
  "language_info": {
   "codemirror_mode": {
    "name": "ipython",
    "version": 3
   },
   "file_extension": ".py",
   "mimetype": "text/x-python",
   "name": "python",
   "nbconvert_exporter": "python",
   "pygments_lexer": "ipython3",
   "version": "3.6.9"
  },
  "toc": {
   "base_numbering": 1,
   "nav_menu": {},
   "number_sections": true,
   "sideBar": true,
   "skip_h1_title": false,
   "title_cell": "Table of Contents",
   "title_sidebar": "Contents",
   "toc_cell": true,
   "toc_position": {},
   "toc_section_display": true,
   "toc_window_display": true
  }
 },
 "nbformat": 4,
 "nbformat_minor": 1
}
